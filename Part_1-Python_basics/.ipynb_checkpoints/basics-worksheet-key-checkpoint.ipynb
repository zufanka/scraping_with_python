{
 "cells": [
  {
   "cell_type": "markdown",
   "metadata": {},
   "source": [
    "# Welcome to the Python & Jupyter notebook Basics"
   ]
  },
  {
   "cell_type": "markdown",
   "metadata": {},
   "source": [
    "In this part, we will make ourselves familiar with the **jupyter notebook** and **Python** programming language"
   ]
  },
  {
   "cell_type": "code",
   "execution_count": 52,
   "metadata": {},
   "outputs": [
    {
     "data": {
      "text/plain": [
       "'Hi! Welcome to scraping with Python.'"
      ]
     },
     "execution_count": 52,
     "metadata": {},
     "output_type": "execute_result"
    }
   ],
   "source": [
    "\"Hi! Welcome to scraping with Python.\""
   ]
  },
  {
   "cell_type": "markdown",
   "metadata": {},
   "source": [
    "<br>➡  This is a jupyter notebook cell\n",
    "<br>➡  each cell needs to be **run** after you write your code: by clicking the `▶` button above, or with `shift/ctrl+ enter`\n",
    "<br>➡  If you see a number between the brackets next to the cell, eg `[23]`, the cell **has been run**\n",
    "<br>➡  If you see empty brackets `[ ]` the cell has **not been run**\n",
    "<br>➡  If you see this `[*]`, the cell is **running**. You can then not run any other cells while one is running\n",
    "<br>➡  **Important**: if you adjust a cell, you need to **run it again**!"
   ]
  },
  {
   "cell_type": "markdown",
   "metadata": {},
   "source": [
    "#### Add new cels:\n",
    "<br>➡ with the `+` sign in the top menu\n",
    "<br>➡ by pressing ESC and then `a` (above) or `b` (below)\n"
   ]
  },
  {
   "cell_type": "code",
   "execution_count": 53,
   "metadata": {},
   "outputs": [
    {
     "data": {
      "text/plain": [
       "'This is a new cell'"
      ]
     },
     "execution_count": 53,
     "metadata": {},
     "output_type": "execute_result"
    }
   ],
   "source": [
    "\"This is a new cell\""
   ]
  },
  {
   "cell_type": "code",
   "execution_count": null,
   "metadata": {},
   "outputs": [],
   "source": [
    "# this is a comment"
   ]
  },
  {
   "cell_type": "markdown",
   "metadata": {},
   "source": [
    "<br>➡ put a **comment** in your code using the hashtag `#`\n",
    "<br>➡  Everything after the hashtag won't be read by Python: `# This is a comment`"
   ]
  },
  {
   "cell_type": "markdown",
   "metadata": {},
   "source": [
    "# Example scrapers"
   ]
  },
  {
   "cell_type": "markdown",
   "metadata": {},
   "source": [
    "## Get info from multiple pages"
   ]
  },
  {
   "cell_type": "code",
   "execution_count": null,
   "metadata": {},
   "outputs": [],
   "source": [
    "import requests\n",
    "from bs4 import BeautifulSoup as bs\n",
    "import pandas\n",
    "\n",
    "data = [] # creating an empty list - this will hold the data\n",
    "print(f'--> This is now the content of data: {data}') # you can call variables in the string using {} and prefixing the string with f''\n",
    "\n",
    "for n in range(1,6): # the range of pages we want the scraper to get\n",
    "    print('\\n') # this prints out an empty line\n",
    "    print(f'--> We are on page number: {n}')\n",
    "    URL = \"https://www.theguardian.com/news/series/todayinfocus?page=\" + str(n)\n",
    "          # ammend the url for each page. You have to change the number into a string to be able to combine them!\n",
    "    print(f'--> The url we are scraping now is: {URL}')\n",
    "\n",
    "    website_request = requests.get(URL) # request the webpage\n",
    "    print(f'--> This is what the request looks like: {website_request}. If you got a \"Response 200\" you are good!')\n",
    "    website_content = website_request.text # get the contents out of the webpage.\n",
    "    print(f'--> The first 763 characters of the website content: {website_content[:763]}')\n",
    "    website_read = bs(website_content) # read the contents of the webpage.\n",
    "    \n",
    "    # Let's get all the headlines from the website!\n",
    "    \n",
    "    headine_class = \"span.js-headline-text\" # select the classname of the elements holding the headlines\n",
    "    headlines = website_read.select(headine_class) # select all the headlines\n",
    "    \n",
    "    for h in headlines: # for each headline element\n",
    "        print('\\n') # this prints out an empty line\n",
    "        print(f'--> We are now at the headline: {h}')\n",
    "        h = h.text # get the text out of the element\n",
    "        print(f'--> Without the HTML around it looks like this: {h}')\n",
    "        data.append(h)\n",
    "        print(f'--> This is now the content of data: {data}')\n",
    "\n",
    "pandas.DataFrame(data).to_csv(\"Today_in_focus-headlines-5-pages.csv\")"
   ]
  },
  {
   "cell_type": "markdown",
   "metadata": {},
   "source": [
    "### ... this is how the code looks without all the comments and print statements"
   ]
  },
  {
   "cell_type": "raw",
   "metadata": {},
   "source": [
    "import requests\n",
    "from bs4 import BeautifulSoup as bs\n",
    "import pandas\n",
    "\n",
    "data = []\n",
    "\n",
    "for n in range(1,6):\n",
    "    \n",
    "    URL = \"https://www.theguardian.com/news/series/todayinfocus?page=\" + str(n)\n",
    "          \n",
    "    website_request = requests.get(URL)\n",
    "    website_content = website_request.text\n",
    "    website_read = bs(website_content)\n",
    "    \n",
    "    headine_class = \"span.js-headline-text\"\n",
    "    headlines = website_read.select(headine_class) \n",
    "    \n",
    "    for h in headlines:\n",
    "        h = h.text\n",
    "        data.append(h)\n",
    "       \n",
    "\n",
    "pandas.DataFrame(data).to_csv(\"headlines.csv\")"
   ]
  },
  {
   "cell_type": "markdown",
   "metadata": {},
   "source": [
    "## Get more detailed info from one page"
   ]
  },
  {
   "cell_type": "code",
   "execution_count": null,
   "metadata": {},
   "outputs": [],
   "source": [
    "import requests\n",
    "from bs4 import BeautifulSoup as bs\n",
    "import pandas\n",
    "\n",
    "data = [] # creating an empty list - this will hold the data\n",
    "print(f'--> This is now the content of data: {data}') # you can call variables in the string using {} and prefixing the string with f''\n",
    "\n",
    "URL = \"https://www.theguardian.com/news/series/todayinfocus\"\n",
    "print(f'--> The url we are scraping now is: {URL}')\n",
    "\n",
    "website_request = requests.get(URL) # request the webpage\n",
    "print(f'--> This is what the request looks like: {website_request}. If you got a \"Response 200\" you are good!')\n",
    "website_content = website_request.text # get the contents out of the webpage.\n",
    "print(f'--> The first 763 characters of the website content: {website_content[:763]}')\n",
    "website_read = bs(website_content) # read the contents of the webpage.\n",
    "\n",
    "articles_details = website_read.select(\".fc-item__content\")\n",
    "print(f'--> There are {len(articles_details)} articles on the page.')\n",
    "\n",
    "n = 0\n",
    "\n",
    "for a in articles_details:\n",
    "    article = {} # creating an empty dictionary - this will hold the details\n",
    "    #print(a)\n",
    "    print(\"\\n\")\n",
    "    n = n+1\n",
    "    print(f\"--> This is article number {n}\")\n",
    "    print(f'--> This is now the content of \"article\": {article}')\n",
    "    \n",
    "    article[\"title\"] = a.select(\".fc-item__title\")[0].text # get the article's title\n",
    "    article[\"link\"] = a.select(\".fc-item__link\")[0].get(\"href\") # get the article's link\n",
    "    article[\"intro\"] = a.select(\".fc-item__standfirst\")[0].text.strip() # get the article's intro\n",
    "    \n",
    "    print(f'--> This is now the content of \"article\": {article}')\n",
    "    \n",
    "    data.append(article) # put the article in the bigger list\n",
    "    print(f'--> This is now the content of data: {data}')\n",
    "    \n",
    "pandas.DataFrame(data).to_csv(\"Today_in_focus-first-page.csv\")"
   ]
  },
  {
   "cell_type": "markdown",
   "metadata": {},
   "source": [
    "### ... this is how the code looks without all the comments and print statements"
   ]
  },
  {
   "cell_type": "raw",
   "metadata": {},
   "source": [
    "import requests\n",
    "from bs4 import BeautifulSoup as bs\n",
    "import pandas\n",
    "\n",
    "data = []\n",
    "URL = \"https://www.theguardian.com/news/series/todayinfocus\"\n",
    "\n",
    "website_request = requests.get(URL)\n",
    "website_content = website_request.text\n",
    "website_read = bs(website_content)\n",
    "\n",
    "articles_details = website_read.select(\".fc-item__content\")\n",
    "\n",
    "for a in articles_details:\n",
    "    article = {} \n",
    "    \n",
    "    article[\"title\"] = a.select(\".fc-item__title\")[0].text # get the article's title\n",
    "    article[\"link\"] = a.select(\".fc-item__link\")[0].get(\"href\") # get the article's link\n",
    "    article[\"intro\"] = a.select(\".fc-item__standfirst\")[0].text.strip() # get the article's intro\n",
    "    \n",
    "    data.append(article) # put the article in the bigger list\n",
    "\n",
    "pandas.DataFrame(data).to_csv(\"Today_in_focus-first-page.csv\")"
   ]
  },
  {
   "cell_type": "markdown",
   "metadata": {},
   "source": [
    "# THE BASICS"
   ]
  },
  {
   "cell_type": "markdown",
   "metadata": {},
   "source": [
    "## **Variables**"
   ]
  },
  {
   "cell_type": "markdown",
   "metadata": {},
   "source": [
    "![slicing](../img/variables.png)"
   ]
  },
  {
   "cell_type": "markdown",
   "metadata": {},
   "source": [
    "<br>➡  `variables` = kind of box with a label on them in which you can stor  numbers, names, expressions, and even other variables\n",
    "<br>➡  name of a variable is arbitrary, but it is useful if you know what it stands for.\n",
    "<br>➡  create a variable with `variable_name =`\n",
    "<br>➡  a variable name can only contain **lower and uppercase letters, numbers, and underscores. No spaces** or other funky characters!"
   ]
  },
  {
   "cell_type": "markdown",
   "metadata": {},
   "source": [
    "### **Strings**"
   ]
  },
  {
   "cell_type": "markdown",
   "metadata": {},
   "source": [
    "<br>➡ `string` = text\n",
    "<br>➡ put it in between single or double quotes. `\"text\"` or `'text'`"
   ]
  },
  {
   "cell_type": "code",
   "execution_count": 55,
   "metadata": {},
   "outputs": [],
   "source": [
    "website = \"https://github.com/zufanka/scraping_with_python\""
   ]
  },
  {
   "cell_type": "code",
   "execution_count": 56,
   "metadata": {},
   "outputs": [
    {
     "data": {
      "text/plain": [
       "'https://github.com/zufanka/scraping_with_python'"
      ]
     },
     "execution_count": 56,
     "metadata": {},
     "output_type": "execute_result"
    }
   ],
   "source": [
    "website"
   ]
  },
  {
   "cell_type": "markdown",
   "metadata": {},
   "source": [
    "What happens if you don't put the text between quotes?"
   ]
  },
  {
   "cell_type": "markdown",
   "metadata": {},
   "source": [
    "<br>➡  you can use the `print()` method to view the content of a variable: `print(variable_name)`\n",
    "<br>➡  or in jupyter notebook just the variable name"
   ]
  },
  {
   "cell_type": "code",
   "execution_count": 57,
   "metadata": {},
   "outputs": [
    {
     "name": "stdout",
     "output_type": "stream",
     "text": [
      "https://github.com/zufanka/scraping_with_python\n"
     ]
    }
   ],
   "source": [
    "print(website)"
   ]
  },
  {
   "cell_type": "markdown",
   "metadata": {},
   "source": [
    "Print your string. Use `print()`"
   ]
  },
  {
   "cell_type": "code",
   "execution_count": null,
   "metadata": {},
   "outputs": [],
   "source": []
  },
  {
   "cell_type": "markdown",
   "metadata": {},
   "source": [
    "<br>➡ You can also do **addition** and **multiplication** with strings"
   ]
  },
  {
   "cell_type": "code",
   "execution_count": 58,
   "metadata": {},
   "outputs": [
    {
     "data": {
      "text/plain": [
       "'https://github.com/zufanka/scraping_with_pythonhttps://github.com/zufanka/scraping_with_pythonhttps://github.com/zufanka/scraping_with_pythonhttps://github.com/zufanka/scraping_with_pythonhttps://github.com/zufanka/scraping_with_pythonhttps://github.com/zufanka/scraping_with_pythonhttps://github.com/zufanka/scraping_with_pythonhttps://github.com/zufanka/scraping_with_pythonhttps://github.com/zufanka/scraping_with_pythonhttps://github.com/zufanka/scraping_with_python'"
      ]
     },
     "execution_count": 58,
     "metadata": {},
     "output_type": "execute_result"
    }
   ],
   "source": [
    "website *10"
   ]
  },
  {
   "cell_type": "code",
   "execution_count": 59,
   "metadata": {},
   "outputs": [
    {
     "data": {
      "text/plain": [
       "'https://github.com/zufanka/scraping_with_python?page=2'"
      ]
     },
     "execution_count": 59,
     "metadata": {},
     "output_type": "execute_result"
    }
   ],
   "source": [
    "website + \"?page=2\""
   ]
  },
  {
   "cell_type": "code",
   "execution_count": 60,
   "metadata": {},
   "outputs": [
    {
     "ename": "TypeError",
     "evalue": "can only concatenate str (not \"int\") to str",
     "output_type": "error",
     "traceback": [
      "\u001b[0;31m---------------------------------------------------------------------------\u001b[0m",
      "\u001b[0;31mTypeError\u001b[0m                                 Traceback (most recent call last)",
      "\u001b[0;32m<ipython-input-60-fdb76a3b978c>\u001b[0m in \u001b[0;36m<module>\u001b[0;34m\u001b[0m\n\u001b[0;32m----> 1\u001b[0;31m \u001b[0mwebsite\u001b[0m \u001b[0;34m+\u001b[0m \u001b[0;36m2\u001b[0m\u001b[0;34m\u001b[0m\u001b[0;34m\u001b[0m\u001b[0m\n\u001b[0m",
      "\u001b[0;31mTypeError\u001b[0m: can only concatenate str (not \"int\") to str"
     ]
    }
   ],
   "source": [
    "website + 2"
   ]
  },
  {
   "cell_type": "markdown",
   "metadata": {},
   "source": [
    "<br>➡ there are obviously also things you can not do"
   ]
  },
  {
   "cell_type": "code",
   "execution_count": 61,
   "metadata": {},
   "outputs": [
    {
     "ename": "TypeError",
     "evalue": "unsupported operand type(s) for /: 'str' and 'int'",
     "output_type": "error",
     "traceback": [
      "\u001b[0;31m---------------------------------------------------------------------------\u001b[0m",
      "\u001b[0;31mTypeError\u001b[0m                                 Traceback (most recent call last)",
      "\u001b[0;32m<ipython-input-61-8cd9a95d8d19>\u001b[0m in \u001b[0;36m<module>\u001b[0;34m\u001b[0m\n\u001b[0;32m----> 1\u001b[0;31m \u001b[0mwebsite\u001b[0m \u001b[0;34m/\u001b[0m \u001b[0;36m3\u001b[0m\u001b[0;34m\u001b[0m\u001b[0;34m\u001b[0m\u001b[0m\n\u001b[0m",
      "\u001b[0;31mTypeError\u001b[0m: unsupported operand type(s) for /: 'str' and 'int'"
     ]
    }
   ],
   "source": [
    "website / 3"
   ]
  },
  {
   "cell_type": "markdown",
   "metadata": {},
   "source": [
    "### **Numbers**"
   ]
  },
  {
   "cell_type": "markdown",
   "metadata": {},
   "source": [
    "<br>➡ `Integer` : whole number, such as `5`, `6` or `2454`"
   ]
  },
  {
   "cell_type": "code",
   "execution_count": 63,
   "metadata": {},
   "outputs": [
    {
     "name": "stdout",
     "output_type": "stream",
     "text": [
      "2\n"
     ]
    }
   ],
   "source": [
    "page_number = 2\n",
    "print(page_number)"
   ]
  },
  {
   "cell_type": "markdown",
   "metadata": {},
   "source": [
    "<br>➡ `Float` : a number that is not whole, such as `5.67` or `823.12`"
   ]
  },
  {
   "cell_type": "code",
   "execution_count": null,
   "metadata": {},
   "outputs": [],
   "source": []
  },
  {
   "cell_type": "markdown",
   "metadata": {},
   "source": [
    "<br>➡ You can do `addition`, `substraction`, `multiplication`, `division` (and more) with numbers."
   ]
  },
  {
   "cell_type": "code",
   "execution_count": 64,
   "metadata": {},
   "outputs": [
    {
     "data": {
      "text/plain": [
       "'2'"
      ]
     },
     "execution_count": 64,
     "metadata": {},
     "output_type": "execute_result"
    }
   ],
   "source": [
    "str(page_number)"
   ]
  },
  {
   "cell_type": "code",
   "execution_count": 65,
   "metadata": {},
   "outputs": [
    {
     "data": {
      "text/plain": [
       "2"
      ]
     },
     "execution_count": 65,
     "metadata": {},
     "output_type": "execute_result"
    }
   ],
   "source": [
    "page_number"
   ]
  },
  {
   "cell_type": "markdown",
   "metadata": {},
   "source": [
    "### Collection: **Lists**"
   ]
  },
  {
   "cell_type": "markdown",
   "metadata": {},
   "source": [
    "<br>➡ A `list` is a **collection** of other variables **separated by a comma**\n",
    "<br>➡  Uses **brackets** `[]`\n",
    "<br>➡ `empty_list = []`\n",
    "<br>➡ `fibonacci = [1, 1, 3, 5, 8, 13, 21, 34]`\n",
    "<br>➡ `weird_words = [\"anguilliform\", \"borborygmus\", \"cybersquatting\", \"logomachy\", \"winebibber\", \"rumpot\" ,\"studmuffin\"]`\n",
    "<br> [more weird words](https://www.lexico.com/explore/weird-and-wonderful-words)\n",
    "<br><br>Let's make a list!"
   ]
  },
  {
   "cell_type": "code",
   "execution_count": 68,
   "metadata": {},
   "outputs": [
    {
     "data": {
      "text/plain": [
       "['anguilliform',\n",
       " 'borborygmus',\n",
       " 'cybersquatting',\n",
       " 'logomachy',\n",
       " 'winebibber',\n",
       " 'rumpot',\n",
       " 'studmuffin']"
      ]
     },
     "execution_count": 68,
     "metadata": {},
     "output_type": "execute_result"
    }
   ],
   "source": [
    "weird_words = [\"anguilliform\", \"borborygmus\", \"cybersquatting\", \"logomachy\", \"winebibber\", \"rumpot\" ,\"studmuffin\"]\n",
    "weird_words"
   ]
  },
  {
   "cell_type": "markdown",
   "metadata": {},
   "source": [
    "Let's make a list of numbers"
   ]
  },
  {
   "cell_type": "code",
   "execution_count": 71,
   "metadata": {},
   "outputs": [
    {
     "data": {
      "text/plain": [
       "[1, 1, 3, 5, 8, 13, 21, 34]"
      ]
     },
     "execution_count": 71,
     "metadata": {},
     "output_type": "execute_result"
    }
   ],
   "source": [
    "fibonacci = [1, 1, 3, 5, 8, 13, 21, 34]\n",
    "fibonacci"
   ]
  },
  {
   "cell_type": "markdown",
   "metadata": {},
   "source": [
    "### Collection: **Dictionaries**"
   ]
  },
  {
   "cell_type": "markdown",
   "metadata": {},
   "source": [
    "<br>➡ A `dictionary` is a **collection** of **key** and **values**\n",
    "<br>➡ Uses **curly brackets** `{}`\n",
    "<br>➡ `empty_dictionary = {}`\n",
    "<br> Let's make a dictionary for our weird words list"
   ]
  },
  {
   "cell_type": "code",
   "execution_count": 50,
   "metadata": {},
   "outputs": [
    {
     "data": {
      "text/plain": [
       "{'anguilliform': 'resembling an eel',\n",
       " 'borborygmus': 'a rumbling or gurgling noise in the intestines',\n",
       " 'cybersquatting': 'registering well-known names as Internet domain names, in the hope of reselling them at a profit',\n",
       " 'logomachy': 'an argument about words',\n",
       " 'winebibber': 'a heavy drinker',\n",
       " 'rumpot': 'a heavy drinker',\n",
       " 'studmuffin': 'a sexually attractive, muscular man'}"
      ]
     },
     "execution_count": 50,
     "metadata": {},
     "output_type": "execute_result"
    }
   ],
   "source": [
    "weird_words = {\"anguilliform\" : \"resembling an eel\", \"borborygmus\" : \"a rumbling or gurgling noise in the intestines\", \"cybersquatting\" : \"registering well-known names as Internet domain names, in the hope of reselling them at a profit\", \"logomachy\" : \"an argument about words\",  \"winebibber\" : \"a heavy drinker\" , \"rumpot\" : \"a heavy drinker\", \"studmuffin\" : \"a sexually attractive, muscular man\"}\n",
    "weird_words"
   ]
  },
  {
   "cell_type": "markdown",
   "metadata": {},
   "source": [
    "Now let's make a new dictionary:\n",
    "<br>\n",
    "<br>➡ `animal_videos = {\"Super Cute animals\": \"https://www.youtube.com/watch?v=C9OMAX91oyw\",\"Cute Dogs And Cats\" : \"https://www.youtube.com/watch?v=sNU5TPHjHOc\", \"Laughing at Dogs\": \"https://www.youtube.com/watch?v=5U_Tf5TIHL0\" }`\n",
    "<br> You can create a new key / value pair like this:\n",
    "<br>➡ `dictionary[key] = value`"
   ]
  },
  {
   "cell_type": "code",
   "execution_count": 73,
   "metadata": {},
   "outputs": [
    {
     "data": {
      "text/plain": [
       "{'Super Cute animals': 'https://www.youtube.com/watch?v=C9OMAX91oyw',\n",
       " 'Cute Dogs And Cats': 'https://www.youtube.com/watch?v=sNU5TPHjHOc',\n",
       " 'Laughing at Dogs': 'https://www.youtube.com/watch?v=5U_Tf5TIHL0'}"
      ]
     },
     "execution_count": 73,
     "metadata": {},
     "output_type": "execute_result"
    }
   ],
   "source": [
    "# make a new item called \"The Cutest Animals\" for the animal_videos dictionary and assign this link to it: https://www.youtube.com/watch?v=4OSvHZIEa9g\n",
    "animal_videos = {\"Super Cute animals\": \"https://www.youtube.com/watch?v=C9OMAX91oyw\",\"Cute Dogs And Cats\" : \"https://www.youtube.com/watch?v=sNU5TPHjHOc\", \"Laughing at Dogs\": \"https://www.youtube.com/watch?v=5U_Tf5TIHL0\" }\n",
    "animal_videos"
   ]
  },
  {
   "cell_type": "code",
   "execution_count": 78,
   "metadata": {},
   "outputs": [
    {
     "data": {
      "text/plain": [
       "{'Super Cute animals': 'https://www.youtube.com/watch?v=C9OMAX91oyw',\n",
       " 'Cute Dogs And Cats': 'https://www.youtube.com/watch?v=sNU5TPHjHOc',\n",
       " 'Laughing at Dogs': 'https://www.youtube.com/watch?v=5U_Tf5TIHL0',\n",
       " 'The Cutest Animals': 'https://www.youtube.com/watch?v=4OSvHZIEa9g'}"
      ]
     },
     "execution_count": 78,
     "metadata": {},
     "output_type": "execute_result"
    }
   ],
   "source": [
    "animal_videos[\"The Cutest Animals\"] = \"https://www.youtube.com/watch?v=4OSvHZIEa9g\"\n",
    "animal_videos"
   ]
  },
  {
   "cell_type": "code",
   "execution_count": 75,
   "metadata": {},
   "outputs": [
    {
     "data": {
      "text/plain": [
       "{'Super Cute animals': 'https://www.youtube.com/watch?v=C9OMAX91oyw',\n",
       " 'Cute Dogs And Cats': 'https://www.youtube.com/watch?v=sNU5TPHjHOc',\n",
       " 'Laughing at Dogs': 'https://www.youtube.com/watch?v=5U_Tf5TIHL0',\n",
       " 'The Cutest Animals': '!!'}"
      ]
     },
     "execution_count": 75,
     "metadata": {},
     "output_type": "execute_result"
    }
   ],
   "source": [
    "# what happens if you re-assign the \"The Cutest Animals\" key with something else?\n",
    "animal_videos[\"The Cutest Animals\"] = \"!!\"\n",
    "animal_videos"
   ]
  },
  {
   "cell_type": "markdown",
   "metadata": {},
   "source": [
    "## **Debugging**"
   ]
  },
  {
   "cell_type": "markdown",
   "metadata": {},
   "source": [
    "By now you are probably getting some errors. Let's see how to tackle them"
   ]
  },
  {
   "cell_type": "markdown",
   "metadata": {},
   "source": [
    "![slicing](../img/bugs.png)"
   ]
  },
  {
   "cell_type": "markdown",
   "metadata": {},
   "source": [
    "Most common errors:\n",
    "<br>➡ `NameError` : the variable name is not right. Check for **typos**\n",
    "<br>➡ `SyntaxError` : the syntax is not right, you can be **missing** brackets, quotes, or using the wrong ones\n",
    "<br>➡ `AttributeError` : the method you are using is not correct\n",
    "<br>..."
   ]
  },
  {
   "cell_type": "markdown",
   "metadata": {},
   "source": [
    "![slicing](../img/debug.png)"
   ]
  },
  {
   "cell_type": "markdown",
   "metadata": {},
   "source": [
    "## **Methods**"
   ]
  },
  {
   "cell_type": "markdown",
   "metadata": {},
   "source": [
    "![methods](../img/methods.png)"
   ]
  },
  {
   "cell_type": "markdown",
   "metadata": {},
   "source": [
    "**NOTE**\n",
    "<br>➡ if a method **has a** `.` at the beginning, you put it **after** the variable, eg `variable.strip()`\n",
    "<br>➡ if a method **has no** `.` at the beginning, you put the variable **in between** the brackets, eg `len(variable)`"
   ]
  },
  {
   "cell_type": "markdown",
   "metadata": {},
   "source": [
    "### **String methods**"
   ]
  },
  {
   "cell_type": "markdown",
   "metadata": {},
   "source": [
    "<br>➡`len()` will count the characters in a string: `len(string)`"
   ]
  },
  {
   "cell_type": "code",
   "execution_count": 81,
   "metadata": {},
   "outputs": [
    {
     "data": {
      "text/plain": [
       "'https://github.com/zufanka/scraping_with_python'"
      ]
     },
     "execution_count": 81,
     "metadata": {},
     "output_type": "execute_result"
    }
   ],
   "source": [
    "website"
   ]
  },
  {
   "cell_type": "code",
   "execution_count": 84,
   "metadata": {},
   "outputs": [
    {
     "data": {
      "text/plain": [
       "47"
      ]
     },
     "execution_count": 84,
     "metadata": {},
     "output_type": "execute_result"
    }
   ],
   "source": [
    "len(website)"
   ]
  },
  {
   "cell_type": "markdown",
   "metadata": {},
   "source": [
    "<br>➡ `.strip()` : remove whitespaces before or after a string "
   ]
  },
  {
   "cell_type": "code",
   "execution_count": 88,
   "metadata": {},
   "outputs": [
    {
     "name": "stdout",
     "output_type": "stream",
     "text": [
      "\n",
      "             Sometext   anoteherwoord     \t\n",
      "Sometext   anoteherwoord\n"
     ]
    }
   ],
   "source": [
    "dirty_str = \"\\n             Sometext   anoteherwoord     \\t\"\n",
    "print(dirty_str)\n",
    "print(dirty_str.strip())"
   ]
  },
  {
   "cell_type": "markdown",
   "metadata": {},
   "source": [
    "### **Number methods**"
   ]
  },
  {
   "cell_type": "markdown",
   "metadata": {},
   "source": [
    "<br>➡ `str()` : makes a string out of a number"
   ]
  },
  {
   "cell_type": "code",
   "execution_count": 92,
   "metadata": {},
   "outputs": [
    {
     "data": {
      "text/plain": [
       "'2'"
      ]
     },
     "execution_count": 92,
     "metadata": {},
     "output_type": "execute_result"
    }
   ],
   "source": [
    "str(2)"
   ]
  },
  {
   "cell_type": "markdown",
   "metadata": {},
   "source": [
    "Useful while scraping"
   ]
  },
  {
   "cell_type": "code",
   "execution_count": 93,
   "metadata": {},
   "outputs": [
    {
     "data": {
      "text/plain": [
       "'www.website.org/something?page=10'"
      ]
     },
     "execution_count": 93,
     "metadata": {},
     "output_type": "execute_result"
    }
   ],
   "source": [
    "\"www.website.org/something?page=\" + str(10)"
   ]
  },
  {
   "cell_type": "markdown",
   "metadata": {},
   "source": [
    "### **List methods**"
   ]
  },
  {
   "cell_type": "markdown",
   "metadata": {},
   "source": [
    "<br>➡ Lists also have a lenght"
   ]
  },
  {
   "cell_type": "code",
   "execution_count": 94,
   "metadata": {},
   "outputs": [
    {
     "data": {
      "text/plain": [
       "7"
      ]
     },
     "execution_count": 94,
     "metadata": {},
     "output_type": "execute_result"
    }
   ],
   "source": [
    "len(weird_words)"
   ]
  },
  {
   "cell_type": "markdown",
   "metadata": {},
   "source": [
    "<br>➡ `.append()` : add new elements to the list. Often used in `for` loops"
   ]
  },
  {
   "cell_type": "code",
   "execution_count": 96,
   "metadata": {},
   "outputs": [],
   "source": [
    "weird_words.append(\"ventielebason\")"
   ]
  },
  {
   "cell_type": "code",
   "execution_count": 97,
   "metadata": {},
   "outputs": [
    {
     "data": {
      "text/plain": [
       "['anguilliform',\n",
       " 'borborygmus',\n",
       " 'cybersquatting',\n",
       " 'logomachy',\n",
       " 'winebibber',\n",
       " 'rumpot',\n",
       " 'studmuffin',\n",
       " 'ventielebason']"
      ]
     },
     "execution_count": 97,
     "metadata": {},
     "output_type": "execute_result"
    }
   ],
   "source": [
    "weird_words"
   ]
  },
  {
   "cell_type": "markdown",
   "metadata": {},
   "source": [
    "<br>➡ `.join()` : joins a list to create a `string`"
   ]
  },
  {
   "cell_type": "code",
   "execution_count": 98,
   "metadata": {},
   "outputs": [
    {
     "data": {
      "text/plain": [
       "'anguilliform + borborygmus + cybersquatting + logomachy + winebibber + rumpot + studmuffin + ventielebason'"
      ]
     },
     "execution_count": 98,
     "metadata": {},
     "output_type": "execute_result"
    }
   ],
   "source": [
    "\" + \".join(weird_words)"
   ]
  },
  {
   "cell_type": "markdown",
   "metadata": {},
   "source": [
    "<br>➡ `.split()` : splits a string to creates a `list`"
   ]
  },
  {
   "cell_type": "code",
   "execution_count": 101,
   "metadata": {},
   "outputs": [
    {
     "data": {
      "text/plain": [
       "['2021', '03', '05']"
      ]
     },
     "execution_count": 101,
     "metadata": {},
     "output_type": "execute_result"
    }
   ],
   "source": [
    "date = \"2021/03/05\"\n",
    "date.split(\"/\")"
   ]
  },
  {
   "cell_type": "markdown",
   "metadata": {},
   "source": [
    "# **Slicing**"
   ]
  },
  {
   "cell_type": "markdown",
   "metadata": {},
   "source": [
    "![slicing](../img/bread.png)"
   ]
  },
  {
   "cell_type": "markdown",
   "metadata": {},
   "source": [
    "<br>➡ use a `[]` with a number after a list or string, e.g. `list[4]`\n",
    "<br>➡ *Important* : in Python, we **start counting at 0**"
   ]
  },
  {
   "cell_type": "markdown",
   "metadata": {},
   "source": [
    "![hello-string](../img/slice.png)"
   ]
  },
  {
   "cell_type": "markdown",
   "metadata": {},
   "source": [
    "What is happening here?"
   ]
  },
  {
   "cell_type": "code",
   "execution_count": 102,
   "metadata": {},
   "outputs": [
    {
     "name": "stdout",
     "output_type": "stream",
     "text": [
      "['anguilliform', 'borborygmus', 'cybersquatting', 'logomachy', 'winebibber', 'rumpot', 'studmuffin', 'ventielebason']\n"
     ]
    },
    {
     "data": {
      "text/plain": [
       "'cybersquatting'"
      ]
     },
     "execution_count": 102,
     "metadata": {},
     "output_type": "execute_result"
    }
   ],
   "source": [
    "print(weird_words)\n",
    "weird_words[2]"
   ]
  },
  {
   "cell_type": "code",
   "execution_count": 113,
   "metadata": {},
   "outputs": [
    {
     "name": "stdout",
     "output_type": "stream",
     "text": [
      "['anguilliform', 'borborygmus', 'cybersquatting', 'logomachy', 'winebibber', 'rumpot', 'studmuffin', 'ventielebason']\n"
     ]
    },
    {
     "data": {
      "text/plain": [
       "'logomachy/rumpot'"
      ]
     },
     "execution_count": 113,
     "metadata": {},
     "output_type": "execute_result"
    }
   ],
   "source": [
    "print(weird_words)\n",
    "weird_words[3] + \"/\" + weird_words[5]"
   ]
  },
  {
   "cell_type": "markdown",
   "metadata": {},
   "source": [
    "# **Loops**"
   ]
  },
  {
   "cell_type": "markdown",
   "metadata": {},
   "source": [
    "![slicing](../img/loops.png)"
   ]
  },
  {
   "cell_type": "markdown",
   "metadata": {},
   "source": [
    "<br>➡  a set of instructions that are **continually repeated**\n",
    "\n",
    "```python\n",
    "for item in [something, something_else]:\n",
    "    print(item)\n",
    "```\n",
    "\n",
    "<br>➡ `item` is a placeholder name for the 'something' in between the brackets\n",
    "<br>➡ `print()` is a method that just displays the value \n",
    "<br>➡ in scraping used to for example open multiple URLs and extract data from them\n"
   ]
  },
  {
   "cell_type": "code",
   "execution_count": 116,
   "metadata": {},
   "outputs": [
    {
     "name": "stdout",
     "output_type": "stream",
     "text": [
      "I think wife carrying is really wierd\n",
      "I think bog snorkelling is really wierd\n",
      "I think toe wrestling is really wierd\n",
      "I think cheese rolling is really wierd\n",
      "I think football is really wierd\n"
     ]
    }
   ],
   "source": [
    "# 1. Let's make a list of weird sports and display the items one by one using a for loop.\n",
    "# inspiration : wife carrying, bog snorkelling, toe wrestling, cheese rolling, football 😜\n",
    "# 2. print \"I think x is really weird\" for each item on the weird sports list\n",
    "weird_sports = [\"wife carrying\", \"bog snorkelling\", \"toe wrestling\", \"cheese rolling\", \"football\"]\n",
    "\n",
    "for x in weird_sports:\n",
    "    print(\"I think \" + x + \" is really wierd\")\n"
   ]
  },
  {
   "cell_type": "markdown",
   "metadata": {},
   "source": [
    "➡ sometimes we can create collections with a built-in **function**\n",
    "<br>➡ for example `range(start, end)`"
   ]
  },
  {
   "cell_type": "code",
   "execution_count": 119,
   "metadata": {},
   "outputs": [
    {
     "name": "stdout",
     "output_type": "stream",
     "text": [
      "1 sheep\n",
      "2 sheep\n",
      "3 sheep\n",
      "4 sheep\n",
      "5 sheep\n",
      "6 sheep\n",
      "7 sheep\n",
      "8 sheep\n",
      "9 sheep\n",
      "10 sheep\n",
      "11 sheep\n",
      "12 sheep\n",
      "13 sheep\n",
      "14 sheep\n",
      "15 sheep\n",
      "16 sheep\n",
      "17 sheep\n",
      "18 sheep\n",
      "19 sheep\n",
      "20 sheep\n",
      "21 sheep\n",
      "22 sheep\n",
      "23 sheep\n",
      "24 sheep\n",
      "25 sheep\n",
      "26 sheep\n",
      "27 sheep\n",
      "28 sheep\n",
      "29 sheep\n",
      "30 sheep\n",
      "31 sheep\n",
      "32 sheep\n",
      "33 sheep\n",
      "34 sheep\n",
      "35 sheep\n",
      "36 sheep\n",
      "37 sheep\n",
      "38 sheep\n",
      "39 sheep\n",
      "40 sheep\n",
      "41 sheep\n",
      "42 sheep\n",
      "43 sheep\n",
      "44 sheep\n",
      "45 sheep\n",
      "46 sheep\n",
      "47 sheep\n",
      "48 sheep\n",
      "49 sheep\n",
      "50 sheep\n",
      "51 sheep\n",
      "52 sheep\n",
      "53 sheep\n",
      "54 sheep\n",
      "55 sheep\n",
      "56 sheep\n",
      "57 sheep\n",
      "58 sheep\n",
      "59 sheep\n",
      "60 sheep\n",
      "61 sheep\n",
      "62 sheep\n",
      "63 sheep\n",
      "64 sheep\n",
      "65 sheep\n",
      "66 sheep\n",
      "67 sheep\n",
      "68 sheep\n",
      "69 sheep\n",
      "70 sheep\n",
      "71 sheep\n",
      "72 sheep\n",
      "73 sheep\n",
      "74 sheep\n",
      "75 sheep\n",
      "76 sheep\n",
      "77 sheep\n",
      "78 sheep\n",
      "79 sheep\n",
      "80 sheep\n",
      "81 sheep\n",
      "82 sheep\n",
      "83 sheep\n",
      "84 sheep\n",
      "85 sheep\n",
      "86 sheep\n",
      "87 sheep\n",
      "88 sheep\n",
      "89 sheep\n",
      "90 sheep\n",
      "91 sheep\n",
      "92 sheep\n",
      "93 sheep\n",
      "94 sheep\n",
      "95 sheep\n",
      "96 sheep\n",
      "97 sheep\n",
      "98 sheep\n",
      "99 sheep\n",
      "100 sheep\n"
     ]
    }
   ],
   "source": [
    "# Pretend it's later today at night, you are laying in the bed after the party at the bar, but you still can't sleep!\n",
    "# You start counting sheep\n",
    "\n",
    "# Create a for loop that prints out \"1 sheep\", \"2 sheep\", ... until \"100 sheep\"\n",
    "\n",
    "for n in range(1,101):\n",
    "    print( str(n) + \" sheep\")"
   ]
  },
  {
   "cell_type": "markdown",
   "metadata": {},
   "source": [
    "# **Questions ?**\n",
    "I'd be happy if you [leave me some feedback](https://goo.gl/forms/OtuNECgexYSyJGjh1) for this session so I can make it better."
   ]
  }
 ],
 "metadata": {
  "kernelspec": {
   "display_name": "Python 3",
   "language": "python",
   "name": "python3"
  },
  "language_info": {
   "codemirror_mode": {
    "name": "ipython",
    "version": 3
   },
   "file_extension": ".py",
   "mimetype": "text/x-python",
   "name": "python",
   "nbconvert_exporter": "python",
   "pygments_lexer": "ipython3",
   "version": "3.7.1"
  }
 },
 "nbformat": 4,
 "nbformat_minor": 4
}
