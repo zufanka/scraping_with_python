{
 "cells": [
  {
   "cell_type": "markdown",
   "metadata": {},
   "source": [
    "# Welcome to the Python & Jupyter notebook Basics"
   ]
  },
  {
   "cell_type": "markdown",
   "metadata": {},
   "source": [
    "In this part, we will make ourselves familiar with the **jupyter notebook** and **Python** programming language"
   ]
  },
  {
   "cell_type": "code",
   "execution_count": null,
   "metadata": {},
   "outputs": [],
   "source": [
    "\"Hi! Welcome to scraping with Python.\""
   ]
  },
  {
   "cell_type": "markdown",
   "metadata": {},
   "source": [
    "<br>➡  This is a jupyter notebook cell\n",
    "<br>➡  each cell needs to be **run** after you write your code: by clicking the `▶` button above, or with `shift/ctrl+ enter`\n",
    "<br>➡  If you see a number between the brackets next to the cell, eg `[23]`, the cell **has been run**\n",
    "<br>➡  If you see empty brackets `[ ]` the cell has **not been run**\n",
    "<br>➡  If you see this `[*]`, the cell is **running**. You can then not run any other cells while one is running\n",
    "<br>➡  **Important**: if you adjust a cell, you need to **run it again**!"
   ]
  },
  {
   "cell_type": "markdown",
   "metadata": {},
   "source": [
    "#### Add new cels:\n",
    "<br>➡ with the `+` sign in the top menu\n",
    "<br>➡ by pressing ESC and then `a` (above) or `b` (below)\n"
   ]
  },
  {
   "cell_type": "code",
   "execution_count": null,
   "metadata": {},
   "outputs": [],
   "source": [
    "# this is a comment"
   ]
  },
  {
   "cell_type": "markdown",
   "metadata": {},
   "source": [
    "<br>➡ put a **comment** in your code using the hashtag `#`\n",
    "<br>➡  Everything after the hashtag won't be read by Python: `# This is a comment`"
   ]
  },
  {
   "cell_type": "markdown",
   "metadata": {},
   "source": [
    "# Example scrapers"
   ]
  },
  {
   "cell_type": "markdown",
   "metadata": {},
   "source": [
    "## Get info from multiple pages"
   ]
  },
  {
   "cell_type": "code",
   "execution_count": null,
   "metadata": {},
   "outputs": [],
   "source": [
    "import requests\n",
    "from bs4 import BeautifulSoup as bs\n",
    "import pandas\n",
    "\n",
    "data = [] # creating an empty list - this will hold the data\n",
    "print(f'--> This is now the content of data: {data}') # you can call variables in the string using {} and prefixing the string with f''\n",
    "\n",
    "for n in range(1,6): # the range of pages we want the scraper to get\n",
    "    print('\\n') # this prints out an empty line\n",
    "    print(f'--> We are on page number: {n}')\n",
    "    URL = \"https://www.theguardian.com/news/series/todayinfocus?page=\" + str(n)\n",
    "          # ammend the url for each page. You have to change the number into a string to be able to combine them!\n",
    "    print(f'--> The url we are scraping now is: {URL}')\n",
    "\n",
    "    website_request = requests.get(URL) # request the webpage\n",
    "    print(f'--> This is what the request looks like: {website_request}. If you got a \"Response 200\" you are good!')\n",
    "    website_content = website_request.text # get the contents out of the webpage.\n",
    "    print(f'--> The first 763 characters of the website content: {website_content[:763]}')\n",
    "    website_read = bs(website_content) # read the contents of the webpage.\n",
    "    \n",
    "    # Let's get all the headlines from the website!\n",
    "    \n",
    "    headine_class = \"span.js-headline-text\" # select the classname of the elements holding the headlines\n",
    "    headlines = website_read.select(headine_class) # select all the headlines\n",
    "    \n",
    "    for h in headlines: # for each headline element\n",
    "        print('\\n') # this prints out an empty line\n",
    "        print(f'--> We are now at the headline: {h}')\n",
    "        h = h.text # get the text out of the element\n",
    "        print(f'--> Without the HTML around it looks like this: {h}')\n",
    "        data.append(h)\n",
    "        print(f'--> This is now the content of data: {data}')\n",
    "\n",
    "pandas.DataFrame(data).to_csv(\"Today_in_focus-headlines-5-pages.csv\")"
   ]
  },
  {
   "cell_type": "markdown",
   "metadata": {},
   "source": [
    "### ... this is how the code looks without all the comments and print statements"
   ]
  },
  {
   "cell_type": "raw",
   "metadata": {},
   "source": [
    "import requests\n",
    "from bs4 import BeautifulSoup as bs\n",
    "import pandas\n",
    "\n",
    "data = []\n",
    "\n",
    "for n in range(1,6):\n",
    "    \n",
    "    URL = \"https://www.theguardian.com/news/series/todayinfocus?page=\" + str(n)\n",
    "          \n",
    "    website_request = requests.get(URL)\n",
    "    website_content = website_request.text\n",
    "    website_read = bs(website_content)\n",
    "    \n",
    "    headine_class = \"span.js-headline-text\"\n",
    "    headlines = website_read.select(headine_class) \n",
    "    \n",
    "    for h in headlines:\n",
    "        h = h.text\n",
    "        data.append(h)\n",
    "       \n",
    "\n",
    "pandas.DataFrame(data).to_csv(\"headlines.csv\")"
   ]
  },
  {
   "cell_type": "markdown",
   "metadata": {},
   "source": [
    "## Get more detailed info from one page"
   ]
  },
  {
   "cell_type": "code",
   "execution_count": null,
   "metadata": {},
   "outputs": [],
   "source": [
    "import requests\n",
    "from bs4 import BeautifulSoup as bs\n",
    "import pandas\n",
    "\n",
    "data = [] # creating an empty list - this will hold the data\n",
    "print(f'--> This is now the content of data: {data}') # you can call variables in the string using {} and prefixing the string with f''\n",
    "\n",
    "URL = \"https://www.theguardian.com/news/series/todayinfocus\"\n",
    "print(f'--> The url we are scraping now is: {URL}')\n",
    "\n",
    "website_request = requests.get(URL) # request the webpage\n",
    "print(f'--> This is what the request looks like: {website_request}. If you got a \"Response 200\" you are good!')\n",
    "website_content = website_request.text # get the contents out of the webpage.\n",
    "print(f'--> The first 763 characters of the website content: {website_content[:763]}')\n",
    "website_read = bs(website_content) # read the contents of the webpage.\n",
    "\n",
    "articles_details = website_read.select(\".fc-item__content\")\n",
    "print(f'--> There are {len(articles_details)} articles on the page.')\n",
    "\n",
    "n = 0\n",
    "\n",
    "for a in articles_details:\n",
    "    article = {} # creating an empty dictionary - this will hold the details\n",
    "    #print(a)\n",
    "    print(\"\\n\")\n",
    "    n = n+1\n",
    "    print(f\"--> This is article number {n}\")\n",
    "    print(f'--> This is now the content of \"article\": {article}')\n",
    "    \n",
    "    article[\"title\"] = a.select(\".fc-item__title\")[0].text # get the article's title\n",
    "    article[\"link\"] = a.select(\".fc-item__link\")[0].get(\"href\") # get the article's link\n",
    "    article[\"intro\"] = a.select(\".fc-item__standfirst\")[0].text.strip() # get the article's intro\n",
    "    \n",
    "    print(f'--> This is now the content of \"article\": {article}')\n",
    "    \n",
    "    data.append(article) # put the article in the bigger list\n",
    "    print(f'--> This is now the content of data: {data}')\n",
    "    \n",
    "pandas.DataFrame(data).to_csv(\"Today_in_focus-first-page.csv\")"
   ]
  },
  {
   "cell_type": "markdown",
   "metadata": {},
   "source": [
    "### ... this is how the code looks without all the comments and print statements"
   ]
  },
  {
   "cell_type": "raw",
   "metadata": {},
   "source": [
    "import requests\n",
    "from bs4 import BeautifulSoup as bs\n",
    "import pandas\n",
    "\n",
    "data = []\n",
    "URL = \"https://www.theguardian.com/news/series/todayinfocus\"\n",
    "\n",
    "website_request = requests.get(URL)\n",
    "website_content = website_request.text\n",
    "website_read = bs(website_content)\n",
    "\n",
    "articles_details = website_read.select(\".fc-item__content\")\n",
    "\n",
    "for a in articles_details:\n",
    "    article = {} \n",
    "    \n",
    "    article[\"title\"] = a.select(\".fc-item__title\")[0].text # get the article's title\n",
    "    article[\"link\"] = a.select(\".fc-item__link\")[0].get(\"href\") # get the article's link\n",
    "    article[\"intro\"] = a.select(\".fc-item__standfirst\")[0].text.strip() # get the article's intro\n",
    "    \n",
    "    data.append(article) # put the article in the bigger list\n",
    "\n",
    "pandas.DataFrame(data).to_csv(\"Today_in_focus-first-page.csv\")"
   ]
  },
  {
   "cell_type": "markdown",
   "metadata": {},
   "source": [
    "# THE BASICS"
   ]
  },
  {
   "cell_type": "markdown",
   "metadata": {},
   "source": [
    "## **Variables**"
   ]
  },
  {
   "cell_type": "markdown",
   "metadata": {},
   "source": [
    "![slicing](../img/variables.png)"
   ]
  },
  {
   "cell_type": "markdown",
   "metadata": {},
   "source": [
    "<br>➡  `variables` = kind of box with a label on them in which you can stor  numbers, names, expressions, and even other variables\n",
    "<br>➡  name of a variable is arbitrary, but it is useful if you know what it stands for.\n",
    "<br>➡  create a variable with `variable_name =`\n",
    "<br>➡  a variable name can only contain **lower and uppercase letters, numbers, and underscores. No spaces** or other funky characters!"
   ]
  },
  {
   "cell_type": "markdown",
   "metadata": {},
   "source": [
    "### **Strings**"
   ]
  },
  {
   "cell_type": "markdown",
   "metadata": {},
   "source": [
    "<br>➡ `string` = text\n",
    "<br>➡ put it in between single or double quotes. `\"text\"` or `'text'`"
   ]
  },
  {
   "cell_type": "code",
   "execution_count": null,
   "metadata": {},
   "outputs": [],
   "source": []
  },
  {
   "cell_type": "markdown",
   "metadata": {},
   "source": [
    "What happens if you don't put the text between quotes?"
   ]
  },
  {
   "cell_type": "markdown",
   "metadata": {},
   "source": [
    "<br>➡  you can use the `print()` method to view the content of a variable: `print(variable_name)`\n",
    "<br>➡  or in jupyter notebook just the variable name"
   ]
  },
  {
   "cell_type": "code",
   "execution_count": null,
   "metadata": {},
   "outputs": [],
   "source": []
  },
  {
   "cell_type": "markdown",
   "metadata": {},
   "source": [
    "Print your string. Use `print()`"
   ]
  },
  {
   "cell_type": "code",
   "execution_count": null,
   "metadata": {},
   "outputs": [],
   "source": []
  },
  {
   "cell_type": "markdown",
   "metadata": {},
   "source": [
    "<br>➡ You can also do **addition** and **multiplication** with strings"
   ]
  },
  {
   "cell_type": "code",
   "execution_count": null,
   "metadata": {},
   "outputs": [],
   "source": []
  },
  {
   "cell_type": "code",
   "execution_count": null,
   "metadata": {},
   "outputs": [],
   "source": []
  },
  {
   "cell_type": "markdown",
   "metadata": {},
   "source": [
    "<br>➡ there are obviously also things you can not do"
   ]
  },
  {
   "cell_type": "code",
   "execution_count": null,
   "metadata": {},
   "outputs": [],
   "source": []
  },
  {
   "cell_type": "markdown",
   "metadata": {},
   "source": [
    "### **Numbers**"
   ]
  },
  {
   "cell_type": "markdown",
   "metadata": {},
   "source": [
    "<br>➡ `Integer` : whole number, such as `5`, `6` or `2454`"
   ]
  },
  {
   "cell_type": "code",
   "execution_count": null,
   "metadata": {},
   "outputs": [],
   "source": []
  },
  {
   "cell_type": "markdown",
   "metadata": {},
   "source": [
    "<br>➡ `Float` : a number that is not whole, such as `5.67` or `823.12`"
   ]
  },
  {
   "cell_type": "code",
   "execution_count": null,
   "metadata": {},
   "outputs": [],
   "source": []
  },
  {
   "cell_type": "markdown",
   "metadata": {},
   "source": [
    "<br>➡ You can do `addition`, `substraction`, `multiplication`, `division` (and more) with numbers."
   ]
  },
  {
   "cell_type": "code",
   "execution_count": null,
   "metadata": {},
   "outputs": [],
   "source": []
  },
  {
   "cell_type": "markdown",
   "metadata": {},
   "source": [
    "### Collection: **Lists**"
   ]
  },
  {
   "cell_type": "markdown",
   "metadata": {},
   "source": [
    "<br>➡ A `list` is a **collection** of other variables **separated by a comma**\n",
    "<br>➡  Uses **brackets** `[]`\n",
    "<br>➡ `empty_list = []`\n",
    "<br>➡ `fibonacci = [1, 1, 3, 5, 8, 13, 21, 34]`\n",
    "<br>➡ `weird_words = [\"anguilliform\", \"borborygmus\", \"cybersquatting\", \"logomachy\", \"winebibber\", \"rumpot\" ,\"studmuffin\"]`\n",
    "<br> [more weird words](https://www.lexico.com/explore/weird-and-wonderful-words)\n",
    "<br><br>Let's make a list!"
   ]
  },
  {
   "cell_type": "code",
   "execution_count": null,
   "metadata": {},
   "outputs": [],
   "source": []
  },
  {
   "cell_type": "markdown",
   "metadata": {},
   "source": [
    "Let's make a list of numbers"
   ]
  },
  {
   "cell_type": "code",
   "execution_count": null,
   "metadata": {},
   "outputs": [],
   "source": []
  },
  {
   "cell_type": "markdown",
   "metadata": {},
   "source": [
    "### Collection: **Dictionaries**"
   ]
  },
  {
   "cell_type": "markdown",
   "metadata": {},
   "source": [
    "<br>➡ A `dictionary` is a **collection** of **key** and **values**\n",
    "<br>➡ Uses **curly brackets** `{}`\n",
    "<br>➡ `empty_dictionary = {}`\n",
    "<br> Let's make a dictionary for our weird words list"
   ]
  },
  {
   "cell_type": "code",
   "execution_count": 50,
   "metadata": {},
   "outputs": [
    {
     "data": {
      "text/plain": [
       "{'anguilliform': 'resembling an eel',\n",
       " 'borborygmus': 'a rumbling or gurgling noise in the intestines',\n",
       " 'cybersquatting': 'registering well-known names as Internet domain names, in the hope of reselling them at a profit',\n",
       " 'logomachy': 'an argument about words',\n",
       " 'winebibber': 'a heavy drinker',\n",
       " 'rumpot': 'a heavy drinker',\n",
       " 'studmuffin': 'a sexually attractive, muscular man'}"
      ]
     },
     "execution_count": 50,
     "metadata": {},
     "output_type": "execute_result"
    }
   ],
   "source": [
    "weird_words = {\"anguilliform\" : \"resembling an eel\", \"borborygmus\" : \"a rumbling or gurgling noise in the intestines\", \"cybersquatting\" : \"registering well-known names as Internet domain names, in the hope of reselling them at a profit\", \"logomachy\" : \"an argument about words\",  \"winebibber\" : \"a heavy drinker\" , \"rumpot\" : \"a heavy drinker\", \"studmuffin\" : \"a sexually attractive, muscular man\"}\n",
    "weird_words"
   ]
  },
  {
   "cell_type": "markdown",
   "metadata": {},
   "source": [
    "Now let's make a new dictionary:\n",
    "<br>\n",
    "<br>➡ `animal_videos = {\"Super Cute animals\": \"https://www.youtube.com/watch?v=C9OMAX91oyw\",\"Cute Dogs And Cats\" : \"https://www.youtube.com/watch?v=sNU5TPHjHOc\", \"Laughing at Dogs\": \"https://www.youtube.com/watch?v=5U_Tf5TIHL0\" }`\n",
    "<br> You can create a new key / value pair like this:\n",
    "<br>➡ `dictionary[key] = value`"
   ]
  },
  {
   "cell_type": "code",
   "execution_count": 47,
   "metadata": {},
   "outputs": [],
   "source": [
    "# make a new item called \"The Cutest Animals\" for the animal_videos dictionary and assign this link to it: https://www.youtube.com/watch?v=4OSvHZIEa9g\n"
   ]
  },
  {
   "cell_type": "code",
   "execution_count": null,
   "metadata": {},
   "outputs": [],
   "source": [
    "# what happens if you re-assign the \"The Cutest Animals\" key with something else?\n"
   ]
  },
  {
   "cell_type": "markdown",
   "metadata": {},
   "source": [
    "## **Debugging**"
   ]
  },
  {
   "cell_type": "markdown",
   "metadata": {},
   "source": [
    "By now you are probably getting some errors. Let's see how to tackle them"
   ]
  },
  {
   "cell_type": "markdown",
   "metadata": {},
   "source": [
    "![slicing](../img/bugs.png)"
   ]
  },
  {
   "cell_type": "markdown",
   "metadata": {},
   "source": [
    "Most common errors:\n",
    "<br>➡ `NameError` : the variable name is not right. Check for **typos**\n",
    "<br>➡ `SyntaxError` : the syntax is not right, you can be **missing** brackets, quotes, or using the wrong ones\n",
    "<br>➡ `AttributeError` : the method you are using is not correct\n",
    "<br>..."
   ]
  },
  {
   "cell_type": "markdown",
   "metadata": {},
   "source": [
    "![slicing](../img/debug.png)"
   ]
  },
  {
   "cell_type": "markdown",
   "metadata": {},
   "source": [
    "## **Methods**"
   ]
  },
  {
   "cell_type": "markdown",
   "metadata": {},
   "source": [
    "![methods](../img/methods.png)"
   ]
  },
  {
   "cell_type": "markdown",
   "metadata": {},
   "source": [
    "**NOTE**\n",
    "<br>➡ if a method **has a** `.` at the beginning, you put it **after** the variable, eg `variable.strip()`\n",
    "<br>➡ if a method **has no** `.` at the beginning, you put the variable **in between** the brackets, eg `len(variable)`"
   ]
  },
  {
   "cell_type": "markdown",
   "metadata": {},
   "source": [
    "### **String methods**"
   ]
  },
  {
   "cell_type": "markdown",
   "metadata": {},
   "source": [
    "<br>➡`len()` will count the characters in a string: `len(string)`"
   ]
  },
  {
   "cell_type": "code",
   "execution_count": null,
   "metadata": {},
   "outputs": [],
   "source": []
  },
  {
   "cell_type": "markdown",
   "metadata": {},
   "source": [
    "<br>➡ `.strip()` : remove whitespaces before or after a string "
   ]
  },
  {
   "cell_type": "code",
   "execution_count": null,
   "metadata": {},
   "outputs": [],
   "source": []
  },
  {
   "cell_type": "markdown",
   "metadata": {},
   "source": [
    "### **Number methods**"
   ]
  },
  {
   "cell_type": "markdown",
   "metadata": {},
   "source": [
    "<br>➡ `str()` : makes a string out of a number"
   ]
  },
  {
   "cell_type": "code",
   "execution_count": null,
   "metadata": {},
   "outputs": [],
   "source": []
  },
  {
   "cell_type": "markdown",
   "metadata": {},
   "source": [
    "Useful while scraping"
   ]
  },
  {
   "cell_type": "code",
   "execution_count": null,
   "metadata": {},
   "outputs": [],
   "source": [
    "\"www.website.org/something?page=\" + str(10)"
   ]
  },
  {
   "cell_type": "markdown",
   "metadata": {},
   "source": [
    "### **List methods**"
   ]
  },
  {
   "cell_type": "markdown",
   "metadata": {},
   "source": [
    "<br>➡ Lists also have a lenght"
   ]
  },
  {
   "cell_type": "code",
   "execution_count": null,
   "metadata": {},
   "outputs": [],
   "source": []
  },
  {
   "cell_type": "markdown",
   "metadata": {},
   "source": [
    "<br>➡ `.append()` : add new elements to the list. Often used in `for` loops"
   ]
  },
  {
   "cell_type": "code",
   "execution_count": null,
   "metadata": {},
   "outputs": [],
   "source": []
  },
  {
   "cell_type": "markdown",
   "metadata": {},
   "source": [
    "<br>➡ `.join()` : joins a list to create a `string`"
   ]
  },
  {
   "cell_type": "code",
   "execution_count": null,
   "metadata": {},
   "outputs": [],
   "source": []
  },
  {
   "cell_type": "markdown",
   "metadata": {},
   "source": [
    "<br>➡ `.split()` : splits a string to creates a `list`"
   ]
  },
  {
   "cell_type": "code",
   "execution_count": null,
   "metadata": {},
   "outputs": [],
   "source": []
  },
  {
   "cell_type": "markdown",
   "metadata": {},
   "source": [
    "# **Slicing**"
   ]
  },
  {
   "cell_type": "markdown",
   "metadata": {},
   "source": [
    "![slicing](../img/bread.png)"
   ]
  },
  {
   "cell_type": "markdown",
   "metadata": {},
   "source": [
    "<br>➡ use a `[]` with a number after a list or string, e.g. `list[4]`\n",
    "<br>➡ *Important* : in Python, we **start counting at 0**"
   ]
  },
  {
   "cell_type": "markdown",
   "metadata": {},
   "source": [
    "![hello-string](../img/slice.png)"
   ]
  },
  {
   "cell_type": "markdown",
   "metadata": {},
   "source": [
    "What is happening here?"
   ]
  },
  {
   "cell_type": "code",
   "execution_count": null,
   "metadata": {},
   "outputs": [],
   "source": [
    "print(weird_words)\n",
    "weird_words[2]"
   ]
  },
  {
   "cell_type": "code",
   "execution_count": null,
   "metadata": {},
   "outputs": [],
   "source": [
    "print(weird_words)\n",
    "weird_words[3:5]"
   ]
  },
  {
   "cell_type": "markdown",
   "metadata": {},
   "source": [
    "# **Loops**"
   ]
  },
  {
   "cell_type": "markdown",
   "metadata": {},
   "source": [
    "![slicing](../img/loops.png)"
   ]
  },
  {
   "cell_type": "markdown",
   "metadata": {},
   "source": [
    "<br>➡  a set of instructions that are **continually repeated**\n",
    "\n",
    "```python\n",
    "for item in [something, something_else]:\n",
    "    print(item)\n",
    "```\n",
    "\n",
    "<br>➡ `item` is a placeholder name for the 'something' in between the brackets\n",
    "<br>➡ `print()` is a method that just displays the value \n",
    "<br>➡ in scraping used to for example open multiple URLs and extract data from them\n"
   ]
  },
  {
   "cell_type": "code",
   "execution_count": null,
   "metadata": {},
   "outputs": [],
   "source": [
    "# 1. Let's make a list of weird sports and display the items one by one using a for loop.\n",
    "# inspiration : wife carrying, bog snorkelling, toe wrestling, cheese rolling, football 😜\n",
    "# 2. print \"I think x is really weird\" for each item on the weird sports list\n",
    "\n"
   ]
  },
  {
   "cell_type": "markdown",
   "metadata": {},
   "source": [
    "➡ sometimes we can create collections with a built-in **function**\n",
    "<br>➡ for example `range(start, end)`"
   ]
  },
  {
   "cell_type": "code",
   "execution_count": 46,
   "metadata": {},
   "outputs": [],
   "source": [
    "# Pretend it's later today at night, you are laying in the bed after the party at the bar, but you still can't sleep!\n",
    "# You start counting sheep\n",
    "\n",
    "# Create a for loop that prints out \"1 sheep\", \"2 sheep\", ... until \"100 sheep\""
   ]
  },
  {
   "cell_type": "markdown",
   "metadata": {},
   "source": [
    "# **Questions ?**\n",
    "I'd be happy if you [leave me some feedback](https://goo.gl/forms/OtuNECgexYSyJGjh1) for this session so I can make it better."
   ]
  }
 ],
 "metadata": {
  "kernelspec": {
   "display_name": "Python 3",
   "language": "python",
   "name": "python3"
  },
  "language_info": {
   "codemirror_mode": {
    "name": "ipython",
    "version": 3
   },
   "file_extension": ".py",
   "mimetype": "text/x-python",
   "name": "python",
   "nbconvert_exporter": "python",
   "pygments_lexer": "ipython3",
   "version": "3.7.1"
  }
 },
 "nbformat": 4,
 "nbformat_minor": 4
}
