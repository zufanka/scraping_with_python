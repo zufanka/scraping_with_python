{
 "cells": [
  {
   "cell_type": "markdown",
   "metadata": {},
   "source": [
    "# Welcome to the Python & Jupyter notebook Basics"
   ]
  },
  {
   "cell_type": "markdown",
   "metadata": {},
   "source": [
    "In this part, we will make ourselves familiar with the **jupyter notebook** and **Python** programming language"
   ]
  },
  {
   "cell_type": "code",
   "execution_count": 52,
   "metadata": {},
   "outputs": [
    {
     "data": {
      "text/plain": [
       "'Hi! Welcome to scraping with Python.'"
      ]
     },
     "execution_count": 52,
     "metadata": {},
     "output_type": "execute_result"
    }
   ],
   "source": [
    "\"Hi! Welcome to scraping with Python.\""
   ]
  },
  {
   "cell_type": "markdown",
   "metadata": {},
   "source": [
    "<br>➡  This is a jupyter notebook cell\n",
    "<br>➡  each cell needs to be **run** after you write your code: by clicking the `▶` button above, or with `shift/ctrl+ enter`\n",
    "<br>➡  If you see a number between the brackets next to the cell, eg `[23]`, the cell **has been run**\n",
    "<br>➡  If you see empty brackets `[ ]` the cell has **not been run**\n",
    "<br>➡  If you see this `[*]`, the cell is **running**. You can then not run any other cells while one is running\n",
    "<br>➡  **Important**: if you adjust a cell, you need to **run it again**!"
   ]
  },
  {
   "cell_type": "markdown",
   "metadata": {},
   "source": [
    "#### Add new cels:\n",
    "<br>➡ with the `+` sign in the top menu\n",
    "<br>➡ by pressing ESC and then `a` (above) or `b` (below)\n"
   ]
  },
  {
   "cell_type": "code",
   "execution_count": 53,
   "metadata": {},
   "outputs": [
    {
     "data": {
      "text/plain": [
       "'This is a new cell'"
      ]
     },
     "execution_count": 53,
     "metadata": {},
     "output_type": "execute_result"
    }
   ],
   "source": [
    "\"This is a new cell\""
   ]
  },
  {
   "cell_type": "code",
   "execution_count": null,
   "metadata": {},
   "outputs": [],
   "source": [
    "# this is a comment"
   ]
  },
  {
   "cell_type": "markdown",
   "metadata": {},
   "source": [
    "<br>➡ put a **comment** in your code using the hashtag `#`\n",
    "<br>➡  Everything after the hashtag won't be read by Python: `# This is a comment`"
   ]
  },
  {
   "cell_type": "markdown",
   "metadata": {},
   "source": [
    "# Example scrapers"
   ]
  },
  {
   "cell_type": "markdown",
   "metadata": {},
   "source": [
    "## Get info from multiple pages"
   ]
  },
  {
   "cell_type": "code",
   "execution_count": 2,
   "metadata": {},
   "outputs": [
    {
     "name": "stdout",
     "output_type": "stream",
     "text": [
      "--> This is now the content of data: []\n",
      "\n",
      "\n",
      "--> We are on page number: 1\n",
      "--> The url we are scraping now is: https://www.theguardian.com/news/series/todayinfocus?page=1\n",
      "--> This is what the request looks like: <Response [200]>. If you got a \"Response 200\" you are good!\n",
      "--> The first 763 characters of the website content: \n",
      "<!DOCTYPE html>\n",
      "<html id=\"js-context\" class=\"js-off is-not-modern id--signed-out\" lang=\"en\" data-page-path=\"/news/series/todayinfocus\">\n",
      "\n",
      "\n",
      "    <head>\n",
      "\n",
      "\n",
      "    \n",
      "<!--\n",
      "     __        __                      _     _      _\n",
      "     \\ \\      / /__    __ _ _ __ ___  | |__ (_)_ __(_)_ __   __ _\n",
      "      \\ \\ /\\ / / _ \\  / _` | '__/ _ \\ | '_ \\| | '__| | '_ \\ / _` |\n",
      "       \\ V  V /  __/ | (_| | | |  __/ | | | | | |  | | | | | (_| |\n",
      "        \\_/\\_/ \\___|  \\__,_|_|  \\___| |_| |_|_|_|  |_|_| |_|\\__, |\n",
      "                                                            |___/\n",
      "    Ever thought about joining us?\n",
      "    https://workforus.theguardian.com/careers/product-engineering/\n",
      "     --->\n",
      "\n",
      "\n",
      "    \n",
      "<title>Today in Focus | News | The Guardian</title>\n",
      "\n",
      "\n",
      "    \n",
      "\n",
      "<meta charset=\"utf-8\">\n",
      "\n",
      "    <meta n\n",
      "\n",
      "\n",
      "--> We are now at the headline: <a aria-hidden=\"true\" class=\"u-faux-block-link__overlay js-headline-text\" data-link-name=\"article\" href=\"https://www.theguardian.com/news/audio/2021/oct/15/newcastle-fans-think-theyve-got-their-club-back-but-at-what-cost-podcast\" tabindex=\"-1\">Newcastle fans think they’ve got their club back. But at what cost?</a>\n",
      "--> Without the HTML around it looks like this: Newcastle fans think they’ve got their club back. But at what cost?\n",
      "--> This is now the content of data: ['Newcastle fans think they’ve got their club back. But at what cost?']\n",
      "\n",
      "\n",
      "--> We are now at the headline: <a aria-hidden=\"true\" class=\"u-faux-block-link__overlay js-headline-text\" data-link-name=\"article\" href=\"https://www.theguardian.com/news/audio/2021/oct/14/has-england-gone-back-to-the-office-podcast\" tabindex=\"-1\">Has England gone back to the office?</a>\n",
      "--> Without the HTML around it looks like this: Has England gone back to the office?\n",
      "--> This is now the content of data: ['Newcastle fans think they’ve got their club back. But at what cost?', 'Has England gone back to the office?']\n",
      "\n",
      "\n",
      "--> We are now at the headline: <a aria-hidden=\"true\" class=\"u-faux-block-link__overlay js-headline-text\" data-link-name=\"article\" href=\"https://www.theguardian.com/news/audio/2021/oct/13/what-went-wrong-with-the-uks-handling-of-the-covid-pandemic\" tabindex=\"-1\">What went wrong with the UK’s handling of the Covid pandemic?</a>\n",
      "--> Without the HTML around it looks like this: What went wrong with the UK’s handling of the Covid pandemic?\n",
      "--> This is now the content of data: ['Newcastle fans think they’ve got their club back. But at what cost?', 'Has England gone back to the office?', 'What went wrong with the UK’s handling of the Covid pandemic?']\n",
      "\n",
      "\n",
      "--> We are now at the headline: <a aria-hidden=\"true\" class=\"u-faux-block-link__overlay js-headline-text\" data-link-name=\"article\" href=\"https://www.theguardian.com/news/audio/2021/oct/12/dubai-ruler-and-pegasus-phone-hacking-exposed-in-a-uk-court\" tabindex=\"-1\">Dubai’s ruler and the Pegasus phone hacking exposed in a UK court</a>\n",
      "--> Without the HTML around it looks like this: Dubai’s ruler and the Pegasus phone hacking exposed in a UK court\n",
      "--> This is now the content of data: ['Newcastle fans think they’ve got their club back. But at what cost?', 'Has England gone back to the office?', 'What went wrong with the UK’s handling of the Covid pandemic?', 'Dubai’s ruler and the Pegasus phone hacking exposed in a UK court']\n",
      "\n",
      "\n",
      "--> We are now at the headline: <a aria-hidden=\"true\" class=\"u-faux-block-link__overlay js-headline-text\" data-link-name=\"article\" href=\"https://www.theguardian.com/news/audio/2021/oct/11/the-countdown-to-cop26-can-world-leaders-save-the-planet-podcast\" tabindex=\"-1\">The countdown to Cop26: can world leaders save the planet?</a>\n",
      "--> Without the HTML around it looks like this: The countdown to Cop26: can world leaders save the planet?\n",
      "--> This is now the content of data: ['Newcastle fans think they’ve got their club back. But at what cost?', 'Has England gone back to the office?', 'What went wrong with the UK’s handling of the Covid pandemic?', 'Dubai’s ruler and the Pegasus phone hacking exposed in a UK court', 'The countdown to Cop26: can world leaders save the planet?']\n",
      "\n",
      "\n",
      "--> We are now at the headline: <a aria-hidden=\"true\" class=\"u-faux-block-link__overlay js-headline-text\" data-link-name=\"article\" href=\"https://www.theguardian.com/news/audio/2021/oct/08/whistleblower-facebook-plunged-crisis-frances-haugen-podcast\" tabindex=\"-1\">The whistleblower who plunged Facebook into crisis</a>\n",
      "--> Without the HTML around it looks like this: The whistleblower who plunged Facebook into crisis\n",
      "--> This is now the content of data: ['Newcastle fans think they’ve got their club back. But at what cost?', 'Has England gone back to the office?', 'What went wrong with the UK’s handling of the Covid pandemic?', 'Dubai’s ruler and the Pegasus phone hacking exposed in a UK court', 'The countdown to Cop26: can world leaders save the planet?', 'The whistleblower who plunged Facebook into crisis']\n",
      "\n",
      "\n",
      "--> We are now at the headline: <a aria-hidden=\"true\" class=\"u-faux-block-link__overlay js-headline-text\" data-link-name=\"article\" href=\"https://www.theguardian.com/news/audio/2021/oct/07/can-women-trust-the-police-podcast\" tabindex=\"-1\">Can women trust the police?</a>\n",
      "--> Without the HTML around it looks like this: Can women trust the police?\n",
      "--> This is now the content of data: ['Newcastle fans think they’ve got their club back. But at what cost?', 'Has England gone back to the office?', 'What went wrong with the UK’s handling of the Covid pandemic?', 'Dubai’s ruler and the Pegasus phone hacking exposed in a UK court', 'The countdown to Cop26: can world leaders save the planet?', 'The whistleblower who plunged Facebook into crisis', 'Can women trust the police?']\n",
      "\n",
      "\n",
      "--> We are now at the headline: <a aria-hidden=\"true\" class=\"u-faux-block-link__overlay js-headline-text\" data-link-name=\"article\" href=\"https://www.theguardian.com/news/audio/2021/oct/06/why-everything-youve-heard-about-panic-buying-might-be-wrong\" tabindex=\"-1\">Why everything you’ve heard about panic buying might be wrong</a>\n",
      "--> Without the HTML around it looks like this: Why everything you’ve heard about panic buying might be wrong\n",
      "--> This is now the content of data: ['Newcastle fans think they’ve got their club back. But at what cost?', 'Has England gone back to the office?', 'What went wrong with the UK’s handling of the Covid pandemic?', 'Dubai’s ruler and the Pegasus phone hacking exposed in a UK court', 'The countdown to Cop26: can world leaders save the planet?', 'The whistleblower who plunged Facebook into crisis', 'Can women trust the police?', 'Why everything you’ve heard about panic buying might be wrong']\n",
      "\n",
      "\n",
      "--> We are now at the headline: <a aria-hidden=\"true\" class=\"u-faux-block-link__overlay js-headline-text\" data-link-name=\"article\" href=\"https://www.theguardian.com/news/audio/2021/oct/05/the-pandora-papers-whos-giving-money-to-the-conservatives-podcast\" tabindex=\"-1\">The Pandora papers: who’s giving money to the Conservatives?</a>\n",
      "--> Without the HTML around it looks like this: The Pandora papers: who’s giving money to the Conservatives?\n",
      "--> This is now the content of data: ['Newcastle fans think they’ve got their club back. But at what cost?', 'Has England gone back to the office?', 'What went wrong with the UK’s handling of the Covid pandemic?', 'Dubai’s ruler and the Pegasus phone hacking exposed in a UK court', 'The countdown to Cop26: can world leaders save the planet?', 'The whistleblower who plunged Facebook into crisis', 'Can women trust the police?', 'Why everything you’ve heard about panic buying might be wrong', 'The Pandora papers: who’s giving money to the Conservatives?']\n",
      "\n",
      "\n",
      "--> We are now at the headline: <a aria-hidden=\"true\" class=\"u-faux-block-link__overlay js-headline-text\" data-link-name=\"article\" href=\"https://www.theguardian.com/news/audio/2021/oct/04/inside-the-pandora-papers-financial-secrets-of-the-rich-and-powerful-podcast\" tabindex=\"-1\">Inside the Pandora papers – financial secrets of the rich and powerful</a>\n",
      "--> Without the HTML around it looks like this: Inside the Pandora papers – financial secrets of the rich and powerful\n",
      "--> This is now the content of data: ['Newcastle fans think they’ve got their club back. But at what cost?', 'Has England gone back to the office?', 'What went wrong with the UK’s handling of the Covid pandemic?', 'Dubai’s ruler and the Pegasus phone hacking exposed in a UK court', 'The countdown to Cop26: can world leaders save the planet?', 'The whistleblower who plunged Facebook into crisis', 'Can women trust the police?', 'Why everything you’ve heard about panic buying might be wrong', 'The Pandora papers: who’s giving money to the Conservatives?', 'Inside the Pandora papers – financial secrets of the rich and powerful']\n",
      "\n",
      "\n",
      "--> We are now at the headline: <a aria-hidden=\"true\" class=\"u-faux-block-link__overlay js-headline-text\" data-link-name=\"article\" href=\"https://www.theguardian.com/news/audio/2021/oct/01/boris-johnson-wants-a-conference-reset-will-reality-ruin-it\" tabindex=\"-1\">Boris Johnson wants a conference reset. Will reality ruin it?</a>\n",
      "--> Without the HTML around it looks like this: Boris Johnson wants a conference reset. Will reality ruin it?\n",
      "--> This is now the content of data: ['Newcastle fans think they’ve got their club back. But at what cost?', 'Has England gone back to the office?', 'What went wrong with the UK’s handling of the Covid pandemic?', 'Dubai’s ruler and the Pegasus phone hacking exposed in a UK court', 'The countdown to Cop26: can world leaders save the planet?', 'The whistleblower who plunged Facebook into crisis', 'Can women trust the police?', 'Why everything you’ve heard about panic buying might be wrong', 'The Pandora papers: who’s giving money to the Conservatives?', 'Inside the Pandora papers – financial secrets of the rich and powerful', 'Boris Johnson wants a conference reset. Will reality ruin it?']\n",
      "\n",
      "\n",
      "--> We are now at the headline: <a aria-hidden=\"true\" class=\"u-faux-block-link__overlay js-headline-text\" data-link-name=\"article\" href=\"https://www.theguardian.com/news/audio/2021/sep/30/the-conviction-of-r-kelly\" tabindex=\"-1\">The conviction of R Kelly</a>\n",
      "--> Without the HTML around it looks like this: The conviction of R Kelly\n",
      "--> This is now the content of data: ['Newcastle fans think they’ve got their club back. But at what cost?', 'Has England gone back to the office?', 'What went wrong with the UK’s handling of the Covid pandemic?', 'Dubai’s ruler and the Pegasus phone hacking exposed in a UK court', 'The countdown to Cop26: can world leaders save the planet?', 'The whistleblower who plunged Facebook into crisis', 'Can women trust the police?', 'Why everything you’ve heard about panic buying might be wrong', 'The Pandora papers: who’s giving money to the Conservatives?', 'Inside the Pandora papers – financial secrets of the rich and powerful', 'Boris Johnson wants a conference reset. Will reality ruin it?', 'The conviction of R Kelly']\n",
      "\n",
      "\n",
      "--> We are now at the headline: <a aria-hidden=\"true\" class=\"u-faux-block-link__overlay js-headline-text\" data-link-name=\"article\" href=\"https://www.theguardian.com/news/audio/2021/sep/29/can-china-help-end-the-worlds-addiction-to-coal\" tabindex=\"-1\">Can China help end the world’s addiction to coal?</a>\n",
      "--> Without the HTML around it looks like this: Can China help end the world’s addiction to coal?\n",
      "--> This is now the content of data: ['Newcastle fans think they’ve got their club back. But at what cost?', 'Has England gone back to the office?', 'What went wrong with the UK’s handling of the Covid pandemic?', 'Dubai’s ruler and the Pegasus phone hacking exposed in a UK court', 'The countdown to Cop26: can world leaders save the planet?', 'The whistleblower who plunged Facebook into crisis', 'Can women trust the police?', 'Why everything you’ve heard about panic buying might be wrong', 'The Pandora papers: who’s giving money to the Conservatives?', 'Inside the Pandora papers – financial secrets of the rich and powerful', 'Boris Johnson wants a conference reset. Will reality ruin it?', 'The conviction of R Kelly', 'Can China help end the world’s addiction to coal?']\n",
      "\n",
      "\n",
      "--> We are now at the headline: <a aria-hidden=\"true\" class=\"u-faux-block-link__overlay js-headline-text\" data-link-name=\"article\" href=\"https://www.theguardian.com/news/audio/2021/sep/28/bond-is-back-wheres-he-going-next\" tabindex=\"-1\">Bond is back. Where’s he going next?</a>\n",
      "--> Without the HTML around it looks like this: Bond is back. Where’s he going next?\n",
      "--> This is now the content of data: ['Newcastle fans think they’ve got their club back. But at what cost?', 'Has England gone back to the office?', 'What went wrong with the UK’s handling of the Covid pandemic?', 'Dubai’s ruler and the Pegasus phone hacking exposed in a UK court', 'The countdown to Cop26: can world leaders save the planet?', 'The whistleblower who plunged Facebook into crisis', 'Can women trust the police?', 'Why everything you’ve heard about panic buying might be wrong', 'The Pandora papers: who’s giving money to the Conservatives?', 'Inside the Pandora papers – financial secrets of the rich and powerful', 'Boris Johnson wants a conference reset. Will reality ruin it?', 'The conviction of R Kelly', 'Can China help end the world’s addiction to coal?', 'Bond is back. Where’s he going next?']\n",
      "\n",
      "\n",
      "--> We are now at the headline: <a aria-hidden=\"true\" class=\"u-faux-block-link__overlay js-headline-text\" data-link-name=\"article\" href=\"https://www.theguardian.com/news/audio/2021/sep/27/the-pegasus-project-hacked-in-london-podcast\" tabindex=\"-1\">The Pegasus project: hacked in London</a>\n",
      "--> Without the HTML around it looks like this: The Pegasus project: hacked in London\n",
      "--> This is now the content of data: ['Newcastle fans think they’ve got their club back. But at what cost?', 'Has England gone back to the office?', 'What went wrong with the UK’s handling of the Covid pandemic?', 'Dubai’s ruler and the Pegasus phone hacking exposed in a UK court', 'The countdown to Cop26: can world leaders save the planet?', 'The whistleblower who plunged Facebook into crisis', 'Can women trust the police?', 'Why everything you’ve heard about panic buying might be wrong', 'The Pandora papers: who’s giving money to the Conservatives?', 'Inside the Pandora papers – financial secrets of the rich and powerful', 'Boris Johnson wants a conference reset. Will reality ruin it?', 'The conviction of R Kelly', 'Can China help end the world’s addiction to coal?', 'Bond is back. Where’s he going next?', 'The Pegasus project: hacked in London']\n",
      "\n",
      "\n",
      "--> We are now at the headline: <a aria-hidden=\"true\" class=\"u-faux-block-link__overlay js-headline-text\" data-link-name=\"article\" href=\"https://www.theguardian.com/news/audio/2021/sep/24/keir-starmers-make-or-break-conference-week-podcast\" tabindex=\"-1\">Keir Starmer’s make-or-break conference week</a>\n",
      "--> Without the HTML around it looks like this: Keir Starmer’s make-or-break conference week\n",
      "--> This is now the content of data: ['Newcastle fans think they’ve got their club back. But at what cost?', 'Has England gone back to the office?', 'What went wrong with the UK’s handling of the Covid pandemic?', 'Dubai’s ruler and the Pegasus phone hacking exposed in a UK court', 'The countdown to Cop26: can world leaders save the planet?', 'The whistleblower who plunged Facebook into crisis', 'Can women trust the police?', 'Why everything you’ve heard about panic buying might be wrong', 'The Pandora papers: who’s giving money to the Conservatives?', 'Inside the Pandora papers – financial secrets of the rich and powerful', 'Boris Johnson wants a conference reset. Will reality ruin it?', 'The conviction of R Kelly', 'Can China help end the world’s addiction to coal?', 'Bond is back. Where’s he going next?', 'The Pegasus project: hacked in London', 'Keir Starmer’s make-or-break conference week']\n",
      "\n",
      "\n",
      "--> We are now at the headline: <a aria-hidden=\"true\" class=\"u-faux-block-link__overlay js-headline-text\" data-link-name=\"article\" href=\"https://www.theguardian.com/news/audio/2021/sep/23/the-energy-crisis-no-one-saw-coming-podcast\" tabindex=\"-1\">The energy crisis no one saw coming</a>\n",
      "--> Without the HTML around it looks like this: The energy crisis no one saw coming\n",
      "--> This is now the content of data: ['Newcastle fans think they’ve got their club back. But at what cost?', 'Has England gone back to the office?', 'What went wrong with the UK’s handling of the Covid pandemic?', 'Dubai’s ruler and the Pegasus phone hacking exposed in a UK court', 'The countdown to Cop26: can world leaders save the planet?', 'The whistleblower who plunged Facebook into crisis', 'Can women trust the police?', 'Why everything you’ve heard about panic buying might be wrong', 'The Pandora papers: who’s giving money to the Conservatives?', 'Inside the Pandora papers – financial secrets of the rich and powerful', 'Boris Johnson wants a conference reset. Will reality ruin it?', 'The conviction of R Kelly', 'Can China help end the world’s addiction to coal?', 'Bond is back. Where’s he going next?', 'The Pegasus project: hacked in London', 'Keir Starmer’s make-or-break conference week', 'The energy crisis no one saw coming']\n",
      "\n",
      "\n",
      "--> We are now at the headline: <a aria-hidden=\"true\" class=\"u-faux-block-link__overlay js-headline-text\" data-link-name=\"article\" href=\"https://www.theguardian.com/news/audio/2021/sep/22/germany-decides-who-will-follow-angela-merkel-podcast\" tabindex=\"-1\">Germany decides: who will follow Angela Merkel?</a>\n",
      "--> Without the HTML around it looks like this: Germany decides: who will follow Angela Merkel?\n",
      "--> This is now the content of data: ['Newcastle fans think they’ve got their club back. But at what cost?', 'Has England gone back to the office?', 'What went wrong with the UK’s handling of the Covid pandemic?', 'Dubai’s ruler and the Pegasus phone hacking exposed in a UK court', 'The countdown to Cop26: can world leaders save the planet?', 'The whistleblower who plunged Facebook into crisis', 'Can women trust the police?', 'Why everything you’ve heard about panic buying might be wrong', 'The Pandora papers: who’s giving money to the Conservatives?', 'Inside the Pandora papers – financial secrets of the rich and powerful', 'Boris Johnson wants a conference reset. Will reality ruin it?', 'The conviction of R Kelly', 'Can China help end the world’s addiction to coal?', 'Bond is back. Where’s he going next?', 'The Pegasus project: hacked in London', 'Keir Starmer’s make-or-break conference week', 'The energy crisis no one saw coming', 'Germany decides: who will follow Angela Merkel?']\n",
      "\n",
      "\n",
      "--> We are now at the headline: <a aria-hidden=\"true\" class=\"u-faux-block-link__overlay js-headline-text\" data-link-name=\"article\" href=\"https://www.theguardian.com/news/audio/2021/sep/21/going-nuclear-the-secret-submarine-deal-to-challenge-china\" tabindex=\"-1\">Going nuclear: the secret submarine deal to challenge China </a>\n",
      "--> Without the HTML around it looks like this: Going nuclear: the secret submarine deal to challenge China \n",
      "--> This is now the content of data: ['Newcastle fans think they’ve got their club back. But at what cost?', 'Has England gone back to the office?', 'What went wrong with the UK’s handling of the Covid pandemic?', 'Dubai’s ruler and the Pegasus phone hacking exposed in a UK court', 'The countdown to Cop26: can world leaders save the planet?', 'The whistleblower who plunged Facebook into crisis', 'Can women trust the police?', 'Why everything you’ve heard about panic buying might be wrong', 'The Pandora papers: who’s giving money to the Conservatives?', 'Inside the Pandora papers – financial secrets of the rich and powerful', 'Boris Johnson wants a conference reset. Will reality ruin it?', 'The conviction of R Kelly', 'Can China help end the world’s addiction to coal?', 'Bond is back. Where’s he going next?', 'The Pegasus project: hacked in London', 'Keir Starmer’s make-or-break conference week', 'The energy crisis no one saw coming', 'Germany decides: who will follow Angela Merkel?', 'Going nuclear: the secret submarine deal to challenge China ']\n",
      "\n",
      "\n",
      "--> We are now at the headline: <a aria-hidden=\"true\" class=\"u-faux-block-link__overlay js-headline-text\" data-link-name=\"article\" href=\"https://www.theguardian.com/news/audio/2021/sep/20/finally-get-ready-for-a-new-season-of-culture\" tabindex=\"-1\">Finally! Get ready for a new season of culture</a>\n",
      "--> Without the HTML around it looks like this: Finally! Get ready for a new season of culture\n",
      "--> This is now the content of data: ['Newcastle fans think they’ve got their club back. But at what cost?', 'Has England gone back to the office?', 'What went wrong with the UK’s handling of the Covid pandemic?', 'Dubai’s ruler and the Pegasus phone hacking exposed in a UK court', 'The countdown to Cop26: can world leaders save the planet?', 'The whistleblower who plunged Facebook into crisis', 'Can women trust the police?', 'Why everything you’ve heard about panic buying might be wrong', 'The Pandora papers: who’s giving money to the Conservatives?', 'Inside the Pandora papers – financial secrets of the rich and powerful', 'Boris Johnson wants a conference reset. Will reality ruin it?', 'The conviction of R Kelly', 'Can China help end the world’s addiction to coal?', 'Bond is back. Where’s he going next?', 'The Pegasus project: hacked in London', 'Keir Starmer’s make-or-break conference week', 'The energy crisis no one saw coming', 'Germany decides: who will follow Angela Merkel?', 'Going nuclear: the secret submarine deal to challenge China ', 'Finally! Get ready for a new season of culture']\n",
      "\n",
      "\n",
      "--> We are on page number: 2\n",
      "--> The url we are scraping now is: https://www.theguardian.com/news/series/todayinfocus?page=2\n",
      "--> This is what the request looks like: <Response [200]>. If you got a \"Response 200\" you are good!\n",
      "--> The first 763 characters of the website content: \n",
      "<!DOCTYPE html>\n",
      "<html id=\"js-context\" class=\"js-off is-not-modern id--signed-out\" lang=\"en\" data-page-path=\"/news/series/todayinfocus\">\n",
      "\n",
      "\n",
      "    <head>\n",
      "\n",
      "\n",
      "    \n",
      "<!--\n",
      "     __        __                      _     _      _\n",
      "     \\ \\      / /__    __ _ _ __ ___  | |__ (_)_ __(_)_ __   __ _\n",
      "      \\ \\ /\\ / / _ \\  / _` | '__/ _ \\ | '_ \\| | '__| | '_ \\ / _` |\n",
      "       \\ V  V /  __/ | (_| | | |  __/ | | | | | |  | | | | | (_| |\n",
      "        \\_/\\_/ \\___|  \\__,_|_|  \\___| |_| |_|_|_|  |_|_| |_|\\__, |\n",
      "                                                            |___/\n",
      "    Ever thought about joining us?\n",
      "    https://workforus.theguardian.com/careers/product-engineering/\n",
      "     --->\n",
      "\n",
      "\n",
      "    \n",
      "<title>Today in Focus | Page 2 of 38 | News | The Guardian</title>\n",
      "\n",
      "\n",
      "    \n",
      "\n",
      "<meta charset=\"utf-8\n",
      "\n",
      "\n",
      "--> We are now at the headline: <a aria-hidden=\"true\" class=\"u-faux-block-link__overlay js-headline-text\" data-link-name=\"article\" href=\"https://www.theguardian.com/news/audio/2021/sep/17/the-of-fikile-the-woman-who-took-on-a-coal-mine\" tabindex=\"-1\">The murder of Fikile: the woman who took on a coal mine</a>\n",
      "--> Without the HTML around it looks like this: The murder of Fikile: the woman who took on a coal mine\n",
      "--> This is now the content of data: ['Newcastle fans think they’ve got their club back. But at what cost?', 'Has England gone back to the office?', 'What went wrong with the UK’s handling of the Covid pandemic?', 'Dubai’s ruler and the Pegasus phone hacking exposed in a UK court', 'The countdown to Cop26: can world leaders save the planet?', 'The whistleblower who plunged Facebook into crisis', 'Can women trust the police?', 'Why everything you’ve heard about panic buying might be wrong', 'The Pandora papers: who’s giving money to the Conservatives?', 'Inside the Pandora papers – financial secrets of the rich and powerful', 'Boris Johnson wants a conference reset. Will reality ruin it?', 'The conviction of R Kelly', 'Can China help end the world’s addiction to coal?', 'Bond is back. Where’s he going next?', 'The Pegasus project: hacked in London', 'Keir Starmer’s make-or-break conference week', 'The energy crisis no one saw coming', 'Germany decides: who will follow Angela Merkel?', 'Going nuclear: the secret submarine deal to challenge China ', 'Finally! Get ready for a new season of culture', 'The murder of Fikile: the woman who took on a coal mine']\n",
      "\n",
      "\n",
      "--> We are now at the headline: <a aria-hidden=\"true\" class=\"u-faux-block-link__overlay js-headline-text\" data-link-name=\"article\" href=\"https://www.theguardian.com/news/audio/2021/sep/16/the-problem-with-onlyfans-mainstream-dream\" tabindex=\"-1\">The problem with OnlyFans’ mainstream dream</a>\n",
      "--> Without the HTML around it looks like this: The problem with OnlyFans’ mainstream dream\n",
      "--> This is now the content of data: ['Newcastle fans think they’ve got their club back. But at what cost?', 'Has England gone back to the office?', 'What went wrong with the UK’s handling of the Covid pandemic?', 'Dubai’s ruler and the Pegasus phone hacking exposed in a UK court', 'The countdown to Cop26: can world leaders save the planet?', 'The whistleblower who plunged Facebook into crisis', 'Can women trust the police?', 'Why everything you’ve heard about panic buying might be wrong', 'The Pandora papers: who’s giving money to the Conservatives?', 'Inside the Pandora papers – financial secrets of the rich and powerful', 'Boris Johnson wants a conference reset. Will reality ruin it?', 'The conviction of R Kelly', 'Can China help end the world’s addiction to coal?', 'Bond is back. Where’s he going next?', 'The Pegasus project: hacked in London', 'Keir Starmer’s make-or-break conference week', 'The energy crisis no one saw coming', 'Germany decides: who will follow Angela Merkel?', 'Going nuclear: the secret submarine deal to challenge China ', 'Finally! Get ready for a new season of culture', 'The murder of Fikile: the woman who took on a coal mine', 'The problem with OnlyFans’ mainstream dream']\n",
      "\n",
      "\n",
      "--> We are now at the headline: <a aria-hidden=\"true\" class=\"u-faux-block-link__overlay js-headline-text\" data-link-name=\"article\" href=\"https://www.theguardian.com/news/audio/2021/sep/15/whos-paying-for-the-governments-plan-to-fix-social-care-podcast\" tabindex=\"-1\">Who’s paying for the government’s plan to fix social care?</a>\n",
      "--> Without the HTML around it looks like this: Who’s paying for the government’s plan to fix social care?\n",
      "--> This is now the content of data: ['Newcastle fans think they’ve got their club back. But at what cost?', 'Has England gone back to the office?', 'What went wrong with the UK’s handling of the Covid pandemic?', 'Dubai’s ruler and the Pegasus phone hacking exposed in a UK court', 'The countdown to Cop26: can world leaders save the planet?', 'The whistleblower who plunged Facebook into crisis', 'Can women trust the police?', 'Why everything you’ve heard about panic buying might be wrong', 'The Pandora papers: who’s giving money to the Conservatives?', 'Inside the Pandora papers – financial secrets of the rich and powerful', 'Boris Johnson wants a conference reset. Will reality ruin it?', 'The conviction of R Kelly', 'Can China help end the world’s addiction to coal?', 'Bond is back. Where’s he going next?', 'The Pegasus project: hacked in London', 'Keir Starmer’s make-or-break conference week', 'The energy crisis no one saw coming', 'Germany decides: who will follow Angela Merkel?', 'Going nuclear: the secret submarine deal to challenge China ', 'Finally! Get ready for a new season of culture', 'The murder of Fikile: the woman who took on a coal mine', 'The problem with OnlyFans’ mainstream dream', 'Who’s paying for the government’s plan to fix social care?']\n",
      "\n",
      "\n",
      "--> We are now at the headline: <a aria-hidden=\"true\" class=\"u-faux-block-link__overlay js-headline-text\" data-link-name=\"article\" href=\"https://www.theguardian.com/news/audio/2021/sep/14/out-of-stock-britain-supply-chain-crisis-podcast\" tabindex=\"-1\">Is Brexit the reason McDonald’s is running out of milkshakes?</a>\n",
      "--> Without the HTML around it looks like this: Is Brexit the reason McDonald’s is running out of milkshakes?\n",
      "--> This is now the content of data: ['Newcastle fans think they’ve got their club back. But at what cost?', 'Has England gone back to the office?', 'What went wrong with the UK’s handling of the Covid pandemic?', 'Dubai’s ruler and the Pegasus phone hacking exposed in a UK court', 'The countdown to Cop26: can world leaders save the planet?', 'The whistleblower who plunged Facebook into crisis', 'Can women trust the police?', 'Why everything you’ve heard about panic buying might be wrong', 'The Pandora papers: who’s giving money to the Conservatives?', 'Inside the Pandora papers – financial secrets of the rich and powerful', 'Boris Johnson wants a conference reset. Will reality ruin it?', 'The conviction of R Kelly', 'Can China help end the world’s addiction to coal?', 'Bond is back. Where’s he going next?', 'The Pegasus project: hacked in London', 'Keir Starmer’s make-or-break conference week', 'The energy crisis no one saw coming', 'Germany decides: who will follow Angela Merkel?', 'Going nuclear: the secret submarine deal to challenge China ', 'Finally! Get ready for a new season of culture', 'The murder of Fikile: the woman who took on a coal mine', 'The problem with OnlyFans’ mainstream dream', 'Who’s paying for the government’s plan to fix social care?', 'Is Brexit the reason McDonald’s is running out of milkshakes?']\n",
      "\n",
      "\n",
      "--> We are now at the headline: <a aria-hidden=\"true\" class=\"u-faux-block-link__overlay js-headline-text\" data-link-name=\"article\" href=\"https://www.theguardian.com/news/audio/2021/sep/13/ecstasy-lsd-magic-mushrooms-are-drugs-future-of-therapy\" tabindex=\"-1\">Ecstasy, LSD and magic mushrooms: are these drugs the future of therapy?</a>\n",
      "--> Without the HTML around it looks like this: Ecstasy, LSD and magic mushrooms: are these drugs the future of therapy?\n",
      "--> This is now the content of data: ['Newcastle fans think they’ve got their club back. But at what cost?', 'Has England gone back to the office?', 'What went wrong with the UK’s handling of the Covid pandemic?', 'Dubai’s ruler and the Pegasus phone hacking exposed in a UK court', 'The countdown to Cop26: can world leaders save the planet?', 'The whistleblower who plunged Facebook into crisis', 'Can women trust the police?', 'Why everything you’ve heard about panic buying might be wrong', 'The Pandora papers: who’s giving money to the Conservatives?', 'Inside the Pandora papers – financial secrets of the rich and powerful', 'Boris Johnson wants a conference reset. Will reality ruin it?', 'The conviction of R Kelly', 'Can China help end the world’s addiction to coal?', 'Bond is back. Where’s he going next?', 'The Pegasus project: hacked in London', 'Keir Starmer’s make-or-break conference week', 'The energy crisis no one saw coming', 'Germany decides: who will follow Angela Merkel?', 'Going nuclear: the secret submarine deal to challenge China ', 'Finally! Get ready for a new season of culture', 'The murder of Fikile: the woman who took on a coal mine', 'The problem with OnlyFans’ mainstream dream', 'Who’s paying for the government’s plan to fix social care?', 'Is Brexit the reason McDonald’s is running out of milkshakes?', 'Ecstasy, LSD and magic mushrooms: are these drugs the future of therapy?']\n",
      "\n",
      "\n",
      "--> We are now at the headline: <a aria-hidden=\"true\" class=\"u-faux-block-link__overlay js-headline-text\" data-link-name=\"article\" href=\"https://www.theguardian.com/news/audio/2021/sep/10/a-conversation-about-islamophobia-in-the-uk-since-911-podcast\" tabindex=\"-1\">A conversation about Islamophobia in the UK since 9/11</a>\n",
      "--> Without the HTML around it looks like this: A conversation about Islamophobia in the UK since 9/11\n",
      "--> This is now the content of data: ['Newcastle fans think they’ve got their club back. But at what cost?', 'Has England gone back to the office?', 'What went wrong with the UK’s handling of the Covid pandemic?', 'Dubai’s ruler and the Pegasus phone hacking exposed in a UK court', 'The countdown to Cop26: can world leaders save the planet?', 'The whistleblower who plunged Facebook into crisis', 'Can women trust the police?', 'Why everything you’ve heard about panic buying might be wrong', 'The Pandora papers: who’s giving money to the Conservatives?', 'Inside the Pandora papers – financial secrets of the rich and powerful', 'Boris Johnson wants a conference reset. Will reality ruin it?', 'The conviction of R Kelly', 'Can China help end the world’s addiction to coal?', 'Bond is back. Where’s he going next?', 'The Pegasus project: hacked in London', 'Keir Starmer’s make-or-break conference week', 'The energy crisis no one saw coming', 'Germany decides: who will follow Angela Merkel?', 'Going nuclear: the secret submarine deal to challenge China ', 'Finally! Get ready for a new season of culture', 'The murder of Fikile: the woman who took on a coal mine', 'The problem with OnlyFans’ mainstream dream', 'Who’s paying for the government’s plan to fix social care?', 'Is Brexit the reason McDonald’s is running out of milkshakes?', 'Ecstasy, LSD and magic mushrooms: are these drugs the future of therapy?', 'A conversation about Islamophobia in the UK since 9/11']\n",
      "\n",
      "\n",
      "--> We are now at the headline: <a aria-hidden=\"true\" class=\"u-faux-block-link__overlay js-headline-text\" data-link-name=\"article\" href=\"https://www.theguardian.com/news/audio/2021/sep/09/al-qaida-road-to-911-and-why-it-was-never-finally-defeated-podcast\" tabindex=\"-1\">Inside Al-Qaida: a recruit-turned-spy, a journalist and the road to 9/11</a>\n",
      "--> Without the HTML around it looks like this: Inside Al-Qaida: a recruit-turned-spy, a journalist and the road to 9/11\n",
      "--> This is now the content of data: ['Newcastle fans think they’ve got their club back. But at what cost?', 'Has England gone back to the office?', 'What went wrong with the UK’s handling of the Covid pandemic?', 'Dubai’s ruler and the Pegasus phone hacking exposed in a UK court', 'The countdown to Cop26: can world leaders save the planet?', 'The whistleblower who plunged Facebook into crisis', 'Can women trust the police?', 'Why everything you’ve heard about panic buying might be wrong', 'The Pandora papers: who’s giving money to the Conservatives?', 'Inside the Pandora papers – financial secrets of the rich and powerful', 'Boris Johnson wants a conference reset. Will reality ruin it?', 'The conviction of R Kelly', 'Can China help end the world’s addiction to coal?', 'Bond is back. Where’s he going next?', 'The Pegasus project: hacked in London', 'Keir Starmer’s make-or-break conference week', 'The energy crisis no one saw coming', 'Germany decides: who will follow Angela Merkel?', 'Going nuclear: the secret submarine deal to challenge China ', 'Finally! Get ready for a new season of culture', 'The murder of Fikile: the woman who took on a coal mine', 'The problem with OnlyFans’ mainstream dream', 'Who’s paying for the government’s plan to fix social care?', 'Is Brexit the reason McDonald’s is running out of milkshakes?', 'Ecstasy, LSD and magic mushrooms: are these drugs the future of therapy?', 'A conversation about Islamophobia in the UK since 9/11', 'Inside Al-Qaida: a recruit-turned-spy, a journalist and the road to 9/11']\n",
      "\n",
      "\n",
      "--> We are now at the headline: <a aria-hidden=\"true\" class=\"u-faux-block-link__overlay js-headline-text\" data-link-name=\"article\" href=\"https://www.theguardian.com/news/audio/2021/sep/08/the-children-of-911-podcast\" tabindex=\"-1\">The children of 9/11</a>\n",
      "--> Without the HTML around it looks like this: The children of 9/11\n",
      "--> This is now the content of data: ['Newcastle fans think they’ve got their club back. But at what cost?', 'Has England gone back to the office?', 'What went wrong with the UK’s handling of the Covid pandemic?', 'Dubai’s ruler and the Pegasus phone hacking exposed in a UK court', 'The countdown to Cop26: can world leaders save the planet?', 'The whistleblower who plunged Facebook into crisis', 'Can women trust the police?', 'Why everything you’ve heard about panic buying might be wrong', 'The Pandora papers: who’s giving money to the Conservatives?', 'Inside the Pandora papers – financial secrets of the rich and powerful', 'Boris Johnson wants a conference reset. Will reality ruin it?', 'The conviction of R Kelly', 'Can China help end the world’s addiction to coal?', 'Bond is back. Where’s he going next?', 'The Pegasus project: hacked in London', 'Keir Starmer’s make-or-break conference week', 'The energy crisis no one saw coming', 'Germany decides: who will follow Angela Merkel?', 'Going nuclear: the secret submarine deal to challenge China ', 'Finally! Get ready for a new season of culture', 'The murder of Fikile: the woman who took on a coal mine', 'The problem with OnlyFans’ mainstream dream', 'Who’s paying for the government’s plan to fix social care?', 'Is Brexit the reason McDonald’s is running out of milkshakes?', 'Ecstasy, LSD and magic mushrooms: are these drugs the future of therapy?', 'A conversation about Islamophobia in the UK since 9/11', 'Inside Al-Qaida: a recruit-turned-spy, a journalist and the road to 9/11', 'The children of 9/11']\n",
      "\n",
      "\n",
      "--> We are now at the headline: <a aria-hidden=\"true\" class=\"u-faux-block-link__overlay js-headline-text\" data-link-name=\"article\" href=\"https://www.theguardian.com/news/audio/2021/sep/07/burnout-in-the-us-battle-against-wildfires\" tabindex=\"-1\">Burnout in the US battle against wildfires</a>\n",
      "--> Without the HTML around it looks like this: Burnout in the US battle against wildfires\n",
      "--> This is now the content of data: ['Newcastle fans think they’ve got their club back. But at what cost?', 'Has England gone back to the office?', 'What went wrong with the UK’s handling of the Covid pandemic?', 'Dubai’s ruler and the Pegasus phone hacking exposed in a UK court', 'The countdown to Cop26: can world leaders save the planet?', 'The whistleblower who plunged Facebook into crisis', 'Can women trust the police?', 'Why everything you’ve heard about panic buying might be wrong', 'The Pandora papers: who’s giving money to the Conservatives?', 'Inside the Pandora papers – financial secrets of the rich and powerful', 'Boris Johnson wants a conference reset. Will reality ruin it?', 'The conviction of R Kelly', 'Can China help end the world’s addiction to coal?', 'Bond is back. Where’s he going next?', 'The Pegasus project: hacked in London', 'Keir Starmer’s make-or-break conference week', 'The energy crisis no one saw coming', 'Germany decides: who will follow Angela Merkel?', 'Going nuclear: the secret submarine deal to challenge China ', 'Finally! Get ready for a new season of culture', 'The murder of Fikile: the woman who took on a coal mine', 'The problem with OnlyFans’ mainstream dream', 'Who’s paying for the government’s plan to fix social care?', 'Is Brexit the reason McDonald’s is running out of milkshakes?', 'Ecstasy, LSD and magic mushrooms: are these drugs the future of therapy?', 'A conversation about Islamophobia in the UK since 9/11', 'Inside Al-Qaida: a recruit-turned-spy, a journalist and the road to 9/11', 'The children of 9/11', 'Burnout in the US battle against wildfires']\n",
      "\n",
      "\n",
      "--> We are now at the headline: <a aria-hidden=\"true\" class=\"u-faux-block-link__overlay js-headline-text\" data-link-name=\"article\" href=\"https://www.theguardian.com/news/audio/2021/sep/06/one-hour-to-escape-the-race-to-get-out-of-a-gaza-tower-before-an-israeli-airstrike-podcast\" tabindex=\"-1\">One hour to escape: the race to get out of a Gaza tower before an Israeli airstrike</a>\n",
      "--> Without the HTML around it looks like this: One hour to escape: the race to get out of a Gaza tower before an Israeli airstrike\n",
      "--> This is now the content of data: ['Newcastle fans think they’ve got their club back. But at what cost?', 'Has England gone back to the office?', 'What went wrong with the UK’s handling of the Covid pandemic?', 'Dubai’s ruler and the Pegasus phone hacking exposed in a UK court', 'The countdown to Cop26: can world leaders save the planet?', 'The whistleblower who plunged Facebook into crisis', 'Can women trust the police?', 'Why everything you’ve heard about panic buying might be wrong', 'The Pandora papers: who’s giving money to the Conservatives?', 'Inside the Pandora papers – financial secrets of the rich and powerful', 'Boris Johnson wants a conference reset. Will reality ruin it?', 'The conviction of R Kelly', 'Can China help end the world’s addiction to coal?', 'Bond is back. Where’s he going next?', 'The Pegasus project: hacked in London', 'Keir Starmer’s make-or-break conference week', 'The energy crisis no one saw coming', 'Germany decides: who will follow Angela Merkel?', 'Going nuclear: the secret submarine deal to challenge China ', 'Finally! Get ready for a new season of culture', 'The murder of Fikile: the woman who took on a coal mine', 'The problem with OnlyFans’ mainstream dream', 'Who’s paying for the government’s plan to fix social care?', 'Is Brexit the reason McDonald’s is running out of milkshakes?', 'Ecstasy, LSD and magic mushrooms: are these drugs the future of therapy?', 'A conversation about Islamophobia in the UK since 9/11', 'Inside Al-Qaida: a recruit-turned-spy, a journalist and the road to 9/11', 'The children of 9/11', 'Burnout in the US battle against wildfires', 'One hour to escape: the race to get out of a Gaza tower before an Israeli airstrike']\n",
      "\n",
      "\n",
      "--> We are now at the headline: <a aria-hidden=\"true\" class=\"u-faux-block-link__overlay js-headline-text\" data-link-name=\"article\" href=\"https://www.theguardian.com/news/audio/2021/sep/03/one-mans-epic-electric-test-drive-from-lands-end-to-john-ogroats-podcast\" tabindex=\"-1\">One man’s epic electric test drive – from Land’s End to John o’Groats</a>\n",
      "--> Without the HTML around it looks like this: One man’s epic electric test drive – from Land’s End to John o’Groats\n",
      "--> This is now the content of data: ['Newcastle fans think they’ve got their club back. But at what cost?', 'Has England gone back to the office?', 'What went wrong with the UK’s handling of the Covid pandemic?', 'Dubai’s ruler and the Pegasus phone hacking exposed in a UK court', 'The countdown to Cop26: can world leaders save the planet?', 'The whistleblower who plunged Facebook into crisis', 'Can women trust the police?', 'Why everything you’ve heard about panic buying might be wrong', 'The Pandora papers: who’s giving money to the Conservatives?', 'Inside the Pandora papers – financial secrets of the rich and powerful', 'Boris Johnson wants a conference reset. Will reality ruin it?', 'The conviction of R Kelly', 'Can China help end the world’s addiction to coal?', 'Bond is back. Where’s he going next?', 'The Pegasus project: hacked in London', 'Keir Starmer’s make-or-break conference week', 'The energy crisis no one saw coming', 'Germany decides: who will follow Angela Merkel?', 'Going nuclear: the secret submarine deal to challenge China ', 'Finally! Get ready for a new season of culture', 'The murder of Fikile: the woman who took on a coal mine', 'The problem with OnlyFans’ mainstream dream', 'Who’s paying for the government’s plan to fix social care?', 'Is Brexit the reason McDonald’s is running out of milkshakes?', 'Ecstasy, LSD and magic mushrooms: are these drugs the future of therapy?', 'A conversation about Islamophobia in the UK since 9/11', 'Inside Al-Qaida: a recruit-turned-spy, a journalist and the road to 9/11', 'The children of 9/11', 'Burnout in the US battle against wildfires', 'One hour to escape: the race to get out of a Gaza tower before an Israeli airstrike', 'One man’s epic electric test drive – from Land’s End to John o’Groats']\n",
      "\n",
      "\n",
      "--> We are now at the headline: <a aria-hidden=\"true\" class=\"u-faux-block-link__overlay js-headline-text\" data-link-name=\"article\" href=\"https://www.theguardian.com/news/audio/2021/sep/02/the-big-coronavirus-questions-as-a-new-school-term-begins\" tabindex=\"-1\">The big coronavirus questions as a new school term begins</a>\n",
      "--> Without the HTML around it looks like this: The big coronavirus questions as a new school term begins\n",
      "--> This is now the content of data: ['Newcastle fans think they’ve got their club back. But at what cost?', 'Has England gone back to the office?', 'What went wrong with the UK’s handling of the Covid pandemic?', 'Dubai’s ruler and the Pegasus phone hacking exposed in a UK court', 'The countdown to Cop26: can world leaders save the planet?', 'The whistleblower who plunged Facebook into crisis', 'Can women trust the police?', 'Why everything you’ve heard about panic buying might be wrong', 'The Pandora papers: who’s giving money to the Conservatives?', 'Inside the Pandora papers – financial secrets of the rich and powerful', 'Boris Johnson wants a conference reset. Will reality ruin it?', 'The conviction of R Kelly', 'Can China help end the world’s addiction to coal?', 'Bond is back. Where’s he going next?', 'The Pegasus project: hacked in London', 'Keir Starmer’s make-or-break conference week', 'The energy crisis no one saw coming', 'Germany decides: who will follow Angela Merkel?', 'Going nuclear: the secret submarine deal to challenge China ', 'Finally! Get ready for a new season of culture', 'The murder of Fikile: the woman who took on a coal mine', 'The problem with OnlyFans’ mainstream dream', 'Who’s paying for the government’s plan to fix social care?', 'Is Brexit the reason McDonald’s is running out of milkshakes?', 'Ecstasy, LSD and magic mushrooms: are these drugs the future of therapy?', 'A conversation about Islamophobia in the UK since 9/11', 'Inside Al-Qaida: a recruit-turned-spy, a journalist and the road to 9/11', 'The children of 9/11', 'Burnout in the US battle against wildfires', 'One hour to escape: the race to get out of a Gaza tower before an Israeli airstrike', 'One man’s epic electric test drive – from Land’s End to John o’Groats', 'The big coronavirus questions as a new school term begins']\n",
      "\n",
      "\n",
      "--> We are now at the headline: <a aria-hidden=\"true\" class=\"u-faux-block-link__overlay js-headline-text\" data-link-name=\"article\" href=\"https://www.theguardian.com/news/audio/2021/sep/01/the-british-citizens-stranded-in-kabul-podcast\" tabindex=\"-1\">The British citizens left behind in Kabul</a>\n",
      "--> Without the HTML around it looks like this: The British citizens left behind in Kabul\n",
      "--> This is now the content of data: ['Newcastle fans think they’ve got their club back. But at what cost?', 'Has England gone back to the office?', 'What went wrong with the UK’s handling of the Covid pandemic?', 'Dubai’s ruler and the Pegasus phone hacking exposed in a UK court', 'The countdown to Cop26: can world leaders save the planet?', 'The whistleblower who plunged Facebook into crisis', 'Can women trust the police?', 'Why everything you’ve heard about panic buying might be wrong', 'The Pandora papers: who’s giving money to the Conservatives?', 'Inside the Pandora papers – financial secrets of the rich and powerful', 'Boris Johnson wants a conference reset. Will reality ruin it?', 'The conviction of R Kelly', 'Can China help end the world’s addiction to coal?', 'Bond is back. Where’s he going next?', 'The Pegasus project: hacked in London', 'Keir Starmer’s make-or-break conference week', 'The energy crisis no one saw coming', 'Germany decides: who will follow Angela Merkel?', 'Going nuclear: the secret submarine deal to challenge China ', 'Finally! Get ready for a new season of culture', 'The murder of Fikile: the woman who took on a coal mine', 'The problem with OnlyFans’ mainstream dream', 'Who’s paying for the government’s plan to fix social care?', 'Is Brexit the reason McDonald’s is running out of milkshakes?', 'Ecstasy, LSD and magic mushrooms: are these drugs the future of therapy?', 'A conversation about Islamophobia in the UK since 9/11', 'Inside Al-Qaida: a recruit-turned-spy, a journalist and the road to 9/11', 'The children of 9/11', 'Burnout in the US battle against wildfires', 'One hour to escape: the race to get out of a Gaza tower before an Israeli airstrike', 'One man’s epic electric test drive – from Land’s End to John o’Groats', 'The big coronavirus questions as a new school term begins', 'The British citizens left behind in Kabul']\n",
      "\n",
      "\n",
      "--> We are now at the headline: <a aria-hidden=\"true\" class=\"u-faux-block-link__overlay js-headline-text\" data-link-name=\"article\" href=\"https://www.theguardian.com/news/audio/2021/aug/31/the-knock-the-families-torn-apart-by-an-arrest-over-child-abuse-images\" tabindex=\"-1\">The knock: the families torn apart by an arrest over child abuse images</a>\n",
      "--> Without the HTML around it looks like this: The knock: the families torn apart by an arrest over child abuse images\n",
      "--> This is now the content of data: ['Newcastle fans think they’ve got their club back. But at what cost?', 'Has England gone back to the office?', 'What went wrong with the UK’s handling of the Covid pandemic?', 'Dubai’s ruler and the Pegasus phone hacking exposed in a UK court', 'The countdown to Cop26: can world leaders save the planet?', 'The whistleblower who plunged Facebook into crisis', 'Can women trust the police?', 'Why everything you’ve heard about panic buying might be wrong', 'The Pandora papers: who’s giving money to the Conservatives?', 'Inside the Pandora papers – financial secrets of the rich and powerful', 'Boris Johnson wants a conference reset. Will reality ruin it?', 'The conviction of R Kelly', 'Can China help end the world’s addiction to coal?', 'Bond is back. Where’s he going next?', 'The Pegasus project: hacked in London', 'Keir Starmer’s make-or-break conference week', 'The energy crisis no one saw coming', 'Germany decides: who will follow Angela Merkel?', 'Going nuclear: the secret submarine deal to challenge China ', 'Finally! Get ready for a new season of culture', 'The murder of Fikile: the woman who took on a coal mine', 'The problem with OnlyFans’ mainstream dream', 'Who’s paying for the government’s plan to fix social care?', 'Is Brexit the reason McDonald’s is running out of milkshakes?', 'Ecstasy, LSD and magic mushrooms: are these drugs the future of therapy?', 'A conversation about Islamophobia in the UK since 9/11', 'Inside Al-Qaida: a recruit-turned-spy, a journalist and the road to 9/11', 'The children of 9/11', 'Burnout in the US battle against wildfires', 'One hour to escape: the race to get out of a Gaza tower before an Israeli airstrike', 'One man’s epic electric test drive – from Land’s End to John o’Groats', 'The big coronavirus questions as a new school term begins', 'The British citizens left behind in Kabul', 'The knock: the families torn apart by an arrest over child abuse images']\n",
      "\n",
      "\n",
      "--> We are now at the headline: <a aria-hidden=\"true\" class=\"u-faux-block-link__overlay js-headline-text\" data-link-name=\"article\" href=\"https://www.theguardian.com/news/audio/2021/aug/30/revisited-how-meme-stars-of-the-early-internet-struck-it-rich-with-nfts\" tabindex=\"-1\">Revisited: how meme stars of the early internet struck it rich with NFTs</a>\n",
      "--> Without the HTML around it looks like this: Revisited: how meme stars of the early internet struck it rich with NFTs\n",
      "--> This is now the content of data: ['Newcastle fans think they’ve got their club back. But at what cost?', 'Has England gone back to the office?', 'What went wrong with the UK’s handling of the Covid pandemic?', 'Dubai’s ruler and the Pegasus phone hacking exposed in a UK court', 'The countdown to Cop26: can world leaders save the planet?', 'The whistleblower who plunged Facebook into crisis', 'Can women trust the police?', 'Why everything you’ve heard about panic buying might be wrong', 'The Pandora papers: who’s giving money to the Conservatives?', 'Inside the Pandora papers – financial secrets of the rich and powerful', 'Boris Johnson wants a conference reset. Will reality ruin it?', 'The conviction of R Kelly', 'Can China help end the world’s addiction to coal?', 'Bond is back. Where’s he going next?', 'The Pegasus project: hacked in London', 'Keir Starmer’s make-or-break conference week', 'The energy crisis no one saw coming', 'Germany decides: who will follow Angela Merkel?', 'Going nuclear: the secret submarine deal to challenge China ', 'Finally! Get ready for a new season of culture', 'The murder of Fikile: the woman who took on a coal mine', 'The problem with OnlyFans’ mainstream dream', 'Who’s paying for the government’s plan to fix social care?', 'Is Brexit the reason McDonald’s is running out of milkshakes?', 'Ecstasy, LSD and magic mushrooms: are these drugs the future of therapy?', 'A conversation about Islamophobia in the UK since 9/11', 'Inside Al-Qaida: a recruit-turned-spy, a journalist and the road to 9/11', 'The children of 9/11', 'Burnout in the US battle against wildfires', 'One hour to escape: the race to get out of a Gaza tower before an Israeli airstrike', 'One man’s epic electric test drive – from Land’s End to John o’Groats', 'The big coronavirus questions as a new school term begins', 'The British citizens left behind in Kabul', 'The knock: the families torn apart by an arrest over child abuse images', 'Revisited: how meme stars of the early internet struck it rich with NFTs']\n",
      "\n",
      "\n",
      "--> We are now at the headline: <a aria-hidden=\"true\" class=\"u-faux-block-link__overlay js-headline-text\" data-link-name=\"article\" href=\"https://www.theguardian.com/news/audio/2021/aug/27/revisited-why-is-sex-and-the-city-coming-back-to-our-screens\" tabindex=\"-1\">Revisited: Why is Sex and the City coming back to our screens?</a>\n",
      "--> Without the HTML around it looks like this: Revisited: Why is Sex and the City coming back to our screens?\n",
      "--> This is now the content of data: ['Newcastle fans think they’ve got their club back. But at what cost?', 'Has England gone back to the office?', 'What went wrong with the UK’s handling of the Covid pandemic?', 'Dubai’s ruler and the Pegasus phone hacking exposed in a UK court', 'The countdown to Cop26: can world leaders save the planet?', 'The whistleblower who plunged Facebook into crisis', 'Can women trust the police?', 'Why everything you’ve heard about panic buying might be wrong', 'The Pandora papers: who’s giving money to the Conservatives?', 'Inside the Pandora papers – financial secrets of the rich and powerful', 'Boris Johnson wants a conference reset. Will reality ruin it?', 'The conviction of R Kelly', 'Can China help end the world’s addiction to coal?', 'Bond is back. Where’s he going next?', 'The Pegasus project: hacked in London', 'Keir Starmer’s make-or-break conference week', 'The energy crisis no one saw coming', 'Germany decides: who will follow Angela Merkel?', 'Going nuclear: the secret submarine deal to challenge China ', 'Finally! Get ready for a new season of culture', 'The murder of Fikile: the woman who took on a coal mine', 'The problem with OnlyFans’ mainstream dream', 'Who’s paying for the government’s plan to fix social care?', 'Is Brexit the reason McDonald’s is running out of milkshakes?', 'Ecstasy, LSD and magic mushrooms: are these drugs the future of therapy?', 'A conversation about Islamophobia in the UK since 9/11', 'Inside Al-Qaida: a recruit-turned-spy, a journalist and the road to 9/11', 'The children of 9/11', 'Burnout in the US battle against wildfires', 'One hour to escape: the race to get out of a Gaza tower before an Israeli airstrike', 'One man’s epic electric test drive – from Land’s End to John o’Groats', 'The big coronavirus questions as a new school term begins', 'The British citizens left behind in Kabul', 'The knock: the families torn apart by an arrest over child abuse images', 'Revisited: how meme stars of the early internet struck it rich with NFTs', 'Revisited: Why is Sex and the City coming back to our screens?']\n",
      "\n",
      "\n",
      "--> We are now at the headline: <a aria-hidden=\"true\" class=\"u-faux-block-link__overlay js-headline-text\" data-link-name=\"article\" href=\"https://www.theguardian.com/news/audio/2021/aug/26/revisited-the-danger-and-beauty-of-ultrarunning\" tabindex=\"-1\">Revisited: the danger – and beauty – of ultrarunning</a>\n",
      "--> Without the HTML around it looks like this: Revisited: the danger – and beauty – of ultrarunning\n",
      "--> This is now the content of data: ['Newcastle fans think they’ve got their club back. But at what cost?', 'Has England gone back to the office?', 'What went wrong with the UK’s handling of the Covid pandemic?', 'Dubai’s ruler and the Pegasus phone hacking exposed in a UK court', 'The countdown to Cop26: can world leaders save the planet?', 'The whistleblower who plunged Facebook into crisis', 'Can women trust the police?', 'Why everything you’ve heard about panic buying might be wrong', 'The Pandora papers: who’s giving money to the Conservatives?', 'Inside the Pandora papers – financial secrets of the rich and powerful', 'Boris Johnson wants a conference reset. Will reality ruin it?', 'The conviction of R Kelly', 'Can China help end the world’s addiction to coal?', 'Bond is back. Where’s he going next?', 'The Pegasus project: hacked in London', 'Keir Starmer’s make-or-break conference week', 'The energy crisis no one saw coming', 'Germany decides: who will follow Angela Merkel?', 'Going nuclear: the secret submarine deal to challenge China ', 'Finally! Get ready for a new season of culture', 'The murder of Fikile: the woman who took on a coal mine', 'The problem with OnlyFans’ mainstream dream', 'Who’s paying for the government’s plan to fix social care?', 'Is Brexit the reason McDonald’s is running out of milkshakes?', 'Ecstasy, LSD and magic mushrooms: are these drugs the future of therapy?', 'A conversation about Islamophobia in the UK since 9/11', 'Inside Al-Qaida: a recruit-turned-spy, a journalist and the road to 9/11', 'The children of 9/11', 'Burnout in the US battle against wildfires', 'One hour to escape: the race to get out of a Gaza tower before an Israeli airstrike', 'One man’s epic electric test drive – from Land’s End to John o’Groats', 'The big coronavirus questions as a new school term begins', 'The British citizens left behind in Kabul', 'The knock: the families torn apart by an arrest over child abuse images', 'Revisited: how meme stars of the early internet struck it rich with NFTs', 'Revisited: Why is Sex and the City coming back to our screens?', 'Revisited: the danger – and beauty – of ultrarunning']\n",
      "\n",
      "\n",
      "--> We are now at the headline: <a aria-hidden=\"true\" class=\"u-faux-block-link__overlay js-headline-text\" data-link-name=\"article\" href=\"https://www.theguardian.com/news/audio/2021/aug/25/revisited-inside-the-ndrangheta-trial-podcast\" tabindex=\"-1\">Revisited: Inside the ’Ndrangheta trial</a>\n",
      "--> Without the HTML around it looks like this: Revisited: Inside the ’Ndrangheta trial\n",
      "--> This is now the content of data: ['Newcastle fans think they’ve got their club back. But at what cost?', 'Has England gone back to the office?', 'What went wrong with the UK’s handling of the Covid pandemic?', 'Dubai’s ruler and the Pegasus phone hacking exposed in a UK court', 'The countdown to Cop26: can world leaders save the planet?', 'The whistleblower who plunged Facebook into crisis', 'Can women trust the police?', 'Why everything you’ve heard about panic buying might be wrong', 'The Pandora papers: who’s giving money to the Conservatives?', 'Inside the Pandora papers – financial secrets of the rich and powerful', 'Boris Johnson wants a conference reset. Will reality ruin it?', 'The conviction of R Kelly', 'Can China help end the world’s addiction to coal?', 'Bond is back. Where’s he going next?', 'The Pegasus project: hacked in London', 'Keir Starmer’s make-or-break conference week', 'The energy crisis no one saw coming', 'Germany decides: who will follow Angela Merkel?', 'Going nuclear: the secret submarine deal to challenge China ', 'Finally! Get ready for a new season of culture', 'The murder of Fikile: the woman who took on a coal mine', 'The problem with OnlyFans’ mainstream dream', 'Who’s paying for the government’s plan to fix social care?', 'Is Brexit the reason McDonald’s is running out of milkshakes?', 'Ecstasy, LSD and magic mushrooms: are these drugs the future of therapy?', 'A conversation about Islamophobia in the UK since 9/11', 'Inside Al-Qaida: a recruit-turned-spy, a journalist and the road to 9/11', 'The children of 9/11', 'Burnout in the US battle against wildfires', 'One hour to escape: the race to get out of a Gaza tower before an Israeli airstrike', 'One man’s epic electric test drive – from Land’s End to John o’Groats', 'The big coronavirus questions as a new school term begins', 'The British citizens left behind in Kabul', 'The knock: the families torn apart by an arrest over child abuse images', 'Revisited: how meme stars of the early internet struck it rich with NFTs', 'Revisited: Why is Sex and the City coming back to our screens?', 'Revisited: the danger – and beauty – of ultrarunning', 'Revisited: Inside the ’Ndrangheta trial']\n",
      "\n",
      "\n",
      "--> We are now at the headline: <a aria-hidden=\"true\" class=\"u-faux-block-link__overlay js-headline-text\" data-link-name=\"article\" href=\"https://www.theguardian.com/news/audio/2021/aug/24/revisited-the-pandemic-scam-artists-making-millions-during-lockdown\" tabindex=\"-1\">Revisited: The pandemic scam artists making millions during lockdown</a>\n",
      "--> Without the HTML around it looks like this: Revisited: The pandemic scam artists making millions during lockdown\n",
      "--> This is now the content of data: ['Newcastle fans think they’ve got their club back. But at what cost?', 'Has England gone back to the office?', 'What went wrong with the UK’s handling of the Covid pandemic?', 'Dubai’s ruler and the Pegasus phone hacking exposed in a UK court', 'The countdown to Cop26: can world leaders save the planet?', 'The whistleblower who plunged Facebook into crisis', 'Can women trust the police?', 'Why everything you’ve heard about panic buying might be wrong', 'The Pandora papers: who’s giving money to the Conservatives?', 'Inside the Pandora papers – financial secrets of the rich and powerful', 'Boris Johnson wants a conference reset. Will reality ruin it?', 'The conviction of R Kelly', 'Can China help end the world’s addiction to coal?', 'Bond is back. Where’s he going next?', 'The Pegasus project: hacked in London', 'Keir Starmer’s make-or-break conference week', 'The energy crisis no one saw coming', 'Germany decides: who will follow Angela Merkel?', 'Going nuclear: the secret submarine deal to challenge China ', 'Finally! Get ready for a new season of culture', 'The murder of Fikile: the woman who took on a coal mine', 'The problem with OnlyFans’ mainstream dream', 'Who’s paying for the government’s plan to fix social care?', 'Is Brexit the reason McDonald’s is running out of milkshakes?', 'Ecstasy, LSD and magic mushrooms: are these drugs the future of therapy?', 'A conversation about Islamophobia in the UK since 9/11', 'Inside Al-Qaida: a recruit-turned-spy, a journalist and the road to 9/11', 'The children of 9/11', 'Burnout in the US battle against wildfires', 'One hour to escape: the race to get out of a Gaza tower before an Israeli airstrike', 'One man’s epic electric test drive – from Land’s End to John o’Groats', 'The big coronavirus questions as a new school term begins', 'The British citizens left behind in Kabul', 'The knock: the families torn apart by an arrest over child abuse images', 'Revisited: how meme stars of the early internet struck it rich with NFTs', 'Revisited: Why is Sex and the City coming back to our screens?', 'Revisited: the danger – and beauty – of ultrarunning', 'Revisited: Inside the ’Ndrangheta trial', 'Revisited: The pandemic scam artists making millions during lockdown']\n",
      "\n",
      "\n",
      "--> We are now at the headline: <a aria-hidden=\"true\" class=\"u-faux-block-link__overlay js-headline-text\" data-link-name=\"article\" href=\"https://www.theguardian.com/news/audio/2021/aug/23/revisited-why-has-the-brazilian-butt-lift-become-so-popular-podcast\" tabindex=\"-1\">Revisited: why has the Brazilian butt lift become so popular?</a>\n",
      "--> Without the HTML around it looks like this: Revisited: why has the Brazilian butt lift become so popular?\n",
      "--> This is now the content of data: ['Newcastle fans think they’ve got their club back. But at what cost?', 'Has England gone back to the office?', 'What went wrong with the UK’s handling of the Covid pandemic?', 'Dubai’s ruler and the Pegasus phone hacking exposed in a UK court', 'The countdown to Cop26: can world leaders save the planet?', 'The whistleblower who plunged Facebook into crisis', 'Can women trust the police?', 'Why everything you’ve heard about panic buying might be wrong', 'The Pandora papers: who’s giving money to the Conservatives?', 'Inside the Pandora papers – financial secrets of the rich and powerful', 'Boris Johnson wants a conference reset. Will reality ruin it?', 'The conviction of R Kelly', 'Can China help end the world’s addiction to coal?', 'Bond is back. Where’s he going next?', 'The Pegasus project: hacked in London', 'Keir Starmer’s make-or-break conference week', 'The energy crisis no one saw coming', 'Germany decides: who will follow Angela Merkel?', 'Going nuclear: the secret submarine deal to challenge China ', 'Finally! Get ready for a new season of culture', 'The murder of Fikile: the woman who took on a coal mine', 'The problem with OnlyFans’ mainstream dream', 'Who’s paying for the government’s plan to fix social care?', 'Is Brexit the reason McDonald’s is running out of milkshakes?', 'Ecstasy, LSD and magic mushrooms: are these drugs the future of therapy?', 'A conversation about Islamophobia in the UK since 9/11', 'Inside Al-Qaida: a recruit-turned-spy, a journalist and the road to 9/11', 'The children of 9/11', 'Burnout in the US battle against wildfires', 'One hour to escape: the race to get out of a Gaza tower before an Israeli airstrike', 'One man’s epic electric test drive – from Land’s End to John o’Groats', 'The big coronavirus questions as a new school term begins', 'The British citizens left behind in Kabul', 'The knock: the families torn apart by an arrest over child abuse images', 'Revisited: how meme stars of the early internet struck it rich with NFTs', 'Revisited: Why is Sex and the City coming back to our screens?', 'Revisited: the danger – and beauty – of ultrarunning', 'Revisited: Inside the ’Ndrangheta trial', 'Revisited: The pandemic scam artists making millions during lockdown', 'Revisited: why has the Brazilian butt lift become so popular?']\n",
      "\n",
      "\n",
      "--> We are on page number: 3\n",
      "--> The url we are scraping now is: https://www.theguardian.com/news/series/todayinfocus?page=3\n",
      "--> This is what the request looks like: <Response [200]>. If you got a \"Response 200\" you are good!\n",
      "--> The first 763 characters of the website content: \n",
      "<!DOCTYPE html>\n",
      "<html id=\"js-context\" class=\"js-off is-not-modern id--signed-out\" lang=\"en\" data-page-path=\"/news/series/todayinfocus\">\n",
      "\n",
      "\n",
      "    <head>\n",
      "\n",
      "\n",
      "    \n",
      "<!--\n",
      "     __        __                      _     _      _\n",
      "     \\ \\      / /__    __ _ _ __ ___  | |__ (_)_ __(_)_ __   __ _\n",
      "      \\ \\ /\\ / / _ \\  / _` | '__/ _ \\ | '_ \\| | '__| | '_ \\ / _` |\n",
      "       \\ V  V /  __/ | (_| | | |  __/ | | | | | |  | | | | | (_| |\n",
      "        \\_/\\_/ \\___|  \\__,_|_|  \\___| |_| |_|_|_|  |_|_| |_|\\__, |\n",
      "                                                            |___/\n",
      "    Ever thought about joining us?\n",
      "    https://workforus.theguardian.com/careers/product-engineering/\n",
      "     --->\n",
      "\n",
      "\n",
      "    \n",
      "<title>Today in Focus | Page 3 of 38 | News | The Guardian</title>\n",
      "\n",
      "\n",
      "    \n",
      "\n",
      "<meta charset=\"utf-8\n",
      "\n",
      "\n",
      "--> We are now at the headline: <a aria-hidden=\"true\" class=\"u-faux-block-link__overlay js-headline-text\" data-link-name=\"article\" href=\"https://www.theguardian.com/news/audio/2021/aug/20/a-paralympic-athletes-long-journey-to-tokyo-podcast\" tabindex=\"-1\">A Paralympian’s long journey to Tokyo</a>\n",
      "--> Without the HTML around it looks like this: A Paralympian’s long journey to Tokyo\n",
      "--> This is now the content of data: ['Newcastle fans think they’ve got their club back. But at what cost?', 'Has England gone back to the office?', 'What went wrong with the UK’s handling of the Covid pandemic?', 'Dubai’s ruler and the Pegasus phone hacking exposed in a UK court', 'The countdown to Cop26: can world leaders save the planet?', 'The whistleblower who plunged Facebook into crisis', 'Can women trust the police?', 'Why everything you’ve heard about panic buying might be wrong', 'The Pandora papers: who’s giving money to the Conservatives?', 'Inside the Pandora papers – financial secrets of the rich and powerful', 'Boris Johnson wants a conference reset. Will reality ruin it?', 'The conviction of R Kelly', 'Can China help end the world’s addiction to coal?', 'Bond is back. Where’s he going next?', 'The Pegasus project: hacked in London', 'Keir Starmer’s make-or-break conference week', 'The energy crisis no one saw coming', 'Germany decides: who will follow Angela Merkel?', 'Going nuclear: the secret submarine deal to challenge China ', 'Finally! Get ready for a new season of culture', 'The murder of Fikile: the woman who took on a coal mine', 'The problem with OnlyFans’ mainstream dream', 'Who’s paying for the government’s plan to fix social care?', 'Is Brexit the reason McDonald’s is running out of milkshakes?', 'Ecstasy, LSD and magic mushrooms: are these drugs the future of therapy?', 'A conversation about Islamophobia in the UK since 9/11', 'Inside Al-Qaida: a recruit-turned-spy, a journalist and the road to 9/11', 'The children of 9/11', 'Burnout in the US battle against wildfires', 'One hour to escape: the race to get out of a Gaza tower before an Israeli airstrike', 'One man’s epic electric test drive – from Land’s End to John o’Groats', 'The big coronavirus questions as a new school term begins', 'The British citizens left behind in Kabul', 'The knock: the families torn apart by an arrest over child abuse images', 'Revisited: how meme stars of the early internet struck it rich with NFTs', 'Revisited: Why is Sex and the City coming back to our screens?', 'Revisited: the danger – and beauty – of ultrarunning', 'Revisited: Inside the ’Ndrangheta trial', 'Revisited: The pandemic scam artists making millions during lockdown', 'Revisited: why has the Brazilian butt lift become so popular?', 'A Paralympian’s long journey to Tokyo']\n",
      "\n",
      "\n",
      "--> We are now at the headline: <a aria-hidden=\"true\" class=\"u-faux-block-link__overlay js-headline-text\" data-link-name=\"article\" href=\"https://www.theguardian.com/news/audio/2021/aug/19/plymouth-attack-misogynist-incel-culture-podcast\" tabindex=\"-1\">The Plymouth attack and misogynist ‘incel’ culture</a>\n",
      "--> Without the HTML around it looks like this: The Plymouth attack and misogynist ‘incel’ culture\n",
      "--> This is now the content of data: ['Newcastle fans think they’ve got their club back. But at what cost?', 'Has England gone back to the office?', 'What went wrong with the UK’s handling of the Covid pandemic?', 'Dubai’s ruler and the Pegasus phone hacking exposed in a UK court', 'The countdown to Cop26: can world leaders save the planet?', 'The whistleblower who plunged Facebook into crisis', 'Can women trust the police?', 'Why everything you’ve heard about panic buying might be wrong', 'The Pandora papers: who’s giving money to the Conservatives?', 'Inside the Pandora papers – financial secrets of the rich and powerful', 'Boris Johnson wants a conference reset. Will reality ruin it?', 'The conviction of R Kelly', 'Can China help end the world’s addiction to coal?', 'Bond is back. Where’s he going next?', 'The Pegasus project: hacked in London', 'Keir Starmer’s make-or-break conference week', 'The energy crisis no one saw coming', 'Germany decides: who will follow Angela Merkel?', 'Going nuclear: the secret submarine deal to challenge China ', 'Finally! Get ready for a new season of culture', 'The murder of Fikile: the woman who took on a coal mine', 'The problem with OnlyFans’ mainstream dream', 'Who’s paying for the government’s plan to fix social care?', 'Is Brexit the reason McDonald’s is running out of milkshakes?', 'Ecstasy, LSD and magic mushrooms: are these drugs the future of therapy?', 'A conversation about Islamophobia in the UK since 9/11', 'Inside Al-Qaida: a recruit-turned-spy, a journalist and the road to 9/11', 'The children of 9/11', 'Burnout in the US battle against wildfires', 'One hour to escape: the race to get out of a Gaza tower before an Israeli airstrike', 'One man’s epic electric test drive – from Land’s End to John o’Groats', 'The big coronavirus questions as a new school term begins', 'The British citizens left behind in Kabul', 'The knock: the families torn apart by an arrest over child abuse images', 'Revisited: how meme stars of the early internet struck it rich with NFTs', 'Revisited: Why is Sex and the City coming back to our screens?', 'Revisited: the danger – and beauty – of ultrarunning', 'Revisited: Inside the ’Ndrangheta trial', 'Revisited: The pandemic scam artists making millions during lockdown', 'Revisited: why has the Brazilian butt lift become so popular?', 'A Paralympian’s long journey to Tokyo', 'The Plymouth attack and misogynist ‘incel’ culture']\n",
      "\n",
      "\n",
      "--> We are now at the headline: <a aria-hidden=\"true\" class=\"u-faux-block-link__overlay js-headline-text\" data-link-name=\"article\" href=\"https://www.theguardian.com/news/audio/2021/aug/18/how-the-pandemic-exposed-the-crisis-in-childrens-social-care-podcast\" tabindex=\"-1\">How the pandemic exposed the crisis in children’s social care</a>\n",
      "--> Without the HTML around it looks like this: How the pandemic exposed the crisis in children’s social care\n",
      "--> This is now the content of data: ['Newcastle fans think they’ve got their club back. But at what cost?', 'Has England gone back to the office?', 'What went wrong with the UK’s handling of the Covid pandemic?', 'Dubai’s ruler and the Pegasus phone hacking exposed in a UK court', 'The countdown to Cop26: can world leaders save the planet?', 'The whistleblower who plunged Facebook into crisis', 'Can women trust the police?', 'Why everything you’ve heard about panic buying might be wrong', 'The Pandora papers: who’s giving money to the Conservatives?', 'Inside the Pandora papers – financial secrets of the rich and powerful', 'Boris Johnson wants a conference reset. Will reality ruin it?', 'The conviction of R Kelly', 'Can China help end the world’s addiction to coal?', 'Bond is back. Where’s he going next?', 'The Pegasus project: hacked in London', 'Keir Starmer’s make-or-break conference week', 'The energy crisis no one saw coming', 'Germany decides: who will follow Angela Merkel?', 'Going nuclear: the secret submarine deal to challenge China ', 'Finally! Get ready for a new season of culture', 'The murder of Fikile: the woman who took on a coal mine', 'The problem with OnlyFans’ mainstream dream', 'Who’s paying for the government’s plan to fix social care?', 'Is Brexit the reason McDonald’s is running out of milkshakes?', 'Ecstasy, LSD and magic mushrooms: are these drugs the future of therapy?', 'A conversation about Islamophobia in the UK since 9/11', 'Inside Al-Qaida: a recruit-turned-spy, a journalist and the road to 9/11', 'The children of 9/11', 'Burnout in the US battle against wildfires', 'One hour to escape: the race to get out of a Gaza tower before an Israeli airstrike', 'One man’s epic electric test drive – from Land’s End to John o’Groats', 'The big coronavirus questions as a new school term begins', 'The British citizens left behind in Kabul', 'The knock: the families torn apart by an arrest over child abuse images', 'Revisited: how meme stars of the early internet struck it rich with NFTs', 'Revisited: Why is Sex and the City coming back to our screens?', 'Revisited: the danger – and beauty – of ultrarunning', 'Revisited: Inside the ’Ndrangheta trial', 'Revisited: The pandemic scam artists making millions during lockdown', 'Revisited: why has the Brazilian butt lift become so popular?', 'A Paralympian’s long journey to Tokyo', 'The Plymouth attack and misogynist ‘incel’ culture', 'How the pandemic exposed the crisis in children’s social care']\n",
      "\n",
      "\n",
      "--> We are now at the headline: <a aria-hidden=\"true\" class=\"u-faux-block-link__overlay js-headline-text\" data-link-name=\"article\" href=\"https://www.theguardian.com/news/audio/2021/aug/17/how-the-taliban-retook-afghanistan-podcast\" tabindex=\"-1\">How the Taliban took Afghanistan</a>\n",
      "--> Without the HTML around it looks like this: How the Taliban took Afghanistan\n",
      "--> This is now the content of data: ['Newcastle fans think they’ve got their club back. But at what cost?', 'Has England gone back to the office?', 'What went wrong with the UK’s handling of the Covid pandemic?', 'Dubai’s ruler and the Pegasus phone hacking exposed in a UK court', 'The countdown to Cop26: can world leaders save the planet?', 'The whistleblower who plunged Facebook into crisis', 'Can women trust the police?', 'Why everything you’ve heard about panic buying might be wrong', 'The Pandora papers: who’s giving money to the Conservatives?', 'Inside the Pandora papers – financial secrets of the rich and powerful', 'Boris Johnson wants a conference reset. Will reality ruin it?', 'The conviction of R Kelly', 'Can China help end the world’s addiction to coal?', 'Bond is back. Where’s he going next?', 'The Pegasus project: hacked in London', 'Keir Starmer’s make-or-break conference week', 'The energy crisis no one saw coming', 'Germany decides: who will follow Angela Merkel?', 'Going nuclear: the secret submarine deal to challenge China ', 'Finally! Get ready for a new season of culture', 'The murder of Fikile: the woman who took on a coal mine', 'The problem with OnlyFans’ mainstream dream', 'Who’s paying for the government’s plan to fix social care?', 'Is Brexit the reason McDonald’s is running out of milkshakes?', 'Ecstasy, LSD and magic mushrooms: are these drugs the future of therapy?', 'A conversation about Islamophobia in the UK since 9/11', 'Inside Al-Qaida: a recruit-turned-spy, a journalist and the road to 9/11', 'The children of 9/11', 'Burnout in the US battle against wildfires', 'One hour to escape: the race to get out of a Gaza tower before an Israeli airstrike', 'One man’s epic electric test drive – from Land’s End to John o’Groats', 'The big coronavirus questions as a new school term begins', 'The British citizens left behind in Kabul', 'The knock: the families torn apart by an arrest over child abuse images', 'Revisited: how meme stars of the early internet struck it rich with NFTs', 'Revisited: Why is Sex and the City coming back to our screens?', 'Revisited: the danger – and beauty – of ultrarunning', 'Revisited: Inside the ’Ndrangheta trial', 'Revisited: The pandemic scam artists making millions during lockdown', 'Revisited: why has the Brazilian butt lift become so popular?', 'A Paralympian’s long journey to Tokyo', 'The Plymouth attack and misogynist ‘incel’ culture', 'How the pandemic exposed the crisis in children’s social care', 'How the Taliban took Afghanistan']\n",
      "\n",
      "\n",
      "--> We are now at the headline: <a aria-hidden=\"true\" class=\"u-faux-block-link__overlay js-headline-text\" data-link-name=\"article\" href=\"https://www.theguardian.com/news/audio/2021/aug/16/after-icu-a-covid-patient-meets-one-of-the-doctors-who-saved-his-life-podcast\" tabindex=\"-1\">After ICU: a Covid patient meets one of the doctors who saved his life</a>\n",
      "--> Without the HTML around it looks like this: After ICU: a Covid patient meets one of the doctors who saved his life\n",
      "--> This is now the content of data: ['Newcastle fans think they’ve got their club back. But at what cost?', 'Has England gone back to the office?', 'What went wrong with the UK’s handling of the Covid pandemic?', 'Dubai’s ruler and the Pegasus phone hacking exposed in a UK court', 'The countdown to Cop26: can world leaders save the planet?', 'The whistleblower who plunged Facebook into crisis', 'Can women trust the police?', 'Why everything you’ve heard about panic buying might be wrong', 'The Pandora papers: who’s giving money to the Conservatives?', 'Inside the Pandora papers – financial secrets of the rich and powerful', 'Boris Johnson wants a conference reset. Will reality ruin it?', 'The conviction of R Kelly', 'Can China help end the world’s addiction to coal?', 'Bond is back. Where’s he going next?', 'The Pegasus project: hacked in London', 'Keir Starmer’s make-or-break conference week', 'The energy crisis no one saw coming', 'Germany decides: who will follow Angela Merkel?', 'Going nuclear: the secret submarine deal to challenge China ', 'Finally! Get ready for a new season of culture', 'The murder of Fikile: the woman who took on a coal mine', 'The problem with OnlyFans’ mainstream dream', 'Who’s paying for the government’s plan to fix social care?', 'Is Brexit the reason McDonald’s is running out of milkshakes?', 'Ecstasy, LSD and magic mushrooms: are these drugs the future of therapy?', 'A conversation about Islamophobia in the UK since 9/11', 'Inside Al-Qaida: a recruit-turned-spy, a journalist and the road to 9/11', 'The children of 9/11', 'Burnout in the US battle against wildfires', 'One hour to escape: the race to get out of a Gaza tower before an Israeli airstrike', 'One man’s epic electric test drive – from Land’s End to John o’Groats', 'The big coronavirus questions as a new school term begins', 'The British citizens left behind in Kabul', 'The knock: the families torn apart by an arrest over child abuse images', 'Revisited: how meme stars of the early internet struck it rich with NFTs', 'Revisited: Why is Sex and the City coming back to our screens?', 'Revisited: the danger – and beauty – of ultrarunning', 'Revisited: Inside the ’Ndrangheta trial', 'Revisited: The pandemic scam artists making millions during lockdown', 'Revisited: why has the Brazilian butt lift become so popular?', 'A Paralympian’s long journey to Tokyo', 'The Plymouth attack and misogynist ‘incel’ culture', 'How the pandemic exposed the crisis in children’s social care', 'How the Taliban took Afghanistan', 'After ICU: a Covid patient meets one of the doctors who saved his life']\n",
      "\n",
      "\n",
      "--> We are now at the headline: <a aria-hidden=\"true\" class=\"u-faux-block-link__overlay js-headline-text\" data-link-name=\"article\" href=\"https://www.theguardian.com/news/audio/2021/aug/13/the-fall-of-andrew-cuomo-podcast\" tabindex=\"-1\">The fall of Andrew Cuomo</a>\n",
      "--> Without the HTML around it looks like this: The fall of Andrew Cuomo\n",
      "--> This is now the content of data: ['Newcastle fans think they’ve got their club back. But at what cost?', 'Has England gone back to the office?', 'What went wrong with the UK’s handling of the Covid pandemic?', 'Dubai’s ruler and the Pegasus phone hacking exposed in a UK court', 'The countdown to Cop26: can world leaders save the planet?', 'The whistleblower who plunged Facebook into crisis', 'Can women trust the police?', 'Why everything you’ve heard about panic buying might be wrong', 'The Pandora papers: who’s giving money to the Conservatives?', 'Inside the Pandora papers – financial secrets of the rich and powerful', 'Boris Johnson wants a conference reset. Will reality ruin it?', 'The conviction of R Kelly', 'Can China help end the world’s addiction to coal?', 'Bond is back. Where’s he going next?', 'The Pegasus project: hacked in London', 'Keir Starmer’s make-or-break conference week', 'The energy crisis no one saw coming', 'Germany decides: who will follow Angela Merkel?', 'Going nuclear: the secret submarine deal to challenge China ', 'Finally! Get ready for a new season of culture', 'The murder of Fikile: the woman who took on a coal mine', 'The problem with OnlyFans’ mainstream dream', 'Who’s paying for the government’s plan to fix social care?', 'Is Brexit the reason McDonald’s is running out of milkshakes?', 'Ecstasy, LSD and magic mushrooms: are these drugs the future of therapy?', 'A conversation about Islamophobia in the UK since 9/11', 'Inside Al-Qaida: a recruit-turned-spy, a journalist and the road to 9/11', 'The children of 9/11', 'Burnout in the US battle against wildfires', 'One hour to escape: the race to get out of a Gaza tower before an Israeli airstrike', 'One man’s epic electric test drive – from Land’s End to John o’Groats', 'The big coronavirus questions as a new school term begins', 'The British citizens left behind in Kabul', 'The knock: the families torn apart by an arrest over child abuse images', 'Revisited: how meme stars of the early internet struck it rich with NFTs', 'Revisited: Why is Sex and the City coming back to our screens?', 'Revisited: the danger – and beauty – of ultrarunning', 'Revisited: Inside the ’Ndrangheta trial', 'Revisited: The pandemic scam artists making millions during lockdown', 'Revisited: why has the Brazilian butt lift become so popular?', 'A Paralympian’s long journey to Tokyo', 'The Plymouth attack and misogynist ‘incel’ culture', 'How the pandemic exposed the crisis in children’s social care', 'How the Taliban took Afghanistan', 'After ICU: a Covid patient meets one of the doctors who saved his life', 'The fall of Andrew Cuomo']\n",
      "\n",
      "\n",
      "--> We are now at the headline: <a aria-hidden=\"true\" class=\"u-faux-block-link__overlay js-headline-text\" data-link-name=\"article\" href=\"https://www.theguardian.com/news/audio/2021/aug/12/has-delta-variant-derailed-australia-zero-covid-strategy-podcast\" tabindex=\"-1\">Has the Delta variant derailed Australia’s zero-Covid strategy?</a>\n",
      "--> Without the HTML around it looks like this: Has the Delta variant derailed Australia’s zero-Covid strategy?\n",
      "--> This is now the content of data: ['Newcastle fans think they’ve got their club back. But at what cost?', 'Has England gone back to the office?', 'What went wrong with the UK’s handling of the Covid pandemic?', 'Dubai’s ruler and the Pegasus phone hacking exposed in a UK court', 'The countdown to Cop26: can world leaders save the planet?', 'The whistleblower who plunged Facebook into crisis', 'Can women trust the police?', 'Why everything you’ve heard about panic buying might be wrong', 'The Pandora papers: who’s giving money to the Conservatives?', 'Inside the Pandora papers – financial secrets of the rich and powerful', 'Boris Johnson wants a conference reset. Will reality ruin it?', 'The conviction of R Kelly', 'Can China help end the world’s addiction to coal?', 'Bond is back. Where’s he going next?', 'The Pegasus project: hacked in London', 'Keir Starmer’s make-or-break conference week', 'The energy crisis no one saw coming', 'Germany decides: who will follow Angela Merkel?', 'Going nuclear: the secret submarine deal to challenge China ', 'Finally! Get ready for a new season of culture', 'The murder of Fikile: the woman who took on a coal mine', 'The problem with OnlyFans’ mainstream dream', 'Who’s paying for the government’s plan to fix social care?', 'Is Brexit the reason McDonald’s is running out of milkshakes?', 'Ecstasy, LSD and magic mushrooms: are these drugs the future of therapy?', 'A conversation about Islamophobia in the UK since 9/11', 'Inside Al-Qaida: a recruit-turned-spy, a journalist and the road to 9/11', 'The children of 9/11', 'Burnout in the US battle against wildfires', 'One hour to escape: the race to get out of a Gaza tower before an Israeli airstrike', 'One man’s epic electric test drive – from Land’s End to John o’Groats', 'The big coronavirus questions as a new school term begins', 'The British citizens left behind in Kabul', 'The knock: the families torn apart by an arrest over child abuse images', 'Revisited: how meme stars of the early internet struck it rich with NFTs', 'Revisited: Why is Sex and the City coming back to our screens?', 'Revisited: the danger – and beauty – of ultrarunning', 'Revisited: Inside the ’Ndrangheta trial', 'Revisited: The pandemic scam artists making millions during lockdown', 'Revisited: why has the Brazilian butt lift become so popular?', 'A Paralympian’s long journey to Tokyo', 'The Plymouth attack and misogynist ‘incel’ culture', 'How the pandemic exposed the crisis in children’s social care', 'How the Taliban took Afghanistan', 'After ICU: a Covid patient meets one of the doctors who saved his life', 'The fall of Andrew Cuomo', 'Has the Delta variant derailed Australia’s zero-Covid strategy?']\n",
      "\n",
      "\n",
      "--> We are now at the headline: <a aria-hidden=\"true\" class=\"u-faux-block-link__overlay js-headline-text\" data-link-name=\"article\" href=\"https://www.theguardian.com/news/audio/2021/aug/11/scientists-issue-a-climate-code-red\" tabindex=\"-1\">Scientists issue a climate code red</a>\n",
      "--> Without the HTML around it looks like this: Scientists issue a climate code red\n",
      "--> This is now the content of data: ['Newcastle fans think they’ve got their club back. But at what cost?', 'Has England gone back to the office?', 'What went wrong with the UK’s handling of the Covid pandemic?', 'Dubai’s ruler and the Pegasus phone hacking exposed in a UK court', 'The countdown to Cop26: can world leaders save the planet?', 'The whistleblower who plunged Facebook into crisis', 'Can women trust the police?', 'Why everything you’ve heard about panic buying might be wrong', 'The Pandora papers: who’s giving money to the Conservatives?', 'Inside the Pandora papers – financial secrets of the rich and powerful', 'Boris Johnson wants a conference reset. Will reality ruin it?', 'The conviction of R Kelly', 'Can China help end the world’s addiction to coal?', 'Bond is back. Where’s he going next?', 'The Pegasus project: hacked in London', 'Keir Starmer’s make-or-break conference week', 'The energy crisis no one saw coming', 'Germany decides: who will follow Angela Merkel?', 'Going nuclear: the secret submarine deal to challenge China ', 'Finally! Get ready for a new season of culture', 'The murder of Fikile: the woman who took on a coal mine', 'The problem with OnlyFans’ mainstream dream', 'Who’s paying for the government’s plan to fix social care?', 'Is Brexit the reason McDonald’s is running out of milkshakes?', 'Ecstasy, LSD and magic mushrooms: are these drugs the future of therapy?', 'A conversation about Islamophobia in the UK since 9/11', 'Inside Al-Qaida: a recruit-turned-spy, a journalist and the road to 9/11', 'The children of 9/11', 'Burnout in the US battle against wildfires', 'One hour to escape: the race to get out of a Gaza tower before an Israeli airstrike', 'One man’s epic electric test drive – from Land’s End to John o’Groats', 'The big coronavirus questions as a new school term begins', 'The British citizens left behind in Kabul', 'The knock: the families torn apart by an arrest over child abuse images', 'Revisited: how meme stars of the early internet struck it rich with NFTs', 'Revisited: Why is Sex and the City coming back to our screens?', 'Revisited: the danger – and beauty – of ultrarunning', 'Revisited: Inside the ’Ndrangheta trial', 'Revisited: The pandemic scam artists making millions during lockdown', 'Revisited: why has the Brazilian butt lift become so popular?', 'A Paralympian’s long journey to Tokyo', 'The Plymouth attack and misogynist ‘incel’ culture', 'How the pandemic exposed the crisis in children’s social care', 'How the Taliban took Afghanistan', 'After ICU: a Covid patient meets one of the doctors who saved his life', 'The fall of Andrew Cuomo', 'Has the Delta variant derailed Australia’s zero-Covid strategy?', 'Scientists issue a climate code red']\n",
      "\n",
      "\n",
      "--> We are now at the headline: <a aria-hidden=\"true\" class=\"u-faux-block-link__overlay js-headline-text\" data-link-name=\"article\" href=\"https://www.theguardian.com/news/audio/2021/aug/10/israel-shadow-war-with-iran-podcast\" tabindex=\"-1\">Israel’s shadow war with Iran</a>\n",
      "--> Without the HTML around it looks like this: Israel’s shadow war with Iran\n",
      "--> This is now the content of data: ['Newcastle fans think they’ve got their club back. But at what cost?', 'Has England gone back to the office?', 'What went wrong with the UK’s handling of the Covid pandemic?', 'Dubai’s ruler and the Pegasus phone hacking exposed in a UK court', 'The countdown to Cop26: can world leaders save the planet?', 'The whistleblower who plunged Facebook into crisis', 'Can women trust the police?', 'Why everything you’ve heard about panic buying might be wrong', 'The Pandora papers: who’s giving money to the Conservatives?', 'Inside the Pandora papers – financial secrets of the rich and powerful', 'Boris Johnson wants a conference reset. Will reality ruin it?', 'The conviction of R Kelly', 'Can China help end the world’s addiction to coal?', 'Bond is back. Where’s he going next?', 'The Pegasus project: hacked in London', 'Keir Starmer’s make-or-break conference week', 'The energy crisis no one saw coming', 'Germany decides: who will follow Angela Merkel?', 'Going nuclear: the secret submarine deal to challenge China ', 'Finally! Get ready for a new season of culture', 'The murder of Fikile: the woman who took on a coal mine', 'The problem with OnlyFans’ mainstream dream', 'Who’s paying for the government’s plan to fix social care?', 'Is Brexit the reason McDonald’s is running out of milkshakes?', 'Ecstasy, LSD and magic mushrooms: are these drugs the future of therapy?', 'A conversation about Islamophobia in the UK since 9/11', 'Inside Al-Qaida: a recruit-turned-spy, a journalist and the road to 9/11', 'The children of 9/11', 'Burnout in the US battle against wildfires', 'One hour to escape: the race to get out of a Gaza tower before an Israeli airstrike', 'One man’s epic electric test drive – from Land’s End to John o’Groats', 'The big coronavirus questions as a new school term begins', 'The British citizens left behind in Kabul', 'The knock: the families torn apart by an arrest over child abuse images', 'Revisited: how meme stars of the early internet struck it rich with NFTs', 'Revisited: Why is Sex and the City coming back to our screens?', 'Revisited: the danger – and beauty – of ultrarunning', 'Revisited: Inside the ’Ndrangheta trial', 'Revisited: The pandemic scam artists making millions during lockdown', 'Revisited: why has the Brazilian butt lift become so popular?', 'A Paralympian’s long journey to Tokyo', 'The Plymouth attack and misogynist ‘incel’ culture', 'How the pandemic exposed the crisis in children’s social care', 'How the Taliban took Afghanistan', 'After ICU: a Covid patient meets one of the doctors who saved his life', 'The fall of Andrew Cuomo', 'Has the Delta variant derailed Australia’s zero-Covid strategy?', 'Scientists issue a climate code red', 'Israel’s shadow war with Iran']\n",
      "\n",
      "\n",
      "--> We are now at the headline: <a aria-hidden=\"true\" class=\"u-faux-block-link__overlay js-headline-text\" data-link-name=\"article\" href=\"https://www.theguardian.com/news/audio/2021/aug/09/in-search-of-some-answers-about-miscarriage-podcast\" tabindex=\"-1\">In search of answers about miscarriage</a>\n",
      "--> Without the HTML around it looks like this: In search of answers about miscarriage\n",
      "--> This is now the content of data: ['Newcastle fans think they’ve got their club back. But at what cost?', 'Has England gone back to the office?', 'What went wrong with the UK’s handling of the Covid pandemic?', 'Dubai’s ruler and the Pegasus phone hacking exposed in a UK court', 'The countdown to Cop26: can world leaders save the planet?', 'The whistleblower who plunged Facebook into crisis', 'Can women trust the police?', 'Why everything you’ve heard about panic buying might be wrong', 'The Pandora papers: who’s giving money to the Conservatives?', 'Inside the Pandora papers – financial secrets of the rich and powerful', 'Boris Johnson wants a conference reset. Will reality ruin it?', 'The conviction of R Kelly', 'Can China help end the world’s addiction to coal?', 'Bond is back. Where’s he going next?', 'The Pegasus project: hacked in London', 'Keir Starmer’s make-or-break conference week', 'The energy crisis no one saw coming', 'Germany decides: who will follow Angela Merkel?', 'Going nuclear: the secret submarine deal to challenge China ', 'Finally! Get ready for a new season of culture', 'The murder of Fikile: the woman who took on a coal mine', 'The problem with OnlyFans’ mainstream dream', 'Who’s paying for the government’s plan to fix social care?', 'Is Brexit the reason McDonald’s is running out of milkshakes?', 'Ecstasy, LSD and magic mushrooms: are these drugs the future of therapy?', 'A conversation about Islamophobia in the UK since 9/11', 'Inside Al-Qaida: a recruit-turned-spy, a journalist and the road to 9/11', 'The children of 9/11', 'Burnout in the US battle against wildfires', 'One hour to escape: the race to get out of a Gaza tower before an Israeli airstrike', 'One man’s epic electric test drive – from Land’s End to John o’Groats', 'The big coronavirus questions as a new school term begins', 'The British citizens left behind in Kabul', 'The knock: the families torn apart by an arrest over child abuse images', 'Revisited: how meme stars of the early internet struck it rich with NFTs', 'Revisited: Why is Sex and the City coming back to our screens?', 'Revisited: the danger – and beauty – of ultrarunning', 'Revisited: Inside the ’Ndrangheta trial', 'Revisited: The pandemic scam artists making millions during lockdown', 'Revisited: why has the Brazilian butt lift become so popular?', 'A Paralympian’s long journey to Tokyo', 'The Plymouth attack and misogynist ‘incel’ culture', 'How the pandemic exposed the crisis in children’s social care', 'How the Taliban took Afghanistan', 'After ICU: a Covid patient meets one of the doctors who saved his life', 'The fall of Andrew Cuomo', 'Has the Delta variant derailed Australia’s zero-Covid strategy?', 'Scientists issue a climate code red', 'Israel’s shadow war with Iran', 'In search of answers about miscarriage']\n",
      "\n",
      "\n",
      "--> We are now at the headline: <a aria-hidden=\"true\" class=\"u-faux-block-link__overlay js-headline-text\" data-link-name=\"article\" href=\"https://www.theguardian.com/news/audio/2021/aug/06/racism-policing-and-austerity-have-lessons-been-learned-since-englands-2011-riots-podcast\" tabindex=\"-1\">Racism, policing and austerity: have lessons been learned since England’s 2011 riots?</a>\n",
      "--> Without the HTML around it looks like this: Racism, policing and austerity: have lessons been learned since England’s 2011 riots?\n",
      "--> This is now the content of data: ['Newcastle fans think they’ve got their club back. But at what cost?', 'Has England gone back to the office?', 'What went wrong with the UK’s handling of the Covid pandemic?', 'Dubai’s ruler and the Pegasus phone hacking exposed in a UK court', 'The countdown to Cop26: can world leaders save the planet?', 'The whistleblower who plunged Facebook into crisis', 'Can women trust the police?', 'Why everything you’ve heard about panic buying might be wrong', 'The Pandora papers: who’s giving money to the Conservatives?', 'Inside the Pandora papers – financial secrets of the rich and powerful', 'Boris Johnson wants a conference reset. Will reality ruin it?', 'The conviction of R Kelly', 'Can China help end the world’s addiction to coal?', 'Bond is back. Where’s he going next?', 'The Pegasus project: hacked in London', 'Keir Starmer’s make-or-break conference week', 'The energy crisis no one saw coming', 'Germany decides: who will follow Angela Merkel?', 'Going nuclear: the secret submarine deal to challenge China ', 'Finally! Get ready for a new season of culture', 'The murder of Fikile: the woman who took on a coal mine', 'The problem with OnlyFans’ mainstream dream', 'Who’s paying for the government’s plan to fix social care?', 'Is Brexit the reason McDonald’s is running out of milkshakes?', 'Ecstasy, LSD and magic mushrooms: are these drugs the future of therapy?', 'A conversation about Islamophobia in the UK since 9/11', 'Inside Al-Qaida: a recruit-turned-spy, a journalist and the road to 9/11', 'The children of 9/11', 'Burnout in the US battle against wildfires', 'One hour to escape: the race to get out of a Gaza tower before an Israeli airstrike', 'One man’s epic electric test drive – from Land’s End to John o’Groats', 'The big coronavirus questions as a new school term begins', 'The British citizens left behind in Kabul', 'The knock: the families torn apart by an arrest over child abuse images', 'Revisited: how meme stars of the early internet struck it rich with NFTs', 'Revisited: Why is Sex and the City coming back to our screens?', 'Revisited: the danger – and beauty – of ultrarunning', 'Revisited: Inside the ’Ndrangheta trial', 'Revisited: The pandemic scam artists making millions during lockdown', 'Revisited: why has the Brazilian butt lift become so popular?', 'A Paralympian’s long journey to Tokyo', 'The Plymouth attack and misogynist ‘incel’ culture', 'How the pandemic exposed the crisis in children’s social care', 'How the Taliban took Afghanistan', 'After ICU: a Covid patient meets one of the doctors who saved his life', 'The fall of Andrew Cuomo', 'Has the Delta variant derailed Australia’s zero-Covid strategy?', 'Scientists issue a climate code red', 'Israel’s shadow war with Iran', 'In search of answers about miscarriage', 'Racism, policing and austerity: have lessons been learned since England’s 2011 riots?']\n",
      "\n",
      "\n",
      "--> We are now at the headline: <a aria-hidden=\"true\" class=\"u-faux-block-link__overlay js-headline-text\" data-link-name=\"article\" href=\"https://www.theguardian.com/news/audio/2021/aug/05/why-belarus-olympic-sprinter-krystsina-tsimanouskayaref-used-to-go-home-podcast\" tabindex=\"-1\">Why a Belarusian Olympic sprinter refused to fly home</a>\n",
      "--> Without the HTML around it looks like this: Why a Belarusian Olympic sprinter refused to fly home\n",
      "--> This is now the content of data: ['Newcastle fans think they’ve got their club back. But at what cost?', 'Has England gone back to the office?', 'What went wrong with the UK’s handling of the Covid pandemic?', 'Dubai’s ruler and the Pegasus phone hacking exposed in a UK court', 'The countdown to Cop26: can world leaders save the planet?', 'The whistleblower who plunged Facebook into crisis', 'Can women trust the police?', 'Why everything you’ve heard about panic buying might be wrong', 'The Pandora papers: who’s giving money to the Conservatives?', 'Inside the Pandora papers – financial secrets of the rich and powerful', 'Boris Johnson wants a conference reset. Will reality ruin it?', 'The conviction of R Kelly', 'Can China help end the world’s addiction to coal?', 'Bond is back. Where’s he going next?', 'The Pegasus project: hacked in London', 'Keir Starmer’s make-or-break conference week', 'The energy crisis no one saw coming', 'Germany decides: who will follow Angela Merkel?', 'Going nuclear: the secret submarine deal to challenge China ', 'Finally! Get ready for a new season of culture', 'The murder of Fikile: the woman who took on a coal mine', 'The problem with OnlyFans’ mainstream dream', 'Who’s paying for the government’s plan to fix social care?', 'Is Brexit the reason McDonald’s is running out of milkshakes?', 'Ecstasy, LSD and magic mushrooms: are these drugs the future of therapy?', 'A conversation about Islamophobia in the UK since 9/11', 'Inside Al-Qaida: a recruit-turned-spy, a journalist and the road to 9/11', 'The children of 9/11', 'Burnout in the US battle against wildfires', 'One hour to escape: the race to get out of a Gaza tower before an Israeli airstrike', 'One man’s epic electric test drive – from Land’s End to John o’Groats', 'The big coronavirus questions as a new school term begins', 'The British citizens left behind in Kabul', 'The knock: the families torn apart by an arrest over child abuse images', 'Revisited: how meme stars of the early internet struck it rich with NFTs', 'Revisited: Why is Sex and the City coming back to our screens?', 'Revisited: the danger – and beauty – of ultrarunning', 'Revisited: Inside the ’Ndrangheta trial', 'Revisited: The pandemic scam artists making millions during lockdown', 'Revisited: why has the Brazilian butt lift become so popular?', 'A Paralympian’s long journey to Tokyo', 'The Plymouth attack and misogynist ‘incel’ culture', 'How the pandemic exposed the crisis in children’s social care', 'How the Taliban took Afghanistan', 'After ICU: a Covid patient meets one of the doctors who saved his life', 'The fall of Andrew Cuomo', 'Has the Delta variant derailed Australia’s zero-Covid strategy?', 'Scientists issue a climate code red', 'Israel’s shadow war with Iran', 'In search of answers about miscarriage', 'Racism, policing and austerity: have lessons been learned since England’s 2011 riots?', 'Why a Belarusian Olympic sprinter refused to fly home']\n",
      "\n",
      "\n",
      "--> We are now at the headline: <a aria-hidden=\"true\" class=\"u-faux-block-link__overlay js-headline-text\" data-link-name=\"article\" href=\"https://www.theguardian.com/news/audio/2021/aug/04/how-simone-biles-changed-gymnastics-on-and-off-the-mat-podcast\" tabindex=\"-1\">How Simone Biles changed gymnastics – on and off the mat</a>\n",
      "--> Without the HTML around it looks like this: How Simone Biles changed gymnastics – on and off the mat\n",
      "--> This is now the content of data: ['Newcastle fans think they’ve got their club back. But at what cost?', 'Has England gone back to the office?', 'What went wrong with the UK’s handling of the Covid pandemic?', 'Dubai’s ruler and the Pegasus phone hacking exposed in a UK court', 'The countdown to Cop26: can world leaders save the planet?', 'The whistleblower who plunged Facebook into crisis', 'Can women trust the police?', 'Why everything you’ve heard about panic buying might be wrong', 'The Pandora papers: who’s giving money to the Conservatives?', 'Inside the Pandora papers – financial secrets of the rich and powerful', 'Boris Johnson wants a conference reset. Will reality ruin it?', 'The conviction of R Kelly', 'Can China help end the world’s addiction to coal?', 'Bond is back. Where’s he going next?', 'The Pegasus project: hacked in London', 'Keir Starmer’s make-or-break conference week', 'The energy crisis no one saw coming', 'Germany decides: who will follow Angela Merkel?', 'Going nuclear: the secret submarine deal to challenge China ', 'Finally! Get ready for a new season of culture', 'The murder of Fikile: the woman who took on a coal mine', 'The problem with OnlyFans’ mainstream dream', 'Who’s paying for the government’s plan to fix social care?', 'Is Brexit the reason McDonald’s is running out of milkshakes?', 'Ecstasy, LSD and magic mushrooms: are these drugs the future of therapy?', 'A conversation about Islamophobia in the UK since 9/11', 'Inside Al-Qaida: a recruit-turned-spy, a journalist and the road to 9/11', 'The children of 9/11', 'Burnout in the US battle against wildfires', 'One hour to escape: the race to get out of a Gaza tower before an Israeli airstrike', 'One man’s epic electric test drive – from Land’s End to John o’Groats', 'The big coronavirus questions as a new school term begins', 'The British citizens left behind in Kabul', 'The knock: the families torn apart by an arrest over child abuse images', 'Revisited: how meme stars of the early internet struck it rich with NFTs', 'Revisited: Why is Sex and the City coming back to our screens?', 'Revisited: the danger – and beauty – of ultrarunning', 'Revisited: Inside the ’Ndrangheta trial', 'Revisited: The pandemic scam artists making millions during lockdown', 'Revisited: why has the Brazilian butt lift become so popular?', 'A Paralympian’s long journey to Tokyo', 'The Plymouth attack and misogynist ‘incel’ culture', 'How the pandemic exposed the crisis in children’s social care', 'How the Taliban took Afghanistan', 'After ICU: a Covid patient meets one of the doctors who saved his life', 'The fall of Andrew Cuomo', 'Has the Delta variant derailed Australia’s zero-Covid strategy?', 'Scientists issue a climate code red', 'Israel’s shadow war with Iran', 'In search of answers about miscarriage', 'Racism, policing and austerity: have lessons been learned since England’s 2011 riots?', 'Why a Belarusian Olympic sprinter refused to fly home', 'How Simone Biles changed gymnastics – on and off the mat']\n",
      "\n",
      "\n",
      "--> We are now at the headline: <a aria-hidden=\"true\" class=\"u-faux-block-link__overlay js-headline-text\" data-link-name=\"article\" href=\"https://www.theguardian.com/news/audio/2021/aug/03/are-plans-change-official-secrets-act-threat-to-journalism-podcast\" tabindex=\"-1\">Are plans to change the Official Secrets Act a threat to journalism?</a>\n",
      "--> Without the HTML around it looks like this: Are plans to change the Official Secrets Act a threat to journalism?\n",
      "--> This is now the content of data: ['Newcastle fans think they’ve got their club back. But at what cost?', 'Has England gone back to the office?', 'What went wrong with the UK’s handling of the Covid pandemic?', 'Dubai’s ruler and the Pegasus phone hacking exposed in a UK court', 'The countdown to Cop26: can world leaders save the planet?', 'The whistleblower who plunged Facebook into crisis', 'Can women trust the police?', 'Why everything you’ve heard about panic buying might be wrong', 'The Pandora papers: who’s giving money to the Conservatives?', 'Inside the Pandora papers – financial secrets of the rich and powerful', 'Boris Johnson wants a conference reset. Will reality ruin it?', 'The conviction of R Kelly', 'Can China help end the world’s addiction to coal?', 'Bond is back. Where’s he going next?', 'The Pegasus project: hacked in London', 'Keir Starmer’s make-or-break conference week', 'The energy crisis no one saw coming', 'Germany decides: who will follow Angela Merkel?', 'Going nuclear: the secret submarine deal to challenge China ', 'Finally! Get ready for a new season of culture', 'The murder of Fikile: the woman who took on a coal mine', 'The problem with OnlyFans’ mainstream dream', 'Who’s paying for the government’s plan to fix social care?', 'Is Brexit the reason McDonald’s is running out of milkshakes?', 'Ecstasy, LSD and magic mushrooms: are these drugs the future of therapy?', 'A conversation about Islamophobia in the UK since 9/11', 'Inside Al-Qaida: a recruit-turned-spy, a journalist and the road to 9/11', 'The children of 9/11', 'Burnout in the US battle against wildfires', 'One hour to escape: the race to get out of a Gaza tower before an Israeli airstrike', 'One man’s epic electric test drive – from Land’s End to John o’Groats', 'The big coronavirus questions as a new school term begins', 'The British citizens left behind in Kabul', 'The knock: the families torn apart by an arrest over child abuse images', 'Revisited: how meme stars of the early internet struck it rich with NFTs', 'Revisited: Why is Sex and the City coming back to our screens?', 'Revisited: the danger – and beauty – of ultrarunning', 'Revisited: Inside the ’Ndrangheta trial', 'Revisited: The pandemic scam artists making millions during lockdown', 'Revisited: why has the Brazilian butt lift become so popular?', 'A Paralympian’s long journey to Tokyo', 'The Plymouth attack and misogynist ‘incel’ culture', 'How the pandemic exposed the crisis in children’s social care', 'How the Taliban took Afghanistan', 'After ICU: a Covid patient meets one of the doctors who saved his life', 'The fall of Andrew Cuomo', 'Has the Delta variant derailed Australia’s zero-Covid strategy?', 'Scientists issue a climate code red', 'Israel’s shadow war with Iran', 'In search of answers about miscarriage', 'Racism, policing and austerity: have lessons been learned since England’s 2011 riots?', 'Why a Belarusian Olympic sprinter refused to fly home', 'How Simone Biles changed gymnastics – on and off the mat', 'Are plans to change the Official Secrets Act a threat to journalism?']\n",
      "\n",
      "\n",
      "--> We are now at the headline: <a aria-hidden=\"true\" class=\"u-faux-block-link__overlay js-headline-text\" data-link-name=\"article\" href=\"https://www.theguardian.com/news/audio/2021/aug/02/why-did-unesco-drop-liverpool-from-its-heritage-list-podcast\" tabindex=\"-1\">Why did Unesco drop Liverpool from its heritage list?</a>\n",
      "--> Without the HTML around it looks like this: Why did Unesco drop Liverpool from its heritage list?\n",
      "--> This is now the content of data: ['Newcastle fans think they’ve got their club back. But at what cost?', 'Has England gone back to the office?', 'What went wrong with the UK’s handling of the Covid pandemic?', 'Dubai’s ruler and the Pegasus phone hacking exposed in a UK court', 'The countdown to Cop26: can world leaders save the planet?', 'The whistleblower who plunged Facebook into crisis', 'Can women trust the police?', 'Why everything you’ve heard about panic buying might be wrong', 'The Pandora papers: who’s giving money to the Conservatives?', 'Inside the Pandora papers – financial secrets of the rich and powerful', 'Boris Johnson wants a conference reset. Will reality ruin it?', 'The conviction of R Kelly', 'Can China help end the world’s addiction to coal?', 'Bond is back. Where’s he going next?', 'The Pegasus project: hacked in London', 'Keir Starmer’s make-or-break conference week', 'The energy crisis no one saw coming', 'Germany decides: who will follow Angela Merkel?', 'Going nuclear: the secret submarine deal to challenge China ', 'Finally! Get ready for a new season of culture', 'The murder of Fikile: the woman who took on a coal mine', 'The problem with OnlyFans’ mainstream dream', 'Who’s paying for the government’s plan to fix social care?', 'Is Brexit the reason McDonald’s is running out of milkshakes?', 'Ecstasy, LSD and magic mushrooms: are these drugs the future of therapy?', 'A conversation about Islamophobia in the UK since 9/11', 'Inside Al-Qaida: a recruit-turned-spy, a journalist and the road to 9/11', 'The children of 9/11', 'Burnout in the US battle against wildfires', 'One hour to escape: the race to get out of a Gaza tower before an Israeli airstrike', 'One man’s epic electric test drive – from Land’s End to John o’Groats', 'The big coronavirus questions as a new school term begins', 'The British citizens left behind in Kabul', 'The knock: the families torn apart by an arrest over child abuse images', 'Revisited: how meme stars of the early internet struck it rich with NFTs', 'Revisited: Why is Sex and the City coming back to our screens?', 'Revisited: the danger – and beauty – of ultrarunning', 'Revisited: Inside the ’Ndrangheta trial', 'Revisited: The pandemic scam artists making millions during lockdown', 'Revisited: why has the Brazilian butt lift become so popular?', 'A Paralympian’s long journey to Tokyo', 'The Plymouth attack and misogynist ‘incel’ culture', 'How the pandemic exposed the crisis in children’s social care', 'How the Taliban took Afghanistan', 'After ICU: a Covid patient meets one of the doctors who saved his life', 'The fall of Andrew Cuomo', 'Has the Delta variant derailed Australia’s zero-Covid strategy?', 'Scientists issue a climate code red', 'Israel’s shadow war with Iran', 'In search of answers about miscarriage', 'Racism, policing and austerity: have lessons been learned since England’s 2011 riots?', 'Why a Belarusian Olympic sprinter refused to fly home', 'How Simone Biles changed gymnastics – on and off the mat', 'Are plans to change the Official Secrets Act a threat to journalism?', 'Why did Unesco drop Liverpool from its heritage list?']\n",
      "\n",
      "\n",
      "--> We are now at the headline: <a aria-hidden=\"true\" class=\"u-faux-block-link__overlay js-headline-text\" data-link-name=\"article\" href=\"https://www.theguardian.com/news/audio/2021/jul/30/how-we-got-hooked-caffeine-podcast\" tabindex=\"-1\">How we all got hooked on caffeine</a>\n",
      "--> Without the HTML around it looks like this: How we all got hooked on caffeine\n",
      "--> This is now the content of data: ['Newcastle fans think they’ve got their club back. But at what cost?', 'Has England gone back to the office?', 'What went wrong with the UK’s handling of the Covid pandemic?', 'Dubai’s ruler and the Pegasus phone hacking exposed in a UK court', 'The countdown to Cop26: can world leaders save the planet?', 'The whistleblower who plunged Facebook into crisis', 'Can women trust the police?', 'Why everything you’ve heard about panic buying might be wrong', 'The Pandora papers: who’s giving money to the Conservatives?', 'Inside the Pandora papers – financial secrets of the rich and powerful', 'Boris Johnson wants a conference reset. Will reality ruin it?', 'The conviction of R Kelly', 'Can China help end the world’s addiction to coal?', 'Bond is back. Where’s he going next?', 'The Pegasus project: hacked in London', 'Keir Starmer’s make-or-break conference week', 'The energy crisis no one saw coming', 'Germany decides: who will follow Angela Merkel?', 'Going nuclear: the secret submarine deal to challenge China ', 'Finally! Get ready for a new season of culture', 'The murder of Fikile: the woman who took on a coal mine', 'The problem with OnlyFans’ mainstream dream', 'Who’s paying for the government’s plan to fix social care?', 'Is Brexit the reason McDonald’s is running out of milkshakes?', 'Ecstasy, LSD and magic mushrooms: are these drugs the future of therapy?', 'A conversation about Islamophobia in the UK since 9/11', 'Inside Al-Qaida: a recruit-turned-spy, a journalist and the road to 9/11', 'The children of 9/11', 'Burnout in the US battle against wildfires', 'One hour to escape: the race to get out of a Gaza tower before an Israeli airstrike', 'One man’s epic electric test drive – from Land’s End to John o’Groats', 'The big coronavirus questions as a new school term begins', 'The British citizens left behind in Kabul', 'The knock: the families torn apart by an arrest over child abuse images', 'Revisited: how meme stars of the early internet struck it rich with NFTs', 'Revisited: Why is Sex and the City coming back to our screens?', 'Revisited: the danger – and beauty – of ultrarunning', 'Revisited: Inside the ’Ndrangheta trial', 'Revisited: The pandemic scam artists making millions during lockdown', 'Revisited: why has the Brazilian butt lift become so popular?', 'A Paralympian’s long journey to Tokyo', 'The Plymouth attack and misogynist ‘incel’ culture', 'How the pandemic exposed the crisis in children’s social care', 'How the Taliban took Afghanistan', 'After ICU: a Covid patient meets one of the doctors who saved his life', 'The fall of Andrew Cuomo', 'Has the Delta variant derailed Australia’s zero-Covid strategy?', 'Scientists issue a climate code red', 'Israel’s shadow war with Iran', 'In search of answers about miscarriage', 'Racism, policing and austerity: have lessons been learned since England’s 2011 riots?', 'Why a Belarusian Olympic sprinter refused to fly home', 'How Simone Biles changed gymnastics – on and off the mat', 'Are plans to change the Official Secrets Act a threat to journalism?', 'Why did Unesco drop Liverpool from its heritage list?', 'How we all got hooked on caffeine']\n",
      "\n",
      "\n",
      "--> We are now at the headline: <a aria-hidden=\"true\" class=\"u-faux-block-link__overlay js-headline-text\" data-link-name=\"article\" href=\"https://www.theguardian.com/news/audio/2021/jul/29/the-lobbying-push-that-killed-off-a-fight-to-save-the-great-barrier-reef-podcast\" tabindex=\"-1\">The lobbying push that killed off a fight to save the Great Barrier Reef</a>\n",
      "--> Without the HTML around it looks like this: The lobbying push that killed off a fight to save the Great Barrier Reef\n",
      "--> This is now the content of data: ['Newcastle fans think they’ve got their club back. But at what cost?', 'Has England gone back to the office?', 'What went wrong with the UK’s handling of the Covid pandemic?', 'Dubai’s ruler and the Pegasus phone hacking exposed in a UK court', 'The countdown to Cop26: can world leaders save the planet?', 'The whistleblower who plunged Facebook into crisis', 'Can women trust the police?', 'Why everything you’ve heard about panic buying might be wrong', 'The Pandora papers: who’s giving money to the Conservatives?', 'Inside the Pandora papers – financial secrets of the rich and powerful', 'Boris Johnson wants a conference reset. Will reality ruin it?', 'The conviction of R Kelly', 'Can China help end the world’s addiction to coal?', 'Bond is back. Where’s he going next?', 'The Pegasus project: hacked in London', 'Keir Starmer’s make-or-break conference week', 'The energy crisis no one saw coming', 'Germany decides: who will follow Angela Merkel?', 'Going nuclear: the secret submarine deal to challenge China ', 'Finally! Get ready for a new season of culture', 'The murder of Fikile: the woman who took on a coal mine', 'The problem with OnlyFans’ mainstream dream', 'Who’s paying for the government’s plan to fix social care?', 'Is Brexit the reason McDonald’s is running out of milkshakes?', 'Ecstasy, LSD and magic mushrooms: are these drugs the future of therapy?', 'A conversation about Islamophobia in the UK since 9/11', 'Inside Al-Qaida: a recruit-turned-spy, a journalist and the road to 9/11', 'The children of 9/11', 'Burnout in the US battle against wildfires', 'One hour to escape: the race to get out of a Gaza tower before an Israeli airstrike', 'One man’s epic electric test drive – from Land’s End to John o’Groats', 'The big coronavirus questions as a new school term begins', 'The British citizens left behind in Kabul', 'The knock: the families torn apart by an arrest over child abuse images', 'Revisited: how meme stars of the early internet struck it rich with NFTs', 'Revisited: Why is Sex and the City coming back to our screens?', 'Revisited: the danger – and beauty – of ultrarunning', 'Revisited: Inside the ’Ndrangheta trial', 'Revisited: The pandemic scam artists making millions during lockdown', 'Revisited: why has the Brazilian butt lift become so popular?', 'A Paralympian’s long journey to Tokyo', 'The Plymouth attack and misogynist ‘incel’ culture', 'How the pandemic exposed the crisis in children’s social care', 'How the Taliban took Afghanistan', 'After ICU: a Covid patient meets one of the doctors who saved his life', 'The fall of Andrew Cuomo', 'Has the Delta variant derailed Australia’s zero-Covid strategy?', 'Scientists issue a climate code red', 'Israel’s shadow war with Iran', 'In search of answers about miscarriage', 'Racism, policing and austerity: have lessons been learned since England’s 2011 riots?', 'Why a Belarusian Olympic sprinter refused to fly home', 'How Simone Biles changed gymnastics – on and off the mat', 'Are plans to change the Official Secrets Act a threat to journalism?', 'Why did Unesco drop Liverpool from its heritage list?', 'How we all got hooked on caffeine', 'The lobbying push that killed off a fight to save the Great Barrier Reef']\n",
      "\n",
      "\n",
      "--> We are now at the headline: <a aria-hidden=\"true\" class=\"u-faux-block-link__overlay js-headline-text\" data-link-name=\"article\" href=\"https://www.theguardian.com/news/audio/2021/jul/28/republican-backlash-joe-biden-us-podcast\" tabindex=\"-1\">The Republican backlash in Joe Biden’s America</a>\n",
      "--> Without the HTML around it looks like this: The Republican backlash in Joe Biden’s America\n",
      "--> This is now the content of data: ['Newcastle fans think they’ve got their club back. But at what cost?', 'Has England gone back to the office?', 'What went wrong with the UK’s handling of the Covid pandemic?', 'Dubai’s ruler and the Pegasus phone hacking exposed in a UK court', 'The countdown to Cop26: can world leaders save the planet?', 'The whistleblower who plunged Facebook into crisis', 'Can women trust the police?', 'Why everything you’ve heard about panic buying might be wrong', 'The Pandora papers: who’s giving money to the Conservatives?', 'Inside the Pandora papers – financial secrets of the rich and powerful', 'Boris Johnson wants a conference reset. Will reality ruin it?', 'The conviction of R Kelly', 'Can China help end the world’s addiction to coal?', 'Bond is back. Where’s he going next?', 'The Pegasus project: hacked in London', 'Keir Starmer’s make-or-break conference week', 'The energy crisis no one saw coming', 'Germany decides: who will follow Angela Merkel?', 'Going nuclear: the secret submarine deal to challenge China ', 'Finally! Get ready for a new season of culture', 'The murder of Fikile: the woman who took on a coal mine', 'The problem with OnlyFans’ mainstream dream', 'Who’s paying for the government’s plan to fix social care?', 'Is Brexit the reason McDonald’s is running out of milkshakes?', 'Ecstasy, LSD and magic mushrooms: are these drugs the future of therapy?', 'A conversation about Islamophobia in the UK since 9/11', 'Inside Al-Qaida: a recruit-turned-spy, a journalist and the road to 9/11', 'The children of 9/11', 'Burnout in the US battle against wildfires', 'One hour to escape: the race to get out of a Gaza tower before an Israeli airstrike', 'One man’s epic electric test drive – from Land’s End to John o’Groats', 'The big coronavirus questions as a new school term begins', 'The British citizens left behind in Kabul', 'The knock: the families torn apart by an arrest over child abuse images', 'Revisited: how meme stars of the early internet struck it rich with NFTs', 'Revisited: Why is Sex and the City coming back to our screens?', 'Revisited: the danger – and beauty – of ultrarunning', 'Revisited: Inside the ’Ndrangheta trial', 'Revisited: The pandemic scam artists making millions during lockdown', 'Revisited: why has the Brazilian butt lift become so popular?', 'A Paralympian’s long journey to Tokyo', 'The Plymouth attack and misogynist ‘incel’ culture', 'How the pandemic exposed the crisis in children’s social care', 'How the Taliban took Afghanistan', 'After ICU: a Covid patient meets one of the doctors who saved his life', 'The fall of Andrew Cuomo', 'Has the Delta variant derailed Australia’s zero-Covid strategy?', 'Scientists issue a climate code red', 'Israel’s shadow war with Iran', 'In search of answers about miscarriage', 'Racism, policing and austerity: have lessons been learned since England’s 2011 riots?', 'Why a Belarusian Olympic sprinter refused to fly home', 'How Simone Biles changed gymnastics – on and off the mat', 'Are plans to change the Official Secrets Act a threat to journalism?', 'Why did Unesco drop Liverpool from its heritage list?', 'How we all got hooked on caffeine', 'The lobbying push that killed off a fight to save the Great Barrier Reef', 'The Republican backlash in Joe Biden’s America']\n",
      "\n",
      "\n",
      "--> We are now at the headline: <a aria-hidden=\"true\" class=\"u-faux-block-link__overlay js-headline-text\" data-link-name=\"article\" href=\"https://www.theguardian.com/news/audio/2021/jul/27/the-pandemic-enters-a-new-phase-podcast\" tabindex=\"-1\">The pandemic enters a new phase</a>\n",
      "--> Without the HTML around it looks like this: The pandemic enters a new phase\n",
      "--> This is now the content of data: ['Newcastle fans think they’ve got their club back. But at what cost?', 'Has England gone back to the office?', 'What went wrong with the UK’s handling of the Covid pandemic?', 'Dubai’s ruler and the Pegasus phone hacking exposed in a UK court', 'The countdown to Cop26: can world leaders save the planet?', 'The whistleblower who plunged Facebook into crisis', 'Can women trust the police?', 'Why everything you’ve heard about panic buying might be wrong', 'The Pandora papers: who’s giving money to the Conservatives?', 'Inside the Pandora papers – financial secrets of the rich and powerful', 'Boris Johnson wants a conference reset. Will reality ruin it?', 'The conviction of R Kelly', 'Can China help end the world’s addiction to coal?', 'Bond is back. Where’s he going next?', 'The Pegasus project: hacked in London', 'Keir Starmer’s make-or-break conference week', 'The energy crisis no one saw coming', 'Germany decides: who will follow Angela Merkel?', 'Going nuclear: the secret submarine deal to challenge China ', 'Finally! Get ready for a new season of culture', 'The murder of Fikile: the woman who took on a coal mine', 'The problem with OnlyFans’ mainstream dream', 'Who’s paying for the government’s plan to fix social care?', 'Is Brexit the reason McDonald’s is running out of milkshakes?', 'Ecstasy, LSD and magic mushrooms: are these drugs the future of therapy?', 'A conversation about Islamophobia in the UK since 9/11', 'Inside Al-Qaida: a recruit-turned-spy, a journalist and the road to 9/11', 'The children of 9/11', 'Burnout in the US battle against wildfires', 'One hour to escape: the race to get out of a Gaza tower before an Israeli airstrike', 'One man’s epic electric test drive – from Land’s End to John o’Groats', 'The big coronavirus questions as a new school term begins', 'The British citizens left behind in Kabul', 'The knock: the families torn apart by an arrest over child abuse images', 'Revisited: how meme stars of the early internet struck it rich with NFTs', 'Revisited: Why is Sex and the City coming back to our screens?', 'Revisited: the danger – and beauty – of ultrarunning', 'Revisited: Inside the ’Ndrangheta trial', 'Revisited: The pandemic scam artists making millions during lockdown', 'Revisited: why has the Brazilian butt lift become so popular?', 'A Paralympian’s long journey to Tokyo', 'The Plymouth attack and misogynist ‘incel’ culture', 'How the pandemic exposed the crisis in children’s social care', 'How the Taliban took Afghanistan', 'After ICU: a Covid patient meets one of the doctors who saved his life', 'The fall of Andrew Cuomo', 'Has the Delta variant derailed Australia’s zero-Covid strategy?', 'Scientists issue a climate code red', 'Israel’s shadow war with Iran', 'In search of answers about miscarriage', 'Racism, policing and austerity: have lessons been learned since England’s 2011 riots?', 'Why a Belarusian Olympic sprinter refused to fly home', 'How Simone Biles changed gymnastics – on and off the mat', 'Are plans to change the Official Secrets Act a threat to journalism?', 'Why did Unesco drop Liverpool from its heritage list?', 'How we all got hooked on caffeine', 'The lobbying push that killed off a fight to save the Great Barrier Reef', 'The Republican backlash in Joe Biden’s America', 'The pandemic enters a new phase']\n",
      "\n",
      "\n",
      "--> We are now at the headline: <a aria-hidden=\"true\" class=\"u-faux-block-link__overlay js-headline-text\" data-link-name=\"article\" href=\"https://www.theguardian.com/news/audio/2021/jul/26/the-authority-gap-why-women-still-arent-taken-seriously-podcast\" tabindex=\"-1\">The authority gap: why women still aren’t taken seriously</a>\n",
      "--> Without the HTML around it looks like this: The authority gap: why women still aren’t taken seriously\n",
      "--> This is now the content of data: ['Newcastle fans think they’ve got their club back. But at what cost?', 'Has England gone back to the office?', 'What went wrong with the UK’s handling of the Covid pandemic?', 'Dubai’s ruler and the Pegasus phone hacking exposed in a UK court', 'The countdown to Cop26: can world leaders save the planet?', 'The whistleblower who plunged Facebook into crisis', 'Can women trust the police?', 'Why everything you’ve heard about panic buying might be wrong', 'The Pandora papers: who’s giving money to the Conservatives?', 'Inside the Pandora papers – financial secrets of the rich and powerful', 'Boris Johnson wants a conference reset. Will reality ruin it?', 'The conviction of R Kelly', 'Can China help end the world’s addiction to coal?', 'Bond is back. Where’s he going next?', 'The Pegasus project: hacked in London', 'Keir Starmer’s make-or-break conference week', 'The energy crisis no one saw coming', 'Germany decides: who will follow Angela Merkel?', 'Going nuclear: the secret submarine deal to challenge China ', 'Finally! Get ready for a new season of culture', 'The murder of Fikile: the woman who took on a coal mine', 'The problem with OnlyFans’ mainstream dream', 'Who’s paying for the government’s plan to fix social care?', 'Is Brexit the reason McDonald’s is running out of milkshakes?', 'Ecstasy, LSD and magic mushrooms: are these drugs the future of therapy?', 'A conversation about Islamophobia in the UK since 9/11', 'Inside Al-Qaida: a recruit-turned-spy, a journalist and the road to 9/11', 'The children of 9/11', 'Burnout in the US battle against wildfires', 'One hour to escape: the race to get out of a Gaza tower before an Israeli airstrike', 'One man’s epic electric test drive – from Land’s End to John o’Groats', 'The big coronavirus questions as a new school term begins', 'The British citizens left behind in Kabul', 'The knock: the families torn apart by an arrest over child abuse images', 'Revisited: how meme stars of the early internet struck it rich with NFTs', 'Revisited: Why is Sex and the City coming back to our screens?', 'Revisited: the danger – and beauty – of ultrarunning', 'Revisited: Inside the ’Ndrangheta trial', 'Revisited: The pandemic scam artists making millions during lockdown', 'Revisited: why has the Brazilian butt lift become so popular?', 'A Paralympian’s long journey to Tokyo', 'The Plymouth attack and misogynist ‘incel’ culture', 'How the pandemic exposed the crisis in children’s social care', 'How the Taliban took Afghanistan', 'After ICU: a Covid patient meets one of the doctors who saved his life', 'The fall of Andrew Cuomo', 'Has the Delta variant derailed Australia’s zero-Covid strategy?', 'Scientists issue a climate code red', 'Israel’s shadow war with Iran', 'In search of answers about miscarriage', 'Racism, policing and austerity: have lessons been learned since England’s 2011 riots?', 'Why a Belarusian Olympic sprinter refused to fly home', 'How Simone Biles changed gymnastics – on and off the mat', 'Are plans to change the Official Secrets Act a threat to journalism?', 'Why did Unesco drop Liverpool from its heritage list?', 'How we all got hooked on caffeine', 'The lobbying push that killed off a fight to save the Great Barrier Reef', 'The Republican backlash in Joe Biden’s America', 'The pandemic enters a new phase', 'The authority gap: why women still aren’t taken seriously']\n",
      "\n",
      "\n",
      "--> We are on page number: 4\n",
      "--> The url we are scraping now is: https://www.theguardian.com/news/series/todayinfocus?page=4\n",
      "--> This is what the request looks like: <Response [200]>. If you got a \"Response 200\" you are good!\n",
      "--> The first 763 characters of the website content: \n",
      "<!DOCTYPE html>\n",
      "<html id=\"js-context\" class=\"js-off is-not-modern id--signed-out\" lang=\"en\" data-page-path=\"/news/series/todayinfocus\">\n",
      "\n",
      "\n",
      "    <head>\n",
      "\n",
      "\n",
      "    \n",
      "<!--\n",
      "     __        __                      _     _      _\n",
      "     \\ \\      / /__    __ _ _ __ ___  | |__ (_)_ __(_)_ __   __ _\n",
      "      \\ \\ /\\ / / _ \\  / _` | '__/ _ \\ | '_ \\| | '__| | '_ \\ / _` |\n",
      "       \\ V  V /  __/ | (_| | | |  __/ | | | | | |  | | | | | (_| |\n",
      "        \\_/\\_/ \\___|  \\__,_|_|  \\___| |_| |_|_|_|  |_|_| |_|\\__, |\n",
      "                                                            |___/\n",
      "    Ever thought about joining us?\n",
      "    https://workforus.theguardian.com/careers/product-engineering/\n",
      "     --->\n",
      "\n",
      "\n",
      "    \n",
      "<title>Today in Focus | Page 4 of 38 | News | The Guardian</title>\n",
      "\n",
      "\n",
      "    \n",
      "\n",
      "<meta charset=\"utf-8\n",
      "\n",
      "\n",
      "--> We are now at the headline: <a aria-hidden=\"true\" class=\"u-faux-block-link__overlay js-headline-text\" data-link-name=\"article\" href=\"https://www.theguardian.com/news/audio/2021/jul/23/the-pegasus-project-part-5-the-fightback-against-private-spyware-begins\" tabindex=\"-1\">The Pegasus project part 5: the fightback against private spyware begins</a>\n",
      "--> Without the HTML around it looks like this: The Pegasus project part 5: the fightback against private spyware begins\n",
      "--> This is now the content of data: ['Newcastle fans think they’ve got their club back. But at what cost?', 'Has England gone back to the office?', 'What went wrong with the UK’s handling of the Covid pandemic?', 'Dubai’s ruler and the Pegasus phone hacking exposed in a UK court', 'The countdown to Cop26: can world leaders save the planet?', 'The whistleblower who plunged Facebook into crisis', 'Can women trust the police?', 'Why everything you’ve heard about panic buying might be wrong', 'The Pandora papers: who’s giving money to the Conservatives?', 'Inside the Pandora papers – financial secrets of the rich and powerful', 'Boris Johnson wants a conference reset. Will reality ruin it?', 'The conviction of R Kelly', 'Can China help end the world’s addiction to coal?', 'Bond is back. Where’s he going next?', 'The Pegasus project: hacked in London', 'Keir Starmer’s make-or-break conference week', 'The energy crisis no one saw coming', 'Germany decides: who will follow Angela Merkel?', 'Going nuclear: the secret submarine deal to challenge China ', 'Finally! Get ready for a new season of culture', 'The murder of Fikile: the woman who took on a coal mine', 'The problem with OnlyFans’ mainstream dream', 'Who’s paying for the government’s plan to fix social care?', 'Is Brexit the reason McDonald’s is running out of milkshakes?', 'Ecstasy, LSD and magic mushrooms: are these drugs the future of therapy?', 'A conversation about Islamophobia in the UK since 9/11', 'Inside Al-Qaida: a recruit-turned-spy, a journalist and the road to 9/11', 'The children of 9/11', 'Burnout in the US battle against wildfires', 'One hour to escape: the race to get out of a Gaza tower before an Israeli airstrike', 'One man’s epic electric test drive – from Land’s End to John o’Groats', 'The big coronavirus questions as a new school term begins', 'The British citizens left behind in Kabul', 'The knock: the families torn apart by an arrest over child abuse images', 'Revisited: how meme stars of the early internet struck it rich with NFTs', 'Revisited: Why is Sex and the City coming back to our screens?', 'Revisited: the danger – and beauty – of ultrarunning', 'Revisited: Inside the ’Ndrangheta trial', 'Revisited: The pandemic scam artists making millions during lockdown', 'Revisited: why has the Brazilian butt lift become so popular?', 'A Paralympian’s long journey to Tokyo', 'The Plymouth attack and misogynist ‘incel’ culture', 'How the pandemic exposed the crisis in children’s social care', 'How the Taliban took Afghanistan', 'After ICU: a Covid patient meets one of the doctors who saved his life', 'The fall of Andrew Cuomo', 'Has the Delta variant derailed Australia’s zero-Covid strategy?', 'Scientists issue a climate code red', 'Israel’s shadow war with Iran', 'In search of answers about miscarriage', 'Racism, policing and austerity: have lessons been learned since England’s 2011 riots?', 'Why a Belarusian Olympic sprinter refused to fly home', 'How Simone Biles changed gymnastics – on and off the mat', 'Are plans to change the Official Secrets Act a threat to journalism?', 'Why did Unesco drop Liverpool from its heritage list?', 'How we all got hooked on caffeine', 'The lobbying push that killed off a fight to save the Great Barrier Reef', 'The Republican backlash in Joe Biden’s America', 'The pandemic enters a new phase', 'The authority gap: why women still aren’t taken seriously', 'The Pegasus project part 5: the fightback against private spyware begins']\n",
      "\n",
      "\n",
      "--> We are now at the headline: <a aria-hidden=\"true\" class=\"u-faux-block-link__overlay js-headline-text\" data-link-name=\"article\" href=\"https://www.theguardian.com/news/audio/2021/jul/22/today-in-focus-the-pegasus-project-part-4-runaway-princesses-and-the-uk-connection-podcast\" tabindex=\"-1\">The Pegasus project part 4: runaway princesses and the UK connection</a>\n",
      "--> Without the HTML around it looks like this: The Pegasus project part 4: runaway princesses and the UK connection\n",
      "--> This is now the content of data: ['Newcastle fans think they’ve got their club back. But at what cost?', 'Has England gone back to the office?', 'What went wrong with the UK’s handling of the Covid pandemic?', 'Dubai’s ruler and the Pegasus phone hacking exposed in a UK court', 'The countdown to Cop26: can world leaders save the planet?', 'The whistleblower who plunged Facebook into crisis', 'Can women trust the police?', 'Why everything you’ve heard about panic buying might be wrong', 'The Pandora papers: who’s giving money to the Conservatives?', 'Inside the Pandora papers – financial secrets of the rich and powerful', 'Boris Johnson wants a conference reset. Will reality ruin it?', 'The conviction of R Kelly', 'Can China help end the world’s addiction to coal?', 'Bond is back. Where’s he going next?', 'The Pegasus project: hacked in London', 'Keir Starmer’s make-or-break conference week', 'The energy crisis no one saw coming', 'Germany decides: who will follow Angela Merkel?', 'Going nuclear: the secret submarine deal to challenge China ', 'Finally! Get ready for a new season of culture', 'The murder of Fikile: the woman who took on a coal mine', 'The problem with OnlyFans’ mainstream dream', 'Who’s paying for the government’s plan to fix social care?', 'Is Brexit the reason McDonald’s is running out of milkshakes?', 'Ecstasy, LSD and magic mushrooms: are these drugs the future of therapy?', 'A conversation about Islamophobia in the UK since 9/11', 'Inside Al-Qaida: a recruit-turned-spy, a journalist and the road to 9/11', 'The children of 9/11', 'Burnout in the US battle against wildfires', 'One hour to escape: the race to get out of a Gaza tower before an Israeli airstrike', 'One man’s epic electric test drive – from Land’s End to John o’Groats', 'The big coronavirus questions as a new school term begins', 'The British citizens left behind in Kabul', 'The knock: the families torn apart by an arrest over child abuse images', 'Revisited: how meme stars of the early internet struck it rich with NFTs', 'Revisited: Why is Sex and the City coming back to our screens?', 'Revisited: the danger – and beauty – of ultrarunning', 'Revisited: Inside the ’Ndrangheta trial', 'Revisited: The pandemic scam artists making millions during lockdown', 'Revisited: why has the Brazilian butt lift become so popular?', 'A Paralympian’s long journey to Tokyo', 'The Plymouth attack and misogynist ‘incel’ culture', 'How the pandemic exposed the crisis in children’s social care', 'How the Taliban took Afghanistan', 'After ICU: a Covid patient meets one of the doctors who saved his life', 'The fall of Andrew Cuomo', 'Has the Delta variant derailed Australia’s zero-Covid strategy?', 'Scientists issue a climate code red', 'Israel’s shadow war with Iran', 'In search of answers about miscarriage', 'Racism, policing and austerity: have lessons been learned since England’s 2011 riots?', 'Why a Belarusian Olympic sprinter refused to fly home', 'How Simone Biles changed gymnastics – on and off the mat', 'Are plans to change the Official Secrets Act a threat to journalism?', 'Why did Unesco drop Liverpool from its heritage list?', 'How we all got hooked on caffeine', 'The lobbying push that killed off a fight to save the Great Barrier Reef', 'The Republican backlash in Joe Biden’s America', 'The pandemic enters a new phase', 'The authority gap: why women still aren’t taken seriously', 'The Pegasus project part 5: the fightback against private spyware begins', 'The Pegasus project part 4: runaway princesses and the UK connection']\n",
      "\n",
      "\n",
      "--> We are now at the headline: <a aria-hidden=\"true\" class=\"u-faux-block-link__overlay js-headline-text\" data-link-name=\"article\" href=\"https://www.theguardian.com/news/audio/2021/jul/21/the-pegasus-project-part-3-cartels-corruption-and-cyber-weapons-podcast\" tabindex=\"-1\">The Pegasus project part 3: cartels, corruption and cyber-weapons</a>\n",
      "--> Without the HTML around it looks like this: The Pegasus project part 3: cartels, corruption and cyber-weapons\n",
      "--> This is now the content of data: ['Newcastle fans think they’ve got their club back. But at what cost?', 'Has England gone back to the office?', 'What went wrong with the UK’s handling of the Covid pandemic?', 'Dubai’s ruler and the Pegasus phone hacking exposed in a UK court', 'The countdown to Cop26: can world leaders save the planet?', 'The whistleblower who plunged Facebook into crisis', 'Can women trust the police?', 'Why everything you’ve heard about panic buying might be wrong', 'The Pandora papers: who’s giving money to the Conservatives?', 'Inside the Pandora papers – financial secrets of the rich and powerful', 'Boris Johnson wants a conference reset. Will reality ruin it?', 'The conviction of R Kelly', 'Can China help end the world’s addiction to coal?', 'Bond is back. Where’s he going next?', 'The Pegasus project: hacked in London', 'Keir Starmer’s make-or-break conference week', 'The energy crisis no one saw coming', 'Germany decides: who will follow Angela Merkel?', 'Going nuclear: the secret submarine deal to challenge China ', 'Finally! Get ready for a new season of culture', 'The murder of Fikile: the woman who took on a coal mine', 'The problem with OnlyFans’ mainstream dream', 'Who’s paying for the government’s plan to fix social care?', 'Is Brexit the reason McDonald’s is running out of milkshakes?', 'Ecstasy, LSD and magic mushrooms: are these drugs the future of therapy?', 'A conversation about Islamophobia in the UK since 9/11', 'Inside Al-Qaida: a recruit-turned-spy, a journalist and the road to 9/11', 'The children of 9/11', 'Burnout in the US battle against wildfires', 'One hour to escape: the race to get out of a Gaza tower before an Israeli airstrike', 'One man’s epic electric test drive – from Land’s End to John o’Groats', 'The big coronavirus questions as a new school term begins', 'The British citizens left behind in Kabul', 'The knock: the families torn apart by an arrest over child abuse images', 'Revisited: how meme stars of the early internet struck it rich with NFTs', 'Revisited: Why is Sex and the City coming back to our screens?', 'Revisited: the danger – and beauty – of ultrarunning', 'Revisited: Inside the ’Ndrangheta trial', 'Revisited: The pandemic scam artists making millions during lockdown', 'Revisited: why has the Brazilian butt lift become so popular?', 'A Paralympian’s long journey to Tokyo', 'The Plymouth attack and misogynist ‘incel’ culture', 'How the pandemic exposed the crisis in children’s social care', 'How the Taliban took Afghanistan', 'After ICU: a Covid patient meets one of the doctors who saved his life', 'The fall of Andrew Cuomo', 'Has the Delta variant derailed Australia’s zero-Covid strategy?', 'Scientists issue a climate code red', 'Israel’s shadow war with Iran', 'In search of answers about miscarriage', 'Racism, policing and austerity: have lessons been learned since England’s 2011 riots?', 'Why a Belarusian Olympic sprinter refused to fly home', 'How Simone Biles changed gymnastics – on and off the mat', 'Are plans to change the Official Secrets Act a threat to journalism?', 'Why did Unesco drop Liverpool from its heritage list?', 'How we all got hooked on caffeine', 'The lobbying push that killed off a fight to save the Great Barrier Reef', 'The Republican backlash in Joe Biden’s America', 'The pandemic enters a new phase', 'The authority gap: why women still aren’t taken seriously', 'The Pegasus project part 5: the fightback against private spyware begins', 'The Pegasus project part 4: runaway princesses and the UK connection', 'The Pegasus project part 3: cartels, corruption and cyber-weapons']\n",
      "\n",
      "\n",
      "--> We are now at the headline: <a aria-hidden=\"true\" class=\"u-faux-block-link__overlay js-headline-text\" data-link-name=\"article\" href=\"https://www.theguardian.com/news/audio/2021/jul/20/the-pegasus-project-part-2-cat-and-mouse\" tabindex=\"-1\">The Pegasus project part 2: cat and mouse</a>\n",
      "--> Without the HTML around it looks like this: The Pegasus project part 2: cat and mouse\n",
      "--> This is now the content of data: ['Newcastle fans think they’ve got their club back. But at what cost?', 'Has England gone back to the office?', 'What went wrong with the UK’s handling of the Covid pandemic?', 'Dubai’s ruler and the Pegasus phone hacking exposed in a UK court', 'The countdown to Cop26: can world leaders save the planet?', 'The whistleblower who plunged Facebook into crisis', 'Can women trust the police?', 'Why everything you’ve heard about panic buying might be wrong', 'The Pandora papers: who’s giving money to the Conservatives?', 'Inside the Pandora papers – financial secrets of the rich and powerful', 'Boris Johnson wants a conference reset. Will reality ruin it?', 'The conviction of R Kelly', 'Can China help end the world’s addiction to coal?', 'Bond is back. Where’s he going next?', 'The Pegasus project: hacked in London', 'Keir Starmer’s make-or-break conference week', 'The energy crisis no one saw coming', 'Germany decides: who will follow Angela Merkel?', 'Going nuclear: the secret submarine deal to challenge China ', 'Finally! Get ready for a new season of culture', 'The murder of Fikile: the woman who took on a coal mine', 'The problem with OnlyFans’ mainstream dream', 'Who’s paying for the government’s plan to fix social care?', 'Is Brexit the reason McDonald’s is running out of milkshakes?', 'Ecstasy, LSD and magic mushrooms: are these drugs the future of therapy?', 'A conversation about Islamophobia in the UK since 9/11', 'Inside Al-Qaida: a recruit-turned-spy, a journalist and the road to 9/11', 'The children of 9/11', 'Burnout in the US battle against wildfires', 'One hour to escape: the race to get out of a Gaza tower before an Israeli airstrike', 'One man’s epic electric test drive – from Land’s End to John o’Groats', 'The big coronavirus questions as a new school term begins', 'The British citizens left behind in Kabul', 'The knock: the families torn apart by an arrest over child abuse images', 'Revisited: how meme stars of the early internet struck it rich with NFTs', 'Revisited: Why is Sex and the City coming back to our screens?', 'Revisited: the danger – and beauty – of ultrarunning', 'Revisited: Inside the ’Ndrangheta trial', 'Revisited: The pandemic scam artists making millions during lockdown', 'Revisited: why has the Brazilian butt lift become so popular?', 'A Paralympian’s long journey to Tokyo', 'The Plymouth attack and misogynist ‘incel’ culture', 'How the pandemic exposed the crisis in children’s social care', 'How the Taliban took Afghanistan', 'After ICU: a Covid patient meets one of the doctors who saved his life', 'The fall of Andrew Cuomo', 'Has the Delta variant derailed Australia’s zero-Covid strategy?', 'Scientists issue a climate code red', 'Israel’s shadow war with Iran', 'In search of answers about miscarriage', 'Racism, policing and austerity: have lessons been learned since England’s 2011 riots?', 'Why a Belarusian Olympic sprinter refused to fly home', 'How Simone Biles changed gymnastics – on and off the mat', 'Are plans to change the Official Secrets Act a threat to journalism?', 'Why did Unesco drop Liverpool from its heritage list?', 'How we all got hooked on caffeine', 'The lobbying push that killed off a fight to save the Great Barrier Reef', 'The Republican backlash in Joe Biden’s America', 'The pandemic enters a new phase', 'The authority gap: why women still aren’t taken seriously', 'The Pegasus project part 5: the fightback against private spyware begins', 'The Pegasus project part 4: runaway princesses and the UK connection', 'The Pegasus project part 3: cartels, corruption and cyber-weapons', 'The Pegasus project part 2: cat and mouse']\n",
      "\n",
      "\n",
      "--> We are now at the headline: <a aria-hidden=\"true\" class=\"u-faux-block-link__overlay js-headline-text\" data-link-name=\"article\" href=\"https://www.theguardian.com/news/audio/2021/jul/19/the-pegasus-project-part-1-an-invitation-to-paris\" tabindex=\"-1\">The Pegasus project part 1: an invitation to Paris</a>\n",
      "--> Without the HTML around it looks like this: The Pegasus project part 1: an invitation to Paris\n",
      "--> This is now the content of data: ['Newcastle fans think they’ve got their club back. But at what cost?', 'Has England gone back to the office?', 'What went wrong with the UK’s handling of the Covid pandemic?', 'Dubai’s ruler and the Pegasus phone hacking exposed in a UK court', 'The countdown to Cop26: can world leaders save the planet?', 'The whistleblower who plunged Facebook into crisis', 'Can women trust the police?', 'Why everything you’ve heard about panic buying might be wrong', 'The Pandora papers: who’s giving money to the Conservatives?', 'Inside the Pandora papers – financial secrets of the rich and powerful', 'Boris Johnson wants a conference reset. Will reality ruin it?', 'The conviction of R Kelly', 'Can China help end the world’s addiction to coal?', 'Bond is back. Where’s he going next?', 'The Pegasus project: hacked in London', 'Keir Starmer’s make-or-break conference week', 'The energy crisis no one saw coming', 'Germany decides: who will follow Angela Merkel?', 'Going nuclear: the secret submarine deal to challenge China ', 'Finally! Get ready for a new season of culture', 'The murder of Fikile: the woman who took on a coal mine', 'The problem with OnlyFans’ mainstream dream', 'Who’s paying for the government’s plan to fix social care?', 'Is Brexit the reason McDonald’s is running out of milkshakes?', 'Ecstasy, LSD and magic mushrooms: are these drugs the future of therapy?', 'A conversation about Islamophobia in the UK since 9/11', 'Inside Al-Qaida: a recruit-turned-spy, a journalist and the road to 9/11', 'The children of 9/11', 'Burnout in the US battle against wildfires', 'One hour to escape: the race to get out of a Gaza tower before an Israeli airstrike', 'One man’s epic electric test drive – from Land’s End to John o’Groats', 'The big coronavirus questions as a new school term begins', 'The British citizens left behind in Kabul', 'The knock: the families torn apart by an arrest over child abuse images', 'Revisited: how meme stars of the early internet struck it rich with NFTs', 'Revisited: Why is Sex and the City coming back to our screens?', 'Revisited: the danger – and beauty – of ultrarunning', 'Revisited: Inside the ’Ndrangheta trial', 'Revisited: The pandemic scam artists making millions during lockdown', 'Revisited: why has the Brazilian butt lift become so popular?', 'A Paralympian’s long journey to Tokyo', 'The Plymouth attack and misogynist ‘incel’ culture', 'How the pandemic exposed the crisis in children’s social care', 'How the Taliban took Afghanistan', 'After ICU: a Covid patient meets one of the doctors who saved his life', 'The fall of Andrew Cuomo', 'Has the Delta variant derailed Australia’s zero-Covid strategy?', 'Scientists issue a climate code red', 'Israel’s shadow war with Iran', 'In search of answers about miscarriage', 'Racism, policing and austerity: have lessons been learned since England’s 2011 riots?', 'Why a Belarusian Olympic sprinter refused to fly home', 'How Simone Biles changed gymnastics – on and off the mat', 'Are plans to change the Official Secrets Act a threat to journalism?', 'Why did Unesco drop Liverpool from its heritage list?', 'How we all got hooked on caffeine', 'The lobbying push that killed off a fight to save the Great Barrier Reef', 'The Republican backlash in Joe Biden’s America', 'The pandemic enters a new phase', 'The authority gap: why women still aren’t taken seriously', 'The Pegasus project part 5: the fightback against private spyware begins', 'The Pegasus project part 4: runaway princesses and the UK connection', 'The Pegasus project part 3: cartels, corruption and cyber-weapons', 'The Pegasus project part 2: cat and mouse', 'The Pegasus project part 1: an invitation to Paris']\n",
      "\n",
      "\n",
      "--> We are now at the headline: <a aria-hidden=\"true\" class=\"u-faux-block-link__overlay js-headline-text\" data-link-name=\"article\" href=\"https://www.theguardian.com/news/audio/2021/jul/16/marina-hyde-on-five-years-watching-political-circus-podcast\" tabindex=\"-1\">Marina Hyde on the political circus of the last five years </a>\n",
      "--> Without the HTML around it looks like this: Marina Hyde on the political circus of the last five years \n",
      "--> This is now the content of data: ['Newcastle fans think they’ve got their club back. But at what cost?', 'Has England gone back to the office?', 'What went wrong with the UK’s handling of the Covid pandemic?', 'Dubai’s ruler and the Pegasus phone hacking exposed in a UK court', 'The countdown to Cop26: can world leaders save the planet?', 'The whistleblower who plunged Facebook into crisis', 'Can women trust the police?', 'Why everything you’ve heard about panic buying might be wrong', 'The Pandora papers: who’s giving money to the Conservatives?', 'Inside the Pandora papers – financial secrets of the rich and powerful', 'Boris Johnson wants a conference reset. Will reality ruin it?', 'The conviction of R Kelly', 'Can China help end the world’s addiction to coal?', 'Bond is back. Where’s he going next?', 'The Pegasus project: hacked in London', 'Keir Starmer’s make-or-break conference week', 'The energy crisis no one saw coming', 'Germany decides: who will follow Angela Merkel?', 'Going nuclear: the secret submarine deal to challenge China ', 'Finally! Get ready for a new season of culture', 'The murder of Fikile: the woman who took on a coal mine', 'The problem with OnlyFans’ mainstream dream', 'Who’s paying for the government’s plan to fix social care?', 'Is Brexit the reason McDonald’s is running out of milkshakes?', 'Ecstasy, LSD and magic mushrooms: are these drugs the future of therapy?', 'A conversation about Islamophobia in the UK since 9/11', 'Inside Al-Qaida: a recruit-turned-spy, a journalist and the road to 9/11', 'The children of 9/11', 'Burnout in the US battle against wildfires', 'One hour to escape: the race to get out of a Gaza tower before an Israeli airstrike', 'One man’s epic electric test drive – from Land’s End to John o’Groats', 'The big coronavirus questions as a new school term begins', 'The British citizens left behind in Kabul', 'The knock: the families torn apart by an arrest over child abuse images', 'Revisited: how meme stars of the early internet struck it rich with NFTs', 'Revisited: Why is Sex and the City coming back to our screens?', 'Revisited: the danger – and beauty – of ultrarunning', 'Revisited: Inside the ’Ndrangheta trial', 'Revisited: The pandemic scam artists making millions during lockdown', 'Revisited: why has the Brazilian butt lift become so popular?', 'A Paralympian’s long journey to Tokyo', 'The Plymouth attack and misogynist ‘incel’ culture', 'How the pandemic exposed the crisis in children’s social care', 'How the Taliban took Afghanistan', 'After ICU: a Covid patient meets one of the doctors who saved his life', 'The fall of Andrew Cuomo', 'Has the Delta variant derailed Australia’s zero-Covid strategy?', 'Scientists issue a climate code red', 'Israel’s shadow war with Iran', 'In search of answers about miscarriage', 'Racism, policing and austerity: have lessons been learned since England’s 2011 riots?', 'Why a Belarusian Olympic sprinter refused to fly home', 'How Simone Biles changed gymnastics – on and off the mat', 'Are plans to change the Official Secrets Act a threat to journalism?', 'Why did Unesco drop Liverpool from its heritage list?', 'How we all got hooked on caffeine', 'The lobbying push that killed off a fight to save the Great Barrier Reef', 'The Republican backlash in Joe Biden’s America', 'The pandemic enters a new phase', 'The authority gap: why women still aren’t taken seriously', 'The Pegasus project part 5: the fightback against private spyware begins', 'The Pegasus project part 4: runaway princesses and the UK connection', 'The Pegasus project part 3: cartels, corruption and cyber-weapons', 'The Pegasus project part 2: cat and mouse', 'The Pegasus project part 1: an invitation to Paris', 'Marina Hyde on the political circus of the last five years ']\n",
      "\n",
      "\n",
      "--> We are now at the headline: <a aria-hidden=\"true\" class=\"u-faux-block-link__overlay js-headline-text\" data-link-name=\"article\" href=\"https://www.theguardian.com/news/audio/2021/jul/15/the-fight-to-get-ready-for-a-pandemic-olympics\" tabindex=\"-1\">Inside the mind of an Olympic athlete one week before the games</a>\n",
      "--> Without the HTML around it looks like this: Inside the mind of an Olympic athlete one week before the games\n",
      "--> This is now the content of data: ['Newcastle fans think they’ve got their club back. But at what cost?', 'Has England gone back to the office?', 'What went wrong with the UK’s handling of the Covid pandemic?', 'Dubai’s ruler and the Pegasus phone hacking exposed in a UK court', 'The countdown to Cop26: can world leaders save the planet?', 'The whistleblower who plunged Facebook into crisis', 'Can women trust the police?', 'Why everything you’ve heard about panic buying might be wrong', 'The Pandora papers: who’s giving money to the Conservatives?', 'Inside the Pandora papers – financial secrets of the rich and powerful', 'Boris Johnson wants a conference reset. Will reality ruin it?', 'The conviction of R Kelly', 'Can China help end the world’s addiction to coal?', 'Bond is back. Where’s he going next?', 'The Pegasus project: hacked in London', 'Keir Starmer’s make-or-break conference week', 'The energy crisis no one saw coming', 'Germany decides: who will follow Angela Merkel?', 'Going nuclear: the secret submarine deal to challenge China ', 'Finally! Get ready for a new season of culture', 'The murder of Fikile: the woman who took on a coal mine', 'The problem with OnlyFans’ mainstream dream', 'Who’s paying for the government’s plan to fix social care?', 'Is Brexit the reason McDonald’s is running out of milkshakes?', 'Ecstasy, LSD and magic mushrooms: are these drugs the future of therapy?', 'A conversation about Islamophobia in the UK since 9/11', 'Inside Al-Qaida: a recruit-turned-spy, a journalist and the road to 9/11', 'The children of 9/11', 'Burnout in the US battle against wildfires', 'One hour to escape: the race to get out of a Gaza tower before an Israeli airstrike', 'One man’s epic electric test drive – from Land’s End to John o’Groats', 'The big coronavirus questions as a new school term begins', 'The British citizens left behind in Kabul', 'The knock: the families torn apart by an arrest over child abuse images', 'Revisited: how meme stars of the early internet struck it rich with NFTs', 'Revisited: Why is Sex and the City coming back to our screens?', 'Revisited: the danger – and beauty – of ultrarunning', 'Revisited: Inside the ’Ndrangheta trial', 'Revisited: The pandemic scam artists making millions during lockdown', 'Revisited: why has the Brazilian butt lift become so popular?', 'A Paralympian’s long journey to Tokyo', 'The Plymouth attack and misogynist ‘incel’ culture', 'How the pandemic exposed the crisis in children’s social care', 'How the Taliban took Afghanistan', 'After ICU: a Covid patient meets one of the doctors who saved his life', 'The fall of Andrew Cuomo', 'Has the Delta variant derailed Australia’s zero-Covid strategy?', 'Scientists issue a climate code red', 'Israel’s shadow war with Iran', 'In search of answers about miscarriage', 'Racism, policing and austerity: have lessons been learned since England’s 2011 riots?', 'Why a Belarusian Olympic sprinter refused to fly home', 'How Simone Biles changed gymnastics – on and off the mat', 'Are plans to change the Official Secrets Act a threat to journalism?', 'Why did Unesco drop Liverpool from its heritage list?', 'How we all got hooked on caffeine', 'The lobbying push that killed off a fight to save the Great Barrier Reef', 'The Republican backlash in Joe Biden’s America', 'The pandemic enters a new phase', 'The authority gap: why women still aren’t taken seriously', 'The Pegasus project part 5: the fightback against private spyware begins', 'The Pegasus project part 4: runaway princesses and the UK connection', 'The Pegasus project part 3: cartels, corruption and cyber-weapons', 'The Pegasus project part 2: cat and mouse', 'The Pegasus project part 1: an invitation to Paris', 'Marina Hyde on the political circus of the last five years ', 'Inside the mind of an Olympic athlete one week before the games']\n",
      "\n",
      "\n",
      "--> We are now at the headline: <a aria-hidden=\"true\" class=\"u-faux-block-link__overlay js-headline-text\" data-link-name=\"article\" href=\"https://www.theguardian.com/news/audio/2021/jul/14/the-heatwave-forcing-america-to-confront-climate-reality-podcast\" tabindex=\"-1\">The heatwave forcing America to confront climate reality</a>\n",
      "--> Without the HTML around it looks like this: The heatwave forcing America to confront climate reality\n",
      "--> This is now the content of data: ['Newcastle fans think they’ve got their club back. But at what cost?', 'Has England gone back to the office?', 'What went wrong with the UK’s handling of the Covid pandemic?', 'Dubai’s ruler and the Pegasus phone hacking exposed in a UK court', 'The countdown to Cop26: can world leaders save the planet?', 'The whistleblower who plunged Facebook into crisis', 'Can women trust the police?', 'Why everything you’ve heard about panic buying might be wrong', 'The Pandora papers: who’s giving money to the Conservatives?', 'Inside the Pandora papers – financial secrets of the rich and powerful', 'Boris Johnson wants a conference reset. Will reality ruin it?', 'The conviction of R Kelly', 'Can China help end the world’s addiction to coal?', 'Bond is back. Where’s he going next?', 'The Pegasus project: hacked in London', 'Keir Starmer’s make-or-break conference week', 'The energy crisis no one saw coming', 'Germany decides: who will follow Angela Merkel?', 'Going nuclear: the secret submarine deal to challenge China ', 'Finally! Get ready for a new season of culture', 'The murder of Fikile: the woman who took on a coal mine', 'The problem with OnlyFans’ mainstream dream', 'Who’s paying for the government’s plan to fix social care?', 'Is Brexit the reason McDonald’s is running out of milkshakes?', 'Ecstasy, LSD and magic mushrooms: are these drugs the future of therapy?', 'A conversation about Islamophobia in the UK since 9/11', 'Inside Al-Qaida: a recruit-turned-spy, a journalist and the road to 9/11', 'The children of 9/11', 'Burnout in the US battle against wildfires', 'One hour to escape: the race to get out of a Gaza tower before an Israeli airstrike', 'One man’s epic electric test drive – from Land’s End to John o’Groats', 'The big coronavirus questions as a new school term begins', 'The British citizens left behind in Kabul', 'The knock: the families torn apart by an arrest over child abuse images', 'Revisited: how meme stars of the early internet struck it rich with NFTs', 'Revisited: Why is Sex and the City coming back to our screens?', 'Revisited: the danger – and beauty – of ultrarunning', 'Revisited: Inside the ’Ndrangheta trial', 'Revisited: The pandemic scam artists making millions during lockdown', 'Revisited: why has the Brazilian butt lift become so popular?', 'A Paralympian’s long journey to Tokyo', 'The Plymouth attack and misogynist ‘incel’ culture', 'How the pandemic exposed the crisis in children’s social care', 'How the Taliban took Afghanistan', 'After ICU: a Covid patient meets one of the doctors who saved his life', 'The fall of Andrew Cuomo', 'Has the Delta variant derailed Australia’s zero-Covid strategy?', 'Scientists issue a climate code red', 'Israel’s shadow war with Iran', 'In search of answers about miscarriage', 'Racism, policing and austerity: have lessons been learned since England’s 2011 riots?', 'Why a Belarusian Olympic sprinter refused to fly home', 'How Simone Biles changed gymnastics – on and off the mat', 'Are plans to change the Official Secrets Act a threat to journalism?', 'Why did Unesco drop Liverpool from its heritage list?', 'How we all got hooked on caffeine', 'The lobbying push that killed off a fight to save the Great Barrier Reef', 'The Republican backlash in Joe Biden’s America', 'The pandemic enters a new phase', 'The authority gap: why women still aren’t taken seriously', 'The Pegasus project part 5: the fightback against private spyware begins', 'The Pegasus project part 4: runaway princesses and the UK connection', 'The Pegasus project part 3: cartels, corruption and cyber-weapons', 'The Pegasus project part 2: cat and mouse', 'The Pegasus project part 1: an invitation to Paris', 'Marina Hyde on the political circus of the last five years ', 'Inside the mind of an Olympic athlete one week before the games', 'The heatwave forcing America to confront climate reality']\n",
      "\n",
      "\n",
      "--> We are now at the headline: <a aria-hidden=\"true\" class=\"u-faux-block-link__overlay js-headline-text\" data-link-name=\"article\" href=\"https://www.theguardian.com/news/audio/2021/jul/13/is-it-possible-to-make-the-internet-safe-for-children-podcast\" tabindex=\"-1\">Is it possible to make the internet safe for children?</a>\n",
      "--> Without the HTML around it looks like this: Is it possible to make the internet safe for children?\n",
      "--> This is now the content of data: ['Newcastle fans think they’ve got their club back. But at what cost?', 'Has England gone back to the office?', 'What went wrong with the UK’s handling of the Covid pandemic?', 'Dubai’s ruler and the Pegasus phone hacking exposed in a UK court', 'The countdown to Cop26: can world leaders save the planet?', 'The whistleblower who plunged Facebook into crisis', 'Can women trust the police?', 'Why everything you’ve heard about panic buying might be wrong', 'The Pandora papers: who’s giving money to the Conservatives?', 'Inside the Pandora papers – financial secrets of the rich and powerful', 'Boris Johnson wants a conference reset. Will reality ruin it?', 'The conviction of R Kelly', 'Can China help end the world’s addiction to coal?', 'Bond is back. Where’s he going next?', 'The Pegasus project: hacked in London', 'Keir Starmer’s make-or-break conference week', 'The energy crisis no one saw coming', 'Germany decides: who will follow Angela Merkel?', 'Going nuclear: the secret submarine deal to challenge China ', 'Finally! Get ready for a new season of culture', 'The murder of Fikile: the woman who took on a coal mine', 'The problem with OnlyFans’ mainstream dream', 'Who’s paying for the government’s plan to fix social care?', 'Is Brexit the reason McDonald’s is running out of milkshakes?', 'Ecstasy, LSD and magic mushrooms: are these drugs the future of therapy?', 'A conversation about Islamophobia in the UK since 9/11', 'Inside Al-Qaida: a recruit-turned-spy, a journalist and the road to 9/11', 'The children of 9/11', 'Burnout in the US battle against wildfires', 'One hour to escape: the race to get out of a Gaza tower before an Israeli airstrike', 'One man’s epic electric test drive – from Land’s End to John o’Groats', 'The big coronavirus questions as a new school term begins', 'The British citizens left behind in Kabul', 'The knock: the families torn apart by an arrest over child abuse images', 'Revisited: how meme stars of the early internet struck it rich with NFTs', 'Revisited: Why is Sex and the City coming back to our screens?', 'Revisited: the danger – and beauty – of ultrarunning', 'Revisited: Inside the ’Ndrangheta trial', 'Revisited: The pandemic scam artists making millions during lockdown', 'Revisited: why has the Brazilian butt lift become so popular?', 'A Paralympian’s long journey to Tokyo', 'The Plymouth attack and misogynist ‘incel’ culture', 'How the pandemic exposed the crisis in children’s social care', 'How the Taliban took Afghanistan', 'After ICU: a Covid patient meets one of the doctors who saved his life', 'The fall of Andrew Cuomo', 'Has the Delta variant derailed Australia’s zero-Covid strategy?', 'Scientists issue a climate code red', 'Israel’s shadow war with Iran', 'In search of answers about miscarriage', 'Racism, policing and austerity: have lessons been learned since England’s 2011 riots?', 'Why a Belarusian Olympic sprinter refused to fly home', 'How Simone Biles changed gymnastics – on and off the mat', 'Are plans to change the Official Secrets Act a threat to journalism?', 'Why did Unesco drop Liverpool from its heritage list?', 'How we all got hooked on caffeine', 'The lobbying push that killed off a fight to save the Great Barrier Reef', 'The Republican backlash in Joe Biden’s America', 'The pandemic enters a new phase', 'The authority gap: why women still aren’t taken seriously', 'The Pegasus project part 5: the fightback against private spyware begins', 'The Pegasus project part 4: runaway princesses and the UK connection', 'The Pegasus project part 3: cartels, corruption and cyber-weapons', 'The Pegasus project part 2: cat and mouse', 'The Pegasus project part 1: an invitation to Paris', 'Marina Hyde on the political circus of the last five years ', 'Inside the mind of an Olympic athlete one week before the games', 'The heatwave forcing America to confront climate reality', 'Is it possible to make the internet safe for children?']\n",
      "\n",
      "\n",
      "--> We are now at the headline: <a aria-hidden=\"true\" class=\"u-faux-block-link__overlay js-headline-text\" data-link-name=\"article\" href=\"https://www.theguardian.com/news/audio/2021/jul/12/the-people-searching-for-missing-family-members-during-the-pandemic\" tabindex=\"-1\">The people searching for missing family members during the pandemic</a>\n",
      "--> Without the HTML around it looks like this: The people searching for missing family members during the pandemic\n",
      "--> This is now the content of data: ['Newcastle fans think they’ve got their club back. But at what cost?', 'Has England gone back to the office?', 'What went wrong with the UK’s handling of the Covid pandemic?', 'Dubai’s ruler and the Pegasus phone hacking exposed in a UK court', 'The countdown to Cop26: can world leaders save the planet?', 'The whistleblower who plunged Facebook into crisis', 'Can women trust the police?', 'Why everything you’ve heard about panic buying might be wrong', 'The Pandora papers: who’s giving money to the Conservatives?', 'Inside the Pandora papers – financial secrets of the rich and powerful', 'Boris Johnson wants a conference reset. Will reality ruin it?', 'The conviction of R Kelly', 'Can China help end the world’s addiction to coal?', 'Bond is back. Where’s he going next?', 'The Pegasus project: hacked in London', 'Keir Starmer’s make-or-break conference week', 'The energy crisis no one saw coming', 'Germany decides: who will follow Angela Merkel?', 'Going nuclear: the secret submarine deal to challenge China ', 'Finally! Get ready for a new season of culture', 'The murder of Fikile: the woman who took on a coal mine', 'The problem with OnlyFans’ mainstream dream', 'Who’s paying for the government’s plan to fix social care?', 'Is Brexit the reason McDonald’s is running out of milkshakes?', 'Ecstasy, LSD and magic mushrooms: are these drugs the future of therapy?', 'A conversation about Islamophobia in the UK since 9/11', 'Inside Al-Qaida: a recruit-turned-spy, a journalist and the road to 9/11', 'The children of 9/11', 'Burnout in the US battle against wildfires', 'One hour to escape: the race to get out of a Gaza tower before an Israeli airstrike', 'One man’s epic electric test drive – from Land’s End to John o’Groats', 'The big coronavirus questions as a new school term begins', 'The British citizens left behind in Kabul', 'The knock: the families torn apart by an arrest over child abuse images', 'Revisited: how meme stars of the early internet struck it rich with NFTs', 'Revisited: Why is Sex and the City coming back to our screens?', 'Revisited: the danger – and beauty – of ultrarunning', 'Revisited: Inside the ’Ndrangheta trial', 'Revisited: The pandemic scam artists making millions during lockdown', 'Revisited: why has the Brazilian butt lift become so popular?', 'A Paralympian’s long journey to Tokyo', 'The Plymouth attack and misogynist ‘incel’ culture', 'How the pandemic exposed the crisis in children’s social care', 'How the Taliban took Afghanistan', 'After ICU: a Covid patient meets one of the doctors who saved his life', 'The fall of Andrew Cuomo', 'Has the Delta variant derailed Australia’s zero-Covid strategy?', 'Scientists issue a climate code red', 'Israel’s shadow war with Iran', 'In search of answers about miscarriage', 'Racism, policing and austerity: have lessons been learned since England’s 2011 riots?', 'Why a Belarusian Olympic sprinter refused to fly home', 'How Simone Biles changed gymnastics – on and off the mat', 'Are plans to change the Official Secrets Act a threat to journalism?', 'Why did Unesco drop Liverpool from its heritage list?', 'How we all got hooked on caffeine', 'The lobbying push that killed off a fight to save the Great Barrier Reef', 'The Republican backlash in Joe Biden’s America', 'The pandemic enters a new phase', 'The authority gap: why women still aren’t taken seriously', 'The Pegasus project part 5: the fightback against private spyware begins', 'The Pegasus project part 4: runaway princesses and the UK connection', 'The Pegasus project part 3: cartels, corruption and cyber-weapons', 'The Pegasus project part 2: cat and mouse', 'The Pegasus project part 1: an invitation to Paris', 'Marina Hyde on the political circus of the last five years ', 'Inside the mind of an Olympic athlete one week before the games', 'The heatwave forcing America to confront climate reality', 'Is it possible to make the internet safe for children?', 'The people searching for missing family members during the pandemic']\n",
      "\n",
      "\n",
      "--> We are now at the headline: <a aria-hidden=\"true\" class=\"u-faux-block-link__overlay js-headline-text\" data-link-name=\"article\" href=\"https://www.theguardian.com/news/audio/2021/jul/09/indigenous-children-who-died-canada-residential-schools-podcast\" tabindex=\"-1\">The Indigenous children who died at Canada’s residential schools</a>\n",
      "--> Without the HTML around it looks like this: The Indigenous children who died at Canada’s residential schools\n",
      "--> This is now the content of data: ['Newcastle fans think they’ve got their club back. But at what cost?', 'Has England gone back to the office?', 'What went wrong with the UK’s handling of the Covid pandemic?', 'Dubai’s ruler and the Pegasus phone hacking exposed in a UK court', 'The countdown to Cop26: can world leaders save the planet?', 'The whistleblower who plunged Facebook into crisis', 'Can women trust the police?', 'Why everything you’ve heard about panic buying might be wrong', 'The Pandora papers: who’s giving money to the Conservatives?', 'Inside the Pandora papers – financial secrets of the rich and powerful', 'Boris Johnson wants a conference reset. Will reality ruin it?', 'The conviction of R Kelly', 'Can China help end the world’s addiction to coal?', 'Bond is back. Where’s he going next?', 'The Pegasus project: hacked in London', 'Keir Starmer’s make-or-break conference week', 'The energy crisis no one saw coming', 'Germany decides: who will follow Angela Merkel?', 'Going nuclear: the secret submarine deal to challenge China ', 'Finally! Get ready for a new season of culture', 'The murder of Fikile: the woman who took on a coal mine', 'The problem with OnlyFans’ mainstream dream', 'Who’s paying for the government’s plan to fix social care?', 'Is Brexit the reason McDonald’s is running out of milkshakes?', 'Ecstasy, LSD and magic mushrooms: are these drugs the future of therapy?', 'A conversation about Islamophobia in the UK since 9/11', 'Inside Al-Qaida: a recruit-turned-spy, a journalist and the road to 9/11', 'The children of 9/11', 'Burnout in the US battle against wildfires', 'One hour to escape: the race to get out of a Gaza tower before an Israeli airstrike', 'One man’s epic electric test drive – from Land’s End to John o’Groats', 'The big coronavirus questions as a new school term begins', 'The British citizens left behind in Kabul', 'The knock: the families torn apart by an arrest over child abuse images', 'Revisited: how meme stars of the early internet struck it rich with NFTs', 'Revisited: Why is Sex and the City coming back to our screens?', 'Revisited: the danger – and beauty – of ultrarunning', 'Revisited: Inside the ’Ndrangheta trial', 'Revisited: The pandemic scam artists making millions during lockdown', 'Revisited: why has the Brazilian butt lift become so popular?', 'A Paralympian’s long journey to Tokyo', 'The Plymouth attack and misogynist ‘incel’ culture', 'How the pandemic exposed the crisis in children’s social care', 'How the Taliban took Afghanistan', 'After ICU: a Covid patient meets one of the doctors who saved his life', 'The fall of Andrew Cuomo', 'Has the Delta variant derailed Australia’s zero-Covid strategy?', 'Scientists issue a climate code red', 'Israel’s shadow war with Iran', 'In search of answers about miscarriage', 'Racism, policing and austerity: have lessons been learned since England’s 2011 riots?', 'Why a Belarusian Olympic sprinter refused to fly home', 'How Simone Biles changed gymnastics – on and off the mat', 'Are plans to change the Official Secrets Act a threat to journalism?', 'Why did Unesco drop Liverpool from its heritage list?', 'How we all got hooked on caffeine', 'The lobbying push that killed off a fight to save the Great Barrier Reef', 'The Republican backlash in Joe Biden’s America', 'The pandemic enters a new phase', 'The authority gap: why women still aren’t taken seriously', 'The Pegasus project part 5: the fightback against private spyware begins', 'The Pegasus project part 4: runaway princesses and the UK connection', 'The Pegasus project part 3: cartels, corruption and cyber-weapons', 'The Pegasus project part 2: cat and mouse', 'The Pegasus project part 1: an invitation to Paris', 'Marina Hyde on the political circus of the last five years ', 'Inside the mind of an Olympic athlete one week before the games', 'The heatwave forcing America to confront climate reality', 'Is it possible to make the internet safe for children?', 'The people searching for missing family members during the pandemic', 'The Indigenous children who died at Canada’s residential schools']\n",
      "\n",
      "\n",
      "--> We are now at the headline: <a aria-hidden=\"true\" class=\"u-faux-block-link__overlay js-headline-text\" data-link-name=\"article\" href=\"https://www.theguardian.com/news/audio/2021/jul/08/the-governments-review-an-apology-but-will-anything-change-podcast\" tabindex=\"-1\">The government’s rape review: an apology, but will anything change?</a>\n",
      "--> Without the HTML around it looks like this: The government’s rape review: an apology, but will anything change?\n",
      "--> This is now the content of data: ['Newcastle fans think they’ve got their club back. But at what cost?', 'Has England gone back to the office?', 'What went wrong with the UK’s handling of the Covid pandemic?', 'Dubai’s ruler and the Pegasus phone hacking exposed in a UK court', 'The countdown to Cop26: can world leaders save the planet?', 'The whistleblower who plunged Facebook into crisis', 'Can women trust the police?', 'Why everything you’ve heard about panic buying might be wrong', 'The Pandora papers: who’s giving money to the Conservatives?', 'Inside the Pandora papers – financial secrets of the rich and powerful', 'Boris Johnson wants a conference reset. Will reality ruin it?', 'The conviction of R Kelly', 'Can China help end the world’s addiction to coal?', 'Bond is back. Where’s he going next?', 'The Pegasus project: hacked in London', 'Keir Starmer’s make-or-break conference week', 'The energy crisis no one saw coming', 'Germany decides: who will follow Angela Merkel?', 'Going nuclear: the secret submarine deal to challenge China ', 'Finally! Get ready for a new season of culture', 'The murder of Fikile: the woman who took on a coal mine', 'The problem with OnlyFans’ mainstream dream', 'Who’s paying for the government’s plan to fix social care?', 'Is Brexit the reason McDonald’s is running out of milkshakes?', 'Ecstasy, LSD and magic mushrooms: are these drugs the future of therapy?', 'A conversation about Islamophobia in the UK since 9/11', 'Inside Al-Qaida: a recruit-turned-spy, a journalist and the road to 9/11', 'The children of 9/11', 'Burnout in the US battle against wildfires', 'One hour to escape: the race to get out of a Gaza tower before an Israeli airstrike', 'One man’s epic electric test drive – from Land’s End to John o’Groats', 'The big coronavirus questions as a new school term begins', 'The British citizens left behind in Kabul', 'The knock: the families torn apart by an arrest over child abuse images', 'Revisited: how meme stars of the early internet struck it rich with NFTs', 'Revisited: Why is Sex and the City coming back to our screens?', 'Revisited: the danger – and beauty – of ultrarunning', 'Revisited: Inside the ’Ndrangheta trial', 'Revisited: The pandemic scam artists making millions during lockdown', 'Revisited: why has the Brazilian butt lift become so popular?', 'A Paralympian’s long journey to Tokyo', 'The Plymouth attack and misogynist ‘incel’ culture', 'How the pandemic exposed the crisis in children’s social care', 'How the Taliban took Afghanistan', 'After ICU: a Covid patient meets one of the doctors who saved his life', 'The fall of Andrew Cuomo', 'Has the Delta variant derailed Australia’s zero-Covid strategy?', 'Scientists issue a climate code red', 'Israel’s shadow war with Iran', 'In search of answers about miscarriage', 'Racism, policing and austerity: have lessons been learned since England’s 2011 riots?', 'Why a Belarusian Olympic sprinter refused to fly home', 'How Simone Biles changed gymnastics – on and off the mat', 'Are plans to change the Official Secrets Act a threat to journalism?', 'Why did Unesco drop Liverpool from its heritage list?', 'How we all got hooked on caffeine', 'The lobbying push that killed off a fight to save the Great Barrier Reef', 'The Republican backlash in Joe Biden’s America', 'The pandemic enters a new phase', 'The authority gap: why women still aren’t taken seriously', 'The Pegasus project part 5: the fightback against private spyware begins', 'The Pegasus project part 4: runaway princesses and the UK connection', 'The Pegasus project part 3: cartels, corruption and cyber-weapons', 'The Pegasus project part 2: cat and mouse', 'The Pegasus project part 1: an invitation to Paris', 'Marina Hyde on the political circus of the last five years ', 'Inside the mind of an Olympic athlete one week before the games', 'The heatwave forcing America to confront climate reality', 'Is it possible to make the internet safe for children?', 'The people searching for missing family members during the pandemic', 'The Indigenous children who died at Canada’s residential schools', 'The government’s rape review: an apology, but will anything change?']\n",
      "\n",
      "\n",
      "--> We are now at the headline: <a aria-hidden=\"true\" class=\"u-faux-block-link__overlay js-headline-text\" data-link-name=\"article\" href=\"https://www.theguardian.com/news/audio/2021/jul/07/euro-2020-what-would-it-mean-england-win-podcast\" tabindex=\"-1\">Euro 2020: what would it mean if England could actually … win?</a>\n",
      "--> Without the HTML around it looks like this: Euro 2020: what would it mean if England could actually … win?\n",
      "--> This is now the content of data: ['Newcastle fans think they’ve got their club back. But at what cost?', 'Has England gone back to the office?', 'What went wrong with the UK’s handling of the Covid pandemic?', 'Dubai’s ruler and the Pegasus phone hacking exposed in a UK court', 'The countdown to Cop26: can world leaders save the planet?', 'The whistleblower who plunged Facebook into crisis', 'Can women trust the police?', 'Why everything you’ve heard about panic buying might be wrong', 'The Pandora papers: who’s giving money to the Conservatives?', 'Inside the Pandora papers – financial secrets of the rich and powerful', 'Boris Johnson wants a conference reset. Will reality ruin it?', 'The conviction of R Kelly', 'Can China help end the world’s addiction to coal?', 'Bond is back. Where’s he going next?', 'The Pegasus project: hacked in London', 'Keir Starmer’s make-or-break conference week', 'The energy crisis no one saw coming', 'Germany decides: who will follow Angela Merkel?', 'Going nuclear: the secret submarine deal to challenge China ', 'Finally! Get ready for a new season of culture', 'The murder of Fikile: the woman who took on a coal mine', 'The problem with OnlyFans’ mainstream dream', 'Who’s paying for the government’s plan to fix social care?', 'Is Brexit the reason McDonald’s is running out of milkshakes?', 'Ecstasy, LSD and magic mushrooms: are these drugs the future of therapy?', 'A conversation about Islamophobia in the UK since 9/11', 'Inside Al-Qaida: a recruit-turned-spy, a journalist and the road to 9/11', 'The children of 9/11', 'Burnout in the US battle against wildfires', 'One hour to escape: the race to get out of a Gaza tower before an Israeli airstrike', 'One man’s epic electric test drive – from Land’s End to John o’Groats', 'The big coronavirus questions as a new school term begins', 'The British citizens left behind in Kabul', 'The knock: the families torn apart by an arrest over child abuse images', 'Revisited: how meme stars of the early internet struck it rich with NFTs', 'Revisited: Why is Sex and the City coming back to our screens?', 'Revisited: the danger – and beauty – of ultrarunning', 'Revisited: Inside the ’Ndrangheta trial', 'Revisited: The pandemic scam artists making millions during lockdown', 'Revisited: why has the Brazilian butt lift become so popular?', 'A Paralympian’s long journey to Tokyo', 'The Plymouth attack and misogynist ‘incel’ culture', 'How the pandemic exposed the crisis in children’s social care', 'How the Taliban took Afghanistan', 'After ICU: a Covid patient meets one of the doctors who saved his life', 'The fall of Andrew Cuomo', 'Has the Delta variant derailed Australia’s zero-Covid strategy?', 'Scientists issue a climate code red', 'Israel’s shadow war with Iran', 'In search of answers about miscarriage', 'Racism, policing and austerity: have lessons been learned since England’s 2011 riots?', 'Why a Belarusian Olympic sprinter refused to fly home', 'How Simone Biles changed gymnastics – on and off the mat', 'Are plans to change the Official Secrets Act a threat to journalism?', 'Why did Unesco drop Liverpool from its heritage list?', 'How we all got hooked on caffeine', 'The lobbying push that killed off a fight to save the Great Barrier Reef', 'The Republican backlash in Joe Biden’s America', 'The pandemic enters a new phase', 'The authority gap: why women still aren’t taken seriously', 'The Pegasus project part 5: the fightback against private spyware begins', 'The Pegasus project part 4: runaway princesses and the UK connection', 'The Pegasus project part 3: cartels, corruption and cyber-weapons', 'The Pegasus project part 2: cat and mouse', 'The Pegasus project part 1: an invitation to Paris', 'Marina Hyde on the political circus of the last five years ', 'Inside the mind of an Olympic athlete one week before the games', 'The heatwave forcing America to confront climate reality', 'Is it possible to make the internet safe for children?', 'The people searching for missing family members during the pandemic', 'The Indigenous children who died at Canada’s residential schools', 'The government’s rape review: an apology, but will anything change?', 'Euro 2020: what would it mean if England could actually … win?']\n",
      "\n",
      "\n",
      "--> We are now at the headline: <a aria-hidden=\"true\" class=\"u-faux-block-link__overlay js-headline-text\" data-link-name=\"article\" href=\"https://www.theguardian.com/news/audio/2021/jul/06/after-grenfell-the-fire-safety-scandal-still-affecting-thousands-of-residents-podcast\" tabindex=\"-1\">After Grenfell: the unsolved cladding crisis</a>\n",
      "--> Without the HTML around it looks like this: After Grenfell: the unsolved cladding crisis\n",
      "--> This is now the content of data: ['Newcastle fans think they’ve got their club back. But at what cost?', 'Has England gone back to the office?', 'What went wrong with the UK’s handling of the Covid pandemic?', 'Dubai’s ruler and the Pegasus phone hacking exposed in a UK court', 'The countdown to Cop26: can world leaders save the planet?', 'The whistleblower who plunged Facebook into crisis', 'Can women trust the police?', 'Why everything you’ve heard about panic buying might be wrong', 'The Pandora papers: who’s giving money to the Conservatives?', 'Inside the Pandora papers – financial secrets of the rich and powerful', 'Boris Johnson wants a conference reset. Will reality ruin it?', 'The conviction of R Kelly', 'Can China help end the world’s addiction to coal?', 'Bond is back. Where’s he going next?', 'The Pegasus project: hacked in London', 'Keir Starmer’s make-or-break conference week', 'The energy crisis no one saw coming', 'Germany decides: who will follow Angela Merkel?', 'Going nuclear: the secret submarine deal to challenge China ', 'Finally! Get ready for a new season of culture', 'The murder of Fikile: the woman who took on a coal mine', 'The problem with OnlyFans’ mainstream dream', 'Who’s paying for the government’s plan to fix social care?', 'Is Brexit the reason McDonald’s is running out of milkshakes?', 'Ecstasy, LSD and magic mushrooms: are these drugs the future of therapy?', 'A conversation about Islamophobia in the UK since 9/11', 'Inside Al-Qaida: a recruit-turned-spy, a journalist and the road to 9/11', 'The children of 9/11', 'Burnout in the US battle against wildfires', 'One hour to escape: the race to get out of a Gaza tower before an Israeli airstrike', 'One man’s epic electric test drive – from Land’s End to John o’Groats', 'The big coronavirus questions as a new school term begins', 'The British citizens left behind in Kabul', 'The knock: the families torn apart by an arrest over child abuse images', 'Revisited: how meme stars of the early internet struck it rich with NFTs', 'Revisited: Why is Sex and the City coming back to our screens?', 'Revisited: the danger – and beauty – of ultrarunning', 'Revisited: Inside the ’Ndrangheta trial', 'Revisited: The pandemic scam artists making millions during lockdown', 'Revisited: why has the Brazilian butt lift become so popular?', 'A Paralympian’s long journey to Tokyo', 'The Plymouth attack and misogynist ‘incel’ culture', 'How the pandemic exposed the crisis in children’s social care', 'How the Taliban took Afghanistan', 'After ICU: a Covid patient meets one of the doctors who saved his life', 'The fall of Andrew Cuomo', 'Has the Delta variant derailed Australia’s zero-Covid strategy?', 'Scientists issue a climate code red', 'Israel’s shadow war with Iran', 'In search of answers about miscarriage', 'Racism, policing and austerity: have lessons been learned since England’s 2011 riots?', 'Why a Belarusian Olympic sprinter refused to fly home', 'How Simone Biles changed gymnastics – on and off the mat', 'Are plans to change the Official Secrets Act a threat to journalism?', 'Why did Unesco drop Liverpool from its heritage list?', 'How we all got hooked on caffeine', 'The lobbying push that killed off a fight to save the Great Barrier Reef', 'The Republican backlash in Joe Biden’s America', 'The pandemic enters a new phase', 'The authority gap: why women still aren’t taken seriously', 'The Pegasus project part 5: the fightback against private spyware begins', 'The Pegasus project part 4: runaway princesses and the UK connection', 'The Pegasus project part 3: cartels, corruption and cyber-weapons', 'The Pegasus project part 2: cat and mouse', 'The Pegasus project part 1: an invitation to Paris', 'Marina Hyde on the political circus of the last five years ', 'Inside the mind of an Olympic athlete one week before the games', 'The heatwave forcing America to confront climate reality', 'Is it possible to make the internet safe for children?', 'The people searching for missing family members during the pandemic', 'The Indigenous children who died at Canada’s residential schools', 'The government’s rape review: an apology, but will anything change?', 'Euro 2020: what would it mean if England could actually … win?', 'After Grenfell: the unsolved cladding crisis']\n",
      "\n",
      "\n",
      "--> We are now at the headline: <a aria-hidden=\"true\" class=\"u-faux-block-link__overlay js-headline-text\" data-link-name=\"article\" href=\"https://www.theguardian.com/news/audio/2021/jul/05/why-do-powerful-men-have-affairs\" tabindex=\"-1\">Why do powerful men have affairs?</a>\n",
      "--> Without the HTML around it looks like this: Why do powerful men have affairs?\n",
      "--> This is now the content of data: ['Newcastle fans think they’ve got their club back. But at what cost?', 'Has England gone back to the office?', 'What went wrong with the UK’s handling of the Covid pandemic?', 'Dubai’s ruler and the Pegasus phone hacking exposed in a UK court', 'The countdown to Cop26: can world leaders save the planet?', 'The whistleblower who plunged Facebook into crisis', 'Can women trust the police?', 'Why everything you’ve heard about panic buying might be wrong', 'The Pandora papers: who’s giving money to the Conservatives?', 'Inside the Pandora papers – financial secrets of the rich and powerful', 'Boris Johnson wants a conference reset. Will reality ruin it?', 'The conviction of R Kelly', 'Can China help end the world’s addiction to coal?', 'Bond is back. Where’s he going next?', 'The Pegasus project: hacked in London', 'Keir Starmer’s make-or-break conference week', 'The energy crisis no one saw coming', 'Germany decides: who will follow Angela Merkel?', 'Going nuclear: the secret submarine deal to challenge China ', 'Finally! Get ready for a new season of culture', 'The murder of Fikile: the woman who took on a coal mine', 'The problem with OnlyFans’ mainstream dream', 'Who’s paying for the government’s plan to fix social care?', 'Is Brexit the reason McDonald’s is running out of milkshakes?', 'Ecstasy, LSD and magic mushrooms: are these drugs the future of therapy?', 'A conversation about Islamophobia in the UK since 9/11', 'Inside Al-Qaida: a recruit-turned-spy, a journalist and the road to 9/11', 'The children of 9/11', 'Burnout in the US battle against wildfires', 'One hour to escape: the race to get out of a Gaza tower before an Israeli airstrike', 'One man’s epic electric test drive – from Land’s End to John o’Groats', 'The big coronavirus questions as a new school term begins', 'The British citizens left behind in Kabul', 'The knock: the families torn apart by an arrest over child abuse images', 'Revisited: how meme stars of the early internet struck it rich with NFTs', 'Revisited: Why is Sex and the City coming back to our screens?', 'Revisited: the danger – and beauty – of ultrarunning', 'Revisited: Inside the ’Ndrangheta trial', 'Revisited: The pandemic scam artists making millions during lockdown', 'Revisited: why has the Brazilian butt lift become so popular?', 'A Paralympian’s long journey to Tokyo', 'The Plymouth attack and misogynist ‘incel’ culture', 'How the pandemic exposed the crisis in children’s social care', 'How the Taliban took Afghanistan', 'After ICU: a Covid patient meets one of the doctors who saved his life', 'The fall of Andrew Cuomo', 'Has the Delta variant derailed Australia’s zero-Covid strategy?', 'Scientists issue a climate code red', 'Israel’s shadow war with Iran', 'In search of answers about miscarriage', 'Racism, policing and austerity: have lessons been learned since England’s 2011 riots?', 'Why a Belarusian Olympic sprinter refused to fly home', 'How Simone Biles changed gymnastics – on and off the mat', 'Are plans to change the Official Secrets Act a threat to journalism?', 'Why did Unesco drop Liverpool from its heritage list?', 'How we all got hooked on caffeine', 'The lobbying push that killed off a fight to save the Great Barrier Reef', 'The Republican backlash in Joe Biden’s America', 'The pandemic enters a new phase', 'The authority gap: why women still aren’t taken seriously', 'The Pegasus project part 5: the fightback against private spyware begins', 'The Pegasus project part 4: runaway princesses and the UK connection', 'The Pegasus project part 3: cartels, corruption and cyber-weapons', 'The Pegasus project part 2: cat and mouse', 'The Pegasus project part 1: an invitation to Paris', 'Marina Hyde on the political circus of the last five years ', 'Inside the mind of an Olympic athlete one week before the games', 'The heatwave forcing America to confront climate reality', 'Is it possible to make the internet safe for children?', 'The people searching for missing family members during the pandemic', 'The Indigenous children who died at Canada’s residential schools', 'The government’s rape review: an apology, but will anything change?', 'Euro 2020: what would it mean if England could actually … win?', 'After Grenfell: the unsolved cladding crisis', 'Why do powerful men have affairs?']\n",
      "\n",
      "\n",
      "--> We are now at the headline: <a aria-hidden=\"true\" class=\"u-faux-block-link__overlay js-headline-text\" data-link-name=\"article\" href=\"https://www.theguardian.com/news/audio/2021/jul/02/britney-spears-battle-to-take-back-control-of-her-life-and-fortune-podcast\" tabindex=\"-1\">Britney Spears’ battle to take back control of her life and fortune</a>\n",
      "--> Without the HTML around it looks like this: Britney Spears’ battle to take back control of her life and fortune\n",
      "--> This is now the content of data: ['Newcastle fans think they’ve got their club back. But at what cost?', 'Has England gone back to the office?', 'What went wrong with the UK’s handling of the Covid pandemic?', 'Dubai’s ruler and the Pegasus phone hacking exposed in a UK court', 'The countdown to Cop26: can world leaders save the planet?', 'The whistleblower who plunged Facebook into crisis', 'Can women trust the police?', 'Why everything you’ve heard about panic buying might be wrong', 'The Pandora papers: who’s giving money to the Conservatives?', 'Inside the Pandora papers – financial secrets of the rich and powerful', 'Boris Johnson wants a conference reset. Will reality ruin it?', 'The conviction of R Kelly', 'Can China help end the world’s addiction to coal?', 'Bond is back. Where’s he going next?', 'The Pegasus project: hacked in London', 'Keir Starmer’s make-or-break conference week', 'The energy crisis no one saw coming', 'Germany decides: who will follow Angela Merkel?', 'Going nuclear: the secret submarine deal to challenge China ', 'Finally! Get ready for a new season of culture', 'The murder of Fikile: the woman who took on a coal mine', 'The problem with OnlyFans’ mainstream dream', 'Who’s paying for the government’s plan to fix social care?', 'Is Brexit the reason McDonald’s is running out of milkshakes?', 'Ecstasy, LSD and magic mushrooms: are these drugs the future of therapy?', 'A conversation about Islamophobia in the UK since 9/11', 'Inside Al-Qaida: a recruit-turned-spy, a journalist and the road to 9/11', 'The children of 9/11', 'Burnout in the US battle against wildfires', 'One hour to escape: the race to get out of a Gaza tower before an Israeli airstrike', 'One man’s epic electric test drive – from Land’s End to John o’Groats', 'The big coronavirus questions as a new school term begins', 'The British citizens left behind in Kabul', 'The knock: the families torn apart by an arrest over child abuse images', 'Revisited: how meme stars of the early internet struck it rich with NFTs', 'Revisited: Why is Sex and the City coming back to our screens?', 'Revisited: the danger – and beauty – of ultrarunning', 'Revisited: Inside the ’Ndrangheta trial', 'Revisited: The pandemic scam artists making millions during lockdown', 'Revisited: why has the Brazilian butt lift become so popular?', 'A Paralympian’s long journey to Tokyo', 'The Plymouth attack and misogynist ‘incel’ culture', 'How the pandemic exposed the crisis in children’s social care', 'How the Taliban took Afghanistan', 'After ICU: a Covid patient meets one of the doctors who saved his life', 'The fall of Andrew Cuomo', 'Has the Delta variant derailed Australia’s zero-Covid strategy?', 'Scientists issue a climate code red', 'Israel’s shadow war with Iran', 'In search of answers about miscarriage', 'Racism, policing and austerity: have lessons been learned since England’s 2011 riots?', 'Why a Belarusian Olympic sprinter refused to fly home', 'How Simone Biles changed gymnastics – on and off the mat', 'Are plans to change the Official Secrets Act a threat to journalism?', 'Why did Unesco drop Liverpool from its heritage list?', 'How we all got hooked on caffeine', 'The lobbying push that killed off a fight to save the Great Barrier Reef', 'The Republican backlash in Joe Biden’s America', 'The pandemic enters a new phase', 'The authority gap: why women still aren’t taken seriously', 'The Pegasus project part 5: the fightback against private spyware begins', 'The Pegasus project part 4: runaway princesses and the UK connection', 'The Pegasus project part 3: cartels, corruption and cyber-weapons', 'The Pegasus project part 2: cat and mouse', 'The Pegasus project part 1: an invitation to Paris', 'Marina Hyde on the political circus of the last five years ', 'Inside the mind of an Olympic athlete one week before the games', 'The heatwave forcing America to confront climate reality', 'Is it possible to make the internet safe for children?', 'The people searching for missing family members during the pandemic', 'The Indigenous children who died at Canada’s residential schools', 'The government’s rape review: an apology, but will anything change?', 'Euro 2020: what would it mean if England could actually … win?', 'After Grenfell: the unsolved cladding crisis', 'Why do powerful men have affairs?', 'Britney Spears’ battle to take back control of her life and fortune']\n",
      "\n",
      "\n",
      "--> We are now at the headline: <a aria-hidden=\"true\" class=\"u-faux-block-link__overlay js-headline-text\" data-link-name=\"article\" href=\"https://www.theguardian.com/news/audio/2021/jul/01/how-a-pro-democracy-newspaper-in-hong-kong-died\" tabindex=\"-1\">How a pro-democracy newspaper in Hong Kong died</a>\n",
      "--> Without the HTML around it looks like this: How a pro-democracy newspaper in Hong Kong died\n",
      "--> This is now the content of data: ['Newcastle fans think they’ve got their club back. But at what cost?', 'Has England gone back to the office?', 'What went wrong with the UK’s handling of the Covid pandemic?', 'Dubai’s ruler and the Pegasus phone hacking exposed in a UK court', 'The countdown to Cop26: can world leaders save the planet?', 'The whistleblower who plunged Facebook into crisis', 'Can women trust the police?', 'Why everything you’ve heard about panic buying might be wrong', 'The Pandora papers: who’s giving money to the Conservatives?', 'Inside the Pandora papers – financial secrets of the rich and powerful', 'Boris Johnson wants a conference reset. Will reality ruin it?', 'The conviction of R Kelly', 'Can China help end the world’s addiction to coal?', 'Bond is back. Where’s he going next?', 'The Pegasus project: hacked in London', 'Keir Starmer’s make-or-break conference week', 'The energy crisis no one saw coming', 'Germany decides: who will follow Angela Merkel?', 'Going nuclear: the secret submarine deal to challenge China ', 'Finally! Get ready for a new season of culture', 'The murder of Fikile: the woman who took on a coal mine', 'The problem with OnlyFans’ mainstream dream', 'Who’s paying for the government’s plan to fix social care?', 'Is Brexit the reason McDonald’s is running out of milkshakes?', 'Ecstasy, LSD and magic mushrooms: are these drugs the future of therapy?', 'A conversation about Islamophobia in the UK since 9/11', 'Inside Al-Qaida: a recruit-turned-spy, a journalist and the road to 9/11', 'The children of 9/11', 'Burnout in the US battle against wildfires', 'One hour to escape: the race to get out of a Gaza tower before an Israeli airstrike', 'One man’s epic electric test drive – from Land’s End to John o’Groats', 'The big coronavirus questions as a new school term begins', 'The British citizens left behind in Kabul', 'The knock: the families torn apart by an arrest over child abuse images', 'Revisited: how meme stars of the early internet struck it rich with NFTs', 'Revisited: Why is Sex and the City coming back to our screens?', 'Revisited: the danger – and beauty – of ultrarunning', 'Revisited: Inside the ’Ndrangheta trial', 'Revisited: The pandemic scam artists making millions during lockdown', 'Revisited: why has the Brazilian butt lift become so popular?', 'A Paralympian’s long journey to Tokyo', 'The Plymouth attack and misogynist ‘incel’ culture', 'How the pandemic exposed the crisis in children’s social care', 'How the Taliban took Afghanistan', 'After ICU: a Covid patient meets one of the doctors who saved his life', 'The fall of Andrew Cuomo', 'Has the Delta variant derailed Australia’s zero-Covid strategy?', 'Scientists issue a climate code red', 'Israel’s shadow war with Iran', 'In search of answers about miscarriage', 'Racism, policing and austerity: have lessons been learned since England’s 2011 riots?', 'Why a Belarusian Olympic sprinter refused to fly home', 'How Simone Biles changed gymnastics – on and off the mat', 'Are plans to change the Official Secrets Act a threat to journalism?', 'Why did Unesco drop Liverpool from its heritage list?', 'How we all got hooked on caffeine', 'The lobbying push that killed off a fight to save the Great Barrier Reef', 'The Republican backlash in Joe Biden’s America', 'The pandemic enters a new phase', 'The authority gap: why women still aren’t taken seriously', 'The Pegasus project part 5: the fightback against private spyware begins', 'The Pegasus project part 4: runaway princesses and the UK connection', 'The Pegasus project part 3: cartels, corruption and cyber-weapons', 'The Pegasus project part 2: cat and mouse', 'The Pegasus project part 1: an invitation to Paris', 'Marina Hyde on the political circus of the last five years ', 'Inside the mind of an Olympic athlete one week before the games', 'The heatwave forcing America to confront climate reality', 'Is it possible to make the internet safe for children?', 'The people searching for missing family members during the pandemic', 'The Indigenous children who died at Canada’s residential schools', 'The government’s rape review: an apology, but will anything change?', 'Euro 2020: what would it mean if England could actually … win?', 'After Grenfell: the unsolved cladding crisis', 'Why do powerful men have affairs?', 'Britney Spears’ battle to take back control of her life and fortune', 'How a pro-democracy newspaper in Hong Kong died']\n",
      "\n",
      "\n",
      "--> We are now at the headline: <a aria-hidden=\"true\" class=\"u-faux-block-link__overlay js-headline-text\" data-link-name=\"article\" href=\"https://www.theguardian.com/news/audio/2021/jun/30/how-the-batley-and-spen-byelection-turned-toxic\" tabindex=\"-1\">How the Batley and Spen byelection turned toxic</a>\n",
      "--> Without the HTML around it looks like this: How the Batley and Spen byelection turned toxic\n",
      "--> This is now the content of data: ['Newcastle fans think they’ve got their club back. But at what cost?', 'Has England gone back to the office?', 'What went wrong with the UK’s handling of the Covid pandemic?', 'Dubai’s ruler and the Pegasus phone hacking exposed in a UK court', 'The countdown to Cop26: can world leaders save the planet?', 'The whistleblower who plunged Facebook into crisis', 'Can women trust the police?', 'Why everything you’ve heard about panic buying might be wrong', 'The Pandora papers: who’s giving money to the Conservatives?', 'Inside the Pandora papers – financial secrets of the rich and powerful', 'Boris Johnson wants a conference reset. Will reality ruin it?', 'The conviction of R Kelly', 'Can China help end the world’s addiction to coal?', 'Bond is back. Where’s he going next?', 'The Pegasus project: hacked in London', 'Keir Starmer’s make-or-break conference week', 'The energy crisis no one saw coming', 'Germany decides: who will follow Angela Merkel?', 'Going nuclear: the secret submarine deal to challenge China ', 'Finally! Get ready for a new season of culture', 'The murder of Fikile: the woman who took on a coal mine', 'The problem with OnlyFans’ mainstream dream', 'Who’s paying for the government’s plan to fix social care?', 'Is Brexit the reason McDonald’s is running out of milkshakes?', 'Ecstasy, LSD and magic mushrooms: are these drugs the future of therapy?', 'A conversation about Islamophobia in the UK since 9/11', 'Inside Al-Qaida: a recruit-turned-spy, a journalist and the road to 9/11', 'The children of 9/11', 'Burnout in the US battle against wildfires', 'One hour to escape: the race to get out of a Gaza tower before an Israeli airstrike', 'One man’s epic electric test drive – from Land’s End to John o’Groats', 'The big coronavirus questions as a new school term begins', 'The British citizens left behind in Kabul', 'The knock: the families torn apart by an arrest over child abuse images', 'Revisited: how meme stars of the early internet struck it rich with NFTs', 'Revisited: Why is Sex and the City coming back to our screens?', 'Revisited: the danger – and beauty – of ultrarunning', 'Revisited: Inside the ’Ndrangheta trial', 'Revisited: The pandemic scam artists making millions during lockdown', 'Revisited: why has the Brazilian butt lift become so popular?', 'A Paralympian’s long journey to Tokyo', 'The Plymouth attack and misogynist ‘incel’ culture', 'How the pandemic exposed the crisis in children’s social care', 'How the Taliban took Afghanistan', 'After ICU: a Covid patient meets one of the doctors who saved his life', 'The fall of Andrew Cuomo', 'Has the Delta variant derailed Australia’s zero-Covid strategy?', 'Scientists issue a climate code red', 'Israel’s shadow war with Iran', 'In search of answers about miscarriage', 'Racism, policing and austerity: have lessons been learned since England’s 2011 riots?', 'Why a Belarusian Olympic sprinter refused to fly home', 'How Simone Biles changed gymnastics – on and off the mat', 'Are plans to change the Official Secrets Act a threat to journalism?', 'Why did Unesco drop Liverpool from its heritage list?', 'How we all got hooked on caffeine', 'The lobbying push that killed off a fight to save the Great Barrier Reef', 'The Republican backlash in Joe Biden’s America', 'The pandemic enters a new phase', 'The authority gap: why women still aren’t taken seriously', 'The Pegasus project part 5: the fightback against private spyware begins', 'The Pegasus project part 4: runaway princesses and the UK connection', 'The Pegasus project part 3: cartels, corruption and cyber-weapons', 'The Pegasus project part 2: cat and mouse', 'The Pegasus project part 1: an invitation to Paris', 'Marina Hyde on the political circus of the last five years ', 'Inside the mind of an Olympic athlete one week before the games', 'The heatwave forcing America to confront climate reality', 'Is it possible to make the internet safe for children?', 'The people searching for missing family members during the pandemic', 'The Indigenous children who died at Canada’s residential schools', 'The government’s rape review: an apology, but will anything change?', 'Euro 2020: what would it mean if England could actually … win?', 'After Grenfell: the unsolved cladding crisis', 'Why do powerful men have affairs?', 'Britney Spears’ battle to take back control of her life and fortune', 'How a pro-democracy newspaper in Hong Kong died', 'How the Batley and Spen byelection turned toxic']\n",
      "\n",
      "\n",
      "--> We are now at the headline: <a aria-hidden=\"true\" class=\"u-faux-block-link__overlay js-headline-text\" data-link-name=\"article\" href=\"https://www.theguardian.com/news/audio/2021/jun/29/matt-hancock-downfall-podcast\" tabindex=\"-1\">Matt Hancock’s downfall </a>\n",
      "--> Without the HTML around it looks like this: Matt Hancock’s downfall \n",
      "--> This is now the content of data: ['Newcastle fans think they’ve got their club back. But at what cost?', 'Has England gone back to the office?', 'What went wrong with the UK’s handling of the Covid pandemic?', 'Dubai’s ruler and the Pegasus phone hacking exposed in a UK court', 'The countdown to Cop26: can world leaders save the planet?', 'The whistleblower who plunged Facebook into crisis', 'Can women trust the police?', 'Why everything you’ve heard about panic buying might be wrong', 'The Pandora papers: who’s giving money to the Conservatives?', 'Inside the Pandora papers – financial secrets of the rich and powerful', 'Boris Johnson wants a conference reset. Will reality ruin it?', 'The conviction of R Kelly', 'Can China help end the world’s addiction to coal?', 'Bond is back. Where’s he going next?', 'The Pegasus project: hacked in London', 'Keir Starmer’s make-or-break conference week', 'The energy crisis no one saw coming', 'Germany decides: who will follow Angela Merkel?', 'Going nuclear: the secret submarine deal to challenge China ', 'Finally! Get ready for a new season of culture', 'The murder of Fikile: the woman who took on a coal mine', 'The problem with OnlyFans’ mainstream dream', 'Who’s paying for the government’s plan to fix social care?', 'Is Brexit the reason McDonald’s is running out of milkshakes?', 'Ecstasy, LSD and magic mushrooms: are these drugs the future of therapy?', 'A conversation about Islamophobia in the UK since 9/11', 'Inside Al-Qaida: a recruit-turned-spy, a journalist and the road to 9/11', 'The children of 9/11', 'Burnout in the US battle against wildfires', 'One hour to escape: the race to get out of a Gaza tower before an Israeli airstrike', 'One man’s epic electric test drive – from Land’s End to John o’Groats', 'The big coronavirus questions as a new school term begins', 'The British citizens left behind in Kabul', 'The knock: the families torn apart by an arrest over child abuse images', 'Revisited: how meme stars of the early internet struck it rich with NFTs', 'Revisited: Why is Sex and the City coming back to our screens?', 'Revisited: the danger – and beauty – of ultrarunning', 'Revisited: Inside the ’Ndrangheta trial', 'Revisited: The pandemic scam artists making millions during lockdown', 'Revisited: why has the Brazilian butt lift become so popular?', 'A Paralympian’s long journey to Tokyo', 'The Plymouth attack and misogynist ‘incel’ culture', 'How the pandemic exposed the crisis in children’s social care', 'How the Taliban took Afghanistan', 'After ICU: a Covid patient meets one of the doctors who saved his life', 'The fall of Andrew Cuomo', 'Has the Delta variant derailed Australia’s zero-Covid strategy?', 'Scientists issue a climate code red', 'Israel’s shadow war with Iran', 'In search of answers about miscarriage', 'Racism, policing and austerity: have lessons been learned since England’s 2011 riots?', 'Why a Belarusian Olympic sprinter refused to fly home', 'How Simone Biles changed gymnastics – on and off the mat', 'Are plans to change the Official Secrets Act a threat to journalism?', 'Why did Unesco drop Liverpool from its heritage list?', 'How we all got hooked on caffeine', 'The lobbying push that killed off a fight to save the Great Barrier Reef', 'The Republican backlash in Joe Biden’s America', 'The pandemic enters a new phase', 'The authority gap: why women still aren’t taken seriously', 'The Pegasus project part 5: the fightback against private spyware begins', 'The Pegasus project part 4: runaway princesses and the UK connection', 'The Pegasus project part 3: cartels, corruption and cyber-weapons', 'The Pegasus project part 2: cat and mouse', 'The Pegasus project part 1: an invitation to Paris', 'Marina Hyde on the political circus of the last five years ', 'Inside the mind of an Olympic athlete one week before the games', 'The heatwave forcing America to confront climate reality', 'Is it possible to make the internet safe for children?', 'The people searching for missing family members during the pandemic', 'The Indigenous children who died at Canada’s residential schools', 'The government’s rape review: an apology, but will anything change?', 'Euro 2020: what would it mean if England could actually … win?', 'After Grenfell: the unsolved cladding crisis', 'Why do powerful men have affairs?', 'Britney Spears’ battle to take back control of her life and fortune', 'How a pro-democracy newspaper in Hong Kong died', 'How the Batley and Spen byelection turned toxic', 'Matt Hancock’s downfall ']\n",
      "\n",
      "\n",
      "--> We are now at the headline: <a aria-hidden=\"true\" class=\"u-faux-block-link__overlay js-headline-text\" data-link-name=\"article\" href=\"https://www.theguardian.com/news/audio/2021/jun/28/young-hot-and-bothered-going-through-menopause-in-my-30s\" tabindex=\"-1\">Young, hot and bothered: going through menopause in my 30s</a>\n",
      "--> Without the HTML around it looks like this: Young, hot and bothered: going through menopause in my 30s\n",
      "--> This is now the content of data: ['Newcastle fans think they’ve got their club back. But at what cost?', 'Has England gone back to the office?', 'What went wrong with the UK’s handling of the Covid pandemic?', 'Dubai’s ruler and the Pegasus phone hacking exposed in a UK court', 'The countdown to Cop26: can world leaders save the planet?', 'The whistleblower who plunged Facebook into crisis', 'Can women trust the police?', 'Why everything you’ve heard about panic buying might be wrong', 'The Pandora papers: who’s giving money to the Conservatives?', 'Inside the Pandora papers – financial secrets of the rich and powerful', 'Boris Johnson wants a conference reset. Will reality ruin it?', 'The conviction of R Kelly', 'Can China help end the world’s addiction to coal?', 'Bond is back. Where’s he going next?', 'The Pegasus project: hacked in London', 'Keir Starmer’s make-or-break conference week', 'The energy crisis no one saw coming', 'Germany decides: who will follow Angela Merkel?', 'Going nuclear: the secret submarine deal to challenge China ', 'Finally! Get ready for a new season of culture', 'The murder of Fikile: the woman who took on a coal mine', 'The problem with OnlyFans’ mainstream dream', 'Who’s paying for the government’s plan to fix social care?', 'Is Brexit the reason McDonald’s is running out of milkshakes?', 'Ecstasy, LSD and magic mushrooms: are these drugs the future of therapy?', 'A conversation about Islamophobia in the UK since 9/11', 'Inside Al-Qaida: a recruit-turned-spy, a journalist and the road to 9/11', 'The children of 9/11', 'Burnout in the US battle against wildfires', 'One hour to escape: the race to get out of a Gaza tower before an Israeli airstrike', 'One man’s epic electric test drive – from Land’s End to John o’Groats', 'The big coronavirus questions as a new school term begins', 'The British citizens left behind in Kabul', 'The knock: the families torn apart by an arrest over child abuse images', 'Revisited: how meme stars of the early internet struck it rich with NFTs', 'Revisited: Why is Sex and the City coming back to our screens?', 'Revisited: the danger – and beauty – of ultrarunning', 'Revisited: Inside the ’Ndrangheta trial', 'Revisited: The pandemic scam artists making millions during lockdown', 'Revisited: why has the Brazilian butt lift become so popular?', 'A Paralympian’s long journey to Tokyo', 'The Plymouth attack and misogynist ‘incel’ culture', 'How the pandemic exposed the crisis in children’s social care', 'How the Taliban took Afghanistan', 'After ICU: a Covid patient meets one of the doctors who saved his life', 'The fall of Andrew Cuomo', 'Has the Delta variant derailed Australia’s zero-Covid strategy?', 'Scientists issue a climate code red', 'Israel’s shadow war with Iran', 'In search of answers about miscarriage', 'Racism, policing and austerity: have lessons been learned since England’s 2011 riots?', 'Why a Belarusian Olympic sprinter refused to fly home', 'How Simone Biles changed gymnastics – on and off the mat', 'Are plans to change the Official Secrets Act a threat to journalism?', 'Why did Unesco drop Liverpool from its heritage list?', 'How we all got hooked on caffeine', 'The lobbying push that killed off a fight to save the Great Barrier Reef', 'The Republican backlash in Joe Biden’s America', 'The pandemic enters a new phase', 'The authority gap: why women still aren’t taken seriously', 'The Pegasus project part 5: the fightback against private spyware begins', 'The Pegasus project part 4: runaway princesses and the UK connection', 'The Pegasus project part 3: cartels, corruption and cyber-weapons', 'The Pegasus project part 2: cat and mouse', 'The Pegasus project part 1: an invitation to Paris', 'Marina Hyde on the political circus of the last five years ', 'Inside the mind of an Olympic athlete one week before the games', 'The heatwave forcing America to confront climate reality', 'Is it possible to make the internet safe for children?', 'The people searching for missing family members during the pandemic', 'The Indigenous children who died at Canada’s residential schools', 'The government’s rape review: an apology, but will anything change?', 'Euro 2020: what would it mean if England could actually … win?', 'After Grenfell: the unsolved cladding crisis', 'Why do powerful men have affairs?', 'Britney Spears’ battle to take back control of her life and fortune', 'How a pro-democracy newspaper in Hong Kong died', 'How the Batley and Spen byelection turned toxic', 'Matt Hancock’s downfall ', 'Young, hot and bothered: going through menopause in my 30s']\n",
      "\n",
      "\n",
      "--> We are on page number: 5\n",
      "--> The url we are scraping now is: https://www.theguardian.com/news/series/todayinfocus?page=5\n",
      "--> This is what the request looks like: <Response [200]>. If you got a \"Response 200\" you are good!\n",
      "--> The first 763 characters of the website content: \n",
      "<!DOCTYPE html>\n",
      "<html id=\"js-context\" class=\"js-off is-not-modern id--signed-out\" lang=\"en\" data-page-path=\"/news/series/todayinfocus\">\n",
      "\n",
      "\n",
      "    <head>\n",
      "\n",
      "\n",
      "    \n",
      "<!--\n",
      "     __        __                      _     _      _\n",
      "     \\ \\      / /__    __ _ _ __ ___  | |__ (_)_ __(_)_ __   __ _\n",
      "      \\ \\ /\\ / / _ \\  / _` | '__/ _ \\ | '_ \\| | '__| | '_ \\ / _` |\n",
      "       \\ V  V /  __/ | (_| | | |  __/ | | | | | |  | | | | | (_| |\n",
      "        \\_/\\_/ \\___|  \\__,_|_|  \\___| |_| |_|_|_|  |_|_| |_|\\__, |\n",
      "                                                            |___/\n",
      "    Ever thought about joining us?\n",
      "    https://workforus.theguardian.com/careers/product-engineering/\n",
      "     --->\n",
      "\n",
      "\n",
      "    \n",
      "<title>Today in Focus | Page 5 of 38 | News | The Guardian</title>\n",
      "\n",
      "\n",
      "    \n",
      "\n",
      "<meta charset=\"utf-8\n",
      "\n",
      "\n",
      "--> We are now at the headline: <a aria-hidden=\"true\" class=\"u-faux-block-link__overlay js-headline-text\" data-link-name=\"article\" href=\"https://www.theguardian.com/news/audio/2021/jun/25/the-new-brexit-crisis-for-northern-irelands-unionists-podcast\" tabindex=\"-1\">The new Brexit crisis for Northern Ireland’s unionists</a>\n",
      "--> Without the HTML around it looks like this: The new Brexit crisis for Northern Ireland’s unionists\n",
      "--> This is now the content of data: ['Newcastle fans think they’ve got their club back. But at what cost?', 'Has England gone back to the office?', 'What went wrong with the UK’s handling of the Covid pandemic?', 'Dubai’s ruler and the Pegasus phone hacking exposed in a UK court', 'The countdown to Cop26: can world leaders save the planet?', 'The whistleblower who plunged Facebook into crisis', 'Can women trust the police?', 'Why everything you’ve heard about panic buying might be wrong', 'The Pandora papers: who’s giving money to the Conservatives?', 'Inside the Pandora papers – financial secrets of the rich and powerful', 'Boris Johnson wants a conference reset. Will reality ruin it?', 'The conviction of R Kelly', 'Can China help end the world’s addiction to coal?', 'Bond is back. Where’s he going next?', 'The Pegasus project: hacked in London', 'Keir Starmer’s make-or-break conference week', 'The energy crisis no one saw coming', 'Germany decides: who will follow Angela Merkel?', 'Going nuclear: the secret submarine deal to challenge China ', 'Finally! Get ready for a new season of culture', 'The murder of Fikile: the woman who took on a coal mine', 'The problem with OnlyFans’ mainstream dream', 'Who’s paying for the government’s plan to fix social care?', 'Is Brexit the reason McDonald’s is running out of milkshakes?', 'Ecstasy, LSD and magic mushrooms: are these drugs the future of therapy?', 'A conversation about Islamophobia in the UK since 9/11', 'Inside Al-Qaida: a recruit-turned-spy, a journalist and the road to 9/11', 'The children of 9/11', 'Burnout in the US battle against wildfires', 'One hour to escape: the race to get out of a Gaza tower before an Israeli airstrike', 'One man’s epic electric test drive – from Land’s End to John o’Groats', 'The big coronavirus questions as a new school term begins', 'The British citizens left behind in Kabul', 'The knock: the families torn apart by an arrest over child abuse images', 'Revisited: how meme stars of the early internet struck it rich with NFTs', 'Revisited: Why is Sex and the City coming back to our screens?', 'Revisited: the danger – and beauty – of ultrarunning', 'Revisited: Inside the ’Ndrangheta trial', 'Revisited: The pandemic scam artists making millions during lockdown', 'Revisited: why has the Brazilian butt lift become so popular?', 'A Paralympian’s long journey to Tokyo', 'The Plymouth attack and misogynist ‘incel’ culture', 'How the pandemic exposed the crisis in children’s social care', 'How the Taliban took Afghanistan', 'After ICU: a Covid patient meets one of the doctors who saved his life', 'The fall of Andrew Cuomo', 'Has the Delta variant derailed Australia’s zero-Covid strategy?', 'Scientists issue a climate code red', 'Israel’s shadow war with Iran', 'In search of answers about miscarriage', 'Racism, policing and austerity: have lessons been learned since England’s 2011 riots?', 'Why a Belarusian Olympic sprinter refused to fly home', 'How Simone Biles changed gymnastics – on and off the mat', 'Are plans to change the Official Secrets Act a threat to journalism?', 'Why did Unesco drop Liverpool from its heritage list?', 'How we all got hooked on caffeine', 'The lobbying push that killed off a fight to save the Great Barrier Reef', 'The Republican backlash in Joe Biden’s America', 'The pandemic enters a new phase', 'The authority gap: why women still aren’t taken seriously', 'The Pegasus project part 5: the fightback against private spyware begins', 'The Pegasus project part 4: runaway princesses and the UK connection', 'The Pegasus project part 3: cartels, corruption and cyber-weapons', 'The Pegasus project part 2: cat and mouse', 'The Pegasus project part 1: an invitation to Paris', 'Marina Hyde on the political circus of the last five years ', 'Inside the mind of an Olympic athlete one week before the games', 'The heatwave forcing America to confront climate reality', 'Is it possible to make the internet safe for children?', 'The people searching for missing family members during the pandemic', 'The Indigenous children who died at Canada’s residential schools', 'The government’s rape review: an apology, but will anything change?', 'Euro 2020: what would it mean if England could actually … win?', 'After Grenfell: the unsolved cladding crisis', 'Why do powerful men have affairs?', 'Britney Spears’ battle to take back control of her life and fortune', 'How a pro-democracy newspaper in Hong Kong died', 'How the Batley and Spen byelection turned toxic', 'Matt Hancock’s downfall ', 'Young, hot and bothered: going through menopause in my 30s', 'The new Brexit crisis for Northern Ireland’s unionists']\n",
      "\n",
      "\n",
      "--> We are now at the headline: <a aria-hidden=\"true\" class=\"u-faux-block-link__overlay js-headline-text\" data-link-name=\"article\" href=\"https://www.theguardian.com/news/audio/2021/jun/24/how-meme-stars-early-internet-striking-it-rich-nfts-podcast\" tabindex=\"-1\">How meme stars of the early internet are striking it rich with NFTs</a>\n",
      "--> Without the HTML around it looks like this: How meme stars of the early internet are striking it rich with NFTs\n",
      "--> This is now the content of data: ['Newcastle fans think they’ve got their club back. But at what cost?', 'Has England gone back to the office?', 'What went wrong with the UK’s handling of the Covid pandemic?', 'Dubai’s ruler and the Pegasus phone hacking exposed in a UK court', 'The countdown to Cop26: can world leaders save the planet?', 'The whistleblower who plunged Facebook into crisis', 'Can women trust the police?', 'Why everything you’ve heard about panic buying might be wrong', 'The Pandora papers: who’s giving money to the Conservatives?', 'Inside the Pandora papers – financial secrets of the rich and powerful', 'Boris Johnson wants a conference reset. Will reality ruin it?', 'The conviction of R Kelly', 'Can China help end the world’s addiction to coal?', 'Bond is back. Where’s he going next?', 'The Pegasus project: hacked in London', 'Keir Starmer’s make-or-break conference week', 'The energy crisis no one saw coming', 'Germany decides: who will follow Angela Merkel?', 'Going nuclear: the secret submarine deal to challenge China ', 'Finally! Get ready for a new season of culture', 'The murder of Fikile: the woman who took on a coal mine', 'The problem with OnlyFans’ mainstream dream', 'Who’s paying for the government’s plan to fix social care?', 'Is Brexit the reason McDonald’s is running out of milkshakes?', 'Ecstasy, LSD and magic mushrooms: are these drugs the future of therapy?', 'A conversation about Islamophobia in the UK since 9/11', 'Inside Al-Qaida: a recruit-turned-spy, a journalist and the road to 9/11', 'The children of 9/11', 'Burnout in the US battle against wildfires', 'One hour to escape: the race to get out of a Gaza tower before an Israeli airstrike', 'One man’s epic electric test drive – from Land’s End to John o’Groats', 'The big coronavirus questions as a new school term begins', 'The British citizens left behind in Kabul', 'The knock: the families torn apart by an arrest over child abuse images', 'Revisited: how meme stars of the early internet struck it rich with NFTs', 'Revisited: Why is Sex and the City coming back to our screens?', 'Revisited: the danger – and beauty – of ultrarunning', 'Revisited: Inside the ’Ndrangheta trial', 'Revisited: The pandemic scam artists making millions during lockdown', 'Revisited: why has the Brazilian butt lift become so popular?', 'A Paralympian’s long journey to Tokyo', 'The Plymouth attack and misogynist ‘incel’ culture', 'How the pandemic exposed the crisis in children’s social care', 'How the Taliban took Afghanistan', 'After ICU: a Covid patient meets one of the doctors who saved his life', 'The fall of Andrew Cuomo', 'Has the Delta variant derailed Australia’s zero-Covid strategy?', 'Scientists issue a climate code red', 'Israel’s shadow war with Iran', 'In search of answers about miscarriage', 'Racism, policing and austerity: have lessons been learned since England’s 2011 riots?', 'Why a Belarusian Olympic sprinter refused to fly home', 'How Simone Biles changed gymnastics – on and off the mat', 'Are plans to change the Official Secrets Act a threat to journalism?', 'Why did Unesco drop Liverpool from its heritage list?', 'How we all got hooked on caffeine', 'The lobbying push that killed off a fight to save the Great Barrier Reef', 'The Republican backlash in Joe Biden’s America', 'The pandemic enters a new phase', 'The authority gap: why women still aren’t taken seriously', 'The Pegasus project part 5: the fightback against private spyware begins', 'The Pegasus project part 4: runaway princesses and the UK connection', 'The Pegasus project part 3: cartels, corruption and cyber-weapons', 'The Pegasus project part 2: cat and mouse', 'The Pegasus project part 1: an invitation to Paris', 'Marina Hyde on the political circus of the last five years ', 'Inside the mind of an Olympic athlete one week before the games', 'The heatwave forcing America to confront climate reality', 'Is it possible to make the internet safe for children?', 'The people searching for missing family members during the pandemic', 'The Indigenous children who died at Canada’s residential schools', 'The government’s rape review: an apology, but will anything change?', 'Euro 2020: what would it mean if England could actually … win?', 'After Grenfell: the unsolved cladding crisis', 'Why do powerful men have affairs?', 'Britney Spears’ battle to take back control of her life and fortune', 'How a pro-democracy newspaper in Hong Kong died', 'How the Batley and Spen byelection turned toxic', 'Matt Hancock’s downfall ', 'Young, hot and bothered: going through menopause in my 30s', 'The new Brexit crisis for Northern Ireland’s unionists', 'How meme stars of the early internet are striking it rich with NFTs']\n",
      "\n",
      "\n",
      "--> We are now at the headline: <a aria-hidden=\"true\" class=\"u-faux-block-link__overlay js-headline-text\" data-link-name=\"article\" href=\"https://www.theguardian.com/news/audio/2021/jun/23/police-corruption-unsolved-murder-daniel-morgan-podcast\" tabindex=\"-1\">Police corruption and the unsolved murder of Daniel Morgan</a>\n",
      "--> Without the HTML around it looks like this: Police corruption and the unsolved murder of Daniel Morgan\n",
      "--> This is now the content of data: ['Newcastle fans think they’ve got their club back. But at what cost?', 'Has England gone back to the office?', 'What went wrong with the UK’s handling of the Covid pandemic?', 'Dubai’s ruler and the Pegasus phone hacking exposed in a UK court', 'The countdown to Cop26: can world leaders save the planet?', 'The whistleblower who plunged Facebook into crisis', 'Can women trust the police?', 'Why everything you’ve heard about panic buying might be wrong', 'The Pandora papers: who’s giving money to the Conservatives?', 'Inside the Pandora papers – financial secrets of the rich and powerful', 'Boris Johnson wants a conference reset. Will reality ruin it?', 'The conviction of R Kelly', 'Can China help end the world’s addiction to coal?', 'Bond is back. Where’s he going next?', 'The Pegasus project: hacked in London', 'Keir Starmer’s make-or-break conference week', 'The energy crisis no one saw coming', 'Germany decides: who will follow Angela Merkel?', 'Going nuclear: the secret submarine deal to challenge China ', 'Finally! Get ready for a new season of culture', 'The murder of Fikile: the woman who took on a coal mine', 'The problem with OnlyFans’ mainstream dream', 'Who’s paying for the government’s plan to fix social care?', 'Is Brexit the reason McDonald’s is running out of milkshakes?', 'Ecstasy, LSD and magic mushrooms: are these drugs the future of therapy?', 'A conversation about Islamophobia in the UK since 9/11', 'Inside Al-Qaida: a recruit-turned-spy, a journalist and the road to 9/11', 'The children of 9/11', 'Burnout in the US battle against wildfires', 'One hour to escape: the race to get out of a Gaza tower before an Israeli airstrike', 'One man’s epic electric test drive – from Land’s End to John o’Groats', 'The big coronavirus questions as a new school term begins', 'The British citizens left behind in Kabul', 'The knock: the families torn apart by an arrest over child abuse images', 'Revisited: how meme stars of the early internet struck it rich with NFTs', 'Revisited: Why is Sex and the City coming back to our screens?', 'Revisited: the danger – and beauty – of ultrarunning', 'Revisited: Inside the ’Ndrangheta trial', 'Revisited: The pandemic scam artists making millions during lockdown', 'Revisited: why has the Brazilian butt lift become so popular?', 'A Paralympian’s long journey to Tokyo', 'The Plymouth attack and misogynist ‘incel’ culture', 'How the pandemic exposed the crisis in children’s social care', 'How the Taliban took Afghanistan', 'After ICU: a Covid patient meets one of the doctors who saved his life', 'The fall of Andrew Cuomo', 'Has the Delta variant derailed Australia’s zero-Covid strategy?', 'Scientists issue a climate code red', 'Israel’s shadow war with Iran', 'In search of answers about miscarriage', 'Racism, policing and austerity: have lessons been learned since England’s 2011 riots?', 'Why a Belarusian Olympic sprinter refused to fly home', 'How Simone Biles changed gymnastics – on and off the mat', 'Are plans to change the Official Secrets Act a threat to journalism?', 'Why did Unesco drop Liverpool from its heritage list?', 'How we all got hooked on caffeine', 'The lobbying push that killed off a fight to save the Great Barrier Reef', 'The Republican backlash in Joe Biden’s America', 'The pandemic enters a new phase', 'The authority gap: why women still aren’t taken seriously', 'The Pegasus project part 5: the fightback against private spyware begins', 'The Pegasus project part 4: runaway princesses and the UK connection', 'The Pegasus project part 3: cartels, corruption and cyber-weapons', 'The Pegasus project part 2: cat and mouse', 'The Pegasus project part 1: an invitation to Paris', 'Marina Hyde on the political circus of the last five years ', 'Inside the mind of an Olympic athlete one week before the games', 'The heatwave forcing America to confront climate reality', 'Is it possible to make the internet safe for children?', 'The people searching for missing family members during the pandemic', 'The Indigenous children who died at Canada’s residential schools', 'The government’s rape review: an apology, but will anything change?', 'Euro 2020: what would it mean if England could actually … win?', 'After Grenfell: the unsolved cladding crisis', 'Why do powerful men have affairs?', 'Britney Spears’ battle to take back control of her life and fortune', 'How a pro-democracy newspaper in Hong Kong died', 'How the Batley and Spen byelection turned toxic', 'Matt Hancock’s downfall ', 'Young, hot and bothered: going through menopause in my 30s', 'The new Brexit crisis for Northern Ireland’s unionists', 'How meme stars of the early internet are striking it rich with NFTs', 'Police corruption and the unsolved murder of Daniel Morgan']\n",
      "\n",
      "\n",
      "--> We are now at the headline: <a aria-hidden=\"true\" class=\"u-faux-block-link__overlay js-headline-text\" data-link-name=\"article\" href=\"https://www.theguardian.com/news/audio/2021/jun/22/do-we-have-to-learn-to-live-with-covid-19-podcast\" tabindex=\"-1\">Do we have to learn to live with Covid-19?</a>\n",
      "--> Without the HTML around it looks like this: Do we have to learn to live with Covid-19?\n",
      "--> This is now the content of data: ['Newcastle fans think they’ve got their club back. But at what cost?', 'Has England gone back to the office?', 'What went wrong with the UK’s handling of the Covid pandemic?', 'Dubai’s ruler and the Pegasus phone hacking exposed in a UK court', 'The countdown to Cop26: can world leaders save the planet?', 'The whistleblower who plunged Facebook into crisis', 'Can women trust the police?', 'Why everything you’ve heard about panic buying might be wrong', 'The Pandora papers: who’s giving money to the Conservatives?', 'Inside the Pandora papers – financial secrets of the rich and powerful', 'Boris Johnson wants a conference reset. Will reality ruin it?', 'The conviction of R Kelly', 'Can China help end the world’s addiction to coal?', 'Bond is back. Where’s he going next?', 'The Pegasus project: hacked in London', 'Keir Starmer’s make-or-break conference week', 'The energy crisis no one saw coming', 'Germany decides: who will follow Angela Merkel?', 'Going nuclear: the secret submarine deal to challenge China ', 'Finally! Get ready for a new season of culture', 'The murder of Fikile: the woman who took on a coal mine', 'The problem with OnlyFans’ mainstream dream', 'Who’s paying for the government’s plan to fix social care?', 'Is Brexit the reason McDonald’s is running out of milkshakes?', 'Ecstasy, LSD and magic mushrooms: are these drugs the future of therapy?', 'A conversation about Islamophobia in the UK since 9/11', 'Inside Al-Qaida: a recruit-turned-spy, a journalist and the road to 9/11', 'The children of 9/11', 'Burnout in the US battle against wildfires', 'One hour to escape: the race to get out of a Gaza tower before an Israeli airstrike', 'One man’s epic electric test drive – from Land’s End to John o’Groats', 'The big coronavirus questions as a new school term begins', 'The British citizens left behind in Kabul', 'The knock: the families torn apart by an arrest over child abuse images', 'Revisited: how meme stars of the early internet struck it rich with NFTs', 'Revisited: Why is Sex and the City coming back to our screens?', 'Revisited: the danger – and beauty – of ultrarunning', 'Revisited: Inside the ’Ndrangheta trial', 'Revisited: The pandemic scam artists making millions during lockdown', 'Revisited: why has the Brazilian butt lift become so popular?', 'A Paralympian’s long journey to Tokyo', 'The Plymouth attack and misogynist ‘incel’ culture', 'How the pandemic exposed the crisis in children’s social care', 'How the Taliban took Afghanistan', 'After ICU: a Covid patient meets one of the doctors who saved his life', 'The fall of Andrew Cuomo', 'Has the Delta variant derailed Australia’s zero-Covid strategy?', 'Scientists issue a climate code red', 'Israel’s shadow war with Iran', 'In search of answers about miscarriage', 'Racism, policing and austerity: have lessons been learned since England’s 2011 riots?', 'Why a Belarusian Olympic sprinter refused to fly home', 'How Simone Biles changed gymnastics – on and off the mat', 'Are plans to change the Official Secrets Act a threat to journalism?', 'Why did Unesco drop Liverpool from its heritage list?', 'How we all got hooked on caffeine', 'The lobbying push that killed off a fight to save the Great Barrier Reef', 'The Republican backlash in Joe Biden’s America', 'The pandemic enters a new phase', 'The authority gap: why women still aren’t taken seriously', 'The Pegasus project part 5: the fightback against private spyware begins', 'The Pegasus project part 4: runaway princesses and the UK connection', 'The Pegasus project part 3: cartels, corruption and cyber-weapons', 'The Pegasus project part 2: cat and mouse', 'The Pegasus project part 1: an invitation to Paris', 'Marina Hyde on the political circus of the last five years ', 'Inside the mind of an Olympic athlete one week before the games', 'The heatwave forcing America to confront climate reality', 'Is it possible to make the internet safe for children?', 'The people searching for missing family members during the pandemic', 'The Indigenous children who died at Canada’s residential schools', 'The government’s rape review: an apology, but will anything change?', 'Euro 2020: what would it mean if England could actually … win?', 'After Grenfell: the unsolved cladding crisis', 'Why do powerful men have affairs?', 'Britney Spears’ battle to take back control of her life and fortune', 'How a pro-democracy newspaper in Hong Kong died', 'How the Batley and Spen byelection turned toxic', 'Matt Hancock’s downfall ', 'Young, hot and bothered: going through menopause in my 30s', 'The new Brexit crisis for Northern Ireland’s unionists', 'How meme stars of the early internet are striking it rich with NFTs', 'Police corruption and the unsolved murder of Daniel Morgan', 'Do we have to learn to live with Covid-19?']\n",
      "\n",
      "\n",
      "--> We are now at the headline: <a aria-hidden=\"true\" class=\"u-faux-block-link__overlay js-headline-text\" data-link-name=\"article\" href=\"https://www.theguardian.com/news/audio/2021/jun/21/karim-ennarah-egypt-crackdown-human-rights-workers-podcast\" tabindex=\"-1\">Karim’s story: Egypt’s crackdown on human rights workers </a>\n",
      "--> Without the HTML around it looks like this: Karim’s story: Egypt’s crackdown on human rights workers \n",
      "--> This is now the content of data: ['Newcastle fans think they’ve got their club back. But at what cost?', 'Has England gone back to the office?', 'What went wrong with the UK’s handling of the Covid pandemic?', 'Dubai’s ruler and the Pegasus phone hacking exposed in a UK court', 'The countdown to Cop26: can world leaders save the planet?', 'The whistleblower who plunged Facebook into crisis', 'Can women trust the police?', 'Why everything you’ve heard about panic buying might be wrong', 'The Pandora papers: who’s giving money to the Conservatives?', 'Inside the Pandora papers – financial secrets of the rich and powerful', 'Boris Johnson wants a conference reset. Will reality ruin it?', 'The conviction of R Kelly', 'Can China help end the world’s addiction to coal?', 'Bond is back. Where’s he going next?', 'The Pegasus project: hacked in London', 'Keir Starmer’s make-or-break conference week', 'The energy crisis no one saw coming', 'Germany decides: who will follow Angela Merkel?', 'Going nuclear: the secret submarine deal to challenge China ', 'Finally! Get ready for a new season of culture', 'The murder of Fikile: the woman who took on a coal mine', 'The problem with OnlyFans’ mainstream dream', 'Who’s paying for the government’s plan to fix social care?', 'Is Brexit the reason McDonald’s is running out of milkshakes?', 'Ecstasy, LSD and magic mushrooms: are these drugs the future of therapy?', 'A conversation about Islamophobia in the UK since 9/11', 'Inside Al-Qaida: a recruit-turned-spy, a journalist and the road to 9/11', 'The children of 9/11', 'Burnout in the US battle against wildfires', 'One hour to escape: the race to get out of a Gaza tower before an Israeli airstrike', 'One man’s epic electric test drive – from Land’s End to John o’Groats', 'The big coronavirus questions as a new school term begins', 'The British citizens left behind in Kabul', 'The knock: the families torn apart by an arrest over child abuse images', 'Revisited: how meme stars of the early internet struck it rich with NFTs', 'Revisited: Why is Sex and the City coming back to our screens?', 'Revisited: the danger – and beauty – of ultrarunning', 'Revisited: Inside the ’Ndrangheta trial', 'Revisited: The pandemic scam artists making millions during lockdown', 'Revisited: why has the Brazilian butt lift become so popular?', 'A Paralympian’s long journey to Tokyo', 'The Plymouth attack and misogynist ‘incel’ culture', 'How the pandemic exposed the crisis in children’s social care', 'How the Taliban took Afghanistan', 'After ICU: a Covid patient meets one of the doctors who saved his life', 'The fall of Andrew Cuomo', 'Has the Delta variant derailed Australia’s zero-Covid strategy?', 'Scientists issue a climate code red', 'Israel’s shadow war with Iran', 'In search of answers about miscarriage', 'Racism, policing and austerity: have lessons been learned since England’s 2011 riots?', 'Why a Belarusian Olympic sprinter refused to fly home', 'How Simone Biles changed gymnastics – on and off the mat', 'Are plans to change the Official Secrets Act a threat to journalism?', 'Why did Unesco drop Liverpool from its heritage list?', 'How we all got hooked on caffeine', 'The lobbying push that killed off a fight to save the Great Barrier Reef', 'The Republican backlash in Joe Biden’s America', 'The pandemic enters a new phase', 'The authority gap: why women still aren’t taken seriously', 'The Pegasus project part 5: the fightback against private spyware begins', 'The Pegasus project part 4: runaway princesses and the UK connection', 'The Pegasus project part 3: cartels, corruption and cyber-weapons', 'The Pegasus project part 2: cat and mouse', 'The Pegasus project part 1: an invitation to Paris', 'Marina Hyde on the political circus of the last five years ', 'Inside the mind of an Olympic athlete one week before the games', 'The heatwave forcing America to confront climate reality', 'Is it possible to make the internet safe for children?', 'The people searching for missing family members during the pandemic', 'The Indigenous children who died at Canada’s residential schools', 'The government’s rape review: an apology, but will anything change?', 'Euro 2020: what would it mean if England could actually … win?', 'After Grenfell: the unsolved cladding crisis', 'Why do powerful men have affairs?', 'Britney Spears’ battle to take back control of her life and fortune', 'How a pro-democracy newspaper in Hong Kong died', 'How the Batley and Spen byelection turned toxic', 'Matt Hancock’s downfall ', 'Young, hot and bothered: going through menopause in my 30s', 'The new Brexit crisis for Northern Ireland’s unionists', 'How meme stars of the early internet are striking it rich with NFTs', 'Police corruption and the unsolved murder of Daniel Morgan', 'Do we have to learn to live with Covid-19?', 'Karim’s story: Egypt’s crackdown on human rights workers ']\n",
      "\n",
      "\n",
      "--> We are now at the headline: <a aria-hidden=\"true\" class=\"u-faux-block-link__overlay js-headline-text\" data-link-name=\"article\" href=\"https://www.theguardian.com/news/audio/2021/jun/18/why-englands-footballers-are-so-determined-to-keep-taking-the-knee-podcast\" tabindex=\"-1\">Why England’s footballers are so determined to keep taking the knee </a>\n",
      "--> Without the HTML around it looks like this: Why England’s footballers are so determined to keep taking the knee \n",
      "--> This is now the content of data: ['Newcastle fans think they’ve got their club back. But at what cost?', 'Has England gone back to the office?', 'What went wrong with the UK’s handling of the Covid pandemic?', 'Dubai’s ruler and the Pegasus phone hacking exposed in a UK court', 'The countdown to Cop26: can world leaders save the planet?', 'The whistleblower who plunged Facebook into crisis', 'Can women trust the police?', 'Why everything you’ve heard about panic buying might be wrong', 'The Pandora papers: who’s giving money to the Conservatives?', 'Inside the Pandora papers – financial secrets of the rich and powerful', 'Boris Johnson wants a conference reset. Will reality ruin it?', 'The conviction of R Kelly', 'Can China help end the world’s addiction to coal?', 'Bond is back. Where’s he going next?', 'The Pegasus project: hacked in London', 'Keir Starmer’s make-or-break conference week', 'The energy crisis no one saw coming', 'Germany decides: who will follow Angela Merkel?', 'Going nuclear: the secret submarine deal to challenge China ', 'Finally! Get ready for a new season of culture', 'The murder of Fikile: the woman who took on a coal mine', 'The problem with OnlyFans’ mainstream dream', 'Who’s paying for the government’s plan to fix social care?', 'Is Brexit the reason McDonald’s is running out of milkshakes?', 'Ecstasy, LSD and magic mushrooms: are these drugs the future of therapy?', 'A conversation about Islamophobia in the UK since 9/11', 'Inside Al-Qaida: a recruit-turned-spy, a journalist and the road to 9/11', 'The children of 9/11', 'Burnout in the US battle against wildfires', 'One hour to escape: the race to get out of a Gaza tower before an Israeli airstrike', 'One man’s epic electric test drive – from Land’s End to John o’Groats', 'The big coronavirus questions as a new school term begins', 'The British citizens left behind in Kabul', 'The knock: the families torn apart by an arrest over child abuse images', 'Revisited: how meme stars of the early internet struck it rich with NFTs', 'Revisited: Why is Sex and the City coming back to our screens?', 'Revisited: the danger – and beauty – of ultrarunning', 'Revisited: Inside the ’Ndrangheta trial', 'Revisited: The pandemic scam artists making millions during lockdown', 'Revisited: why has the Brazilian butt lift become so popular?', 'A Paralympian’s long journey to Tokyo', 'The Plymouth attack and misogynist ‘incel’ culture', 'How the pandemic exposed the crisis in children’s social care', 'How the Taliban took Afghanistan', 'After ICU: a Covid patient meets one of the doctors who saved his life', 'The fall of Andrew Cuomo', 'Has the Delta variant derailed Australia’s zero-Covid strategy?', 'Scientists issue a climate code red', 'Israel’s shadow war with Iran', 'In search of answers about miscarriage', 'Racism, policing and austerity: have lessons been learned since England’s 2011 riots?', 'Why a Belarusian Olympic sprinter refused to fly home', 'How Simone Biles changed gymnastics – on and off the mat', 'Are plans to change the Official Secrets Act a threat to journalism?', 'Why did Unesco drop Liverpool from its heritage list?', 'How we all got hooked on caffeine', 'The lobbying push that killed off a fight to save the Great Barrier Reef', 'The Republican backlash in Joe Biden’s America', 'The pandemic enters a new phase', 'The authority gap: why women still aren’t taken seriously', 'The Pegasus project part 5: the fightback against private spyware begins', 'The Pegasus project part 4: runaway princesses and the UK connection', 'The Pegasus project part 3: cartels, corruption and cyber-weapons', 'The Pegasus project part 2: cat and mouse', 'The Pegasus project part 1: an invitation to Paris', 'Marina Hyde on the political circus of the last five years ', 'Inside the mind of an Olympic athlete one week before the games', 'The heatwave forcing America to confront climate reality', 'Is it possible to make the internet safe for children?', 'The people searching for missing family members during the pandemic', 'The Indigenous children who died at Canada’s residential schools', 'The government’s rape review: an apology, but will anything change?', 'Euro 2020: what would it mean if England could actually … win?', 'After Grenfell: the unsolved cladding crisis', 'Why do powerful men have affairs?', 'Britney Spears’ battle to take back control of her life and fortune', 'How a pro-democracy newspaper in Hong Kong died', 'How the Batley and Spen byelection turned toxic', 'Matt Hancock’s downfall ', 'Young, hot and bothered: going through menopause in my 30s', 'The new Brexit crisis for Northern Ireland’s unionists', 'How meme stars of the early internet are striking it rich with NFTs', 'Police corruption and the unsolved murder of Daniel Morgan', 'Do we have to learn to live with Covid-19?', 'Karim’s story: Egypt’s crackdown on human rights workers ', 'Why England’s footballers are so determined to keep taking the knee ']\n",
      "\n",
      "\n",
      "--> We are now at the headline: <a aria-hidden=\"true\" class=\"u-faux-block-link__overlay js-headline-text\" data-link-name=\"article\" href=\"https://www.theguardian.com/news/audio/2021/jun/17/is-the-truth-out-there-the-us-government-prepares-its-landmark-report-on-ufos-podcast\" tabindex=\"-1\">Is the truth out there? The US government prepares its landmark report on UFOs</a>\n",
      "--> Without the HTML around it looks like this: Is the truth out there? The US government prepares its landmark report on UFOs\n",
      "--> This is now the content of data: ['Newcastle fans think they’ve got their club back. But at what cost?', 'Has England gone back to the office?', 'What went wrong with the UK’s handling of the Covid pandemic?', 'Dubai’s ruler and the Pegasus phone hacking exposed in a UK court', 'The countdown to Cop26: can world leaders save the planet?', 'The whistleblower who plunged Facebook into crisis', 'Can women trust the police?', 'Why everything you’ve heard about panic buying might be wrong', 'The Pandora papers: who’s giving money to the Conservatives?', 'Inside the Pandora papers – financial secrets of the rich and powerful', 'Boris Johnson wants a conference reset. Will reality ruin it?', 'The conviction of R Kelly', 'Can China help end the world’s addiction to coal?', 'Bond is back. Where’s he going next?', 'The Pegasus project: hacked in London', 'Keir Starmer’s make-or-break conference week', 'The energy crisis no one saw coming', 'Germany decides: who will follow Angela Merkel?', 'Going nuclear: the secret submarine deal to challenge China ', 'Finally! Get ready for a new season of culture', 'The murder of Fikile: the woman who took on a coal mine', 'The problem with OnlyFans’ mainstream dream', 'Who’s paying for the government’s plan to fix social care?', 'Is Brexit the reason McDonald’s is running out of milkshakes?', 'Ecstasy, LSD and magic mushrooms: are these drugs the future of therapy?', 'A conversation about Islamophobia in the UK since 9/11', 'Inside Al-Qaida: a recruit-turned-spy, a journalist and the road to 9/11', 'The children of 9/11', 'Burnout in the US battle against wildfires', 'One hour to escape: the race to get out of a Gaza tower before an Israeli airstrike', 'One man’s epic electric test drive – from Land’s End to John o’Groats', 'The big coronavirus questions as a new school term begins', 'The British citizens left behind in Kabul', 'The knock: the families torn apart by an arrest over child abuse images', 'Revisited: how meme stars of the early internet struck it rich with NFTs', 'Revisited: Why is Sex and the City coming back to our screens?', 'Revisited: the danger – and beauty – of ultrarunning', 'Revisited: Inside the ’Ndrangheta trial', 'Revisited: The pandemic scam artists making millions during lockdown', 'Revisited: why has the Brazilian butt lift become so popular?', 'A Paralympian’s long journey to Tokyo', 'The Plymouth attack and misogynist ‘incel’ culture', 'How the pandemic exposed the crisis in children’s social care', 'How the Taliban took Afghanistan', 'After ICU: a Covid patient meets one of the doctors who saved his life', 'The fall of Andrew Cuomo', 'Has the Delta variant derailed Australia’s zero-Covid strategy?', 'Scientists issue a climate code red', 'Israel’s shadow war with Iran', 'In search of answers about miscarriage', 'Racism, policing and austerity: have lessons been learned since England’s 2011 riots?', 'Why a Belarusian Olympic sprinter refused to fly home', 'How Simone Biles changed gymnastics – on and off the mat', 'Are plans to change the Official Secrets Act a threat to journalism?', 'Why did Unesco drop Liverpool from its heritage list?', 'How we all got hooked on caffeine', 'The lobbying push that killed off a fight to save the Great Barrier Reef', 'The Republican backlash in Joe Biden’s America', 'The pandemic enters a new phase', 'The authority gap: why women still aren’t taken seriously', 'The Pegasus project part 5: the fightback against private spyware begins', 'The Pegasus project part 4: runaway princesses and the UK connection', 'The Pegasus project part 3: cartels, corruption and cyber-weapons', 'The Pegasus project part 2: cat and mouse', 'The Pegasus project part 1: an invitation to Paris', 'Marina Hyde on the political circus of the last five years ', 'Inside the mind of an Olympic athlete one week before the games', 'The heatwave forcing America to confront climate reality', 'Is it possible to make the internet safe for children?', 'The people searching for missing family members during the pandemic', 'The Indigenous children who died at Canada’s residential schools', 'The government’s rape review: an apology, but will anything change?', 'Euro 2020: what would it mean if England could actually … win?', 'After Grenfell: the unsolved cladding crisis', 'Why do powerful men have affairs?', 'Britney Spears’ battle to take back control of her life and fortune', 'How a pro-democracy newspaper in Hong Kong died', 'How the Batley and Spen byelection turned toxic', 'Matt Hancock’s downfall ', 'Young, hot and bothered: going through menopause in my 30s', 'The new Brexit crisis for Northern Ireland’s unionists', 'How meme stars of the early internet are striking it rich with NFTs', 'Police corruption and the unsolved murder of Daniel Morgan', 'Do we have to learn to live with Covid-19?', 'Karim’s story: Egypt’s crackdown on human rights workers ', 'Why England’s footballers are so determined to keep taking the knee ', 'Is the truth out there? The US government prepares its landmark report on UFOs']\n",
      "\n",
      "\n",
      "--> We are now at the headline: <a aria-hidden=\"true\" class=\"u-faux-block-link__overlay js-headline-text\" data-link-name=\"article\" href=\"https://www.theguardian.com/news/audio/2021/jun/16/israels-unlikely-coalition-is-this-the-end-for-netanyahu\" tabindex=\"-1\">Israel’s unlikely coalition: is this the end for Netanyahu?</a>\n",
      "--> Without the HTML around it looks like this: Israel’s unlikely coalition: is this the end for Netanyahu?\n",
      "--> This is now the content of data: ['Newcastle fans think they’ve got their club back. But at what cost?', 'Has England gone back to the office?', 'What went wrong with the UK’s handling of the Covid pandemic?', 'Dubai’s ruler and the Pegasus phone hacking exposed in a UK court', 'The countdown to Cop26: can world leaders save the planet?', 'The whistleblower who plunged Facebook into crisis', 'Can women trust the police?', 'Why everything you’ve heard about panic buying might be wrong', 'The Pandora papers: who’s giving money to the Conservatives?', 'Inside the Pandora papers – financial secrets of the rich and powerful', 'Boris Johnson wants a conference reset. Will reality ruin it?', 'The conviction of R Kelly', 'Can China help end the world’s addiction to coal?', 'Bond is back. Where’s he going next?', 'The Pegasus project: hacked in London', 'Keir Starmer’s make-or-break conference week', 'The energy crisis no one saw coming', 'Germany decides: who will follow Angela Merkel?', 'Going nuclear: the secret submarine deal to challenge China ', 'Finally! Get ready for a new season of culture', 'The murder of Fikile: the woman who took on a coal mine', 'The problem with OnlyFans’ mainstream dream', 'Who’s paying for the government’s plan to fix social care?', 'Is Brexit the reason McDonald’s is running out of milkshakes?', 'Ecstasy, LSD and magic mushrooms: are these drugs the future of therapy?', 'A conversation about Islamophobia in the UK since 9/11', 'Inside Al-Qaida: a recruit-turned-spy, a journalist and the road to 9/11', 'The children of 9/11', 'Burnout in the US battle against wildfires', 'One hour to escape: the race to get out of a Gaza tower before an Israeli airstrike', 'One man’s epic electric test drive – from Land’s End to John o’Groats', 'The big coronavirus questions as a new school term begins', 'The British citizens left behind in Kabul', 'The knock: the families torn apart by an arrest over child abuse images', 'Revisited: how meme stars of the early internet struck it rich with NFTs', 'Revisited: Why is Sex and the City coming back to our screens?', 'Revisited: the danger – and beauty – of ultrarunning', 'Revisited: Inside the ’Ndrangheta trial', 'Revisited: The pandemic scam artists making millions during lockdown', 'Revisited: why has the Brazilian butt lift become so popular?', 'A Paralympian’s long journey to Tokyo', 'The Plymouth attack and misogynist ‘incel’ culture', 'How the pandemic exposed the crisis in children’s social care', 'How the Taliban took Afghanistan', 'After ICU: a Covid patient meets one of the doctors who saved his life', 'The fall of Andrew Cuomo', 'Has the Delta variant derailed Australia’s zero-Covid strategy?', 'Scientists issue a climate code red', 'Israel’s shadow war with Iran', 'In search of answers about miscarriage', 'Racism, policing and austerity: have lessons been learned since England’s 2011 riots?', 'Why a Belarusian Olympic sprinter refused to fly home', 'How Simone Biles changed gymnastics – on and off the mat', 'Are plans to change the Official Secrets Act a threat to journalism?', 'Why did Unesco drop Liverpool from its heritage list?', 'How we all got hooked on caffeine', 'The lobbying push that killed off a fight to save the Great Barrier Reef', 'The Republican backlash in Joe Biden’s America', 'The pandemic enters a new phase', 'The authority gap: why women still aren’t taken seriously', 'The Pegasus project part 5: the fightback against private spyware begins', 'The Pegasus project part 4: runaway princesses and the UK connection', 'The Pegasus project part 3: cartels, corruption and cyber-weapons', 'The Pegasus project part 2: cat and mouse', 'The Pegasus project part 1: an invitation to Paris', 'Marina Hyde on the political circus of the last five years ', 'Inside the mind of an Olympic athlete one week before the games', 'The heatwave forcing America to confront climate reality', 'Is it possible to make the internet safe for children?', 'The people searching for missing family members during the pandemic', 'The Indigenous children who died at Canada’s residential schools', 'The government’s rape review: an apology, but will anything change?', 'Euro 2020: what would it mean if England could actually … win?', 'After Grenfell: the unsolved cladding crisis', 'Why do powerful men have affairs?', 'Britney Spears’ battle to take back control of her life and fortune', 'How a pro-democracy newspaper in Hong Kong died', 'How the Batley and Spen byelection turned toxic', 'Matt Hancock’s downfall ', 'Young, hot and bothered: going through menopause in my 30s', 'The new Brexit crisis for Northern Ireland’s unionists', 'How meme stars of the early internet are striking it rich with NFTs', 'Police corruption and the unsolved murder of Daniel Morgan', 'Do we have to learn to live with Covid-19?', 'Karim’s story: Egypt’s crackdown on human rights workers ', 'Why England’s footballers are so determined to keep taking the knee ', 'Is the truth out there? The US government prepares its landmark report on UFOs', 'Israel’s unlikely coalition: is this the end for Netanyahu?']\n",
      "\n",
      "\n",
      "--> We are now at the headline: <a aria-hidden=\"true\" class=\"u-faux-block-link__overlay js-headline-text\" data-link-name=\"article\" href=\"https://www.theguardian.com/news/audio/2021/jun/15/behind-mass-protests-colombia-podcast\" tabindex=\"-1\">What’s behind the mass protests in Colombia?</a>\n",
      "--> Without the HTML around it looks like this: What’s behind the mass protests in Colombia?\n",
      "--> This is now the content of data: ['Newcastle fans think they’ve got their club back. But at what cost?', 'Has England gone back to the office?', 'What went wrong with the UK’s handling of the Covid pandemic?', 'Dubai’s ruler and the Pegasus phone hacking exposed in a UK court', 'The countdown to Cop26: can world leaders save the planet?', 'The whistleblower who plunged Facebook into crisis', 'Can women trust the police?', 'Why everything you’ve heard about panic buying might be wrong', 'The Pandora papers: who’s giving money to the Conservatives?', 'Inside the Pandora papers – financial secrets of the rich and powerful', 'Boris Johnson wants a conference reset. Will reality ruin it?', 'The conviction of R Kelly', 'Can China help end the world’s addiction to coal?', 'Bond is back. Where’s he going next?', 'The Pegasus project: hacked in London', 'Keir Starmer’s make-or-break conference week', 'The energy crisis no one saw coming', 'Germany decides: who will follow Angela Merkel?', 'Going nuclear: the secret submarine deal to challenge China ', 'Finally! Get ready for a new season of culture', 'The murder of Fikile: the woman who took on a coal mine', 'The problem with OnlyFans’ mainstream dream', 'Who’s paying for the government’s plan to fix social care?', 'Is Brexit the reason McDonald’s is running out of milkshakes?', 'Ecstasy, LSD and magic mushrooms: are these drugs the future of therapy?', 'A conversation about Islamophobia in the UK since 9/11', 'Inside Al-Qaida: a recruit-turned-spy, a journalist and the road to 9/11', 'The children of 9/11', 'Burnout in the US battle against wildfires', 'One hour to escape: the race to get out of a Gaza tower before an Israeli airstrike', 'One man’s epic electric test drive – from Land’s End to John o’Groats', 'The big coronavirus questions as a new school term begins', 'The British citizens left behind in Kabul', 'The knock: the families torn apart by an arrest over child abuse images', 'Revisited: how meme stars of the early internet struck it rich with NFTs', 'Revisited: Why is Sex and the City coming back to our screens?', 'Revisited: the danger – and beauty – of ultrarunning', 'Revisited: Inside the ’Ndrangheta trial', 'Revisited: The pandemic scam artists making millions during lockdown', 'Revisited: why has the Brazilian butt lift become so popular?', 'A Paralympian’s long journey to Tokyo', 'The Plymouth attack and misogynist ‘incel’ culture', 'How the pandemic exposed the crisis in children’s social care', 'How the Taliban took Afghanistan', 'After ICU: a Covid patient meets one of the doctors who saved his life', 'The fall of Andrew Cuomo', 'Has the Delta variant derailed Australia’s zero-Covid strategy?', 'Scientists issue a climate code red', 'Israel’s shadow war with Iran', 'In search of answers about miscarriage', 'Racism, policing and austerity: have lessons been learned since England’s 2011 riots?', 'Why a Belarusian Olympic sprinter refused to fly home', 'How Simone Biles changed gymnastics – on and off the mat', 'Are plans to change the Official Secrets Act a threat to journalism?', 'Why did Unesco drop Liverpool from its heritage list?', 'How we all got hooked on caffeine', 'The lobbying push that killed off a fight to save the Great Barrier Reef', 'The Republican backlash in Joe Biden’s America', 'The pandemic enters a new phase', 'The authority gap: why women still aren’t taken seriously', 'The Pegasus project part 5: the fightback against private spyware begins', 'The Pegasus project part 4: runaway princesses and the UK connection', 'The Pegasus project part 3: cartels, corruption and cyber-weapons', 'The Pegasus project part 2: cat and mouse', 'The Pegasus project part 1: an invitation to Paris', 'Marina Hyde on the political circus of the last five years ', 'Inside the mind of an Olympic athlete one week before the games', 'The heatwave forcing America to confront climate reality', 'Is it possible to make the internet safe for children?', 'The people searching for missing family members during the pandemic', 'The Indigenous children who died at Canada’s residential schools', 'The government’s rape review: an apology, but will anything change?', 'Euro 2020: what would it mean if England could actually … win?', 'After Grenfell: the unsolved cladding crisis', 'Why do powerful men have affairs?', 'Britney Spears’ battle to take back control of her life and fortune', 'How a pro-democracy newspaper in Hong Kong died', 'How the Batley and Spen byelection turned toxic', 'Matt Hancock’s downfall ', 'Young, hot and bothered: going through menopause in my 30s', 'The new Brexit crisis for Northern Ireland’s unionists', 'How meme stars of the early internet are striking it rich with NFTs', 'Police corruption and the unsolved murder of Daniel Morgan', 'Do we have to learn to live with Covid-19?', 'Karim’s story: Egypt’s crackdown on human rights workers ', 'Why England’s footballers are so determined to keep taking the knee ', 'Is the truth out there? The US government prepares its landmark report on UFOs', 'Israel’s unlikely coalition: is this the end for Netanyahu?', 'What’s behind the mass protests in Colombia?']\n",
      "\n",
      "\n",
      "--> We are now at the headline: <a aria-hidden=\"true\" class=\"u-faux-block-link__overlay js-headline-text\" data-link-name=\"article\" href=\"https://www.theguardian.com/news/audio/2021/jun/14/what-went-wrong-with-the-us-covid-19-response-podcast\" tabindex=\"-1\">What went wrong with Covid-19 response in the US?</a>\n",
      "--> Without the HTML around it looks like this: What went wrong with Covid-19 response in the US?\n",
      "--> This is now the content of data: ['Newcastle fans think they’ve got their club back. But at what cost?', 'Has England gone back to the office?', 'What went wrong with the UK’s handling of the Covid pandemic?', 'Dubai’s ruler and the Pegasus phone hacking exposed in a UK court', 'The countdown to Cop26: can world leaders save the planet?', 'The whistleblower who plunged Facebook into crisis', 'Can women trust the police?', 'Why everything you’ve heard about panic buying might be wrong', 'The Pandora papers: who’s giving money to the Conservatives?', 'Inside the Pandora papers – financial secrets of the rich and powerful', 'Boris Johnson wants a conference reset. Will reality ruin it?', 'The conviction of R Kelly', 'Can China help end the world’s addiction to coal?', 'Bond is back. Where’s he going next?', 'The Pegasus project: hacked in London', 'Keir Starmer’s make-or-break conference week', 'The energy crisis no one saw coming', 'Germany decides: who will follow Angela Merkel?', 'Going nuclear: the secret submarine deal to challenge China ', 'Finally! Get ready for a new season of culture', 'The murder of Fikile: the woman who took on a coal mine', 'The problem with OnlyFans’ mainstream dream', 'Who’s paying for the government’s plan to fix social care?', 'Is Brexit the reason McDonald’s is running out of milkshakes?', 'Ecstasy, LSD and magic mushrooms: are these drugs the future of therapy?', 'A conversation about Islamophobia in the UK since 9/11', 'Inside Al-Qaida: a recruit-turned-spy, a journalist and the road to 9/11', 'The children of 9/11', 'Burnout in the US battle against wildfires', 'One hour to escape: the race to get out of a Gaza tower before an Israeli airstrike', 'One man’s epic electric test drive – from Land’s End to John o’Groats', 'The big coronavirus questions as a new school term begins', 'The British citizens left behind in Kabul', 'The knock: the families torn apart by an arrest over child abuse images', 'Revisited: how meme stars of the early internet struck it rich with NFTs', 'Revisited: Why is Sex and the City coming back to our screens?', 'Revisited: the danger – and beauty – of ultrarunning', 'Revisited: Inside the ’Ndrangheta trial', 'Revisited: The pandemic scam artists making millions during lockdown', 'Revisited: why has the Brazilian butt lift become so popular?', 'A Paralympian’s long journey to Tokyo', 'The Plymouth attack and misogynist ‘incel’ culture', 'How the pandemic exposed the crisis in children’s social care', 'How the Taliban took Afghanistan', 'After ICU: a Covid patient meets one of the doctors who saved his life', 'The fall of Andrew Cuomo', 'Has the Delta variant derailed Australia’s zero-Covid strategy?', 'Scientists issue a climate code red', 'Israel’s shadow war with Iran', 'In search of answers about miscarriage', 'Racism, policing and austerity: have lessons been learned since England’s 2011 riots?', 'Why a Belarusian Olympic sprinter refused to fly home', 'How Simone Biles changed gymnastics – on and off the mat', 'Are plans to change the Official Secrets Act a threat to journalism?', 'Why did Unesco drop Liverpool from its heritage list?', 'How we all got hooked on caffeine', 'The lobbying push that killed off a fight to save the Great Barrier Reef', 'The Republican backlash in Joe Biden’s America', 'The pandemic enters a new phase', 'The authority gap: why women still aren’t taken seriously', 'The Pegasus project part 5: the fightback against private spyware begins', 'The Pegasus project part 4: runaway princesses and the UK connection', 'The Pegasus project part 3: cartels, corruption and cyber-weapons', 'The Pegasus project part 2: cat and mouse', 'The Pegasus project part 1: an invitation to Paris', 'Marina Hyde on the political circus of the last five years ', 'Inside the mind of an Olympic athlete one week before the games', 'The heatwave forcing America to confront climate reality', 'Is it possible to make the internet safe for children?', 'The people searching for missing family members during the pandemic', 'The Indigenous children who died at Canada’s residential schools', 'The government’s rape review: an apology, but will anything change?', 'Euro 2020: what would it mean if England could actually … win?', 'After Grenfell: the unsolved cladding crisis', 'Why do powerful men have affairs?', 'Britney Spears’ battle to take back control of her life and fortune', 'How a pro-democracy newspaper in Hong Kong died', 'How the Batley and Spen byelection turned toxic', 'Matt Hancock’s downfall ', 'Young, hot and bothered: going through menopause in my 30s', 'The new Brexit crisis for Northern Ireland’s unionists', 'How meme stars of the early internet are striking it rich with NFTs', 'Police corruption and the unsolved murder of Daniel Morgan', 'Do we have to learn to live with Covid-19?', 'Karim’s story: Egypt’s crackdown on human rights workers ', 'Why England’s footballers are so determined to keep taking the knee ', 'Is the truth out there? The US government prepares its landmark report on UFOs', 'Israel’s unlikely coalition: is this the end for Netanyahu?', 'What’s behind the mass protests in Colombia?', 'What went wrong with Covid-19 response in the US?']\n",
      "\n",
      "\n",
      "--> We are now at the headline: <a aria-hidden=\"true\" class=\"u-faux-block-link__overlay js-headline-text\" data-link-name=\"article\" href=\"https://www.theguardian.com/news/audio/2021/jun/11/gb-news-enters-the-culture-war-podcast\" tabindex=\"-1\">GB News enters the culture war</a>\n",
      "--> Without the HTML around it looks like this: GB News enters the culture war\n",
      "--> This is now the content of data: ['Newcastle fans think they’ve got their club back. But at what cost?', 'Has England gone back to the office?', 'What went wrong with the UK’s handling of the Covid pandemic?', 'Dubai’s ruler and the Pegasus phone hacking exposed in a UK court', 'The countdown to Cop26: can world leaders save the planet?', 'The whistleblower who plunged Facebook into crisis', 'Can women trust the police?', 'Why everything you’ve heard about panic buying might be wrong', 'The Pandora papers: who’s giving money to the Conservatives?', 'Inside the Pandora papers – financial secrets of the rich and powerful', 'Boris Johnson wants a conference reset. Will reality ruin it?', 'The conviction of R Kelly', 'Can China help end the world’s addiction to coal?', 'Bond is back. Where’s he going next?', 'The Pegasus project: hacked in London', 'Keir Starmer’s make-or-break conference week', 'The energy crisis no one saw coming', 'Germany decides: who will follow Angela Merkel?', 'Going nuclear: the secret submarine deal to challenge China ', 'Finally! Get ready for a new season of culture', 'The murder of Fikile: the woman who took on a coal mine', 'The problem with OnlyFans’ mainstream dream', 'Who’s paying for the government’s plan to fix social care?', 'Is Brexit the reason McDonald’s is running out of milkshakes?', 'Ecstasy, LSD and magic mushrooms: are these drugs the future of therapy?', 'A conversation about Islamophobia in the UK since 9/11', 'Inside Al-Qaida: a recruit-turned-spy, a journalist and the road to 9/11', 'The children of 9/11', 'Burnout in the US battle against wildfires', 'One hour to escape: the race to get out of a Gaza tower before an Israeli airstrike', 'One man’s epic electric test drive – from Land’s End to John o’Groats', 'The big coronavirus questions as a new school term begins', 'The British citizens left behind in Kabul', 'The knock: the families torn apart by an arrest over child abuse images', 'Revisited: how meme stars of the early internet struck it rich with NFTs', 'Revisited: Why is Sex and the City coming back to our screens?', 'Revisited: the danger – and beauty – of ultrarunning', 'Revisited: Inside the ’Ndrangheta trial', 'Revisited: The pandemic scam artists making millions during lockdown', 'Revisited: why has the Brazilian butt lift become so popular?', 'A Paralympian’s long journey to Tokyo', 'The Plymouth attack and misogynist ‘incel’ culture', 'How the pandemic exposed the crisis in children’s social care', 'How the Taliban took Afghanistan', 'After ICU: a Covid patient meets one of the doctors who saved his life', 'The fall of Andrew Cuomo', 'Has the Delta variant derailed Australia’s zero-Covid strategy?', 'Scientists issue a climate code red', 'Israel’s shadow war with Iran', 'In search of answers about miscarriage', 'Racism, policing and austerity: have lessons been learned since England’s 2011 riots?', 'Why a Belarusian Olympic sprinter refused to fly home', 'How Simone Biles changed gymnastics – on and off the mat', 'Are plans to change the Official Secrets Act a threat to journalism?', 'Why did Unesco drop Liverpool from its heritage list?', 'How we all got hooked on caffeine', 'The lobbying push that killed off a fight to save the Great Barrier Reef', 'The Republican backlash in Joe Biden’s America', 'The pandemic enters a new phase', 'The authority gap: why women still aren’t taken seriously', 'The Pegasus project part 5: the fightback against private spyware begins', 'The Pegasus project part 4: runaway princesses and the UK connection', 'The Pegasus project part 3: cartels, corruption and cyber-weapons', 'The Pegasus project part 2: cat and mouse', 'The Pegasus project part 1: an invitation to Paris', 'Marina Hyde on the political circus of the last five years ', 'Inside the mind of an Olympic athlete one week before the games', 'The heatwave forcing America to confront climate reality', 'Is it possible to make the internet safe for children?', 'The people searching for missing family members during the pandemic', 'The Indigenous children who died at Canada’s residential schools', 'The government’s rape review: an apology, but will anything change?', 'Euro 2020: what would it mean if England could actually … win?', 'After Grenfell: the unsolved cladding crisis', 'Why do powerful men have affairs?', 'Britney Spears’ battle to take back control of her life and fortune', 'How a pro-democracy newspaper in Hong Kong died', 'How the Batley and Spen byelection turned toxic', 'Matt Hancock’s downfall ', 'Young, hot and bothered: going through menopause in my 30s', 'The new Brexit crisis for Northern Ireland’s unionists', 'How meme stars of the early internet are striking it rich with NFTs', 'Police corruption and the unsolved murder of Daniel Morgan', 'Do we have to learn to live with Covid-19?', 'Karim’s story: Egypt’s crackdown on human rights workers ', 'Why England’s footballers are so determined to keep taking the knee ', 'Is the truth out there? The US government prepares its landmark report on UFOs', 'Israel’s unlikely coalition: is this the end for Netanyahu?', 'What’s behind the mass protests in Colombia?', 'What went wrong with Covid-19 response in the US?', 'GB News enters the culture war']\n",
      "\n",
      "\n",
      "--> We are now at the headline: <a aria-hidden=\"true\" class=\"u-faux-block-link__overlay js-headline-text\" data-link-name=\"article\" href=\"https://www.theguardian.com/news/audio/2021/jun/10/the-g7-and-a-crucial-moment-for-the-climate\" tabindex=\"-1\">The G7 and a crucial moment for the climate</a>\n",
      "--> Without the HTML around it looks like this: The G7 and a crucial moment for the climate\n",
      "--> This is now the content of data: ['Newcastle fans think they’ve got their club back. But at what cost?', 'Has England gone back to the office?', 'What went wrong with the UK’s handling of the Covid pandemic?', 'Dubai’s ruler and the Pegasus phone hacking exposed in a UK court', 'The countdown to Cop26: can world leaders save the planet?', 'The whistleblower who plunged Facebook into crisis', 'Can women trust the police?', 'Why everything you’ve heard about panic buying might be wrong', 'The Pandora papers: who’s giving money to the Conservatives?', 'Inside the Pandora papers – financial secrets of the rich and powerful', 'Boris Johnson wants a conference reset. Will reality ruin it?', 'The conviction of R Kelly', 'Can China help end the world’s addiction to coal?', 'Bond is back. Where’s he going next?', 'The Pegasus project: hacked in London', 'Keir Starmer’s make-or-break conference week', 'The energy crisis no one saw coming', 'Germany decides: who will follow Angela Merkel?', 'Going nuclear: the secret submarine deal to challenge China ', 'Finally! Get ready for a new season of culture', 'The murder of Fikile: the woman who took on a coal mine', 'The problem with OnlyFans’ mainstream dream', 'Who’s paying for the government’s plan to fix social care?', 'Is Brexit the reason McDonald’s is running out of milkshakes?', 'Ecstasy, LSD and magic mushrooms: are these drugs the future of therapy?', 'A conversation about Islamophobia in the UK since 9/11', 'Inside Al-Qaida: a recruit-turned-spy, a journalist and the road to 9/11', 'The children of 9/11', 'Burnout in the US battle against wildfires', 'One hour to escape: the race to get out of a Gaza tower before an Israeli airstrike', 'One man’s epic electric test drive – from Land’s End to John o’Groats', 'The big coronavirus questions as a new school term begins', 'The British citizens left behind in Kabul', 'The knock: the families torn apart by an arrest over child abuse images', 'Revisited: how meme stars of the early internet struck it rich with NFTs', 'Revisited: Why is Sex and the City coming back to our screens?', 'Revisited: the danger – and beauty – of ultrarunning', 'Revisited: Inside the ’Ndrangheta trial', 'Revisited: The pandemic scam artists making millions during lockdown', 'Revisited: why has the Brazilian butt lift become so popular?', 'A Paralympian’s long journey to Tokyo', 'The Plymouth attack and misogynist ‘incel’ culture', 'How the pandemic exposed the crisis in children’s social care', 'How the Taliban took Afghanistan', 'After ICU: a Covid patient meets one of the doctors who saved his life', 'The fall of Andrew Cuomo', 'Has the Delta variant derailed Australia’s zero-Covid strategy?', 'Scientists issue a climate code red', 'Israel’s shadow war with Iran', 'In search of answers about miscarriage', 'Racism, policing and austerity: have lessons been learned since England’s 2011 riots?', 'Why a Belarusian Olympic sprinter refused to fly home', 'How Simone Biles changed gymnastics – on and off the mat', 'Are plans to change the Official Secrets Act a threat to journalism?', 'Why did Unesco drop Liverpool from its heritage list?', 'How we all got hooked on caffeine', 'The lobbying push that killed off a fight to save the Great Barrier Reef', 'The Republican backlash in Joe Biden’s America', 'The pandemic enters a new phase', 'The authority gap: why women still aren’t taken seriously', 'The Pegasus project part 5: the fightback against private spyware begins', 'The Pegasus project part 4: runaway princesses and the UK connection', 'The Pegasus project part 3: cartels, corruption and cyber-weapons', 'The Pegasus project part 2: cat and mouse', 'The Pegasus project part 1: an invitation to Paris', 'Marina Hyde on the political circus of the last five years ', 'Inside the mind of an Olympic athlete one week before the games', 'The heatwave forcing America to confront climate reality', 'Is it possible to make the internet safe for children?', 'The people searching for missing family members during the pandemic', 'The Indigenous children who died at Canada’s residential schools', 'The government’s rape review: an apology, but will anything change?', 'Euro 2020: what would it mean if England could actually … win?', 'After Grenfell: the unsolved cladding crisis', 'Why do powerful men have affairs?', 'Britney Spears’ battle to take back control of her life and fortune', 'How a pro-democracy newspaper in Hong Kong died', 'How the Batley and Spen byelection turned toxic', 'Matt Hancock’s downfall ', 'Young, hot and bothered: going through menopause in my 30s', 'The new Brexit crisis for Northern Ireland’s unionists', 'How meme stars of the early internet are striking it rich with NFTs', 'Police corruption and the unsolved murder of Daniel Morgan', 'Do we have to learn to live with Covid-19?', 'Karim’s story: Egypt’s crackdown on human rights workers ', 'Why England’s footballers are so determined to keep taking the knee ', 'Is the truth out there? The US government prepares its landmark report on UFOs', 'Israel’s unlikely coalition: is this the end for Netanyahu?', 'What’s behind the mass protests in Colombia?', 'What went wrong with Covid-19 response in the US?', 'GB News enters the culture war', 'The G7 and a crucial moment for the climate']\n",
      "\n",
      "\n",
      "--> We are now at the headline: <a aria-hidden=\"true\" class=\"u-faux-block-link__overlay js-headline-text\" data-link-name=\"article\" href=\"https://www.theguardian.com/news/audio/2021/jun/09/the-interrogation-of-matt-hancock-podcast\" tabindex=\"-1\">The interrogation of Matt Hancock</a>\n",
      "--> Without the HTML around it looks like this: The interrogation of Matt Hancock\n",
      "--> This is now the content of data: ['Newcastle fans think they’ve got their club back. But at what cost?', 'Has England gone back to the office?', 'What went wrong with the UK’s handling of the Covid pandemic?', 'Dubai’s ruler and the Pegasus phone hacking exposed in a UK court', 'The countdown to Cop26: can world leaders save the planet?', 'The whistleblower who plunged Facebook into crisis', 'Can women trust the police?', 'Why everything you’ve heard about panic buying might be wrong', 'The Pandora papers: who’s giving money to the Conservatives?', 'Inside the Pandora papers – financial secrets of the rich and powerful', 'Boris Johnson wants a conference reset. Will reality ruin it?', 'The conviction of R Kelly', 'Can China help end the world’s addiction to coal?', 'Bond is back. Where’s he going next?', 'The Pegasus project: hacked in London', 'Keir Starmer’s make-or-break conference week', 'The energy crisis no one saw coming', 'Germany decides: who will follow Angela Merkel?', 'Going nuclear: the secret submarine deal to challenge China ', 'Finally! Get ready for a new season of culture', 'The murder of Fikile: the woman who took on a coal mine', 'The problem with OnlyFans’ mainstream dream', 'Who’s paying for the government’s plan to fix social care?', 'Is Brexit the reason McDonald’s is running out of milkshakes?', 'Ecstasy, LSD and magic mushrooms: are these drugs the future of therapy?', 'A conversation about Islamophobia in the UK since 9/11', 'Inside Al-Qaida: a recruit-turned-spy, a journalist and the road to 9/11', 'The children of 9/11', 'Burnout in the US battle against wildfires', 'One hour to escape: the race to get out of a Gaza tower before an Israeli airstrike', 'One man’s epic electric test drive – from Land’s End to John o’Groats', 'The big coronavirus questions as a new school term begins', 'The British citizens left behind in Kabul', 'The knock: the families torn apart by an arrest over child abuse images', 'Revisited: how meme stars of the early internet struck it rich with NFTs', 'Revisited: Why is Sex and the City coming back to our screens?', 'Revisited: the danger – and beauty – of ultrarunning', 'Revisited: Inside the ’Ndrangheta trial', 'Revisited: The pandemic scam artists making millions during lockdown', 'Revisited: why has the Brazilian butt lift become so popular?', 'A Paralympian’s long journey to Tokyo', 'The Plymouth attack and misogynist ‘incel’ culture', 'How the pandemic exposed the crisis in children’s social care', 'How the Taliban took Afghanistan', 'After ICU: a Covid patient meets one of the doctors who saved his life', 'The fall of Andrew Cuomo', 'Has the Delta variant derailed Australia’s zero-Covid strategy?', 'Scientists issue a climate code red', 'Israel’s shadow war with Iran', 'In search of answers about miscarriage', 'Racism, policing and austerity: have lessons been learned since England’s 2011 riots?', 'Why a Belarusian Olympic sprinter refused to fly home', 'How Simone Biles changed gymnastics – on and off the mat', 'Are plans to change the Official Secrets Act a threat to journalism?', 'Why did Unesco drop Liverpool from its heritage list?', 'How we all got hooked on caffeine', 'The lobbying push that killed off a fight to save the Great Barrier Reef', 'The Republican backlash in Joe Biden’s America', 'The pandemic enters a new phase', 'The authority gap: why women still aren’t taken seriously', 'The Pegasus project part 5: the fightback against private spyware begins', 'The Pegasus project part 4: runaway princesses and the UK connection', 'The Pegasus project part 3: cartels, corruption and cyber-weapons', 'The Pegasus project part 2: cat and mouse', 'The Pegasus project part 1: an invitation to Paris', 'Marina Hyde on the political circus of the last five years ', 'Inside the mind of an Olympic athlete one week before the games', 'The heatwave forcing America to confront climate reality', 'Is it possible to make the internet safe for children?', 'The people searching for missing family members during the pandemic', 'The Indigenous children who died at Canada’s residential schools', 'The government’s rape review: an apology, but will anything change?', 'Euro 2020: what would it mean if England could actually … win?', 'After Grenfell: the unsolved cladding crisis', 'Why do powerful men have affairs?', 'Britney Spears’ battle to take back control of her life and fortune', 'How a pro-democracy newspaper in Hong Kong died', 'How the Batley and Spen byelection turned toxic', 'Matt Hancock’s downfall ', 'Young, hot and bothered: going through menopause in my 30s', 'The new Brexit crisis for Northern Ireland’s unionists', 'How meme stars of the early internet are striking it rich with NFTs', 'Police corruption and the unsolved murder of Daniel Morgan', 'Do we have to learn to live with Covid-19?', 'Karim’s story: Egypt’s crackdown on human rights workers ', 'Why England’s footballers are so determined to keep taking the knee ', 'Is the truth out there? The US government prepares its landmark report on UFOs', 'Israel’s unlikely coalition: is this the end for Netanyahu?', 'What’s behind the mass protests in Colombia?', 'What went wrong with Covid-19 response in the US?', 'GB News enters the culture war', 'The G7 and a crucial moment for the climate', 'The interrogation of Matt Hancock']\n",
      "\n",
      "\n",
      "--> We are now at the headline: <a aria-hidden=\"true\" class=\"u-faux-block-link__overlay js-headline-text\" data-link-name=\"article\" href=\"https://www.theguardian.com/news/audio/2021/jun/08/danger-and-beauty-of-ultrarunning-podcast\" tabindex=\"-1\">The danger – and beauty – of ultrarunning</a>\n",
      "--> Without the HTML around it looks like this: The danger – and beauty – of ultrarunning\n",
      "--> This is now the content of data: ['Newcastle fans think they’ve got their club back. But at what cost?', 'Has England gone back to the office?', 'What went wrong with the UK’s handling of the Covid pandemic?', 'Dubai’s ruler and the Pegasus phone hacking exposed in a UK court', 'The countdown to Cop26: can world leaders save the planet?', 'The whistleblower who plunged Facebook into crisis', 'Can women trust the police?', 'Why everything you’ve heard about panic buying might be wrong', 'The Pandora papers: who’s giving money to the Conservatives?', 'Inside the Pandora papers – financial secrets of the rich and powerful', 'Boris Johnson wants a conference reset. Will reality ruin it?', 'The conviction of R Kelly', 'Can China help end the world’s addiction to coal?', 'Bond is back. Where’s he going next?', 'The Pegasus project: hacked in London', 'Keir Starmer’s make-or-break conference week', 'The energy crisis no one saw coming', 'Germany decides: who will follow Angela Merkel?', 'Going nuclear: the secret submarine deal to challenge China ', 'Finally! Get ready for a new season of culture', 'The murder of Fikile: the woman who took on a coal mine', 'The problem with OnlyFans’ mainstream dream', 'Who’s paying for the government’s plan to fix social care?', 'Is Brexit the reason McDonald’s is running out of milkshakes?', 'Ecstasy, LSD and magic mushrooms: are these drugs the future of therapy?', 'A conversation about Islamophobia in the UK since 9/11', 'Inside Al-Qaida: a recruit-turned-spy, a journalist and the road to 9/11', 'The children of 9/11', 'Burnout in the US battle against wildfires', 'One hour to escape: the race to get out of a Gaza tower before an Israeli airstrike', 'One man’s epic electric test drive – from Land’s End to John o’Groats', 'The big coronavirus questions as a new school term begins', 'The British citizens left behind in Kabul', 'The knock: the families torn apart by an arrest over child abuse images', 'Revisited: how meme stars of the early internet struck it rich with NFTs', 'Revisited: Why is Sex and the City coming back to our screens?', 'Revisited: the danger – and beauty – of ultrarunning', 'Revisited: Inside the ’Ndrangheta trial', 'Revisited: The pandemic scam artists making millions during lockdown', 'Revisited: why has the Brazilian butt lift become so popular?', 'A Paralympian’s long journey to Tokyo', 'The Plymouth attack and misogynist ‘incel’ culture', 'How the pandemic exposed the crisis in children’s social care', 'How the Taliban took Afghanistan', 'After ICU: a Covid patient meets one of the doctors who saved his life', 'The fall of Andrew Cuomo', 'Has the Delta variant derailed Australia’s zero-Covid strategy?', 'Scientists issue a climate code red', 'Israel’s shadow war with Iran', 'In search of answers about miscarriage', 'Racism, policing and austerity: have lessons been learned since England’s 2011 riots?', 'Why a Belarusian Olympic sprinter refused to fly home', 'How Simone Biles changed gymnastics – on and off the mat', 'Are plans to change the Official Secrets Act a threat to journalism?', 'Why did Unesco drop Liverpool from its heritage list?', 'How we all got hooked on caffeine', 'The lobbying push that killed off a fight to save the Great Barrier Reef', 'The Republican backlash in Joe Biden’s America', 'The pandemic enters a new phase', 'The authority gap: why women still aren’t taken seriously', 'The Pegasus project part 5: the fightback against private spyware begins', 'The Pegasus project part 4: runaway princesses and the UK connection', 'The Pegasus project part 3: cartels, corruption and cyber-weapons', 'The Pegasus project part 2: cat and mouse', 'The Pegasus project part 1: an invitation to Paris', 'Marina Hyde on the political circus of the last five years ', 'Inside the mind of an Olympic athlete one week before the games', 'The heatwave forcing America to confront climate reality', 'Is it possible to make the internet safe for children?', 'The people searching for missing family members during the pandemic', 'The Indigenous children who died at Canada’s residential schools', 'The government’s rape review: an apology, but will anything change?', 'Euro 2020: what would it mean if England could actually … win?', 'After Grenfell: the unsolved cladding crisis', 'Why do powerful men have affairs?', 'Britney Spears’ battle to take back control of her life and fortune', 'How a pro-democracy newspaper in Hong Kong died', 'How the Batley and Spen byelection turned toxic', 'Matt Hancock’s downfall ', 'Young, hot and bothered: going through menopause in my 30s', 'The new Brexit crisis for Northern Ireland’s unionists', 'How meme stars of the early internet are striking it rich with NFTs', 'Police corruption and the unsolved murder of Daniel Morgan', 'Do we have to learn to live with Covid-19?', 'Karim’s story: Egypt’s crackdown on human rights workers ', 'Why England’s footballers are so determined to keep taking the knee ', 'Is the truth out there? The US government prepares its landmark report on UFOs', 'Israel’s unlikely coalition: is this the end for Netanyahu?', 'What’s behind the mass protests in Colombia?', 'What went wrong with Covid-19 response in the US?', 'GB News enters the culture war', 'The G7 and a crucial moment for the climate', 'The interrogation of Matt Hancock', 'The danger – and beauty – of ultrarunning']\n",
      "\n",
      "\n",
      "--> We are now at the headline: <a aria-hidden=\"true\" class=\"u-faux-block-link__overlay js-headline-text\" data-link-name=\"article\" href=\"https://www.theguardian.com/news/audio/2021/jun/07/why-every-statue-should-come-down\" tabindex=\"-1\">Why every statue should come down</a>\n",
      "--> Without the HTML around it looks like this: Why every statue should come down\n",
      "--> This is now the content of data: ['Newcastle fans think they’ve got their club back. But at what cost?', 'Has England gone back to the office?', 'What went wrong with the UK’s handling of the Covid pandemic?', 'Dubai’s ruler and the Pegasus phone hacking exposed in a UK court', 'The countdown to Cop26: can world leaders save the planet?', 'The whistleblower who plunged Facebook into crisis', 'Can women trust the police?', 'Why everything you’ve heard about panic buying might be wrong', 'The Pandora papers: who’s giving money to the Conservatives?', 'Inside the Pandora papers – financial secrets of the rich and powerful', 'Boris Johnson wants a conference reset. Will reality ruin it?', 'The conviction of R Kelly', 'Can China help end the world’s addiction to coal?', 'Bond is back. Where’s he going next?', 'The Pegasus project: hacked in London', 'Keir Starmer’s make-or-break conference week', 'The energy crisis no one saw coming', 'Germany decides: who will follow Angela Merkel?', 'Going nuclear: the secret submarine deal to challenge China ', 'Finally! Get ready for a new season of culture', 'The murder of Fikile: the woman who took on a coal mine', 'The problem with OnlyFans’ mainstream dream', 'Who’s paying for the government’s plan to fix social care?', 'Is Brexit the reason McDonald’s is running out of milkshakes?', 'Ecstasy, LSD and magic mushrooms: are these drugs the future of therapy?', 'A conversation about Islamophobia in the UK since 9/11', 'Inside Al-Qaida: a recruit-turned-spy, a journalist and the road to 9/11', 'The children of 9/11', 'Burnout in the US battle against wildfires', 'One hour to escape: the race to get out of a Gaza tower before an Israeli airstrike', 'One man’s epic electric test drive – from Land’s End to John o’Groats', 'The big coronavirus questions as a new school term begins', 'The British citizens left behind in Kabul', 'The knock: the families torn apart by an arrest over child abuse images', 'Revisited: how meme stars of the early internet struck it rich with NFTs', 'Revisited: Why is Sex and the City coming back to our screens?', 'Revisited: the danger – and beauty – of ultrarunning', 'Revisited: Inside the ’Ndrangheta trial', 'Revisited: The pandemic scam artists making millions during lockdown', 'Revisited: why has the Brazilian butt lift become so popular?', 'A Paralympian’s long journey to Tokyo', 'The Plymouth attack and misogynist ‘incel’ culture', 'How the pandemic exposed the crisis in children’s social care', 'How the Taliban took Afghanistan', 'After ICU: a Covid patient meets one of the doctors who saved his life', 'The fall of Andrew Cuomo', 'Has the Delta variant derailed Australia’s zero-Covid strategy?', 'Scientists issue a climate code red', 'Israel’s shadow war with Iran', 'In search of answers about miscarriage', 'Racism, policing and austerity: have lessons been learned since England’s 2011 riots?', 'Why a Belarusian Olympic sprinter refused to fly home', 'How Simone Biles changed gymnastics – on and off the mat', 'Are plans to change the Official Secrets Act a threat to journalism?', 'Why did Unesco drop Liverpool from its heritage list?', 'How we all got hooked on caffeine', 'The lobbying push that killed off a fight to save the Great Barrier Reef', 'The Republican backlash in Joe Biden’s America', 'The pandemic enters a new phase', 'The authority gap: why women still aren’t taken seriously', 'The Pegasus project part 5: the fightback against private spyware begins', 'The Pegasus project part 4: runaway princesses and the UK connection', 'The Pegasus project part 3: cartels, corruption and cyber-weapons', 'The Pegasus project part 2: cat and mouse', 'The Pegasus project part 1: an invitation to Paris', 'Marina Hyde on the political circus of the last five years ', 'Inside the mind of an Olympic athlete one week before the games', 'The heatwave forcing America to confront climate reality', 'Is it possible to make the internet safe for children?', 'The people searching for missing family members during the pandemic', 'The Indigenous children who died at Canada’s residential schools', 'The government’s rape review: an apology, but will anything change?', 'Euro 2020: what would it mean if England could actually … win?', 'After Grenfell: the unsolved cladding crisis', 'Why do powerful men have affairs?', 'Britney Spears’ battle to take back control of her life and fortune', 'How a pro-democracy newspaper in Hong Kong died', 'How the Batley and Spen byelection turned toxic', 'Matt Hancock’s downfall ', 'Young, hot and bothered: going through menopause in my 30s', 'The new Brexit crisis for Northern Ireland’s unionists', 'How meme stars of the early internet are striking it rich with NFTs', 'Police corruption and the unsolved murder of Daniel Morgan', 'Do we have to learn to live with Covid-19?', 'Karim’s story: Egypt’s crackdown on human rights workers ', 'Why England’s footballers are so determined to keep taking the knee ', 'Is the truth out there? The US government prepares its landmark report on UFOs', 'Israel’s unlikely coalition: is this the end for Netanyahu?', 'What’s behind the mass protests in Colombia?', 'What went wrong with Covid-19 response in the US?', 'GB News enters the culture war', 'The G7 and a crucial moment for the climate', 'The interrogation of Matt Hancock', 'The danger – and beauty – of ultrarunning', 'Why every statue should come down']\n",
      "\n",
      "\n",
      "--> We are now at the headline: <a aria-hidden=\"true\" class=\"u-faux-block-link__overlay js-headline-text\" data-link-name=\"article\" href=\"https://www.theguardian.com/news/audio/2021/jun/04/the-biblical-mouse-plague-ravaging-new-south-wales-podcast\" tabindex=\"-1\">Australia’s mouse plague</a>\n",
      "--> Without the HTML around it looks like this: Australia’s mouse plague\n",
      "--> This is now the content of data: ['Newcastle fans think they’ve got their club back. But at what cost?', 'Has England gone back to the office?', 'What went wrong with the UK’s handling of the Covid pandemic?', 'Dubai’s ruler and the Pegasus phone hacking exposed in a UK court', 'The countdown to Cop26: can world leaders save the planet?', 'The whistleblower who plunged Facebook into crisis', 'Can women trust the police?', 'Why everything you’ve heard about panic buying might be wrong', 'The Pandora papers: who’s giving money to the Conservatives?', 'Inside the Pandora papers – financial secrets of the rich and powerful', 'Boris Johnson wants a conference reset. Will reality ruin it?', 'The conviction of R Kelly', 'Can China help end the world’s addiction to coal?', 'Bond is back. Where’s he going next?', 'The Pegasus project: hacked in London', 'Keir Starmer’s make-or-break conference week', 'The energy crisis no one saw coming', 'Germany decides: who will follow Angela Merkel?', 'Going nuclear: the secret submarine deal to challenge China ', 'Finally! Get ready for a new season of culture', 'The murder of Fikile: the woman who took on a coal mine', 'The problem with OnlyFans’ mainstream dream', 'Who’s paying for the government’s plan to fix social care?', 'Is Brexit the reason McDonald’s is running out of milkshakes?', 'Ecstasy, LSD and magic mushrooms: are these drugs the future of therapy?', 'A conversation about Islamophobia in the UK since 9/11', 'Inside Al-Qaida: a recruit-turned-spy, a journalist and the road to 9/11', 'The children of 9/11', 'Burnout in the US battle against wildfires', 'One hour to escape: the race to get out of a Gaza tower before an Israeli airstrike', 'One man’s epic electric test drive – from Land’s End to John o’Groats', 'The big coronavirus questions as a new school term begins', 'The British citizens left behind in Kabul', 'The knock: the families torn apart by an arrest over child abuse images', 'Revisited: how meme stars of the early internet struck it rich with NFTs', 'Revisited: Why is Sex and the City coming back to our screens?', 'Revisited: the danger – and beauty – of ultrarunning', 'Revisited: Inside the ’Ndrangheta trial', 'Revisited: The pandemic scam artists making millions during lockdown', 'Revisited: why has the Brazilian butt lift become so popular?', 'A Paralympian’s long journey to Tokyo', 'The Plymouth attack and misogynist ‘incel’ culture', 'How the pandemic exposed the crisis in children’s social care', 'How the Taliban took Afghanistan', 'After ICU: a Covid patient meets one of the doctors who saved his life', 'The fall of Andrew Cuomo', 'Has the Delta variant derailed Australia’s zero-Covid strategy?', 'Scientists issue a climate code red', 'Israel’s shadow war with Iran', 'In search of answers about miscarriage', 'Racism, policing and austerity: have lessons been learned since England’s 2011 riots?', 'Why a Belarusian Olympic sprinter refused to fly home', 'How Simone Biles changed gymnastics – on and off the mat', 'Are plans to change the Official Secrets Act a threat to journalism?', 'Why did Unesco drop Liverpool from its heritage list?', 'How we all got hooked on caffeine', 'The lobbying push that killed off a fight to save the Great Barrier Reef', 'The Republican backlash in Joe Biden’s America', 'The pandemic enters a new phase', 'The authority gap: why women still aren’t taken seriously', 'The Pegasus project part 5: the fightback against private spyware begins', 'The Pegasus project part 4: runaway princesses and the UK connection', 'The Pegasus project part 3: cartels, corruption and cyber-weapons', 'The Pegasus project part 2: cat and mouse', 'The Pegasus project part 1: an invitation to Paris', 'Marina Hyde on the political circus of the last five years ', 'Inside the mind of an Olympic athlete one week before the games', 'The heatwave forcing America to confront climate reality', 'Is it possible to make the internet safe for children?', 'The people searching for missing family members during the pandemic', 'The Indigenous children who died at Canada’s residential schools', 'The government’s rape review: an apology, but will anything change?', 'Euro 2020: what would it mean if England could actually … win?', 'After Grenfell: the unsolved cladding crisis', 'Why do powerful men have affairs?', 'Britney Spears’ battle to take back control of her life and fortune', 'How a pro-democracy newspaper in Hong Kong died', 'How the Batley and Spen byelection turned toxic', 'Matt Hancock’s downfall ', 'Young, hot and bothered: going through menopause in my 30s', 'The new Brexit crisis for Northern Ireland’s unionists', 'How meme stars of the early internet are striking it rich with NFTs', 'Police corruption and the unsolved murder of Daniel Morgan', 'Do we have to learn to live with Covid-19?', 'Karim’s story: Egypt’s crackdown on human rights workers ', 'Why England’s footballers are so determined to keep taking the knee ', 'Is the truth out there? The US government prepares its landmark report on UFOs', 'Israel’s unlikely coalition: is this the end for Netanyahu?', 'What’s behind the mass protests in Colombia?', 'What went wrong with Covid-19 response in the US?', 'GB News enters the culture war', 'The G7 and a crucial moment for the climate', 'The interrogation of Matt Hancock', 'The danger – and beauty – of ultrarunning', 'Why every statue should come down', 'Australia’s mouse plague']\n",
      "\n",
      "\n",
      "--> We are now at the headline: <a aria-hidden=\"true\" class=\"u-faux-block-link__overlay js-headline-text\" data-link-name=\"article\" href=\"https://www.theguardian.com/news/audio/2021/jun/03/the-wuhan-lab-leak-theory-podcast\" tabindex=\"-1\">The Wuhan lab leak theory</a>\n",
      "--> Without the HTML around it looks like this: The Wuhan lab leak theory\n",
      "--> This is now the content of data: ['Newcastle fans think they’ve got their club back. But at what cost?', 'Has England gone back to the office?', 'What went wrong with the UK’s handling of the Covid pandemic?', 'Dubai’s ruler and the Pegasus phone hacking exposed in a UK court', 'The countdown to Cop26: can world leaders save the planet?', 'The whistleblower who plunged Facebook into crisis', 'Can women trust the police?', 'Why everything you’ve heard about panic buying might be wrong', 'The Pandora papers: who’s giving money to the Conservatives?', 'Inside the Pandora papers – financial secrets of the rich and powerful', 'Boris Johnson wants a conference reset. Will reality ruin it?', 'The conviction of R Kelly', 'Can China help end the world’s addiction to coal?', 'Bond is back. Where’s he going next?', 'The Pegasus project: hacked in London', 'Keir Starmer’s make-or-break conference week', 'The energy crisis no one saw coming', 'Germany decides: who will follow Angela Merkel?', 'Going nuclear: the secret submarine deal to challenge China ', 'Finally! Get ready for a new season of culture', 'The murder of Fikile: the woman who took on a coal mine', 'The problem with OnlyFans’ mainstream dream', 'Who’s paying for the government’s plan to fix social care?', 'Is Brexit the reason McDonald’s is running out of milkshakes?', 'Ecstasy, LSD and magic mushrooms: are these drugs the future of therapy?', 'A conversation about Islamophobia in the UK since 9/11', 'Inside Al-Qaida: a recruit-turned-spy, a journalist and the road to 9/11', 'The children of 9/11', 'Burnout in the US battle against wildfires', 'One hour to escape: the race to get out of a Gaza tower before an Israeli airstrike', 'One man’s epic electric test drive – from Land’s End to John o’Groats', 'The big coronavirus questions as a new school term begins', 'The British citizens left behind in Kabul', 'The knock: the families torn apart by an arrest over child abuse images', 'Revisited: how meme stars of the early internet struck it rich with NFTs', 'Revisited: Why is Sex and the City coming back to our screens?', 'Revisited: the danger – and beauty – of ultrarunning', 'Revisited: Inside the ’Ndrangheta trial', 'Revisited: The pandemic scam artists making millions during lockdown', 'Revisited: why has the Brazilian butt lift become so popular?', 'A Paralympian’s long journey to Tokyo', 'The Plymouth attack and misogynist ‘incel’ culture', 'How the pandemic exposed the crisis in children’s social care', 'How the Taliban took Afghanistan', 'After ICU: a Covid patient meets one of the doctors who saved his life', 'The fall of Andrew Cuomo', 'Has the Delta variant derailed Australia’s zero-Covid strategy?', 'Scientists issue a climate code red', 'Israel’s shadow war with Iran', 'In search of answers about miscarriage', 'Racism, policing and austerity: have lessons been learned since England’s 2011 riots?', 'Why a Belarusian Olympic sprinter refused to fly home', 'How Simone Biles changed gymnastics – on and off the mat', 'Are plans to change the Official Secrets Act a threat to journalism?', 'Why did Unesco drop Liverpool from its heritage list?', 'How we all got hooked on caffeine', 'The lobbying push that killed off a fight to save the Great Barrier Reef', 'The Republican backlash in Joe Biden’s America', 'The pandemic enters a new phase', 'The authority gap: why women still aren’t taken seriously', 'The Pegasus project part 5: the fightback against private spyware begins', 'The Pegasus project part 4: runaway princesses and the UK connection', 'The Pegasus project part 3: cartels, corruption and cyber-weapons', 'The Pegasus project part 2: cat and mouse', 'The Pegasus project part 1: an invitation to Paris', 'Marina Hyde on the political circus of the last five years ', 'Inside the mind of an Olympic athlete one week before the games', 'The heatwave forcing America to confront climate reality', 'Is it possible to make the internet safe for children?', 'The people searching for missing family members during the pandemic', 'The Indigenous children who died at Canada’s residential schools', 'The government’s rape review: an apology, but will anything change?', 'Euro 2020: what would it mean if England could actually … win?', 'After Grenfell: the unsolved cladding crisis', 'Why do powerful men have affairs?', 'Britney Spears’ battle to take back control of her life and fortune', 'How a pro-democracy newspaper in Hong Kong died', 'How the Batley and Spen byelection turned toxic', 'Matt Hancock’s downfall ', 'Young, hot and bothered: going through menopause in my 30s', 'The new Brexit crisis for Northern Ireland’s unionists', 'How meme stars of the early internet are striking it rich with NFTs', 'Police corruption and the unsolved murder of Daniel Morgan', 'Do we have to learn to live with Covid-19?', 'Karim’s story: Egypt’s crackdown on human rights workers ', 'Why England’s footballers are so determined to keep taking the knee ', 'Is the truth out there? The US government prepares its landmark report on UFOs', 'Israel’s unlikely coalition: is this the end for Netanyahu?', 'What’s behind the mass protests in Colombia?', 'What went wrong with Covid-19 response in the US?', 'GB News enters the culture war', 'The G7 and a crucial moment for the climate', 'The interrogation of Matt Hancock', 'The danger – and beauty – of ultrarunning', 'Why every statue should come down', 'Australia’s mouse plague', 'The Wuhan lab leak theory']\n",
      "\n",
      "\n",
      "--> We are now at the headline: <a aria-hidden=\"true\" class=\"u-faux-block-link__overlay js-headline-text\" data-link-name=\"article\" href=\"https://www.theguardian.com/news/audio/2021/jun/02/bashar-al-assads-decade-of-destruction-in-syria-podcast\" tabindex=\"-1\">Bashar al-Assad’s decade of destruction in Syria</a>\n",
      "--> Without the HTML around it looks like this: Bashar al-Assad’s decade of destruction in Syria\n",
      "--> This is now the content of data: ['Newcastle fans think they’ve got their club back. But at what cost?', 'Has England gone back to the office?', 'What went wrong with the UK’s handling of the Covid pandemic?', 'Dubai’s ruler and the Pegasus phone hacking exposed in a UK court', 'The countdown to Cop26: can world leaders save the planet?', 'The whistleblower who plunged Facebook into crisis', 'Can women trust the police?', 'Why everything you’ve heard about panic buying might be wrong', 'The Pandora papers: who’s giving money to the Conservatives?', 'Inside the Pandora papers – financial secrets of the rich and powerful', 'Boris Johnson wants a conference reset. Will reality ruin it?', 'The conviction of R Kelly', 'Can China help end the world’s addiction to coal?', 'Bond is back. Where’s he going next?', 'The Pegasus project: hacked in London', 'Keir Starmer’s make-or-break conference week', 'The energy crisis no one saw coming', 'Germany decides: who will follow Angela Merkel?', 'Going nuclear: the secret submarine deal to challenge China ', 'Finally! Get ready for a new season of culture', 'The murder of Fikile: the woman who took on a coal mine', 'The problem with OnlyFans’ mainstream dream', 'Who’s paying for the government’s plan to fix social care?', 'Is Brexit the reason McDonald’s is running out of milkshakes?', 'Ecstasy, LSD and magic mushrooms: are these drugs the future of therapy?', 'A conversation about Islamophobia in the UK since 9/11', 'Inside Al-Qaida: a recruit-turned-spy, a journalist and the road to 9/11', 'The children of 9/11', 'Burnout in the US battle against wildfires', 'One hour to escape: the race to get out of a Gaza tower before an Israeli airstrike', 'One man’s epic electric test drive – from Land’s End to John o’Groats', 'The big coronavirus questions as a new school term begins', 'The British citizens left behind in Kabul', 'The knock: the families torn apart by an arrest over child abuse images', 'Revisited: how meme stars of the early internet struck it rich with NFTs', 'Revisited: Why is Sex and the City coming back to our screens?', 'Revisited: the danger – and beauty – of ultrarunning', 'Revisited: Inside the ’Ndrangheta trial', 'Revisited: The pandemic scam artists making millions during lockdown', 'Revisited: why has the Brazilian butt lift become so popular?', 'A Paralympian’s long journey to Tokyo', 'The Plymouth attack and misogynist ‘incel’ culture', 'How the pandemic exposed the crisis in children’s social care', 'How the Taliban took Afghanistan', 'After ICU: a Covid patient meets one of the doctors who saved his life', 'The fall of Andrew Cuomo', 'Has the Delta variant derailed Australia’s zero-Covid strategy?', 'Scientists issue a climate code red', 'Israel’s shadow war with Iran', 'In search of answers about miscarriage', 'Racism, policing and austerity: have lessons been learned since England’s 2011 riots?', 'Why a Belarusian Olympic sprinter refused to fly home', 'How Simone Biles changed gymnastics – on and off the mat', 'Are plans to change the Official Secrets Act a threat to journalism?', 'Why did Unesco drop Liverpool from its heritage list?', 'How we all got hooked on caffeine', 'The lobbying push that killed off a fight to save the Great Barrier Reef', 'The Republican backlash in Joe Biden’s America', 'The pandemic enters a new phase', 'The authority gap: why women still aren’t taken seriously', 'The Pegasus project part 5: the fightback against private spyware begins', 'The Pegasus project part 4: runaway princesses and the UK connection', 'The Pegasus project part 3: cartels, corruption and cyber-weapons', 'The Pegasus project part 2: cat and mouse', 'The Pegasus project part 1: an invitation to Paris', 'Marina Hyde on the political circus of the last five years ', 'Inside the mind of an Olympic athlete one week before the games', 'The heatwave forcing America to confront climate reality', 'Is it possible to make the internet safe for children?', 'The people searching for missing family members during the pandemic', 'The Indigenous children who died at Canada’s residential schools', 'The government’s rape review: an apology, but will anything change?', 'Euro 2020: what would it mean if England could actually … win?', 'After Grenfell: the unsolved cladding crisis', 'Why do powerful men have affairs?', 'Britney Spears’ battle to take back control of her life and fortune', 'How a pro-democracy newspaper in Hong Kong died', 'How the Batley and Spen byelection turned toxic', 'Matt Hancock’s downfall ', 'Young, hot and bothered: going through menopause in my 30s', 'The new Brexit crisis for Northern Ireland’s unionists', 'How meme stars of the early internet are striking it rich with NFTs', 'Police corruption and the unsolved murder of Daniel Morgan', 'Do we have to learn to live with Covid-19?', 'Karim’s story: Egypt’s crackdown on human rights workers ', 'Why England’s footballers are so determined to keep taking the knee ', 'Is the truth out there? The US government prepares its landmark report on UFOs', 'Israel’s unlikely coalition: is this the end for Netanyahu?', 'What’s behind the mass protests in Colombia?', 'What went wrong with Covid-19 response in the US?', 'GB News enters the culture war', 'The G7 and a crucial moment for the climate', 'The interrogation of Matt Hancock', 'The danger – and beauty – of ultrarunning', 'Why every statue should come down', 'Australia’s mouse plague', 'The Wuhan lab leak theory', 'Bashar al-Assad’s decade of destruction in Syria']\n",
      "\n",
      "\n",
      "--> We are now at the headline: <a aria-hidden=\"true\" class=\"u-faux-block-link__overlay js-headline-text\" data-link-name=\"article\" href=\"https://www.theguardian.com/news/audio/2021/jun/01/will-tokyo-really-host-pandemic-olympic-games-podcast\" tabindex=\"-1\">Will Tokyo really host a pandemic Olympics?</a>\n",
      "--> Without the HTML around it looks like this: Will Tokyo really host a pandemic Olympics?\n",
      "--> This is now the content of data: ['Newcastle fans think they’ve got their club back. But at what cost?', 'Has England gone back to the office?', 'What went wrong with the UK’s handling of the Covid pandemic?', 'Dubai’s ruler and the Pegasus phone hacking exposed in a UK court', 'The countdown to Cop26: can world leaders save the planet?', 'The whistleblower who plunged Facebook into crisis', 'Can women trust the police?', 'Why everything you’ve heard about panic buying might be wrong', 'The Pandora papers: who’s giving money to the Conservatives?', 'Inside the Pandora papers – financial secrets of the rich and powerful', 'Boris Johnson wants a conference reset. Will reality ruin it?', 'The conviction of R Kelly', 'Can China help end the world’s addiction to coal?', 'Bond is back. Where’s he going next?', 'The Pegasus project: hacked in London', 'Keir Starmer’s make-or-break conference week', 'The energy crisis no one saw coming', 'Germany decides: who will follow Angela Merkel?', 'Going nuclear: the secret submarine deal to challenge China ', 'Finally! Get ready for a new season of culture', 'The murder of Fikile: the woman who took on a coal mine', 'The problem with OnlyFans’ mainstream dream', 'Who’s paying for the government’s plan to fix social care?', 'Is Brexit the reason McDonald’s is running out of milkshakes?', 'Ecstasy, LSD and magic mushrooms: are these drugs the future of therapy?', 'A conversation about Islamophobia in the UK since 9/11', 'Inside Al-Qaida: a recruit-turned-spy, a journalist and the road to 9/11', 'The children of 9/11', 'Burnout in the US battle against wildfires', 'One hour to escape: the race to get out of a Gaza tower before an Israeli airstrike', 'One man’s epic electric test drive – from Land’s End to John o’Groats', 'The big coronavirus questions as a new school term begins', 'The British citizens left behind in Kabul', 'The knock: the families torn apart by an arrest over child abuse images', 'Revisited: how meme stars of the early internet struck it rich with NFTs', 'Revisited: Why is Sex and the City coming back to our screens?', 'Revisited: the danger – and beauty – of ultrarunning', 'Revisited: Inside the ’Ndrangheta trial', 'Revisited: The pandemic scam artists making millions during lockdown', 'Revisited: why has the Brazilian butt lift become so popular?', 'A Paralympian’s long journey to Tokyo', 'The Plymouth attack and misogynist ‘incel’ culture', 'How the pandemic exposed the crisis in children’s social care', 'How the Taliban took Afghanistan', 'After ICU: a Covid patient meets one of the doctors who saved his life', 'The fall of Andrew Cuomo', 'Has the Delta variant derailed Australia’s zero-Covid strategy?', 'Scientists issue a climate code red', 'Israel’s shadow war with Iran', 'In search of answers about miscarriage', 'Racism, policing and austerity: have lessons been learned since England’s 2011 riots?', 'Why a Belarusian Olympic sprinter refused to fly home', 'How Simone Biles changed gymnastics – on and off the mat', 'Are plans to change the Official Secrets Act a threat to journalism?', 'Why did Unesco drop Liverpool from its heritage list?', 'How we all got hooked on caffeine', 'The lobbying push that killed off a fight to save the Great Barrier Reef', 'The Republican backlash in Joe Biden’s America', 'The pandemic enters a new phase', 'The authority gap: why women still aren’t taken seriously', 'The Pegasus project part 5: the fightback against private spyware begins', 'The Pegasus project part 4: runaway princesses and the UK connection', 'The Pegasus project part 3: cartels, corruption and cyber-weapons', 'The Pegasus project part 2: cat and mouse', 'The Pegasus project part 1: an invitation to Paris', 'Marina Hyde on the political circus of the last five years ', 'Inside the mind of an Olympic athlete one week before the games', 'The heatwave forcing America to confront climate reality', 'Is it possible to make the internet safe for children?', 'The people searching for missing family members during the pandemic', 'The Indigenous children who died at Canada’s residential schools', 'The government’s rape review: an apology, but will anything change?', 'Euro 2020: what would it mean if England could actually … win?', 'After Grenfell: the unsolved cladding crisis', 'Why do powerful men have affairs?', 'Britney Spears’ battle to take back control of her life and fortune', 'How a pro-democracy newspaper in Hong Kong died', 'How the Batley and Spen byelection turned toxic', 'Matt Hancock’s downfall ', 'Young, hot and bothered: going through menopause in my 30s', 'The new Brexit crisis for Northern Ireland’s unionists', 'How meme stars of the early internet are striking it rich with NFTs', 'Police corruption and the unsolved murder of Daniel Morgan', 'Do we have to learn to live with Covid-19?', 'Karim’s story: Egypt’s crackdown on human rights workers ', 'Why England’s footballers are so determined to keep taking the knee ', 'Is the truth out there? The US government prepares its landmark report on UFOs', 'Israel’s unlikely coalition: is this the end for Netanyahu?', 'What’s behind the mass protests in Colombia?', 'What went wrong with Covid-19 response in the US?', 'GB News enters the culture war', 'The G7 and a crucial moment for the climate', 'The interrogation of Matt Hancock', 'The danger – and beauty – of ultrarunning', 'Why every statue should come down', 'Australia’s mouse plague', 'The Wuhan lab leak theory', 'Bashar al-Assad’s decade of destruction in Syria', 'Will Tokyo really host a pandemic Olympics?']\n",
      "\n",
      "\n",
      "--> We are now at the headline: <a aria-hidden=\"true\" class=\"u-faux-block-link__overlay js-headline-text\" data-link-name=\"article\" href=\"https://www.theguardian.com/news/audio/2021/may/31/can-the-us-avoid-another-trump-podcast\" tabindex=\"-1\">Can the US avoid another Trump?</a>\n",
      "--> Without the HTML around it looks like this: Can the US avoid another Trump?\n",
      "--> This is now the content of data: ['Newcastle fans think they’ve got their club back. But at what cost?', 'Has England gone back to the office?', 'What went wrong with the UK’s handling of the Covid pandemic?', 'Dubai’s ruler and the Pegasus phone hacking exposed in a UK court', 'The countdown to Cop26: can world leaders save the planet?', 'The whistleblower who plunged Facebook into crisis', 'Can women trust the police?', 'Why everything you’ve heard about panic buying might be wrong', 'The Pandora papers: who’s giving money to the Conservatives?', 'Inside the Pandora papers – financial secrets of the rich and powerful', 'Boris Johnson wants a conference reset. Will reality ruin it?', 'The conviction of R Kelly', 'Can China help end the world’s addiction to coal?', 'Bond is back. Where’s he going next?', 'The Pegasus project: hacked in London', 'Keir Starmer’s make-or-break conference week', 'The energy crisis no one saw coming', 'Germany decides: who will follow Angela Merkel?', 'Going nuclear: the secret submarine deal to challenge China ', 'Finally! Get ready for a new season of culture', 'The murder of Fikile: the woman who took on a coal mine', 'The problem with OnlyFans’ mainstream dream', 'Who’s paying for the government’s plan to fix social care?', 'Is Brexit the reason McDonald’s is running out of milkshakes?', 'Ecstasy, LSD and magic mushrooms: are these drugs the future of therapy?', 'A conversation about Islamophobia in the UK since 9/11', 'Inside Al-Qaida: a recruit-turned-spy, a journalist and the road to 9/11', 'The children of 9/11', 'Burnout in the US battle against wildfires', 'One hour to escape: the race to get out of a Gaza tower before an Israeli airstrike', 'One man’s epic electric test drive – from Land’s End to John o’Groats', 'The big coronavirus questions as a new school term begins', 'The British citizens left behind in Kabul', 'The knock: the families torn apart by an arrest over child abuse images', 'Revisited: how meme stars of the early internet struck it rich with NFTs', 'Revisited: Why is Sex and the City coming back to our screens?', 'Revisited: the danger – and beauty – of ultrarunning', 'Revisited: Inside the ’Ndrangheta trial', 'Revisited: The pandemic scam artists making millions during lockdown', 'Revisited: why has the Brazilian butt lift become so popular?', 'A Paralympian’s long journey to Tokyo', 'The Plymouth attack and misogynist ‘incel’ culture', 'How the pandemic exposed the crisis in children’s social care', 'How the Taliban took Afghanistan', 'After ICU: a Covid patient meets one of the doctors who saved his life', 'The fall of Andrew Cuomo', 'Has the Delta variant derailed Australia’s zero-Covid strategy?', 'Scientists issue a climate code red', 'Israel’s shadow war with Iran', 'In search of answers about miscarriage', 'Racism, policing and austerity: have lessons been learned since England’s 2011 riots?', 'Why a Belarusian Olympic sprinter refused to fly home', 'How Simone Biles changed gymnastics – on and off the mat', 'Are plans to change the Official Secrets Act a threat to journalism?', 'Why did Unesco drop Liverpool from its heritage list?', 'How we all got hooked on caffeine', 'The lobbying push that killed off a fight to save the Great Barrier Reef', 'The Republican backlash in Joe Biden’s America', 'The pandemic enters a new phase', 'The authority gap: why women still aren’t taken seriously', 'The Pegasus project part 5: the fightback against private spyware begins', 'The Pegasus project part 4: runaway princesses and the UK connection', 'The Pegasus project part 3: cartels, corruption and cyber-weapons', 'The Pegasus project part 2: cat and mouse', 'The Pegasus project part 1: an invitation to Paris', 'Marina Hyde on the political circus of the last five years ', 'Inside the mind of an Olympic athlete one week before the games', 'The heatwave forcing America to confront climate reality', 'Is it possible to make the internet safe for children?', 'The people searching for missing family members during the pandemic', 'The Indigenous children who died at Canada’s residential schools', 'The government’s rape review: an apology, but will anything change?', 'Euro 2020: what would it mean if England could actually … win?', 'After Grenfell: the unsolved cladding crisis', 'Why do powerful men have affairs?', 'Britney Spears’ battle to take back control of her life and fortune', 'How a pro-democracy newspaper in Hong Kong died', 'How the Batley and Spen byelection turned toxic', 'Matt Hancock’s downfall ', 'Young, hot and bothered: going through menopause in my 30s', 'The new Brexit crisis for Northern Ireland’s unionists', 'How meme stars of the early internet are striking it rich with NFTs', 'Police corruption and the unsolved murder of Daniel Morgan', 'Do we have to learn to live with Covid-19?', 'Karim’s story: Egypt’s crackdown on human rights workers ', 'Why England’s footballers are so determined to keep taking the knee ', 'Is the truth out there? The US government prepares its landmark report on UFOs', 'Israel’s unlikely coalition: is this the end for Netanyahu?', 'What’s behind the mass protests in Colombia?', 'What went wrong with Covid-19 response in the US?', 'GB News enters the culture war', 'The G7 and a crucial moment for the climate', 'The interrogation of Matt Hancock', 'The danger – and beauty – of ultrarunning', 'Why every statue should come down', 'Australia’s mouse plague', 'The Wuhan lab leak theory', 'Bashar al-Assad’s decade of destruction in Syria', 'Will Tokyo really host a pandemic Olympics?', 'Can the US avoid another Trump?']\n"
     ]
    }
   ],
   "source": [
    "import requests\n",
    "from bs4 import BeautifulSoup as bs\n",
    "import pandas\n",
    "\n",
    "data = [] # creating an empty list - this will hold the data\n",
    "print(f'--> This is now the content of data: {data}') # you can call variables in the string using {} and prefixing the string with f''\n",
    "\n",
    "for n in range(1,6): # the range of pages we want the scraper to get\n",
    "    print('\\n') # this prints out an empty line\n",
    "    print(f'--> We are on page number: {n}')\n",
    "    URL = \"https://www.theguardian.com/news/series/todayinfocus?page=\" + str(n)\n",
    "          # ammend the url for each page. You have to change the number into a string to be able to combine them!\n",
    "    print(f'--> The url we are scraping now is: {URL}')\n",
    "\n",
    "    website_request = requests.get(URL) # request the webpage\n",
    "    print(f'--> This is what the request looks like: {website_request}. If you got a \"Response 200\" you are good!')\n",
    "    website_content = website_request.text # get the contents out of the webpage.\n",
    "    print(f'--> The first 763 characters of the website content: {website_content[:763]}')\n",
    "    website_read = bs(website_content) # read the contents of the webpage.\n",
    "    \n",
    "    # Let's get all the headlines from the website!\n",
    "    \n",
    "    headine_class = \"a.js-headline-text\" # select the classname of the elements holding the headlines\n",
    "    headlines = website_read.select(headine_class) # select all the headlines\n",
    "    \n",
    "    for h in headlines: # for each headline element\n",
    "        print('\\n') # this prints out an empty line\n",
    "        print(f'--> We are now at the headline: {h}')\n",
    "        h = h.text # get the text out of the element\n",
    "        print(f'--> Without the HTML around it looks like this: {h}')\n",
    "        data.append(h)\n",
    "        print(f'--> This is now the content of data: {data}')\n",
    "\n",
    "pandas.DataFrame(data).to_csv(\"Today_in_focus-headlines-5-pages.csv\")"
   ]
  },
  {
   "cell_type": "markdown",
   "metadata": {},
   "source": [
    "### ... this is how the code looks without all the comments and print statements"
   ]
  },
  {
   "cell_type": "raw",
   "metadata": {},
   "source": [
    "import requests\n",
    "from bs4 import BeautifulSoup as bs\n",
    "import pandas\n",
    "\n",
    "data = []\n",
    "\n",
    "for n in range(1,6):\n",
    "    \n",
    "    URL = \"https://www.theguardian.com/news/series/todayinfocus?page=\" + str(n)\n",
    "          \n",
    "    website_request = requests.get(URL)\n",
    "    website_content = website_request.text\n",
    "    website_read = bs(website_content)\n",
    "    \n",
    "    headine_class = \"span.js-headline-text\"\n",
    "    headlines = website_read.select(headine_class) \n",
    "    \n",
    "    for h in headlines:\n",
    "        h = h.text\n",
    "        data.append(h)\n",
    "       \n",
    "\n",
    "pandas.DataFrame(data).to_csv(\"headlines.csv\")"
   ]
  },
  {
   "cell_type": "markdown",
   "metadata": {},
   "source": [
    "## Get more detailed info from one page"
   ]
  },
  {
   "cell_type": "code",
   "execution_count": null,
   "metadata": {},
   "outputs": [],
   "source": [
    "import requests\n",
    "from bs4 import BeautifulSoup as bs\n",
    "import pandas\n",
    "\n",
    "data = [] # creating an empty list - this will hold the data\n",
    "print(f'--> This is now the content of data: {data}') # you can call variables in the string using {} and prefixing the string with f''\n",
    "\n",
    "URL = \"https://www.theguardian.com/news/series/todayinfocus\"\n",
    "print(f'--> The url we are scraping now is: {URL}')\n",
    "\n",
    "website_request = requests.get(URL) # request the webpage\n",
    "print(f'--> This is what the request looks like: {website_request}. If you got a \"Response 200\" you are good!')\n",
    "website_content = website_request.text # get the contents out of the webpage.\n",
    "print(f'--> The first 763 characters of the website content: {website_content[:763]}')\n",
    "website_read = bs(website_content) # read the contents of the webpage.\n",
    "\n",
    "articles_details = website_read.select(\".fc-item__content\")\n",
    "print(f'--> There are {len(articles_details)} articles on the page.')\n",
    "\n",
    "n = 0\n",
    "\n",
    "for a in articles_details:\n",
    "    article = {} # creating an empty dictionary - this will hold the details\n",
    "    #print(a)\n",
    "    print(\"\\n\")\n",
    "    n = n+1\n",
    "    print(f\"--> This is article number {n}\")\n",
    "    print(f'--> This is now the content of \"article\": {article}')\n",
    "    \n",
    "    article[\"title\"] = a.select(\".fc-item__title\")[0].text # get the article's title\n",
    "    article[\"link\"] = a.select(\".fc-item__link\")[0].get(\"href\") # get the article's link\n",
    "    article[\"intro\"] = a.select(\".fc-item__standfirst\")[0].text.strip() # get the article's intro\n",
    "    \n",
    "    print(f'--> This is now the content of \"article\": {article}')\n",
    "    \n",
    "    data.append(article) # put the article in the bigger list\n",
    "    print(f'--> This is now the content of data: {data}')\n",
    "    \n",
    "pandas.DataFrame(data).to_csv(\"Today_in_focus-first-page.csv\")"
   ]
  },
  {
   "cell_type": "markdown",
   "metadata": {},
   "source": [
    "### ... this is how the code looks without all the comments and print statements"
   ]
  },
  {
   "cell_type": "raw",
   "metadata": {},
   "source": [
    "import requests\n",
    "from bs4 import BeautifulSoup as bs\n",
    "import pandas\n",
    "\n",
    "data = []\n",
    "URL = \"https://www.theguardian.com/news/series/todayinfocus\"\n",
    "\n",
    "website_request = requests.get(URL)\n",
    "website_content = website_request.text\n",
    "website_read = bs(website_content)\n",
    "\n",
    "articles_details = website_read.select(\".fc-item__content\")\n",
    "\n",
    "for a in articles_details:\n",
    "    article = {} \n",
    "    \n",
    "    article[\"title\"] = a.select(\".fc-item__title\")[0].text # get the article's title\n",
    "    article[\"link\"] = a.select(\".fc-item__link\")[0].get(\"href\") # get the article's link\n",
    "    article[\"intro\"] = a.select(\".fc-item__standfirst\")[0].text.strip() # get the article's intro\n",
    "    \n",
    "    data.append(article) # put the article in the bigger list\n",
    "\n",
    "pandas.DataFrame(data).to_csv(\"Today_in_focus-first-page.csv\")"
   ]
  },
  {
   "cell_type": "markdown",
   "metadata": {},
   "source": [
    "# THE BASICS"
   ]
  },
  {
   "cell_type": "markdown",
   "metadata": {},
   "source": [
    "## **Variables**"
   ]
  },
  {
   "cell_type": "markdown",
   "metadata": {},
   "source": [
    "![slicing](../img/variables.png)"
   ]
  },
  {
   "cell_type": "markdown",
   "metadata": {},
   "source": [
    "<br>➡  `variables` = kind of box with a label on them in which you can stor  numbers, names, expressions, and even other variables\n",
    "<br>➡  name of a variable is arbitrary, but it is useful if you know what it stands for.\n",
    "<br>➡  create a variable with `variable_name =`\n",
    "<br>➡  a variable name can only contain **lower and uppercase letters, numbers, and underscores. No spaces** or other funky characters!"
   ]
  },
  {
   "cell_type": "markdown",
   "metadata": {},
   "source": [
    "### **Strings**"
   ]
  },
  {
   "cell_type": "markdown",
   "metadata": {},
   "source": [
    "<br>➡ `string` = text\n",
    "<br>➡ put it in between single or double quotes. `\"text\"` or `'text'`"
   ]
  },
  {
   "cell_type": "code",
   "execution_count": 55,
   "metadata": {},
   "outputs": [],
   "source": [
    "website = \"https://github.com/zufanka/scraping_with_python\""
   ]
  },
  {
   "cell_type": "code",
   "execution_count": 56,
   "metadata": {},
   "outputs": [
    {
     "data": {
      "text/plain": [
       "'https://github.com/zufanka/scraping_with_python'"
      ]
     },
     "execution_count": 56,
     "metadata": {},
     "output_type": "execute_result"
    }
   ],
   "source": [
    "website"
   ]
  },
  {
   "cell_type": "markdown",
   "metadata": {},
   "source": [
    "What happens if you don't put the text between quotes?"
   ]
  },
  {
   "cell_type": "markdown",
   "metadata": {},
   "source": [
    "<br>➡  you can use the `print()` method to view the content of a variable: `print(variable_name)`\n",
    "<br>➡  or in jupyter notebook just the variable name"
   ]
  },
  {
   "cell_type": "code",
   "execution_count": 57,
   "metadata": {},
   "outputs": [
    {
     "name": "stdout",
     "output_type": "stream",
     "text": [
      "https://github.com/zufanka/scraping_with_python\n"
     ]
    }
   ],
   "source": [
    "print(website)"
   ]
  },
  {
   "cell_type": "markdown",
   "metadata": {},
   "source": [
    "Print your string. Use `print()`"
   ]
  },
  {
   "cell_type": "code",
   "execution_count": null,
   "metadata": {},
   "outputs": [],
   "source": []
  },
  {
   "cell_type": "markdown",
   "metadata": {},
   "source": [
    "<br>➡ You can also do **addition** and **multiplication** with strings"
   ]
  },
  {
   "cell_type": "code",
   "execution_count": 58,
   "metadata": {},
   "outputs": [
    {
     "data": {
      "text/plain": [
       "'https://github.com/zufanka/scraping_with_pythonhttps://github.com/zufanka/scraping_with_pythonhttps://github.com/zufanka/scraping_with_pythonhttps://github.com/zufanka/scraping_with_pythonhttps://github.com/zufanka/scraping_with_pythonhttps://github.com/zufanka/scraping_with_pythonhttps://github.com/zufanka/scraping_with_pythonhttps://github.com/zufanka/scraping_with_pythonhttps://github.com/zufanka/scraping_with_pythonhttps://github.com/zufanka/scraping_with_python'"
      ]
     },
     "execution_count": 58,
     "metadata": {},
     "output_type": "execute_result"
    }
   ],
   "source": [
    "website *10"
   ]
  },
  {
   "cell_type": "code",
   "execution_count": 59,
   "metadata": {},
   "outputs": [
    {
     "data": {
      "text/plain": [
       "'https://github.com/zufanka/scraping_with_python?page=2'"
      ]
     },
     "execution_count": 59,
     "metadata": {},
     "output_type": "execute_result"
    }
   ],
   "source": [
    "website + \"?page=2\""
   ]
  },
  {
   "cell_type": "code",
   "execution_count": 60,
   "metadata": {},
   "outputs": [
    {
     "ename": "TypeError",
     "evalue": "can only concatenate str (not \"int\") to str",
     "output_type": "error",
     "traceback": [
      "\u001b[0;31m---------------------------------------------------------------------------\u001b[0m",
      "\u001b[0;31mTypeError\u001b[0m                                 Traceback (most recent call last)",
      "\u001b[0;32m<ipython-input-60-fdb76a3b978c>\u001b[0m in \u001b[0;36m<module>\u001b[0;34m\u001b[0m\n\u001b[0;32m----> 1\u001b[0;31m \u001b[0mwebsite\u001b[0m \u001b[0;34m+\u001b[0m \u001b[0;36m2\u001b[0m\u001b[0;34m\u001b[0m\u001b[0;34m\u001b[0m\u001b[0m\n\u001b[0m",
      "\u001b[0;31mTypeError\u001b[0m: can only concatenate str (not \"int\") to str"
     ]
    }
   ],
   "source": [
    "website + 2"
   ]
  },
  {
   "cell_type": "markdown",
   "metadata": {},
   "source": [
    "<br>➡ there are obviously also things you can not do"
   ]
  },
  {
   "cell_type": "code",
   "execution_count": 61,
   "metadata": {},
   "outputs": [
    {
     "ename": "TypeError",
     "evalue": "unsupported operand type(s) for /: 'str' and 'int'",
     "output_type": "error",
     "traceback": [
      "\u001b[0;31m---------------------------------------------------------------------------\u001b[0m",
      "\u001b[0;31mTypeError\u001b[0m                                 Traceback (most recent call last)",
      "\u001b[0;32m<ipython-input-61-8cd9a95d8d19>\u001b[0m in \u001b[0;36m<module>\u001b[0;34m\u001b[0m\n\u001b[0;32m----> 1\u001b[0;31m \u001b[0mwebsite\u001b[0m \u001b[0;34m/\u001b[0m \u001b[0;36m3\u001b[0m\u001b[0;34m\u001b[0m\u001b[0;34m\u001b[0m\u001b[0m\n\u001b[0m",
      "\u001b[0;31mTypeError\u001b[0m: unsupported operand type(s) for /: 'str' and 'int'"
     ]
    }
   ],
   "source": [
    "website / 3"
   ]
  },
  {
   "cell_type": "markdown",
   "metadata": {},
   "source": [
    "### **Numbers**"
   ]
  },
  {
   "cell_type": "markdown",
   "metadata": {},
   "source": [
    "<br>➡ `Integer` : whole number, such as `5`, `6` or `2454`"
   ]
  },
  {
   "cell_type": "code",
   "execution_count": 63,
   "metadata": {},
   "outputs": [
    {
     "name": "stdout",
     "output_type": "stream",
     "text": [
      "2\n"
     ]
    }
   ],
   "source": [
    "page_number = 2\n",
    "print(page_number)"
   ]
  },
  {
   "cell_type": "markdown",
   "metadata": {},
   "source": [
    "<br>➡ `Float` : a number that is not whole, such as `5.67` or `823.12`"
   ]
  },
  {
   "cell_type": "code",
   "execution_count": null,
   "metadata": {},
   "outputs": [],
   "source": []
  },
  {
   "cell_type": "markdown",
   "metadata": {},
   "source": [
    "<br>➡ You can do `addition`, `substraction`, `multiplication`, `division` (and more) with numbers."
   ]
  },
  {
   "cell_type": "code",
   "execution_count": 64,
   "metadata": {},
   "outputs": [
    {
     "data": {
      "text/plain": [
       "'2'"
      ]
     },
     "execution_count": 64,
     "metadata": {},
     "output_type": "execute_result"
    }
   ],
   "source": [
    "str(page_number)"
   ]
  },
  {
   "cell_type": "code",
   "execution_count": 65,
   "metadata": {},
   "outputs": [
    {
     "data": {
      "text/plain": [
       "2"
      ]
     },
     "execution_count": 65,
     "metadata": {},
     "output_type": "execute_result"
    }
   ],
   "source": [
    "page_number"
   ]
  },
  {
   "cell_type": "markdown",
   "metadata": {},
   "source": [
    "### Collection: **Lists**"
   ]
  },
  {
   "cell_type": "markdown",
   "metadata": {},
   "source": [
    "<br>➡ A `list` is a **collection** of other variables **separated by a comma**\n",
    "<br>➡  Uses **brackets** `[]`\n",
    "<br>➡ `empty_list = []`\n",
    "<br>➡ `fibonacci = [1, 1, 3, 5, 8, 13, 21, 34]`\n",
    "<br>➡ `weird_words = [\"anguilliform\", \"borborygmus\", \"cybersquatting\", \"logomachy\", \"winebibber\", \"rumpot\" ,\"studmuffin\"]`\n",
    "<br> [more weird words](https://www.lexico.com/explore/weird-and-wonderful-words)\n",
    "<br><br>Let's make a list!"
   ]
  },
  {
   "cell_type": "code",
   "execution_count": 68,
   "metadata": {},
   "outputs": [
    {
     "data": {
      "text/plain": [
       "['anguilliform',\n",
       " 'borborygmus',\n",
       " 'cybersquatting',\n",
       " 'logomachy',\n",
       " 'winebibber',\n",
       " 'rumpot',\n",
       " 'studmuffin']"
      ]
     },
     "execution_count": 68,
     "metadata": {},
     "output_type": "execute_result"
    }
   ],
   "source": [
    "weird_words = [\"anguilliform\", \"borborygmus\", \"cybersquatting\", \"logomachy\", \"winebibber\", \"rumpot\" ,\"studmuffin\"]\n",
    "weird_words"
   ]
  },
  {
   "cell_type": "markdown",
   "metadata": {},
   "source": [
    "Let's make a list of numbers"
   ]
  },
  {
   "cell_type": "code",
   "execution_count": 71,
   "metadata": {},
   "outputs": [
    {
     "data": {
      "text/plain": [
       "[1, 1, 3, 5, 8, 13, 21, 34]"
      ]
     },
     "execution_count": 71,
     "metadata": {},
     "output_type": "execute_result"
    }
   ],
   "source": [
    "fibonacci = [1, 1, 3, 5, 8, 13, 21, 34]\n",
    "fibonacci"
   ]
  },
  {
   "cell_type": "markdown",
   "metadata": {},
   "source": [
    "### Collection: **Dictionaries**"
   ]
  },
  {
   "cell_type": "markdown",
   "metadata": {},
   "source": [
    "<br>➡ A `dictionary` is a **collection** of **key** and **values**\n",
    "<br>➡ Uses **curly brackets** `{}`\n",
    "<br>➡ `empty_dictionary = {}`\n",
    "<br> Let's make a dictionary for our weird words list"
   ]
  },
  {
   "cell_type": "code",
   "execution_count": 50,
   "metadata": {},
   "outputs": [
    {
     "data": {
      "text/plain": [
       "{'anguilliform': 'resembling an eel',\n",
       " 'borborygmus': 'a rumbling or gurgling noise in the intestines',\n",
       " 'cybersquatting': 'registering well-known names as Internet domain names, in the hope of reselling them at a profit',\n",
       " 'logomachy': 'an argument about words',\n",
       " 'winebibber': 'a heavy drinker',\n",
       " 'rumpot': 'a heavy drinker',\n",
       " 'studmuffin': 'a sexually attractive, muscular man'}"
      ]
     },
     "execution_count": 50,
     "metadata": {},
     "output_type": "execute_result"
    }
   ],
   "source": [
    "weird_words = {\"anguilliform\" : \"resembling an eel\", \"borborygmus\" : \"a rumbling or gurgling noise in the intestines\", \"cybersquatting\" : \"registering well-known names as Internet domain names, in the hope of reselling them at a profit\", \"logomachy\" : \"an argument about words\",  \"winebibber\" : \"a heavy drinker\" , \"rumpot\" : \"a heavy drinker\", \"studmuffin\" : \"a sexually attractive, muscular man\"}\n",
    "weird_words"
   ]
  },
  {
   "cell_type": "markdown",
   "metadata": {},
   "source": [
    "Now let's make a new dictionary:\n",
    "<br>\n",
    "<br>➡ `animal_videos = {\"Super Cute animals\": \"https://www.youtube.com/watch?v=C9OMAX91oyw\",\"Cute Dogs And Cats\" : \"https://www.youtube.com/watch?v=sNU5TPHjHOc\", \"Laughing at Dogs\": \"https://www.youtube.com/watch?v=5U_Tf5TIHL0\" }`\n",
    "<br> You can create a new key / value pair like this:\n",
    "<br>➡ `dictionary[key] = value`"
   ]
  },
  {
   "cell_type": "code",
   "execution_count": 73,
   "metadata": {},
   "outputs": [
    {
     "data": {
      "text/plain": [
       "{'Super Cute animals': 'https://www.youtube.com/watch?v=C9OMAX91oyw',\n",
       " 'Cute Dogs And Cats': 'https://www.youtube.com/watch?v=sNU5TPHjHOc',\n",
       " 'Laughing at Dogs': 'https://www.youtube.com/watch?v=5U_Tf5TIHL0'}"
      ]
     },
     "execution_count": 73,
     "metadata": {},
     "output_type": "execute_result"
    }
   ],
   "source": [
    "# make a new item called \"The Cutest Animals\" for the animal_videos dictionary and assign this link to it: https://www.youtube.com/watch?v=4OSvHZIEa9g\n",
    "animal_videos = {\"Super Cute animals\": \"https://www.youtube.com/watch?v=C9OMAX91oyw\",\"Cute Dogs And Cats\" : \"https://www.youtube.com/watch?v=sNU5TPHjHOc\", \"Laughing at Dogs\": \"https://www.youtube.com/watch?v=5U_Tf5TIHL0\" }\n",
    "animal_videos"
   ]
  },
  {
   "cell_type": "code",
   "execution_count": 78,
   "metadata": {},
   "outputs": [
    {
     "data": {
      "text/plain": [
       "{'Super Cute animals': 'https://www.youtube.com/watch?v=C9OMAX91oyw',\n",
       " 'Cute Dogs And Cats': 'https://www.youtube.com/watch?v=sNU5TPHjHOc',\n",
       " 'Laughing at Dogs': 'https://www.youtube.com/watch?v=5U_Tf5TIHL0',\n",
       " 'The Cutest Animals': 'https://www.youtube.com/watch?v=4OSvHZIEa9g'}"
      ]
     },
     "execution_count": 78,
     "metadata": {},
     "output_type": "execute_result"
    }
   ],
   "source": [
    "animal_videos[\"The Cutest Animals\"] = \"https://www.youtube.com/watch?v=4OSvHZIEa9g\"\n",
    "animal_videos"
   ]
  },
  {
   "cell_type": "code",
   "execution_count": 75,
   "metadata": {},
   "outputs": [
    {
     "data": {
      "text/plain": [
       "{'Super Cute animals': 'https://www.youtube.com/watch?v=C9OMAX91oyw',\n",
       " 'Cute Dogs And Cats': 'https://www.youtube.com/watch?v=sNU5TPHjHOc',\n",
       " 'Laughing at Dogs': 'https://www.youtube.com/watch?v=5U_Tf5TIHL0',\n",
       " 'The Cutest Animals': '!!'}"
      ]
     },
     "execution_count": 75,
     "metadata": {},
     "output_type": "execute_result"
    }
   ],
   "source": [
    "# what happens if you re-assign the \"The Cutest Animals\" key with something else?\n",
    "animal_videos[\"The Cutest Animals\"] = \"!!\"\n",
    "animal_videos"
   ]
  },
  {
   "cell_type": "markdown",
   "metadata": {},
   "source": [
    "## **Debugging**"
   ]
  },
  {
   "cell_type": "markdown",
   "metadata": {},
   "source": [
    "By now you are probably getting some errors. Let's see how to tackle them"
   ]
  },
  {
   "cell_type": "markdown",
   "metadata": {},
   "source": [
    "![slicing](../img/bugs.png)"
   ]
  },
  {
   "cell_type": "markdown",
   "metadata": {},
   "source": [
    "Most common errors:\n",
    "<br>➡ `NameError` : the variable name is not right. Check for **typos**\n",
    "<br>➡ `SyntaxError` : the syntax is not right, you can be **missing** brackets, quotes, or using the wrong ones\n",
    "<br>➡ `AttributeError` : the method you are using is not correct\n",
    "<br>..."
   ]
  },
  {
   "cell_type": "markdown",
   "metadata": {},
   "source": [
    "![slicing](../img/debug.png)"
   ]
  },
  {
   "cell_type": "markdown",
   "metadata": {},
   "source": [
    "## **Methods**"
   ]
  },
  {
   "cell_type": "markdown",
   "metadata": {},
   "source": [
    "![methods](../img/methods.png)"
   ]
  },
  {
   "cell_type": "markdown",
   "metadata": {},
   "source": [
    "**NOTE**\n",
    "<br>➡ if a method **has a** `.` at the beginning, you put it **after** the variable, eg `variable.strip()`\n",
    "<br>➡ if a method **has no** `.` at the beginning, you put the variable **in between** the brackets, eg `len(variable)`"
   ]
  },
  {
   "cell_type": "markdown",
   "metadata": {},
   "source": [
    "### **String methods**"
   ]
  },
  {
   "cell_type": "markdown",
   "metadata": {},
   "source": [
    "<br>➡`len()` will count the characters in a string: `len(string)`"
   ]
  },
  {
   "cell_type": "code",
   "execution_count": 81,
   "metadata": {},
   "outputs": [
    {
     "data": {
      "text/plain": [
       "'https://github.com/zufanka/scraping_with_python'"
      ]
     },
     "execution_count": 81,
     "metadata": {},
     "output_type": "execute_result"
    }
   ],
   "source": [
    "website"
   ]
  },
  {
   "cell_type": "code",
   "execution_count": 84,
   "metadata": {},
   "outputs": [
    {
     "data": {
      "text/plain": [
       "47"
      ]
     },
     "execution_count": 84,
     "metadata": {},
     "output_type": "execute_result"
    }
   ],
   "source": [
    "len(website)"
   ]
  },
  {
   "cell_type": "markdown",
   "metadata": {},
   "source": [
    "<br>➡ `.strip()` : remove whitespaces before or after a string "
   ]
  },
  {
   "cell_type": "code",
   "execution_count": 88,
   "metadata": {},
   "outputs": [
    {
     "name": "stdout",
     "output_type": "stream",
     "text": [
      "\n",
      "             Sometext   anoteherwoord     \t\n",
      "Sometext   anoteherwoord\n"
     ]
    }
   ],
   "source": [
    "dirty_str = \"\\n             Sometext   anoteherwoord     \\t\"\n",
    "print(dirty_str)\n",
    "print(dirty_str.strip())"
   ]
  },
  {
   "cell_type": "markdown",
   "metadata": {},
   "source": [
    "### **Number methods**"
   ]
  },
  {
   "cell_type": "markdown",
   "metadata": {},
   "source": [
    "<br>➡ `str()` : makes a string out of a number"
   ]
  },
  {
   "cell_type": "code",
   "execution_count": 92,
   "metadata": {},
   "outputs": [
    {
     "data": {
      "text/plain": [
       "'2'"
      ]
     },
     "execution_count": 92,
     "metadata": {},
     "output_type": "execute_result"
    }
   ],
   "source": [
    "str(2)"
   ]
  },
  {
   "cell_type": "markdown",
   "metadata": {},
   "source": [
    "Useful while scraping"
   ]
  },
  {
   "cell_type": "code",
   "execution_count": 93,
   "metadata": {},
   "outputs": [
    {
     "data": {
      "text/plain": [
       "'www.website.org/something?page=10'"
      ]
     },
     "execution_count": 93,
     "metadata": {},
     "output_type": "execute_result"
    }
   ],
   "source": [
    "\"www.website.org/something?page=\" + str(10)"
   ]
  },
  {
   "cell_type": "markdown",
   "metadata": {},
   "source": [
    "### **List methods**"
   ]
  },
  {
   "cell_type": "markdown",
   "metadata": {},
   "source": [
    "<br>➡ Lists also have a lenght"
   ]
  },
  {
   "cell_type": "code",
   "execution_count": 94,
   "metadata": {},
   "outputs": [
    {
     "data": {
      "text/plain": [
       "7"
      ]
     },
     "execution_count": 94,
     "metadata": {},
     "output_type": "execute_result"
    }
   ],
   "source": [
    "len(weird_words)"
   ]
  },
  {
   "cell_type": "markdown",
   "metadata": {},
   "source": [
    "<br>➡ `.append()` : add new elements to the list. Often used in `for` loops"
   ]
  },
  {
   "cell_type": "code",
   "execution_count": 96,
   "metadata": {},
   "outputs": [],
   "source": [
    "weird_words.append(\"ventielebason\")"
   ]
  },
  {
   "cell_type": "code",
   "execution_count": 97,
   "metadata": {},
   "outputs": [
    {
     "data": {
      "text/plain": [
       "['anguilliform',\n",
       " 'borborygmus',\n",
       " 'cybersquatting',\n",
       " 'logomachy',\n",
       " 'winebibber',\n",
       " 'rumpot',\n",
       " 'studmuffin',\n",
       " 'ventielebason']"
      ]
     },
     "execution_count": 97,
     "metadata": {},
     "output_type": "execute_result"
    }
   ],
   "source": [
    "weird_words"
   ]
  },
  {
   "cell_type": "markdown",
   "metadata": {},
   "source": [
    "<br>➡ `.join()` : joins a list to create a `string`"
   ]
  },
  {
   "cell_type": "code",
   "execution_count": 98,
   "metadata": {},
   "outputs": [
    {
     "data": {
      "text/plain": [
       "'anguilliform + borborygmus + cybersquatting + logomachy + winebibber + rumpot + studmuffin + ventielebason'"
      ]
     },
     "execution_count": 98,
     "metadata": {},
     "output_type": "execute_result"
    }
   ],
   "source": [
    "\" + \".join(weird_words)"
   ]
  },
  {
   "cell_type": "markdown",
   "metadata": {},
   "source": [
    "<br>➡ `.split()` : splits a string to creates a `list`"
   ]
  },
  {
   "cell_type": "code",
   "execution_count": 101,
   "metadata": {},
   "outputs": [
    {
     "data": {
      "text/plain": [
       "['2021', '03', '05']"
      ]
     },
     "execution_count": 101,
     "metadata": {},
     "output_type": "execute_result"
    }
   ],
   "source": [
    "date = \"2021/03/05\"\n",
    "date.split(\"/\")"
   ]
  },
  {
   "cell_type": "markdown",
   "metadata": {},
   "source": [
    "# **Slicing**"
   ]
  },
  {
   "cell_type": "markdown",
   "metadata": {},
   "source": [
    "![slicing](../img/bread.png)"
   ]
  },
  {
   "cell_type": "markdown",
   "metadata": {},
   "source": [
    "<br>➡ use a `[]` with a number after a list or string, e.g. `list[4]`\n",
    "<br>➡ *Important* : in Python, we **start counting at 0**"
   ]
  },
  {
   "cell_type": "markdown",
   "metadata": {},
   "source": [
    "![hello-string](../img/slice.png)"
   ]
  },
  {
   "cell_type": "markdown",
   "metadata": {},
   "source": [
    "What is happening here?"
   ]
  },
  {
   "cell_type": "code",
   "execution_count": 102,
   "metadata": {},
   "outputs": [
    {
     "name": "stdout",
     "output_type": "stream",
     "text": [
      "['anguilliform', 'borborygmus', 'cybersquatting', 'logomachy', 'winebibber', 'rumpot', 'studmuffin', 'ventielebason']\n"
     ]
    },
    {
     "data": {
      "text/plain": [
       "'cybersquatting'"
      ]
     },
     "execution_count": 102,
     "metadata": {},
     "output_type": "execute_result"
    }
   ],
   "source": [
    "print(weird_words)\n",
    "weird_words[2]"
   ]
  },
  {
   "cell_type": "code",
   "execution_count": 113,
   "metadata": {},
   "outputs": [
    {
     "name": "stdout",
     "output_type": "stream",
     "text": [
      "['anguilliform', 'borborygmus', 'cybersquatting', 'logomachy', 'winebibber', 'rumpot', 'studmuffin', 'ventielebason']\n"
     ]
    },
    {
     "data": {
      "text/plain": [
       "'logomachy/rumpot'"
      ]
     },
     "execution_count": 113,
     "metadata": {},
     "output_type": "execute_result"
    }
   ],
   "source": [
    "print(weird_words)\n",
    "weird_words[3] + \"/\" + weird_words[5]"
   ]
  },
  {
   "cell_type": "markdown",
   "metadata": {},
   "source": [
    "# **Loops**"
   ]
  },
  {
   "cell_type": "markdown",
   "metadata": {},
   "source": [
    "![slicing](../img/loops.png)"
   ]
  },
  {
   "cell_type": "markdown",
   "metadata": {},
   "source": [
    "<br>➡  a set of instructions that are **continually repeated**\n",
    "\n",
    "```python\n",
    "for item in [something, something_else]:\n",
    "    print(item)\n",
    "```\n",
    "\n",
    "<br>➡ `item` is a placeholder name for the 'something' in between the brackets\n",
    "<br>➡ `print()` is a method that just displays the value \n",
    "<br>➡ in scraping used to for example open multiple URLs and extract data from them\n"
   ]
  },
  {
   "cell_type": "code",
   "execution_count": 116,
   "metadata": {},
   "outputs": [
    {
     "name": "stdout",
     "output_type": "stream",
     "text": [
      "I think wife carrying is really wierd\n",
      "I think bog snorkelling is really wierd\n",
      "I think toe wrestling is really wierd\n",
      "I think cheese rolling is really wierd\n",
      "I think football is really wierd\n"
     ]
    }
   ],
   "source": [
    "# 1. Let's make a list of weird sports and display the items one by one using a for loop.\n",
    "# inspiration : wife carrying, bog snorkelling, toe wrestling, cheese rolling, football 😜\n",
    "# 2. print \"I think x is really weird\" for each item on the weird sports list\n",
    "weird_sports = [\"wife carrying\", \"bog snorkelling\", \"toe wrestling\", \"cheese rolling\", \"football\"]\n",
    "\n",
    "for x in weird_sports:\n",
    "    print(\"I think \" + x + \" is really wierd\")\n"
   ]
  },
  {
   "cell_type": "markdown",
   "metadata": {},
   "source": [
    "➡ sometimes we can create collections with a built-in **function**\n",
    "<br>➡ for example `range(start, end)`"
   ]
  },
  {
   "cell_type": "code",
   "execution_count": 119,
   "metadata": {},
   "outputs": [
    {
     "name": "stdout",
     "output_type": "stream",
     "text": [
      "1 sheep\n",
      "2 sheep\n",
      "3 sheep\n",
      "4 sheep\n",
      "5 sheep\n",
      "6 sheep\n",
      "7 sheep\n",
      "8 sheep\n",
      "9 sheep\n",
      "10 sheep\n",
      "11 sheep\n",
      "12 sheep\n",
      "13 sheep\n",
      "14 sheep\n",
      "15 sheep\n",
      "16 sheep\n",
      "17 sheep\n",
      "18 sheep\n",
      "19 sheep\n",
      "20 sheep\n",
      "21 sheep\n",
      "22 sheep\n",
      "23 sheep\n",
      "24 sheep\n",
      "25 sheep\n",
      "26 sheep\n",
      "27 sheep\n",
      "28 sheep\n",
      "29 sheep\n",
      "30 sheep\n",
      "31 sheep\n",
      "32 sheep\n",
      "33 sheep\n",
      "34 sheep\n",
      "35 sheep\n",
      "36 sheep\n",
      "37 sheep\n",
      "38 sheep\n",
      "39 sheep\n",
      "40 sheep\n",
      "41 sheep\n",
      "42 sheep\n",
      "43 sheep\n",
      "44 sheep\n",
      "45 sheep\n",
      "46 sheep\n",
      "47 sheep\n",
      "48 sheep\n",
      "49 sheep\n",
      "50 sheep\n",
      "51 sheep\n",
      "52 sheep\n",
      "53 sheep\n",
      "54 sheep\n",
      "55 sheep\n",
      "56 sheep\n",
      "57 sheep\n",
      "58 sheep\n",
      "59 sheep\n",
      "60 sheep\n",
      "61 sheep\n",
      "62 sheep\n",
      "63 sheep\n",
      "64 sheep\n",
      "65 sheep\n",
      "66 sheep\n",
      "67 sheep\n",
      "68 sheep\n",
      "69 sheep\n",
      "70 sheep\n",
      "71 sheep\n",
      "72 sheep\n",
      "73 sheep\n",
      "74 sheep\n",
      "75 sheep\n",
      "76 sheep\n",
      "77 sheep\n",
      "78 sheep\n",
      "79 sheep\n",
      "80 sheep\n",
      "81 sheep\n",
      "82 sheep\n",
      "83 sheep\n",
      "84 sheep\n",
      "85 sheep\n",
      "86 sheep\n",
      "87 sheep\n",
      "88 sheep\n",
      "89 sheep\n",
      "90 sheep\n",
      "91 sheep\n",
      "92 sheep\n",
      "93 sheep\n",
      "94 sheep\n",
      "95 sheep\n",
      "96 sheep\n",
      "97 sheep\n",
      "98 sheep\n",
      "99 sheep\n",
      "100 sheep\n"
     ]
    }
   ],
   "source": [
    "# Pretend it's later today at night, you are laying in the bed after the party at the bar, but you still can't sleep!\n",
    "# You start counting sheep\n",
    "\n",
    "# Create a for loop that prints out \"1 sheep\", \"2 sheep\", ... until \"100 sheep\"\n",
    "\n",
    "for n in range(1,101):\n",
    "    print( str(n) + \" sheep\")"
   ]
  },
  {
   "cell_type": "markdown",
   "metadata": {},
   "source": [
    "# **Questions ?**\n",
    "I'd be happy if you [leave me some feedback](https://goo.gl/forms/OtuNECgexYSyJGjh1) for this session so I can make it better."
   ]
  }
 ],
 "metadata": {
  "kernelspec": {
   "display_name": "Python 3",
   "language": "python",
   "name": "python3"
  },
  "language_info": {
   "codemirror_mode": {
    "name": "ipython",
    "version": 3
   },
   "file_extension": ".py",
   "mimetype": "text/x-python",
   "name": "python",
   "nbconvert_exporter": "python",
   "pygments_lexer": "ipython3",
   "version": "3.7.1"
  }
 },
 "nbformat": 4,
 "nbformat_minor": 4
}
