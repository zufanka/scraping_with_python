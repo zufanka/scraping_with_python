{
 "cells": [
  {
   "cell_type": "markdown",
   "metadata": {},
   "source": [
    "# INTRO"
   ]
  },
  {
   "cell_type": "markdown",
   "metadata": {},
   "source": [
    "Library = an 'addon' or 'extension' to Python\n",
    "\n",
    "* **`requests`** : download the website\n",
    "* **`BeautifulSoup`** : pick out the important parts.\n",
    "* **`pandas`** : just for exporting the csv in the end"
   ]
  },
  {
   "cell_type": "markdown",
   "metadata": {},
   "source": [
    "`requests` methods we'll use:\n",
    "<br>➡ `requests.get(webpage)` : download the page, where `webpage` is the URL of the page\n",
    "<br>➡ `.text` : get the HTML out of the download\n",
    "\n",
    "`BeautifulSoup` methods we'll use:\n",
    "<br>➡ `BeautifulSoup(downloaded_page_text)` : read the downloaded page\n",
    "<br>➡ `.select` : select the elements we want to get based on their tags or attributes\n",
    "<br>➡ `.get()` : get an attribute value\n",
    "<br>➡ `.text` : get the content"
   ]
  },
  {
   "cell_type": "markdown",
   "metadata": {},
   "source": [
    "![title](../img/html-syntax.png)"
   ]
  },
  {
   "cell_type": "markdown",
   "metadata": {},
   "source": [
    "See also: \n",
    "* [CSS selector reference](https://www.w3schools.com/cssref/css_selectors.asp)\n",
    "* [BeautifulSoup reference](https://www.crummy.com/software/BeautifulSoup/bs4/doc/)\n",
    "* [Requests reference](https://realpython.com/python-requests/#the-get-request)\n",
    "* [Pandas export csv](https://pandas.pydata.org/pandas-docs/stable/reference/api/pandas.DataFrame.to_csv.html)"
   ]
  },
  {
   "cell_type": "markdown",
   "metadata": {},
   "source": [
    "# Import libraries"
   ]
  },
  {
   "cell_type": "code",
   "execution_count": 1,
   "metadata": {},
   "outputs": [],
   "source": [
    "import requests\n",
    "from bs4 import BeautifulSoup as bs\n",
    "import pandas"
   ]
  },
  {
   "cell_type": "markdown",
   "metadata": {},
   "source": [
    "# SCRAPER #1 : Get info from multiple pages"
   ]
  },
  {
   "cell_type": "markdown",
   "metadata": {},
   "source": [
    "Let's get all the headlines in the last 5 pages of the 'Today in focus' page of The Guardian https://www.theguardian.com/news/series/todayinfocus"
   ]
  },
  {
   "cell_type": "markdown",
   "metadata": {},
   "source": [
    "### 1. Download and read the website"
   ]
  },
  {
   "cell_type": "markdown",
   "metadata": {},
   "source": [
    "Save the website as a string in variable `URL`\n",
    "<br>➡ **Important**: we need to take the pagination into account"
   ]
  },
  {
   "cell_type": "code",
   "execution_count": 2,
   "metadata": {},
   "outputs": [],
   "source": [
    "URL = \"https://www.theguardian.com/news/series/todayinfocus\""
   ]
  },
  {
   "cell_type": "markdown",
   "metadata": {},
   "source": [
    "Download the website with `requests.get()` and save it into variable `website_request`"
   ]
  },
  {
   "cell_type": "code",
   "execution_count": 3,
   "metadata": {},
   "outputs": [
    {
     "data": {
      "text/plain": [
       "<Response [200]>"
      ]
     },
     "execution_count": 3,
     "metadata": {},
     "output_type": "execute_result"
    }
   ],
   "source": [
    "r = requests.get(URL)\n",
    "r"
   ]
  },
  {
   "cell_type": "markdown",
   "metadata": {},
   "source": [
    "Get the HTML of the website using `.text` and save it into variable `website_content`"
   ]
  },
  {
   "cell_type": "code",
   "execution_count": 5,
   "metadata": {},
   "outputs": [],
   "source": [
    "website_content = r.text"
   ]
  },
  {
   "cell_type": "markdown",
   "metadata": {},
   "source": [
    "Read the website with `BeautifulSoup` and save it into variable `website_read`"
   ]
  },
  {
   "cell_type": "code",
   "execution_count": 10,
   "metadata": {},
   "outputs": [],
   "source": [
    "website_read = bs(website_content)\n",
    "# is the same as BeautifulSoup(website_content)\n",
    "# webiste_read"
   ]
  },
  {
   "cell_type": "markdown",
   "metadata": {},
   "source": [
    "### 2. scrape all the headers"
   ]
  },
  {
   "cell_type": "markdown",
   "metadata": {},
   "source": [
    "Use the `website_read.select()` method here"
   ]
  },
  {
   "cell_type": "code",
   "execution_count": 12,
   "metadata": {},
   "outputs": [],
   "source": [
    "headlines = website_read.select(\"a.js-headline-text\")"
   ]
  },
  {
   "cell_type": "code",
   "execution_count": 13,
   "metadata": {},
   "outputs": [
    {
     "data": {
      "text/plain": [
       "20"
      ]
     },
     "execution_count": 13,
     "metadata": {},
     "output_type": "execute_result"
    }
   ],
   "source": [
    "len(headlines)"
   ]
  },
  {
   "cell_type": "code",
   "execution_count": 15,
   "metadata": {},
   "outputs": [
    {
     "data": {
      "text/plain": [
       "'The countdown to Cop26: can world leaders save the planet?'"
      ]
     },
     "execution_count": 15,
     "metadata": {},
     "output_type": "execute_result"
    }
   ],
   "source": [
    "headlines[4].text"
   ]
  },
  {
   "cell_type": "markdown",
   "metadata": {},
   "source": [
    "Now get only the content of the elements\n",
    "<br>➡  Use a `for` loop\n",
    "<br>➡  Use `print`"
   ]
  },
  {
   "cell_type": "code",
   "execution_count": 22,
   "metadata": {},
   "outputs": [
    {
     "name": "stdout",
     "output_type": "stream",
     "text": [
      "Newcastle fans think they’ve got their club back. But at what cost?\n",
      "Has England gone back to the office?\n",
      "What went wrong with the UK’s handling of the Covid pandemic?\n",
      "Dubai’s ruler and the Pegasus phone hacking exposed in a UK court\n",
      "The countdown to Cop26: can world leaders save the planet?\n",
      "The whistleblower who plunged Facebook into crisis\n",
      "Can women trust the police?\n",
      "Why everything you’ve heard about panic buying might be wrong\n",
      "The Pandora papers: who’s giving money to the Conservatives?\n",
      "Inside the Pandora papers – financial secrets of the rich and powerful\n",
      "Boris Johnson wants a conference reset. Will reality ruin it?\n",
      "The conviction of R Kelly\n",
      "Can China help end the world’s addiction to coal?\n",
      "Bond is back. Where’s he going next?\n",
      "The Pegasus project: hacked in London\n",
      "Keir Starmer’s make-or-break conference week\n",
      "The energy crisis no one saw coming\n",
      "Germany decides: who will follow Angela Merkel?\n",
      "Going nuclear: the secret submarine deal to challenge China \n",
      "Finally! Get ready for a new season of culture\n"
     ]
    }
   ],
   "source": [
    "for head in headlines:\n",
    "    print(head.text)"
   ]
  },
  {
   "cell_type": "markdown",
   "metadata": {},
   "source": [
    "<br>➡  Use a `for` loop\n",
    "<br>➡  save the elements in a list using `append`"
   ]
  },
  {
   "cell_type": "code",
   "execution_count": null,
   "metadata": {},
   "outputs": [],
   "source": [
    "data = []\n",
    "\n",
    "for head in headlines:\n",
    "    data.append(head.text)\n",
    "    print(data)\n"
   ]
  },
  {
   "cell_type": "code",
   "execution_count": 26,
   "metadata": {},
   "outputs": [
    {
     "data": {
      "text/plain": [
       "['Newcastle fans think they’ve got their club back. But at what cost?',\n",
       " 'Has England gone back to the office?',\n",
       " 'What went wrong with the UK’s handling of the Covid pandemic?',\n",
       " 'Dubai’s ruler and the Pegasus phone hacking exposed in a UK court',\n",
       " 'The countdown to Cop26: can world leaders save the planet?',\n",
       " 'The whistleblower who plunged Facebook into crisis',\n",
       " 'Can women trust the police?',\n",
       " 'Why everything you’ve heard about panic buying might be wrong',\n",
       " 'The Pandora papers: who’s giving money to the Conservatives?',\n",
       " 'Inside the Pandora papers – financial secrets of the rich and powerful',\n",
       " 'Boris Johnson wants a conference reset. Will reality ruin it?',\n",
       " 'The conviction of R Kelly',\n",
       " 'Can China help end the world’s addiction to coal?',\n",
       " 'Bond is back. Where’s he going next?',\n",
       " 'The Pegasus project: hacked in London',\n",
       " 'Keir Starmer’s make-or-break conference week',\n",
       " 'The energy crisis no one saw coming',\n",
       " 'Germany decides: who will follow Angela Merkel?',\n",
       " 'Going nuclear: the secret submarine deal to challenge China ',\n",
       " 'Finally! Get ready for a new season of culture']"
      ]
     },
     "execution_count": 26,
     "metadata": {},
     "output_type": "execute_result"
    }
   ],
   "source": [
    "data"
   ]
  },
  {
   "cell_type": "markdown",
   "metadata": {},
   "source": [
    "<br>➡  Use another `for` loop to loop through the pages\n",
    "<br>➡ **pro tip**: use the `range()` function\n",
    "<br>➡ **Important**: we need to request, open and read new pages every time. What does this mean?"
   ]
  },
  {
   "cell_type": "code",
   "execution_count": 28,
   "metadata": {},
   "outputs": [],
   "source": [
    "data = []\n",
    "\n",
    "for n in range(1,6):\n",
    "    \n",
    "    URL = \"https://www.theguardian.com/news/series/todayinfocus?page=\" + str(n)\n",
    "    \n",
    "    website_request = requests.get(URL)\n",
    "    website_content = website_request.text\n",
    "    website_read = bs(website_content)\n",
    "    \n",
    "    headine_class = \"a.js-headline-text\"\n",
    "    headlines = website_read.select(headine_class) \n",
    "    \n",
    "    for h in headlines:\n",
    "        h = h.text\n",
    "        data.append(h)"
   ]
  },
  {
   "cell_type": "code",
   "execution_count": 32,
   "metadata": {},
   "outputs": [
    {
     "data": {
      "text/plain": [
       "'https://www.theguardian.com/news/series/todayinfocus?page=5'"
      ]
     },
     "execution_count": 32,
     "metadata": {},
     "output_type": "execute_result"
    }
   ],
   "source": [
    "URL"
   ]
  },
  {
   "cell_type": "code",
   "execution_count": 30,
   "metadata": {},
   "outputs": [
    {
     "data": {
      "text/plain": [
       "100"
      ]
     },
     "execution_count": 30,
     "metadata": {},
     "output_type": "execute_result"
    }
   ],
   "source": [
    "len(data)"
   ]
  },
  {
   "cell_type": "markdown",
   "metadata": {},
   "source": [
    "<br>➡  save the list as a csv using `pandas.DataFrame(list).to_csv(\"filename.csv\")`"
   ]
  },
  {
   "cell_type": "code",
   "execution_count": 31,
   "metadata": {},
   "outputs": [],
   "source": [
    "pandas.DataFrame(data).to_csv(\"filename.csv\")"
   ]
  },
  {
   "cell_type": "markdown",
   "metadata": {},
   "source": [
    "# SCRAPER #2 : Get more detailed info from one page"
   ]
  },
  {
   "cell_type": "markdown",
   "metadata": {},
   "source": [
    "### 1. Download and read the website"
   ]
  },
  {
   "cell_type": "markdown",
   "metadata": {},
   "source": [
    "The first steps are the same"
   ]
  },
  {
   "cell_type": "code",
   "execution_count": null,
   "metadata": {},
   "outputs": [],
   "source": []
  },
  {
   "cell_type": "code",
   "execution_count": null,
   "metadata": {},
   "outputs": [],
   "source": []
  },
  {
   "cell_type": "markdown",
   "metadata": {},
   "source": [
    "### 2. Scrape the article details"
   ]
  },
  {
   "cell_type": "markdown",
   "metadata": {},
   "source": [
    "Use:\n",
    "<br>➡ `.select()` : select the elements we want to get based on their tags or attributes\n",
    "<br>➡ `.get()` : get an attribute value\n",
    "<br>➡ `.text` : get the content\n",
    "<br>➡ `.strip()` : clean the text"
   ]
  },
  {
   "cell_type": "markdown",
   "metadata": {},
   "source": [
    "* headline\n",
    "* link\n",
    "* intro\n",
    "\n",
    "Make a `list` to store these dictionaries<br>Use a `for` loop<br>Make a `dictionary` to store the article information. "
   ]
  },
  {
   "cell_type": "code",
   "execution_count": 34,
   "metadata": {},
   "outputs": [],
   "source": [
    "data = []\n",
    "URL = \"https://www.theguardian.com/news/series/todayinfocus\"\n",
    "\n",
    "website_request = requests.get(URL)\n",
    "website_content = website_request.text\n",
    "website_read = bs(website_content)\n",
    "\n",
    "articles_details = website_read.select(\"div.fc-item__content\")\n"
   ]
  },
  {
   "cell_type": "code",
   "execution_count": 35,
   "metadata": {},
   "outputs": [
    {
     "data": {
      "text/plain": [
       "20"
      ]
     },
     "execution_count": 35,
     "metadata": {},
     "output_type": "execute_result"
    }
   ],
   "source": [
    "len(articles_details)"
   ]
  },
  {
   "cell_type": "code",
   "execution_count": 52,
   "metadata": {},
   "outputs": [
    {
     "data": {
      "text/plain": [
       "'A high court judge has ruled that Sheikh Mohammed bin Rashid al-Maktoum hacked the phone of his ex-wife Princess Haya using Pegasus spyware. In this episode we look at the implications of the affair'"
      ]
     },
     "execution_count": 52,
     "metadata": {},
     "output_type": "execute_result"
    }
   ],
   "source": [
    "articles_details[3].select(\".fc-item__standfirst\")[0].text.strip()"
   ]
  },
  {
   "cell_type": "code",
   "execution_count": 45,
   "metadata": {},
   "outputs": [
    {
     "data": {
      "text/plain": [
       "'Sheikh Mohammed bin Rashid al-Maktoum  Dubai’s ruler and the Pegasus phone hacking exposed in a UK court '"
      ]
     },
     "execution_count": 45,
     "metadata": {},
     "output_type": "execute_result"
    }
   ],
   "source": [
    "articles_details[3].select(\".fc-item__link\")[0].text"
   ]
  },
  {
   "cell_type": "code",
   "execution_count": 49,
   "metadata": {},
   "outputs": [
    {
     "data": {
      "text/plain": [
       "'https://www.theguardian.com/news/audio/2021/oct/12/dubai-ruler-and-pegasus-phone-hacking-exposed-in-a-uk-court'"
      ]
     },
     "execution_count": 49,
     "metadata": {},
     "output_type": "execute_result"
    }
   ],
   "source": [
    "articles_details[3].select(\".fc-item__link\")[0].get(\"href\")"
   ]
  },
  {
   "cell_type": "code",
   "execution_count": 54,
   "metadata": {},
   "outputs": [],
   "source": [
    "for article in articles_details:\n",
    "    details = {}\n",
    "    \n",
    "    details[\"headline\"] = article.select(\".fc-item__link\")[0].text\n",
    "    details[\"intro\"] = article.select(\".fc-item__standfirst\")[0].text.strip()\n",
    "    details[\"link\"] = article.select(\".fc-item__link\")[0].get(\"href\")\n",
    "    \n",
    "    data.append(details)"
   ]
  },
  {
   "cell_type": "markdown",
   "metadata": {},
   "source": [
    "### 3. save as CSV"
   ]
  },
  {
   "cell_type": "code",
   "execution_count": 58,
   "metadata": {},
   "outputs": [],
   "source": [
    "pandas.DataFrame(data).to_csv(\"details.csv\")"
   ]
  },
  {
   "cell_type": "markdown",
   "metadata": {},
   "source": [
    "# Questions?"
   ]
  },
  {
   "cell_type": "markdown",
   "metadata": {},
   "source": [
    "---\n",
    "## Thank you for your attention!\n",
    "I'd be happy if you [leave me some feedback](https://goo.gl/forms/OtuNECgexYSyJGjh1) for this session so I can make it better."
   ]
  },
  {
   "cell_type": "code",
   "execution_count": null,
   "metadata": {},
   "outputs": [],
   "source": []
  }
 ],
 "metadata": {
  "kernelspec": {
   "display_name": "Python 3",
   "language": "python",
   "name": "python3"
  },
  "language_info": {
   "codemirror_mode": {
    "name": "ipython",
    "version": 3
   },
   "file_extension": ".py",
   "mimetype": "text/x-python",
   "name": "python",
   "nbconvert_exporter": "python",
   "pygments_lexer": "ipython3",
   "version": "3.7.1"
  }
 },
 "nbformat": 4,
 "nbformat_minor": 4
}
